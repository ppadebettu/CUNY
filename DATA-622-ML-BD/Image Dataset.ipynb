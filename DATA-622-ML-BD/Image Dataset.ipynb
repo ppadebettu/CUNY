{
 "cells": [
  {
   "cell_type": "code",
   "execution_count": 14,
   "metadata": {
    "collapsed": true
   },
   "outputs": [],
   "source": [
    "# Option-1: Using py-bing-search library\n",
    "# Adapted from https://github.com/tristantao/py-bing-search\n",
    "# This requires subscription to Azure datamarket (https://datamarket.azure.com/dataset/5BA839F1-12CE-4CCE-BF57-A49D98D29A44)\n",
    "from py_bing_search import PyBingImageSearch\n",
    "bing_image = PyBingImageSearch('Your-Api-Key-Here', \"angry human face\")\n",
    "first_fifty_result= bing_image.search(limit=50, format='json') #1-50"
   ]
  },
  {
   "cell_type": "code",
   "execution_count": 21,
   "metadata": {
    "collapsed": false
   },
   "outputs": [
    {
     "name": "stdout",
     "output_type": "stream",
     "text": [
      "http://www.drjoetoday.com/wp-content/uploads/2013/10/angry-boy.jpg\n",
      "http://4.bp.blogspot.com/-EgIBYeIXurY/T-4CrH0G8NI/AAAAAAAAAzA/iUmui8h7F54/s1600/angry+face+girl+(4).jpg\n",
      "http://images.smh.com.au/2012/10/18/3724911/art-researchfinds-620x349.jpg\n",
      "https://dovaryeh.files.wordpress.com/2014/06/angry-face-enraged.jpg?w=1024&h=576\n",
      "http://www.scientificamerican.com/media/inline/how-emotions-jump-from-face-to-face_1.jpg\n",
      "http://www.inscribd.com/wp-content/uploads/2013/02/angry-face.jpg\n",
      "http://3.bp.blogspot.com/-s0j2DsH-uPU/UAkjn2M8n-I/AAAAAAAAAkk/oz5zE_o4cwg/s1600/angry+face1.jpg\n",
      "http://corngoblin.files.wordpress.com/2011/08/angry-face-1wrblt4.jpg\n",
      "http://universityofcalifornia.edu/sites/default/files/angry_face.jpg\n",
      "http://www.abc.net.au/reslib/201502/r1385324_19654578.jpg\n"
     ]
    }
   ],
   "source": [
    "for i in range(10):\n",
    " print (first_fifty_result[i].media_url)\n",
    "# I was able to retrieve the following URLs. Further code to be added for downloading the images"
   ]
  },
  {
   "cell_type": "code",
   "execution_count": null,
   "metadata": {
    "collapsed": false
   },
   "outputs": [],
   "source": [
    "# Option-2: Using selenium library\n",
    "# Code from http://stackoverflow.com/questions/20716842/python-download-images-from-google-image-search\n",
    "# This code will download about 400 images\n",
    "# -*- coding: utf-8 -*-\n",
    "from selenium import webdriver\n",
    "from selenium.webdriver.common.keys import Keys\n",
    "import json\n",
    "import os\n",
    "import urllib2\n",
    "\n",
    "searchterm = 'angry human face' # will also be the name of the folder\n",
    "url = \"https://www.google.co.in/search?q=\"+searchterm+\"&source=lnms&tbm=isch\"\n",
    "browser = webdriver.Firefox()\n",
    "browser.get(url)\n",
    "header={'User-Agent':\"Mozilla/5.0 (Windows NT 6.1; WOW64) AppleWebKit/537.36 (KHTML, like Gecko) Chrome/43.0.2357.134 Safari/537.36\"}\n",
    "counter = 0\n",
    "succounter = 0\n",
    "\n",
    "if not os.path.exists(searchterm):\n",
    "    os.mkdir(searchterm)\n",
    "\n",
    "for _ in range(500):\n",
    "    browser.execute_script(\"window.scrollBy(0,10000)\")\n",
    "\n",
    "for x in browser.find_elements_by_xpath(\"//div[@class='rg_meta']\"):\n",
    "    counter = counter + 1\n",
    "    print \"Total Count:\", counter\n",
    "    print \"Succsessful Count:\", succounter\n",
    "    print \"URL:\",json.loads(x.get_attribute('innerHTML'))[\"ou\"]\n",
    "\n",
    "    img = json.loads(x.get_attribute('innerHTML'))[\"ou\"]\n",
    "    imgtype = json.loads(x.get_attribute('innerHTML'))[\"ity\"]\n",
    "    try:\n",
    "        req = urllib2.Request(img, headers={'User-Agent': header})\n",
    "        raw_img = urllib2.urlopen(req).read()\n",
    "        File = open(os.path.join(searchterm , searchterm + \"_\" + str(counter) + \".\" + imgtype), \"wb\")\n",
    "        File.write(raw_img)\n",
    "        File.close()\n",
    "        succounter = succounter + 1\n",
    "    except:\n",
    "            print \"can't get img\"\n",
    "\n",
    "print succounter, \"pictures succesfully downloaded\"\n",
    "browser.close()"
   ]
  },
  {
   "cell_type": "code",
   "execution_count": null,
   "metadata": {
    "collapsed": true
   },
   "outputs": [],
   "source": []
  }
 ],
 "metadata": {
  "kernelspec": {
   "display_name": "Python 2",
   "language": "python",
   "name": "python2"
  },
  "language_info": {
   "codemirror_mode": {
    "name": "ipython",
    "version": 2
   },
   "file_extension": ".py",
   "mimetype": "text/x-python",
   "name": "python",
   "nbconvert_exporter": "python",
   "pygments_lexer": "ipython2",
   "version": "2.7.11"
  }
 },
 "nbformat": 4,
 "nbformat_minor": 0
}
