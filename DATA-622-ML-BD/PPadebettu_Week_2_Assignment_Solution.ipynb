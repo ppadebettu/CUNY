{
 "cells": [
  {
   "cell_type": "code",
   "execution_count": 2,
   "metadata": {
    "collapsed": false
   },
   "outputs": [],
   "source": [
    "# import libraries\n",
    "import numpy\n",
    "import theano\n",
    "import theano.tensor as T\n",
    "from theano import pp"
   ]
  },
  {
   "cell_type": "code",
   "execution_count": 11,
   "metadata": {
    "collapsed": false
   },
   "outputs": [],
   "source": [
    "# declare scalar variables x, y and a function of two variables z=f(x,y)\n",
    "x = T.dscalar('x')\n",
    "y = T.dscalar('y')\n",
    "z = 2*pow(x,2) - 3*pow(y,2) + 1"
   ]
  },
  {
   "cell_type": "code",
   "execution_count": 12,
   "metadata": {
    "collapsed": false
   },
   "outputs": [],
   "source": [
    "# let's compute the derivative of expression z as a function of (x,y) using macro T.grad\n",
    "gz = T.grad(z,[x,y])"
   ]
  },
  {
   "cell_type": "code",
   "execution_count": 23,
   "metadata": {
    "collapsed": false
   },
   "outputs": [
    {
     "name": "stdout",
     "output_type": "stream",
     "text": [
      "(((fill((((TensorConstant{2} * (x ** TensorConstant{2})) - (TensorConstant{3} * (y ** TensorConstant{2}))) + TensorConstant{1}), TensorConstant{1.0}) * TensorConstant{2}) * TensorConstant{2}) * (x ** (TensorConstant{2} - TensorConstant{1})))\n"
     ]
    }
   ],
   "source": [
    "# pretty-print out the computation associated to gz\n",
    "# in this example, we can see from pp(gz) that we are computing the correct symbolic gradient. fill(..., 1.0) means to \n",
    "# make a matrix of the same shape as x ** 4 - y ** 6 and fill it with 1.0.\n",
    "print pp(gz[0])\n",
    "#theano.printing.pprint(gz[0])"
   ]
  },
  {
   "cell_type": "code",
   "execution_count": 24,
   "metadata": {
    "collapsed": false
   },
   "outputs": [
    {
     "name": "stdout",
     "output_type": "stream",
     "text": [
      "((((-fill((((TensorConstant{2} * (x ** TensorConstant{2})) - (TensorConstant{3} * (y ** TensorConstant{2}))) + TensorConstant{1}), TensorConstant{1.0})) * TensorConstant{3}) * TensorConstant{2}) * (y ** (TensorConstant{2} - TensorConstant{1})))\n"
     ]
    }
   ],
   "source": [
    "print pp(gz[1])"
   ]
  },
  {
   "cell_type": "code",
   "execution_count": 43,
   "metadata": {
    "collapsed": false
   },
   "outputs": [
    {
     "data": {
      "text/plain": [
       "[array(12.0), array(-12.0)]"
      ]
     },
     "execution_count": 43,
     "metadata": {},
     "output_type": "execute_result"
    }
   ],
   "source": [
    "# create theno function to encapsulate gradient expression gz and calculate gradient at point (3,2)\n",
    "f = theano.function([x,y],gz)\n",
    "f(3,2)"
   ]
  },
  {
   "cell_type": "code",
   "execution_count": 6,
   "metadata": {
    "collapsed": false
   },
   "outputs": [
    {
     "data": {
      "text/plain": [
       "'(TensorConstant{4.0} * x)'"
      ]
     },
     "execution_count": 6,
     "metadata": {},
     "output_type": "execute_result"
    }
   ],
   "source": [
    "# pretty print internal properties of the compiled function for x\n",
    "pp(f.maker.fgraph.outputs[0])"
   ]
  },
  {
   "cell_type": "code",
   "execution_count": 7,
   "metadata": {
    "collapsed": false
   },
   "outputs": [
    {
     "data": {
      "text/plain": [
       "'(TensorConstant{-6.0} * y)'"
      ]
     },
     "execution_count": 7,
     "metadata": {},
     "output_type": "execute_result"
    }
   ],
   "source": [
    "# pretty print internal properties of the compiled function for y\n",
    "pp(f.maker.fgraph.outputs[1])"
   ]
  },
  {
   "cell_type": "code",
   "execution_count": null,
   "metadata": {
    "collapsed": true
   },
   "outputs": [],
   "source": []
  }
 ],
 "metadata": {
  "kernelspec": {
   "display_name": "Python 2",
   "language": "python",
   "name": "python2"
  },
  "language_info": {
   "codemirror_mode": {
    "name": "ipython",
    "version": 2
   },
   "file_extension": ".py",
   "mimetype": "text/x-python",
   "name": "python",
   "nbconvert_exporter": "python",
   "pygments_lexer": "ipython2",
   "version": "2.7.11"
  }
 },
 "nbformat": 4,
 "nbformat_minor": 0
}
