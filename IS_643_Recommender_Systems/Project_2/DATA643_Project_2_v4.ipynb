{
 "cells": [
  {
   "cell_type": "markdown",
   "metadata": {},
   "source": [
    "DATA643- Project 2\n",
    "======\n",
    "Prashanth Padebetttu, Parshu Rath, Adjare Windokun, Xingjia Wu\n",
    "----------\n",
    "<b> Summer 2016 <br>\n",
    "Instructor: Andrew Catlin"
   ]
  },
  {
   "cell_type": "markdown",
   "metadata": {},
   "source": [
    "<b> Load 100K movie data as pandas dataframe:"
   ]
  },
  {
   "cell_type": "code",
   "execution_count": 2,
   "metadata": {
    "collapsed": true
   },
   "outputs": [],
   "source": [
    "# Required Python Packages\n",
    "from math import sqrt\n",
    "from sklearn.metrics.pairwise import cosine_similarity\n",
    "import csv\n",
    "import pandas as pd\n",
    "import numpy as np\n",
    "from scipy import spatial"
   ]
  },
  {
   "cell_type": "code",
   "execution_count": 3,
   "metadata": {
    "collapsed": true
   },
   "outputs": [],
   "source": [
    "#Load data into a pandas dataframe\n",
    "# Movielens data with 100,000 records\n",
    "url = 'https://raw.githubusercontent.com/ppadebettu/CUNY/IS-607-Data-Acquisition-and-Management/IS643/Project_2/movielens.csv'\n",
    "df = pd.read_csv(url, sep = \",\" , header = 0, na_values='NaN')\n"
   ]
  },
  {
   "cell_type": "code",
   "execution_count": 4,
   "metadata": {
    "collapsed": false
   },
   "outputs": [
    {
     "data": {
      "text/html": [
       "<div>\n",
       "<table border=\"1\" class=\"dataframe\">\n",
       "  <thead>\n",
       "    <tr style=\"text-align: right;\">\n",
       "      <th></th>\n",
       "      <th>userid</th>\n",
       "      <th>age</th>\n",
       "      <th>gender</th>\n",
       "      <th>occupation</th>\n",
       "      <th>zipcode</th>\n",
       "      <th>itemid</th>\n",
       "      <th>rating</th>\n",
       "      <th>timestamp</th>\n",
       "      <th>movieid</th>\n",
       "      <th>movietitle</th>\n",
       "      <th>...</th>\n",
       "      <th>fantasy</th>\n",
       "      <th>filmnoir</th>\n",
       "      <th>horror</th>\n",
       "      <th>musical</th>\n",
       "      <th>mystery</th>\n",
       "      <th>romance</th>\n",
       "      <th>scifi</th>\n",
       "      <th>thriller</th>\n",
       "      <th>war</th>\n",
       "      <th>western</th>\n",
       "    </tr>\n",
       "  </thead>\n",
       "  <tbody>\n",
       "    <tr>\n",
       "      <th>0</th>\n",
       "      <td>196</td>\n",
       "      <td>49</td>\n",
       "      <td>M</td>\n",
       "      <td>writer</td>\n",
       "      <td>55105</td>\n",
       "      <td>242</td>\n",
       "      <td>3</td>\n",
       "      <td>881250949</td>\n",
       "      <td>242</td>\n",
       "      <td>Kolya (1996)</td>\n",
       "      <td>...</td>\n",
       "      <td>0</td>\n",
       "      <td>0</td>\n",
       "      <td>0</td>\n",
       "      <td>0</td>\n",
       "      <td>0</td>\n",
       "      <td>0</td>\n",
       "      <td>0</td>\n",
       "      <td>0</td>\n",
       "      <td>0</td>\n",
       "      <td>0</td>\n",
       "    </tr>\n",
       "    <tr>\n",
       "      <th>1</th>\n",
       "      <td>186</td>\n",
       "      <td>39</td>\n",
       "      <td>F</td>\n",
       "      <td>executive</td>\n",
       "      <td>00000</td>\n",
       "      <td>302</td>\n",
       "      <td>3</td>\n",
       "      <td>891717742</td>\n",
       "      <td>302</td>\n",
       "      <td>L.A. Confidential (1997)</td>\n",
       "      <td>...</td>\n",
       "      <td>0</td>\n",
       "      <td>1</td>\n",
       "      <td>0</td>\n",
       "      <td>0</td>\n",
       "      <td>1</td>\n",
       "      <td>0</td>\n",
       "      <td>0</td>\n",
       "      <td>1</td>\n",
       "      <td>0</td>\n",
       "      <td>0</td>\n",
       "    </tr>\n",
       "    <tr>\n",
       "      <th>2</th>\n",
       "      <td>22</td>\n",
       "      <td>25</td>\n",
       "      <td>M</td>\n",
       "      <td>writer</td>\n",
       "      <td>40206</td>\n",
       "      <td>377</td>\n",
       "      <td>1</td>\n",
       "      <td>878887116</td>\n",
       "      <td>377</td>\n",
       "      <td>Heavyweights (1994)</td>\n",
       "      <td>...</td>\n",
       "      <td>0</td>\n",
       "      <td>0</td>\n",
       "      <td>0</td>\n",
       "      <td>0</td>\n",
       "      <td>0</td>\n",
       "      <td>0</td>\n",
       "      <td>0</td>\n",
       "      <td>0</td>\n",
       "      <td>0</td>\n",
       "      <td>0</td>\n",
       "    </tr>\n",
       "    <tr>\n",
       "      <th>3</th>\n",
       "      <td>244</td>\n",
       "      <td>28</td>\n",
       "      <td>M</td>\n",
       "      <td>technician</td>\n",
       "      <td>80525</td>\n",
       "      <td>51</td>\n",
       "      <td>2</td>\n",
       "      <td>880606923</td>\n",
       "      <td>51</td>\n",
       "      <td>Legends of the Fall (1994)</td>\n",
       "      <td>...</td>\n",
       "      <td>0</td>\n",
       "      <td>0</td>\n",
       "      <td>0</td>\n",
       "      <td>0</td>\n",
       "      <td>0</td>\n",
       "      <td>1</td>\n",
       "      <td>0</td>\n",
       "      <td>0</td>\n",
       "      <td>1</td>\n",
       "      <td>1</td>\n",
       "    </tr>\n",
       "    <tr>\n",
       "      <th>4</th>\n",
       "      <td>166</td>\n",
       "      <td>47</td>\n",
       "      <td>M</td>\n",
       "      <td>educator</td>\n",
       "      <td>55113</td>\n",
       "      <td>346</td>\n",
       "      <td>1</td>\n",
       "      <td>886397596</td>\n",
       "      <td>346</td>\n",
       "      <td>Jackie Brown (1997)</td>\n",
       "      <td>...</td>\n",
       "      <td>0</td>\n",
       "      <td>0</td>\n",
       "      <td>0</td>\n",
       "      <td>0</td>\n",
       "      <td>0</td>\n",
       "      <td>0</td>\n",
       "      <td>0</td>\n",
       "      <td>0</td>\n",
       "      <td>0</td>\n",
       "      <td>0</td>\n",
       "    </tr>\n",
       "  </tbody>\n",
       "</table>\n",
       "<p>5 rows × 32 columns</p>\n",
       "</div>"
      ],
      "text/plain": [
       "   userid  age gender  occupation zipcode  itemid  rating  timestamp  movieid  \\\n",
       "0     196   49      M      writer   55105     242       3  881250949      242   \n",
       "1     186   39      F   executive   00000     302       3  891717742      302   \n",
       "2      22   25      M      writer   40206     377       1  878887116      377   \n",
       "3     244   28      M  technician   80525      51       2  880606923       51   \n",
       "4     166   47      M    educator   55113     346       1  886397596      346   \n",
       "\n",
       "                   movietitle   ...    fantasy  filmnoir horror  musical  \\\n",
       "0                Kolya (1996)   ...          0         0      0        0   \n",
       "1    L.A. Confidential (1997)   ...          0         1      0        0   \n",
       "2         Heavyweights (1994)   ...          0         0      0        0   \n",
       "3  Legends of the Fall (1994)   ...          0         0      0        0   \n",
       "4         Jackie Brown (1997)   ...          0         0      0        0   \n",
       "\n",
       "   mystery  romance  scifi  thriller  war  western  \n",
       "0        0        0      0         0    0        0  \n",
       "1        1        0      0         1    0        0  \n",
       "2        0        0      0         0    0        0  \n",
       "3        0        1      0         0    1        1  \n",
       "4        0        0      0         0    0        0  \n",
       "\n",
       "[5 rows x 32 columns]"
      ]
     },
     "execution_count": 4,
     "metadata": {},
     "output_type": "execute_result"
    }
   ],
   "source": [
    "df.head()"
   ]
  },
  {
   "cell_type": "markdown",
   "metadata": {},
   "source": [
    "<b>Some data exploration:"
   ]
  },
  {
   "cell_type": "code",
   "execution_count": 5,
   "metadata": {
    "collapsed": false
   },
   "outputs": [
    {
     "data": {
      "text/plain": [
       "movietitle\n",
       "Star Wars (1977)                 583\n",
       "Contact (1997)                   509\n",
       "Fargo (1996)                     508\n",
       "Return of the Jedi (1983)        507\n",
       "Liar Liar (1997)                 485\n",
       "English Patient, The (1996)      481\n",
       "Scream (1996)                    478\n",
       "Toy Story (1995)                 452\n",
       "Air Force One (1997)             431\n",
       "Independence Day (ID4) (1996)    429\n",
       "dtype: int64"
      ]
     },
     "execution_count": 5,
     "metadata": {},
     "output_type": "execute_result"
    }
   ],
   "source": [
    "#What are the 25 most rated movies?\n",
    "most_rated = df.groupby('movietitle').size().sort_values(ascending=False)[:10]\n",
    "most_rated"
   ]
  },
  {
   "cell_type": "code",
   "execution_count": 6,
   "metadata": {
    "collapsed": false
   },
   "outputs": [
    {
     "data": {
      "text/html": [
       "<div>\n",
       "<table border=\"1\" class=\"dataframe\">\n",
       "  <thead>\n",
       "    <tr>\n",
       "      <th></th>\n",
       "      <th colspan=\"2\" halign=\"left\">rating</th>\n",
       "    </tr>\n",
       "    <tr>\n",
       "      <th></th>\n",
       "      <th>size</th>\n",
       "      <th>mean</th>\n",
       "    </tr>\n",
       "    <tr>\n",
       "      <th>movietitle</th>\n",
       "      <th></th>\n",
       "      <th></th>\n",
       "    </tr>\n",
       "  </thead>\n",
       "  <tbody>\n",
       "    <tr>\n",
       "      <th>'Til There Was You (1997)</th>\n",
       "      <td>9</td>\n",
       "      <td>2.333333</td>\n",
       "    </tr>\n",
       "    <tr>\n",
       "      <th>1-900 (1994)</th>\n",
       "      <td>5</td>\n",
       "      <td>2.600000</td>\n",
       "    </tr>\n",
       "    <tr>\n",
       "      <th>101 Dalmatians (1996)</th>\n",
       "      <td>109</td>\n",
       "      <td>2.908257</td>\n",
       "    </tr>\n",
       "    <tr>\n",
       "      <th>12 Angry Men (1957)</th>\n",
       "      <td>125</td>\n",
       "      <td>4.344000</td>\n",
       "    </tr>\n",
       "    <tr>\n",
       "      <th>187 (1997)</th>\n",
       "      <td>41</td>\n",
       "      <td>3.024390</td>\n",
       "    </tr>\n",
       "  </tbody>\n",
       "</table>\n",
       "</div>"
      ],
      "text/plain": [
       "                          rating          \n",
       "                            size      mean\n",
       "movietitle                                \n",
       "'Til There Was You (1997)      9  2.333333\n",
       "1-900 (1994)                   5  2.600000\n",
       "101 Dalmatians (1996)        109  2.908257\n",
       "12 Angry Men (1957)          125  4.344000\n",
       "187 (1997)                    41  3.024390"
      ]
     },
     "execution_count": 6,
     "metadata": {},
     "output_type": "execute_result"
    }
   ],
   "source": [
    "#Which movies are highly rated?\n",
    "movie_stats = df.groupby('movietitle').agg({'rating': [np.size, np.mean]})\n",
    "movie_stats.head()"
   ]
  },
  {
   "cell_type": "code",
   "execution_count": 7,
   "metadata": {
    "collapsed": false
   },
   "outputs": [
    {
     "data": {
      "text/html": [
       "<div>\n",
       "<table border=\"1\" class=\"dataframe\">\n",
       "  <thead>\n",
       "    <tr>\n",
       "      <th></th>\n",
       "      <th colspan=\"2\" halign=\"left\">rating</th>\n",
       "    </tr>\n",
       "    <tr>\n",
       "      <th></th>\n",
       "      <th>size</th>\n",
       "      <th>mean</th>\n",
       "    </tr>\n",
       "    <tr>\n",
       "      <th>movietitle</th>\n",
       "      <th></th>\n",
       "      <th></th>\n",
       "    </tr>\n",
       "  </thead>\n",
       "  <tbody>\n",
       "    <tr>\n",
       "      <th>Aiqing wansui (1994)</th>\n",
       "      <td>1</td>\n",
       "      <td>5.0</td>\n",
       "    </tr>\n",
       "    <tr>\n",
       "      <th>Prefontaine (1997)</th>\n",
       "      <td>3</td>\n",
       "      <td>5.0</td>\n",
       "    </tr>\n",
       "    <tr>\n",
       "      <th>Entertaining Angels: The Dorothy Day Story (1996)</th>\n",
       "      <td>1</td>\n",
       "      <td>5.0</td>\n",
       "    </tr>\n",
       "    <tr>\n",
       "      <th>Star Kid (1997)</th>\n",
       "      <td>3</td>\n",
       "      <td>5.0</td>\n",
       "    </tr>\n",
       "    <tr>\n",
       "      <th>Saint of Fort Washington, The (1993)</th>\n",
       "      <td>2</td>\n",
       "      <td>5.0</td>\n",
       "    </tr>\n",
       "  </tbody>\n",
       "</table>\n",
       "</div>"
      ],
      "text/plain": [
       "                                                  rating     \n",
       "                                                    size mean\n",
       "movietitle                                                   \n",
       "Aiqing wansui (1994)                                   1  5.0\n",
       "Prefontaine (1997)                                     3  5.0\n",
       "Entertaining Angels: The Dorothy Day Story (1996)      1  5.0\n",
       "Star Kid (1997)                                        3  5.0\n",
       "Saint of Fort Washington, The (1993)                   2  5.0"
      ]
     },
     "execution_count": 7,
     "metadata": {},
     "output_type": "execute_result"
    }
   ],
   "source": [
    "#Sort by movie rating average\n",
    "movie_stats.sort_values([('rating', 'mean')], ascending=False).head()"
   ]
  },
  {
   "cell_type": "code",
   "execution_count": 8,
   "metadata": {
    "collapsed": false
   },
   "outputs": [
    {
     "data": {
      "text/html": [
       "<div>\n",
       "<table border=\"1\" class=\"dataframe\">\n",
       "  <thead>\n",
       "    <tr>\n",
       "      <th></th>\n",
       "      <th colspan=\"2\" halign=\"left\">rating</th>\n",
       "    </tr>\n",
       "    <tr>\n",
       "      <th></th>\n",
       "      <th>size</th>\n",
       "      <th>mean</th>\n",
       "    </tr>\n",
       "    <tr>\n",
       "      <th>movietitle</th>\n",
       "      <th></th>\n",
       "      <th></th>\n",
       "    </tr>\n",
       "  </thead>\n",
       "  <tbody>\n",
       "    <tr>\n",
       "      <th>Close Shave, A (1995)</th>\n",
       "      <td>112</td>\n",
       "      <td>4.491071</td>\n",
       "    </tr>\n",
       "    <tr>\n",
       "      <th>Schindler's List (1993)</th>\n",
       "      <td>298</td>\n",
       "      <td>4.466443</td>\n",
       "    </tr>\n",
       "    <tr>\n",
       "      <th>Wrong Trousers, The (1993)</th>\n",
       "      <td>118</td>\n",
       "      <td>4.466102</td>\n",
       "    </tr>\n",
       "    <tr>\n",
       "      <th>Casablanca (1942)</th>\n",
       "      <td>243</td>\n",
       "      <td>4.456790</td>\n",
       "    </tr>\n",
       "    <tr>\n",
       "      <th>Shawshank Redemption, The (1994)</th>\n",
       "      <td>283</td>\n",
       "      <td>4.445230</td>\n",
       "    </tr>\n",
       "  </tbody>\n",
       "</table>\n",
       "</div>"
      ],
      "text/plain": [
       "                                 rating          \n",
       "                                   size      mean\n",
       "movietitle                                       \n",
       "Close Shave, A (1995)               112  4.491071\n",
       "Schindler's List (1993)             298  4.466443\n",
       "Wrong Trousers, The (1993)          118  4.466102\n",
       "Casablanca (1942)                   243  4.456790\n",
       "Shawshank Redemption, The (1994)    283  4.445230"
      ]
     },
     "execution_count": 8,
     "metadata": {},
     "output_type": "execute_result"
    }
   ],
   "source": [
    "#Movies that have been rated at least 100 times.\n",
    "atleast_100 = movie_stats['rating']['size'] >= 100\n",
    "movie_stats[atleast_100].sort_values([('rating', 'mean')], ascending=False)[:5]"
   ]
  },
  {
   "cell_type": "markdown",
   "metadata": {},
   "source": [
    "<b>Load 100K movie data as dictionary:"
   ]
  },
  {
   "cell_type": "code",
   "execution_count": 9,
   "metadata": {
    "collapsed": false
   },
   "outputs": [],
   "source": [
    "# Get movie titles\n",
    "import urllib2\n",
    "url = 'https://raw.githubusercontent.com/prcuny/DATA643/master/Project-2/'\n",
    "movies={}\n",
    "response = urllib2.urlopen(url + 'u.item')\n",
    "for line in response:    \n",
    "        (id,title)=line.split('|')[0:2]\n",
    "        movies[id]=title\n"
   ]
  },
  {
   "cell_type": "code",
   "execution_count": 10,
   "metadata": {
    "collapsed": false
   },
   "outputs": [],
   "source": [
    "# Load user ratings\n",
    "mdict={}\n",
    "response = urllib2.urlopen(url + 'u.data')\n",
    "for line in response:\n",
    "       (user,movieid,rating,ts)=line.split('\\t')\n",
    "       mdict.setdefault(user,{})\n",
    "       mdict[user][movies[movieid]]=float(rating)\n"
   ]
  },
  {
   "cell_type": "markdown",
   "metadata": {},
   "source": [
    "Print first 2 users and their ratings"
   ]
  },
  {
   "cell_type": "code",
   "execution_count": 11,
   "metadata": {
    "collapsed": false
   },
   "outputs": [],
   "source": [
    "#user '20' and ratings\n",
    "#mdict['20']\n",
    "from itertools import islice\n",
    "def take(n, iterable):\n",
    "    \"Return first n items of the iterable as a list\"\n",
    "    return list(islice(iterable, n ))\n",
    "# Dont know how to stop this from returning a bunch of rows\n",
    "#take(2, mdict.iteritems())"
   ]
  },
  {
   "cell_type": "markdown",
   "metadata": {},
   "source": [
    "### User-User Collaborative Filtering"
   ]
  },
  {
   "cell_type": "markdown",
   "metadata": {},
   "source": [
    "<b> Pearson correlation"
   ]
  },
  {
   "cell_type": "code",
   "execution_count": 12,
   "metadata": {
    "collapsed": false
   },
   "outputs": [],
   "source": [
    "#Function that returns the Pearson correlation coefficient for person1 and person2 \n",
    "def sim_pearson(dict,p1,p2):\n",
    " #Get the list of mutually rated items, ignore items that were not rated by either person\n",
    " si = {}\n",
    " for item in dict[p1]:\n",
    "  if item in dict[p2] and not(np.isnan(dict[p2][item])) and not(np.isnan(dict[p1][item])): \n",
    "   si[item] = 1\n",
    "\n",
    " #if they are no rating in common, return 0\n",
    " if len(si) == 0:\n",
    "  return 0\n",
    "\n",
    " #sum calculations\n",
    " n = len(si)\n",
    "            \n",
    " #sum of all preferences\n",
    " sum1 = sum([dict[p1][it] for it in si])\n",
    " sum2 = sum([dict[p2][it] for it in si])\n",
    " #Sum of the squares\n",
    " sum1Sq = sum([pow(dict[p1][it],2) for it in si])\n",
    " sum2Sq = sum([pow(dict[p2][it],2) for it in si])\n",
    " #Sum of the products\n",
    " pSum = sum([dict[p1][it] * dict[p2][it] for it in si])\n",
    " #Calculate r (Pearson score)\n",
    " num = pSum - (sum1 * sum2)/n\n",
    " den = sqrt((sum1Sq - pow(sum1,2)/n) * (sum2Sq - pow(sum2,2)/n))\n",
    " if den == 0:\n",
    "  return 0\n",
    " r = num/den\n",
    " return r\n"
   ]
  },
  {
   "cell_type": "code",
   "execution_count": 13,
   "metadata": {
    "collapsed": false
   },
   "outputs": [
    {
     "data": {
      "text/plain": [
       "-0.4229"
      ]
     },
     "execution_count": 13,
     "metadata": {},
     "output_type": "execute_result"
    }
   ],
   "source": [
    "# Test the Pearson-based similarity function\n",
    "round(sim_pearson(mdict,'20','30'), 4)"
   ]
  },
  {
   "cell_type": "markdown",
   "metadata": {},
   "source": [
    "<b> Recommendations by Pearson weighted average: "
   ]
  },
  {
   "cell_type": "code",
   "execution_count": 14,
   "metadata": {
    "collapsed": false
   },
   "outputs": [],
   "source": [
    "#Function that returns 'n' recommendations for a person by using a weighted average of every other user's rankings\n",
    "\n",
    "def getRecommendations(n, dict,person,similarity=sim_pearson):\n",
    " totals = {}\n",
    " simSums = {}\n",
    "\n",
    " for other in dict:\n",
    "  #don't compare me to myself\n",
    "  if other == person:\n",
    "   continue\n",
    "  sim = similarity(dict,person,other)\n",
    "  #ignore scores of zero or lower\n",
    "  if sim <= 0: \n",
    "   continue\n",
    "  for item in dict[other]:\n",
    "   #only score movies I haven't rated yet\n",
    "   if (item not in dict[person]) or (dict[person][item] == 0) or (np.isnan(dict[person][item])) :\n",
    "    #Similarity * score\n",
    "    totals.setdefault(item,0)\n",
    "    totals[item] += not(np.isnan(dict[other][item] * sim))\n",
    "    #Sum of similarities\n",
    "    simSums.setdefault(item,0)\n",
    "    simSums[item] += sim\n",
    "\n",
    "    #Create the normalized list\n",
    " rankings = [(total/simSums[item],item) for item,total in totals.items()]\n",
    "\n",
    " #Return the sorted list\n",
    " rankings.sort()\n",
    " rankings.reverse()\n",
    " return rankings[0:n]\n"
   ]
  },
  {
   "cell_type": "markdown",
   "metadata": {},
   "source": [
    "<b> Get top 10 recommendations for user '20' using User-User CF"
   ]
  },
  {
   "cell_type": "code",
   "execution_count": 15,
   "metadata": {
    "collapsed": false
   },
   "outputs": [
    {
     "data": {
      "text/plain": [
       "[(236.52695406660396, 'Golden Earrings (1947)'),\n",
       " (88.44403280479239, 'Johns (1996)'),\n",
       " (88.44403280479239, 'Beans of Egypt, Maine, The (1994)'),\n",
       " (87.25594535617968, 'Paradise Road (1997)'),\n",
       " (55.054047052742746, 'Cosi (1996)'),\n",
       " (55.054047052742746, 'All Over Me (1997)'),\n",
       " (53.94433001475551, 'Favor, The (1994)'),\n",
       " (49.580099539706296,\n",
       "  'Brother Minister: The Assassination of Malcolm X (1994)'),\n",
       " (37.8437564385548, 'You So Crazy (1994)'),\n",
       " (37.8437564385548, 'Walking Dead, The (1995)')]"
      ]
     },
     "execution_count": 15,
     "metadata": {},
     "output_type": "execute_result"
    }
   ],
   "source": [
    "#Test getRecommendations function\n",
    "getRecommendations(10, mdict,'20',similarity=sim_pearson)"
   ]
  },
  {
   "cell_type": "markdown",
   "metadata": {},
   "source": [
    "### Code to implement user/user, item/item and user/item using pandas"
   ]
  },
  {
   "cell_type": "code",
   "execution_count": 16,
   "metadata": {
    "collapsed": true
   },
   "outputs": [],
   "source": [
    "# function takes in a data frame, what you want to predict pred_id, the type of collaboration, the similarity you want\n",
    "# to use, and the number of responses you want to get back\n",
    "## Code adapted from https://blog.liip.ch/archive/2016/06/16/recommender-system-slack-pandas-flask.html\n",
    "\n",
    "def predict_p(dframe, pred_id, kind = 'user', similarity = cosine_similarity, n = 10):\n",
    "    d = dframe.fillna(0)\n",
    "    if kind == 'user':\n",
    "        dists = similarity(d)\n",
    "        dists_named = pd.DataFrame(dists, columns = d.index)\n",
    "        dists_named.index = dists_named.columns\n",
    "        \n",
    "    elif kind == 'item':\n",
    "        d = d.T\n",
    "        dists = similarity(d)\n",
    "        dists_named = pd.DataFrame(dists, columns = d.index)\n",
    "        dists_named.index = dists_named.columns\n",
    "\n",
    "    p = dists_named[pred_id].sort_values(ascending = False)\n",
    "    mask = p.index.isin([pred_id])\n",
    "    p = p[~mask]\n",
    "    return p[:n]   "
   ]
  },
  {
   "cell_type": "code",
   "execution_count": 17,
   "metadata": {
    "collapsed": false
   },
   "outputs": [
    {
     "data": {
      "text/html": [
       "<div>\n",
       "<table border=\"1\" class=\"dataframe\">\n",
       "  <thead>\n",
       "    <tr style=\"text-align: right;\">\n",
       "      <th>movietitle</th>\n",
       "      <th>'Til There Was You (1997)</th>\n",
       "      <th>1-900 (1994)</th>\n",
       "      <th>101 Dalmatians (1996)</th>\n",
       "      <th>12 Angry Men (1957)</th>\n",
       "      <th>187 (1997)</th>\n",
       "      <th>2 Days in the Valley (1996)</th>\n",
       "      <th>20,000 Leagues Under the Sea (1954)</th>\n",
       "      <th>2001: A Space Odyssey (1968)</th>\n",
       "      <th>3 Ninjas: High Noon At Mega Mountain (1998)</th>\n",
       "      <th>39 Steps, The (1935)</th>\n",
       "      <th>...</th>\n",
       "      <th>Wyatt Earp (1994)</th>\n",
       "      <th>Yankee Zulu (1994)</th>\n",
       "      <th>Year of the Horse (1997)</th>\n",
       "      <th>You So Crazy (1994)</th>\n",
       "      <th>Young Frankenstein (1974)</th>\n",
       "      <th>Young Guns (1988)</th>\n",
       "      <th>Young Guns II (1990)</th>\n",
       "      <th>Young Poisoner's Handbook, The (1995)</th>\n",
       "      <th>Zeus and Roxanne (1997)</th>\n",
       "      <th>unknown</th>\n",
       "    </tr>\n",
       "  </thead>\n",
       "  <tbody>\n",
       "    <tr>\n",
       "      <th>1</th>\n",
       "      <td>0.0</td>\n",
       "      <td>0.0</td>\n",
       "      <td>2.0</td>\n",
       "      <td>5.0</td>\n",
       "      <td>0.0</td>\n",
       "      <td>0.0</td>\n",
       "      <td>3.0</td>\n",
       "      <td>4.0</td>\n",
       "      <td>0.0</td>\n",
       "      <td>0.0</td>\n",
       "      <td>...</td>\n",
       "      <td>0.0</td>\n",
       "      <td>0.0</td>\n",
       "      <td>0.0</td>\n",
       "      <td>0.0</td>\n",
       "      <td>5.0</td>\n",
       "      <td>3.0</td>\n",
       "      <td>0.0</td>\n",
       "      <td>0.0</td>\n",
       "      <td>0.0</td>\n",
       "      <td>4.0</td>\n",
       "    </tr>\n",
       "    <tr>\n",
       "      <th>2</th>\n",
       "      <td>0.0</td>\n",
       "      <td>0.0</td>\n",
       "      <td>0.0</td>\n",
       "      <td>0.0</td>\n",
       "      <td>0.0</td>\n",
       "      <td>0.0</td>\n",
       "      <td>0.0</td>\n",
       "      <td>0.0</td>\n",
       "      <td>1.0</td>\n",
       "      <td>0.0</td>\n",
       "      <td>...</td>\n",
       "      <td>0.0</td>\n",
       "      <td>0.0</td>\n",
       "      <td>0.0</td>\n",
       "      <td>0.0</td>\n",
       "      <td>0.0</td>\n",
       "      <td>0.0</td>\n",
       "      <td>0.0</td>\n",
       "      <td>0.0</td>\n",
       "      <td>0.0</td>\n",
       "      <td>0.0</td>\n",
       "    </tr>\n",
       "    <tr>\n",
       "      <th>3</th>\n",
       "      <td>0.0</td>\n",
       "      <td>0.0</td>\n",
       "      <td>0.0</td>\n",
       "      <td>0.0</td>\n",
       "      <td>2.0</td>\n",
       "      <td>0.0</td>\n",
       "      <td>0.0</td>\n",
       "      <td>0.0</td>\n",
       "      <td>0.0</td>\n",
       "      <td>0.0</td>\n",
       "      <td>...</td>\n",
       "      <td>0.0</td>\n",
       "      <td>0.0</td>\n",
       "      <td>0.0</td>\n",
       "      <td>0.0</td>\n",
       "      <td>0.0</td>\n",
       "      <td>0.0</td>\n",
       "      <td>0.0</td>\n",
       "      <td>0.0</td>\n",
       "      <td>0.0</td>\n",
       "      <td>0.0</td>\n",
       "    </tr>\n",
       "    <tr>\n",
       "      <th>4</th>\n",
       "      <td>0.0</td>\n",
       "      <td>0.0</td>\n",
       "      <td>0.0</td>\n",
       "      <td>0.0</td>\n",
       "      <td>0.0</td>\n",
       "      <td>0.0</td>\n",
       "      <td>0.0</td>\n",
       "      <td>0.0</td>\n",
       "      <td>0.0</td>\n",
       "      <td>0.0</td>\n",
       "      <td>...</td>\n",
       "      <td>0.0</td>\n",
       "      <td>0.0</td>\n",
       "      <td>0.0</td>\n",
       "      <td>0.0</td>\n",
       "      <td>0.0</td>\n",
       "      <td>0.0</td>\n",
       "      <td>0.0</td>\n",
       "      <td>0.0</td>\n",
       "      <td>0.0</td>\n",
       "      <td>0.0</td>\n",
       "    </tr>\n",
       "    <tr>\n",
       "      <th>5</th>\n",
       "      <td>0.0</td>\n",
       "      <td>0.0</td>\n",
       "      <td>2.0</td>\n",
       "      <td>0.0</td>\n",
       "      <td>0.0</td>\n",
       "      <td>0.0</td>\n",
       "      <td>0.0</td>\n",
       "      <td>4.0</td>\n",
       "      <td>0.0</td>\n",
       "      <td>0.0</td>\n",
       "      <td>...</td>\n",
       "      <td>0.0</td>\n",
       "      <td>0.0</td>\n",
       "      <td>0.0</td>\n",
       "      <td>0.0</td>\n",
       "      <td>4.0</td>\n",
       "      <td>0.0</td>\n",
       "      <td>0.0</td>\n",
       "      <td>0.0</td>\n",
       "      <td>0.0</td>\n",
       "      <td>4.0</td>\n",
       "    </tr>\n",
       "  </tbody>\n",
       "</table>\n",
       "<p>5 rows × 1664 columns</p>\n",
       "</div>"
      ],
      "text/plain": [
       "movietitle  'Til There Was You (1997)  1-900 (1994)  101 Dalmatians (1996)  \\\n",
       "1                                 0.0           0.0                    2.0   \n",
       "2                                 0.0           0.0                    0.0   \n",
       "3                                 0.0           0.0                    0.0   \n",
       "4                                 0.0           0.0                    0.0   \n",
       "5                                 0.0           0.0                    2.0   \n",
       "\n",
       "movietitle  12 Angry Men (1957)  187 (1997)  2 Days in the Valley (1996)  \\\n",
       "1                           5.0         0.0                          0.0   \n",
       "2                           0.0         0.0                          0.0   \n",
       "3                           0.0         2.0                          0.0   \n",
       "4                           0.0         0.0                          0.0   \n",
       "5                           0.0         0.0                          0.0   \n",
       "\n",
       "movietitle  20,000 Leagues Under the Sea (1954)  2001: A Space Odyssey (1968)  \\\n",
       "1                                           3.0                           4.0   \n",
       "2                                           0.0                           0.0   \n",
       "3                                           0.0                           0.0   \n",
       "4                                           0.0                           0.0   \n",
       "5                                           0.0                           4.0   \n",
       "\n",
       "movietitle  3 Ninjas: High Noon At Mega Mountain (1998)  39 Steps, The (1935)  \\\n",
       "1                                                   0.0                   0.0   \n",
       "2                                                   1.0                   0.0   \n",
       "3                                                   0.0                   0.0   \n",
       "4                                                   0.0                   0.0   \n",
       "5                                                   0.0                   0.0   \n",
       "\n",
       "movietitle   ...     Wyatt Earp (1994)  Yankee Zulu (1994)  \\\n",
       "1            ...                   0.0                 0.0   \n",
       "2            ...                   0.0                 0.0   \n",
       "3            ...                   0.0                 0.0   \n",
       "4            ...                   0.0                 0.0   \n",
       "5            ...                   0.0                 0.0   \n",
       "\n",
       "movietitle  Year of the Horse (1997)  You So Crazy (1994)  \\\n",
       "1                                0.0                  0.0   \n",
       "2                                0.0                  0.0   \n",
       "3                                0.0                  0.0   \n",
       "4                                0.0                  0.0   \n",
       "5                                0.0                  0.0   \n",
       "\n",
       "movietitle  Young Frankenstein (1974)  Young Guns (1988)  \\\n",
       "1                                 5.0                3.0   \n",
       "2                                 0.0                0.0   \n",
       "3                                 0.0                0.0   \n",
       "4                                 0.0                0.0   \n",
       "5                                 4.0                0.0   \n",
       "\n",
       "movietitle  Young Guns II (1990)  Young Poisoner's Handbook, The (1995)  \\\n",
       "1                            0.0                                    0.0   \n",
       "2                            0.0                                    0.0   \n",
       "3                            0.0                                    0.0   \n",
       "4                            0.0                                    0.0   \n",
       "5                            0.0                                    0.0   \n",
       "\n",
       "movietitle  Zeus and Roxanne (1997)  unknown  \n",
       "1                               0.0      4.0  \n",
       "2                               0.0      0.0  \n",
       "3                               0.0      0.0  \n",
       "4                               0.0      0.0  \n",
       "5                               0.0      4.0  \n",
       "\n",
       "[5 rows x 1664 columns]"
      ]
     },
     "execution_count": 17,
     "metadata": {},
     "output_type": "execute_result"
    }
   ],
   "source": [
    "# convert to wide format for analysis\n",
    "d = df.pivot_table(index = 'userid', columns = 'movietitle', values = 'rating')\n",
    "d = d.fillna(0)\n",
    "del d.index.name\n",
    "d.head()"
   ]
  },
  {
   "cell_type": "code",
   "execution_count": 18,
   "metadata": {
    "collapsed": false
   },
   "outputs": [
    {
     "data": {
      "text/plain": [
       "movietitle\n",
       "Forrest Gump (1994)                       0.661877\n",
       "Raiders of the Lost Ark (1981)            0.660880\n",
       "Back to the Future (1985)                 0.643994\n",
       "E.T. the Extra-Terrestrial (1982)         0.637103\n",
       "Dead Poets Society (1989)                 0.636788\n",
       "One Flew Over the Cuckoo's Nest (1975)    0.636475\n",
       "Silence of the Lambs, The (1991)          0.628871\n",
       "2001: A Space Odyssey (1968)              0.627704\n",
       "When Harry Met Sally... (1989)            0.627460\n",
       "Schindler's List (1993)                   0.617628\n",
       "Name: Amadeus (1984), dtype: float64"
      ]
     },
     "execution_count": 18,
     "metadata": {},
     "output_type": "execute_result"
    }
   ],
   "source": [
    "# Predict based on item/item\n",
    "predict_p(d, pred_id = \"Amadeus (1984)\", kind = 'item')"
   ]
  },
  {
   "cell_type": "code",
   "execution_count": 37,
   "metadata": {
    "collapsed": false
   },
   "outputs": [
    {
     "data": {
      "text/plain": [
       "254    0.575197\n",
       "738    0.568915\n",
       "881    0.565369\n",
       "42     0.547329\n",
       "545    0.543806\n",
       "804    0.543751\n",
       "650    0.543560\n",
       "275    0.540358\n",
       "815    0.536989\n",
       "536    0.532302\n",
       "Name: 290, dtype: float64"
      ]
     },
     "execution_count": 37,
     "metadata": {},
     "output_type": "execute_result"
    }
   ],
   "source": [
    "# Predict based on user/user\n",
    "## At present this gives the closest users\n",
    "predict_p(d, pred_id = 290, kind = 'user')"
   ]
  },
  {
   "cell_type": "code",
   "execution_count": 35,
   "metadata": {
    "collapsed": false
   },
   "outputs": [],
   "source": [
    "# Recommend items based on User similarity\n",
    "def get_recommendations_user(dframe, pred_id, similarity = cosine_similarity, n = 10):\n",
    "    t = d.ix[predict_p(d, pred_id = pred_id, n = n).index]\n",
    "    #t.ix[:,:10]\n",
    "    p = d.ix[pred_id].values != 0\n",
    "\n",
    "\n",
    "\n",
    "    r = t.T.ix[~p].T\n",
    "    # Delete those columns that all contain all 0, meaning that they have not been rated\n",
    "    r = r.loc[:, (r != 0).any(axis=0)]\n",
    "    # Have to rename the columns as we keep on getting an error\n",
    "    cols = r.columns\n",
    "    r.columns =  range(1, 1+ r.shape[1])\n",
    "    # Calculate the mean ratings for the movies\n",
    "    ratings = r.sum(axis = 0)/r.astype(bool).sum(axis= 0)\n",
    "    ratings.index = cols\n",
    "    return ratings.sort_values(axis = 0, ascending = False, \n",
    "                inplace = False, na_position = 'last')[:n]\n",
    "    "
   ]
  },
  {
   "cell_type": "code",
   "execution_count": 36,
   "metadata": {
    "collapsed": false
   },
   "outputs": [
    {
     "data": {
      "text/plain": [
       "movietitle\n",
       "Enchanted April (1991)          5.0\n",
       "Ran (1985)                      5.0\n",
       "Perfect World, A (1993)         5.0\n",
       "Persuasion (1995)               5.0\n",
       "Little Princess, A (1995)       5.0\n",
       "My Man Godfrey (1936)           5.0\n",
       "Shadowlands (1993)              5.0\n",
       "Sense and Sensibility (1995)    5.0\n",
       "Army of Darkness (1993)         5.0\n",
       "That Thing You Do! (1996)       5.0\n",
       "dtype: float64"
      ]
     },
     "execution_count": 36,
     "metadata": {},
     "output_type": "execute_result"
    }
   ],
   "source": [
    "get_recommendations_user(d, pred_id = 290, similarity = cosine_similarity, n = 10)"
   ]
  },
  {
   "cell_type": "code",
   "execution_count": 39,
   "metadata": {
    "collapsed": false
   },
   "outputs": [
    {
     "data": {
      "text/plain": [
       "254    0.0\n",
       "738    0.0\n",
       "881    0.0\n",
       "42     0.0\n",
       "545    0.0\n",
       "804    0.0\n",
       "650    0.0\n",
       "275    0.0\n",
       "815    0.0\n",
       "536    5.0\n",
       "Name: Enchanted April (1991), dtype: float64"
      ]
     },
     "execution_count": 39,
     "metadata": {},
     "output_type": "execute_result"
    }
   ],
   "source": [
    "# Check the results\n",
    "cut = [254, 738,881, 42,545,804,650,275,815,536]\n",
    "d.loc[cut,'Enchanted April (1991)']\n"
   ]
  },
  {
   "cell_type": "markdown",
   "metadata": {},
   "source": [
    "<b>Split the dataset into training and testing sets"
   ]
  },
  {
   "cell_type": "code",
   "execution_count": 23,
   "metadata": {
    "collapsed": true
   },
   "outputs": [],
   "source": [
    "from sklearn import cross_validation as cv\n",
    "df1 = df[[\"userid\", \"itemid\", \"rating\"]]\n",
    "df1.columns = [\"userid\", \"itemid\", \"rating\"]\n",
    "train_data, test_data = cv.train_test_split(df1, test_size=0.25)"
   ]
  },
  {
   "cell_type": "code",
   "execution_count": 24,
   "metadata": {
    "collapsed": false
   },
   "outputs": [
    {
     "name": "stdout",
     "output_type": "stream",
     "text": [
      "Number of users = 943 | Number of movies = 1682\n"
     ]
    }
   ],
   "source": [
    "n_users = df1.userid.unique().shape[0]\n",
    "n_items = df1.itemid.unique().shape[0]\n",
    "print 'Number of users = ' + str(n_users) + ' | Number of movies = ' + str(n_items)  "
   ]
  },
  {
   "cell_type": "code",
   "execution_count": 25,
   "metadata": {
    "collapsed": false
   },
   "outputs": [],
   "source": [
    "#Create two user-item matrices, one for training and another for testing\n",
    "train_data_matrix = np.zeros((n_users, n_items))\n",
    "for line in train_data.itertuples():\n",
    "    train_data_matrix[line[1]-1, line[2]-1] = line[3]  \n",
    "\n",
    "test_data_matrix = np.zeros((n_users, n_items))\n",
    "for line in test_data.itertuples():\n",
    "    test_data_matrix[line[1]-1, line[2]-1] = line[3]"
   ]
  },
  {
   "cell_type": "code",
   "execution_count": 26,
   "metadata": {
    "collapsed": true
   },
   "outputs": [],
   "source": [
    "from sklearn.metrics.pairwise import pairwise_distances\n",
    "user_similarity = pairwise_distances(train_data_matrix, metric='cosine')\n",
    "item_similarity = pairwise_distances(train_data_matrix.T, metric='cosine')\n"
   ]
  },
  {
   "cell_type": "code",
   "execution_count": 27,
   "metadata": {
    "collapsed": false
   },
   "outputs": [
    {
     "data": {
      "text/plain": [
       "array([[  0.00000000e+00,   7.20705709e-01,   7.01668384e-01, ...,\n",
       "          1.00000000e+00,   1.00000000e+00,   9.46504747e-01],\n",
       "       [  7.20705709e-01,   3.33066907e-16,   7.96730504e-01, ...,\n",
       "          1.00000000e+00,   1.00000000e+00,   9.02564530e-01],\n",
       "       [  7.01668384e-01,   7.96730504e-01,   0.00000000e+00, ...,\n",
       "          1.00000000e+00,   1.00000000e+00,   8.95107460e-01],\n",
       "       ..., \n",
       "       [  1.00000000e+00,   1.00000000e+00,   1.00000000e+00, ...,\n",
       "          0.00000000e+00,   1.00000000e+00,   1.00000000e+00],\n",
       "       [  1.00000000e+00,   1.00000000e+00,   1.00000000e+00, ...,\n",
       "          1.00000000e+00,   1.00000000e+00,   1.00000000e+00],\n",
       "       [  9.46504747e-01,   9.02564530e-01,   8.95107460e-01, ...,\n",
       "          1.00000000e+00,   1.00000000e+00,   0.00000000e+00]])"
      ]
     },
     "execution_count": 27,
     "metadata": {},
     "output_type": "execute_result"
    }
   ],
   "source": [
    "item_similarity"
   ]
  },
  {
   "cell_type": "code",
   "execution_count": 28,
   "metadata": {
    "collapsed": false
   },
   "outputs": [],
   "source": [
    "def predict(ratings, similarity, type='user'):\n",
    "    if type == 'user':\n",
    "        mean_user_rating = ratings.mean(axis=1)\n",
    "        #You use np.newaxis so that mean_user_rating has same format as ratings\n",
    "        ratings_diff = (ratings - mean_user_rating[:, np.newaxis]) \n",
    "        pred = mean_user_rating[:, np.newaxis] + similarity.dot(ratings_diff) / np.array([np.abs(similarity).sum(axis=1)]).T\n",
    "    elif type == 'item':\n",
    "        pred = ratings.dot(similarity) / np.array([np.abs(similarity).sum(axis=1)])     \n",
    "    return pred"
   ]
  },
  {
   "cell_type": "code",
   "execution_count": 29,
   "metadata": {
    "collapsed": false
   },
   "outputs": [],
   "source": [
    "item_prediction = predict(train_data_matrix, item_similarity, type='item')\n",
    "user_prediction = predict(train_data_matrix, user_similarity, type='user')"
   ]
  },
  {
   "cell_type": "code",
   "execution_count": 30,
   "metadata": {
    "collapsed": false
   },
   "outputs": [
    {
     "data": {
      "text/plain": [
       "array([[ 1.64063357,  0.54971107,  0.5185093 , ...,  0.31010091,\n",
       "         0.30755236,  0.30964338],\n",
       "       [ 1.36196382,  0.23176473,  0.16551721, ..., -0.0734258 ,\n",
       "        -0.07521922, -0.07189619],\n",
       "       [ 1.37811308,  0.19491418,  0.14071789, ..., -0.10685359,\n",
       "        -0.10842962, -0.10502381],\n",
       "       ..., \n",
       "       [ 1.23195309,  0.15959259,  0.10220474, ..., -0.12742319,\n",
       "        -0.12973088, -0.12648355],\n",
       "       [ 1.41870002,  0.26645167,  0.22625882, ..., -0.01446737,\n",
       "        -0.01659307, -0.01345373],\n",
       "       [ 1.44073657,  0.33798803,  0.30662695, ...,  0.0953558 ,\n",
       "         0.09282906,  0.0953446 ]])"
      ]
     },
     "execution_count": 30,
     "metadata": {},
     "output_type": "execute_result"
    }
   ],
   "source": [
    "user_prediction"
   ]
  },
  {
   "cell_type": "markdown",
   "metadata": {},
   "source": [
    "<b>Evaluation"
   ]
  },
  {
   "cell_type": "code",
   "execution_count": 31,
   "metadata": {
    "collapsed": true
   },
   "outputs": [],
   "source": [
    "from sklearn.metrics import mean_squared_error\n",
    "from math import sqrt\n",
    "def rmse(prediction, actual):\n",
    "    prediction = prediction[actual.nonzero()].flatten() \n",
    "    actual = actual[actual.nonzero()].flatten()\n",
    "    return sqrt(mean_squared_error(prediction, actual))"
   ]
  },
  {
   "cell_type": "code",
   "execution_count": 32,
   "metadata": {
    "collapsed": false
   },
   "outputs": [
    {
     "name": "stdout",
     "output_type": "stream",
     "text": [
      "User-based CF RMSE: 3.13126405047\n",
      "Item-based CF RMSE: 3.45734584911\n"
     ]
    }
   ],
   "source": [
    "print 'User-based CF RMSE: ' + str(rmse(user_prediction, test_data_matrix))\n",
    "print 'Item-based CF RMSE: ' + str(rmse(item_prediction, test_data_matrix))"
   ]
  },
  {
   "cell_type": "code",
   "execution_count": null,
   "metadata": {
    "collapsed": true
   },
   "outputs": [],
   "source": []
  }
 ],
 "metadata": {
  "kernelspec": {
   "display_name": "Python 2",
   "language": "python",
   "name": "python2"
  },
  "language_info": {
   "codemirror_mode": {
    "name": "ipython",
    "version": 2
   },
   "file_extension": ".py",
   "mimetype": "text/x-python",
   "name": "python",
   "nbconvert_exporter": "python",
   "pygments_lexer": "ipython2",
   "version": "2.7.11"
  }
 },
 "nbformat": 4,
 "nbformat_minor": 0
}
