{
 "cells": [
  {
   "cell_type": "markdown",
   "metadata": {},
   "source": [
    "DATA643- Project 2\n",
    "======\n",
    "Prashanth Padebetttu, Parshu Rath, Adjare Windokun\n",
    "----------\n",
    "<b> Summer 2016 <br>\n",
    "Instructor: Andrew Catlin"
   ]
  },
  {
   "cell_type": "markdown",
   "metadata": {},
   "source": [
    "<b> Load 100K movie data as pandas dataframe:"
   ]
  },
  {
   "cell_type": "code",
   "execution_count": 1,
   "metadata": {
    "collapsed": true
   },
   "outputs": [],
   "source": [
    "# Movielens data with 100,000 records"
   ]
  },
  {
   "cell_type": "code",
   "execution_count": 2,
   "metadata": {
    "collapsed": true
   },
   "outputs": [],
   "source": [
    "#Load data into a pandas dataframe\n",
    "import csv\n",
    "#import os\n",
    "import pandas as pd\n",
    "import numpy as np\n",
    "from scipy import spatial\n",
    "url = 'https://raw.githubusercontent.com/ppadebettu/CUNY/IS-607-Data-Acquisition-and-Management/IS643/Project_2/movielens.csv'\n",
    "df = pd.read_csv(url, sep = \",\" , header = 0, na_values='NaN')\n"
   ]
  },
  {
   "cell_type": "code",
   "execution_count": 3,
   "metadata": {
    "collapsed": false
   },
   "outputs": [
    {
     "data": {
      "text/html": [
       "<div>\n",
       "<table border=\"1\" class=\"dataframe\">\n",
       "  <thead>\n",
       "    <tr style=\"text-align: right;\">\n",
       "      <th></th>\n",
       "      <th>userid</th>\n",
       "      <th>age</th>\n",
       "      <th>gender</th>\n",
       "      <th>occupation</th>\n",
       "      <th>zipcode</th>\n",
       "      <th>itemid</th>\n",
       "      <th>rating</th>\n",
       "      <th>timestamp</th>\n",
       "      <th>movieid</th>\n",
       "      <th>movietitle</th>\n",
       "      <th>...</th>\n",
       "      <th>fantasy</th>\n",
       "      <th>filmnoir</th>\n",
       "      <th>horror</th>\n",
       "      <th>musical</th>\n",
       "      <th>mystery</th>\n",
       "      <th>romance</th>\n",
       "      <th>scifi</th>\n",
       "      <th>thriller</th>\n",
       "      <th>war</th>\n",
       "      <th>western</th>\n",
       "    </tr>\n",
       "  </thead>\n",
       "  <tbody>\n",
       "    <tr>\n",
       "      <th>0</th>\n",
       "      <td>196</td>\n",
       "      <td>49</td>\n",
       "      <td>M</td>\n",
       "      <td>writer</td>\n",
       "      <td>55105</td>\n",
       "      <td>242</td>\n",
       "      <td>3</td>\n",
       "      <td>881250949</td>\n",
       "      <td>242</td>\n",
       "      <td>Kolya (1996)</td>\n",
       "      <td>...</td>\n",
       "      <td>0</td>\n",
       "      <td>0</td>\n",
       "      <td>0</td>\n",
       "      <td>0</td>\n",
       "      <td>0</td>\n",
       "      <td>0</td>\n",
       "      <td>0</td>\n",
       "      <td>0</td>\n",
       "      <td>0</td>\n",
       "      <td>0</td>\n",
       "    </tr>\n",
       "    <tr>\n",
       "      <th>1</th>\n",
       "      <td>186</td>\n",
       "      <td>39</td>\n",
       "      <td>F</td>\n",
       "      <td>executive</td>\n",
       "      <td>00000</td>\n",
       "      <td>302</td>\n",
       "      <td>3</td>\n",
       "      <td>891717742</td>\n",
       "      <td>302</td>\n",
       "      <td>L.A. Confidential (1997)</td>\n",
       "      <td>...</td>\n",
       "      <td>0</td>\n",
       "      <td>1</td>\n",
       "      <td>0</td>\n",
       "      <td>0</td>\n",
       "      <td>1</td>\n",
       "      <td>0</td>\n",
       "      <td>0</td>\n",
       "      <td>1</td>\n",
       "      <td>0</td>\n",
       "      <td>0</td>\n",
       "    </tr>\n",
       "    <tr>\n",
       "      <th>2</th>\n",
       "      <td>22</td>\n",
       "      <td>25</td>\n",
       "      <td>M</td>\n",
       "      <td>writer</td>\n",
       "      <td>40206</td>\n",
       "      <td>377</td>\n",
       "      <td>1</td>\n",
       "      <td>878887116</td>\n",
       "      <td>377</td>\n",
       "      <td>Heavyweights (1994)</td>\n",
       "      <td>...</td>\n",
       "      <td>0</td>\n",
       "      <td>0</td>\n",
       "      <td>0</td>\n",
       "      <td>0</td>\n",
       "      <td>0</td>\n",
       "      <td>0</td>\n",
       "      <td>0</td>\n",
       "      <td>0</td>\n",
       "      <td>0</td>\n",
       "      <td>0</td>\n",
       "    </tr>\n",
       "    <tr>\n",
       "      <th>3</th>\n",
       "      <td>244</td>\n",
       "      <td>28</td>\n",
       "      <td>M</td>\n",
       "      <td>technician</td>\n",
       "      <td>80525</td>\n",
       "      <td>51</td>\n",
       "      <td>2</td>\n",
       "      <td>880606923</td>\n",
       "      <td>51</td>\n",
       "      <td>Legends of the Fall (1994)</td>\n",
       "      <td>...</td>\n",
       "      <td>0</td>\n",
       "      <td>0</td>\n",
       "      <td>0</td>\n",
       "      <td>0</td>\n",
       "      <td>0</td>\n",
       "      <td>1</td>\n",
       "      <td>0</td>\n",
       "      <td>0</td>\n",
       "      <td>1</td>\n",
       "      <td>1</td>\n",
       "    </tr>\n",
       "    <tr>\n",
       "      <th>4</th>\n",
       "      <td>166</td>\n",
       "      <td>47</td>\n",
       "      <td>M</td>\n",
       "      <td>educator</td>\n",
       "      <td>55113</td>\n",
       "      <td>346</td>\n",
       "      <td>1</td>\n",
       "      <td>886397596</td>\n",
       "      <td>346</td>\n",
       "      <td>Jackie Brown (1997)</td>\n",
       "      <td>...</td>\n",
       "      <td>0</td>\n",
       "      <td>0</td>\n",
       "      <td>0</td>\n",
       "      <td>0</td>\n",
       "      <td>0</td>\n",
       "      <td>0</td>\n",
       "      <td>0</td>\n",
       "      <td>0</td>\n",
       "      <td>0</td>\n",
       "      <td>0</td>\n",
       "    </tr>\n",
       "  </tbody>\n",
       "</table>\n",
       "<p>5 rows × 32 columns</p>\n",
       "</div>"
      ],
      "text/plain": [
       "   userid  age gender  occupation zipcode  itemid  rating  timestamp  movieid  \\\n",
       "0     196   49      M      writer   55105     242       3  881250949      242   \n",
       "1     186   39      F   executive   00000     302       3  891717742      302   \n",
       "2      22   25      M      writer   40206     377       1  878887116      377   \n",
       "3     244   28      M  technician   80525      51       2  880606923       51   \n",
       "4     166   47      M    educator   55113     346       1  886397596      346   \n",
       "\n",
       "                   movietitle   ...    fantasy  filmnoir horror  musical  \\\n",
       "0                Kolya (1996)   ...          0         0      0        0   \n",
       "1    L.A. Confidential (1997)   ...          0         1      0        0   \n",
       "2         Heavyweights (1994)   ...          0         0      0        0   \n",
       "3  Legends of the Fall (1994)   ...          0         0      0        0   \n",
       "4         Jackie Brown (1997)   ...          0         0      0        0   \n",
       "\n",
       "   mystery  romance  scifi  thriller  war  western  \n",
       "0        0        0      0         0    0        0  \n",
       "1        1        0      0         1    0        0  \n",
       "2        0        0      0         0    0        0  \n",
       "3        0        1      0         0    1        1  \n",
       "4        0        0      0         0    0        0  \n",
       "\n",
       "[5 rows x 32 columns]"
      ]
     },
     "execution_count": 3,
     "metadata": {},
     "output_type": "execute_result"
    }
   ],
   "source": [
    "df.head()"
   ]
  },
  {
   "cell_type": "markdown",
   "metadata": {},
   "source": [
    "<b>Load 100K movie data as dictionary:"
   ]
  },
  {
   "cell_type": "code",
   "execution_count": 24,
   "metadata": {
    "collapsed": false
   },
   "outputs": [],
   "source": [
    "# Get movie titles\n",
    "#url = 'https://raw.githubusercontent.com/prcuny/DATA643/master/Project-2/'\n",
    "movies={}\n",
    "#for line in open(url+'u.item', 'r'):  #does not work yet\n",
    "for line in open('u.item'):    \n",
    "    (id,title)=line.split('|')[0:2]\n",
    "    movies[id]=title\n"
   ]
  },
  {
   "cell_type": "code",
   "execution_count": 26,
   "metadata": {
    "collapsed": false
   },
   "outputs": [],
   "source": [
    "# Load user ratings\n",
    "mdict={}\n",
    "for line in open('u.data'):\n",
    "   (user,movieid,rating,ts)=line.split('\\t')\n",
    "   mdict.setdefault(user,{})\n",
    "   mdict[user][movies[movieid]]=float(rating)\n"
   ]
  },
  {
   "cell_type": "markdown",
   "metadata": {},
   "source": [
    "Check to see what all the movies user '20' has rated."
   ]
  },
  {
   "cell_type": "code",
   "execution_count": 37,
   "metadata": {
    "collapsed": false
   },
   "outputs": [
    {
     "data": {
      "text/plain": [
       "{'African Queen, The (1951)': 3.0,\n",
       " 'Aladdin (1992)': 3.0,\n",
       " 'Aliens (1986)': 2.0,\n",
       " 'Back to the Future (1985)': 3.0,\n",
       " 'Beauty and the Beast (1991)': 4.0,\n",
       " 'Blues Brothers, The (1980)': 3.0,\n",
       " 'Braveheart (1995)': 5.0,\n",
       " 'Christmas Carol, A (1938)': 4.0,\n",
       " \"Dante's Peak (1997)\": 4.0,\n",
       " 'Die Hard (1988)': 2.0,\n",
       " 'E.T. the Extra-Terrestrial (1982)': 2.0,\n",
       " 'Empire Strikes Back, The (1980)': 3.0,\n",
       " 'Eraser (1996)': 3.0,\n",
       " 'Forrest Gump (1994)': 1.0,\n",
       " 'Ghost and the Darkness, The (1996)': 5.0,\n",
       " 'Happy Gilmore (1996)': 1.0,\n",
       " 'Home Alone (1990)': 2.0,\n",
       " 'Independence Day (ID4) (1996)': 3.0,\n",
       " 'Indiana Jones and the Last Crusade (1989)': 4.0,\n",
       " 'Island of Dr. Moreau, The (1996)': 1.0,\n",
       " \"It's a Wonderful Life (1946)\": 5.0,\n",
       " 'Jungle2Jungle (1997)': 4.0,\n",
       " 'Jurassic Park (1993)': 4.0,\n",
       " 'Lost World: Jurassic Park, The (1997)': 4.0,\n",
       " 'Michael (1996)': 1.0,\n",
       " 'Miracle on 34th Street (1994)': 3.0,\n",
       " 'Mission: Impossible (1996)': 3.0,\n",
       " \"Mr. Holland's Opus (1995)\": 4.0,\n",
       " \"One Flew Over the Cuckoo's Nest (1975)\": 1.0,\n",
       " \"Preacher's Wife, The (1996)\": 4.0,\n",
       " 'Raiders of the Lost Ark (1981)': 4.0,\n",
       " 'Ransom (1996)': 4.0,\n",
       " 'Return of the Jedi (1983)': 4.0,\n",
       " 'Sabrina (1995)': 4.0,\n",
       " 'Scream (1996)': 1.0,\n",
       " 'Searching for Bobby Fischer (1993)': 5.0,\n",
       " 'Seven (Se7en) (1995)': 2.0,\n",
       " 'Silence of the Lambs, The (1991)': 3.0,\n",
       " 'Sound of Music, The (1965)': 3.0,\n",
       " 'Space Jam (1996)': 2.0,\n",
       " 'Speed (1994)': 4.0,\n",
       " 'Star Wars (1977)': 3.0,\n",
       " 'Sting, The (1973)': 3.0,\n",
       " 'Toy Story (1995)': 3.0,\n",
       " 'Twister (1996)': 4.0,\n",
       " 'Volcano (1997)': 4.0,\n",
       " 'Willy Wonka and the Chocolate Factory (1971)': 3.0,\n",
       " 'Young Frankenstein (1974)': 2.0}"
      ]
     },
     "execution_count": 37,
     "metadata": {},
     "output_type": "execute_result"
    }
   ],
   "source": [
    "mdict['20']"
   ]
  },
  {
   "cell_type": "code",
   "execution_count": null,
   "metadata": {
    "collapsed": true
   },
   "outputs": [],
   "source": []
  }
 ],
 "metadata": {
  "kernelspec": {
   "display_name": "Python 2",
   "language": "python",
   "name": "python2"
  },
  "language_info": {
   "codemirror_mode": {
    "name": "ipython",
    "version": 2
   },
   "file_extension": ".py",
   "mimetype": "text/x-python",
   "name": "python",
   "nbconvert_exporter": "python",
   "pygments_lexer": "ipython2",
   "version": "2.7.11"
  }
 },
 "nbformat": 4,
 "nbformat_minor": 0
}
