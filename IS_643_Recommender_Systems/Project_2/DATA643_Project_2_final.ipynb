{
 "cells": [
  {
   "cell_type": "markdown",
   "metadata": {},
   "source": [
    "DATA643- Project 2\n",
    "======\n",
    "Prashanth Padebetttu, Parshu Rath, Adjare Windokun, Xingjia Wu\n",
    "----------\n",
    "<b> Summer 2016 <br>\n",
    "Instructor: Andrew Catlin"
   ]
  },
  {
   "cell_type": "markdown",
   "metadata": {},
   "source": [
    "Load Movielens Data\n",
    "-------\n",
    "<b> Load 100K movie data as pandas dataframe:"
   ]
  },
  {
   "cell_type": "code",
   "execution_count": 1,
   "metadata": {
    "collapsed": true
   },
   "outputs": [],
   "source": [
    "# Required Python Packages\n",
    "from math import sqrt\n",
    "from sklearn.metrics.pairwise import cosine_similarity\n",
    "import csv\n",
    "import pandas as pd\n",
    "import numpy as np\n",
    "from scipy import spatial"
   ]
  },
  {
   "cell_type": "code",
   "execution_count": 2,
   "metadata": {
    "collapsed": false
   },
   "outputs": [],
   "source": [
    "#Load data into a pandas dataframe\n",
    "# Movielens data with 100,000 records\n",
    "url = 'https://raw.githubusercontent.com/ppadebettu/CUNY/IS-607-Data-Acquisition-and-Management/IS643/Project_2/movielens.csv'\n",
    "df = pd.read_csv(url, sep = \",\" , header = 0, na_values='NaN')\n"
   ]
  },
  {
   "cell_type": "code",
   "execution_count": 3,
   "metadata": {
    "collapsed": false
   },
   "outputs": [],
   "source": [
    "#Check columns\n",
    "#df.columns"
   ]
  },
  {
   "cell_type": "markdown",
   "metadata": {},
   "source": [
    "<b>Some data exploration:"
   ]
  },
  {
   "cell_type": "code",
   "execution_count": 4,
   "metadata": {
    "collapsed": false
   },
   "outputs": [
    {
     "data": {
      "text/plain": [
       "movietitle\n",
       "Star Wars (1977)                 583\n",
       "Contact (1997)                   509\n",
       "Fargo (1996)                     508\n",
       "Return of the Jedi (1983)        507\n",
       "Liar Liar (1997)                 485\n",
       "English Patient, The (1996)      481\n",
       "Scream (1996)                    478\n",
       "Toy Story (1995)                 452\n",
       "Air Force One (1997)             431\n",
       "Independence Day (ID4) (1996)    429\n",
       "dtype: int64"
      ]
     },
     "execution_count": 4,
     "metadata": {},
     "output_type": "execute_result"
    }
   ],
   "source": [
    "#What are the 10 most rated movies?\n",
    "most_rated = df.groupby('movietitle').size().sort_values(ascending=False)[:10]\n",
    "most_rated"
   ]
  },
  {
   "cell_type": "code",
   "execution_count": 5,
   "metadata": {
    "collapsed": false
   },
   "outputs": [
    {
     "data": {
      "text/html": [
       "<div>\n",
       "<table border=\"1\" class=\"dataframe\">\n",
       "  <thead>\n",
       "    <tr>\n",
       "      <th></th>\n",
       "      <th colspan=\"2\" halign=\"left\">rating</th>\n",
       "    </tr>\n",
       "    <tr>\n",
       "      <th></th>\n",
       "      <th>size</th>\n",
       "      <th>mean</th>\n",
       "    </tr>\n",
       "    <tr>\n",
       "      <th>movietitle</th>\n",
       "      <th></th>\n",
       "      <th></th>\n",
       "    </tr>\n",
       "  </thead>\n",
       "  <tbody>\n",
       "    <tr>\n",
       "      <th>'Til There Was You (1997)</th>\n",
       "      <td>9</td>\n",
       "      <td>2.333333</td>\n",
       "    </tr>\n",
       "    <tr>\n",
       "      <th>1-900 (1994)</th>\n",
       "      <td>5</td>\n",
       "      <td>2.600000</td>\n",
       "    </tr>\n",
       "    <tr>\n",
       "      <th>101 Dalmatians (1996)</th>\n",
       "      <td>109</td>\n",
       "      <td>2.908257</td>\n",
       "    </tr>\n",
       "    <tr>\n",
       "      <th>12 Angry Men (1957)</th>\n",
       "      <td>125</td>\n",
       "      <td>4.344000</td>\n",
       "    </tr>\n",
       "    <tr>\n",
       "      <th>187 (1997)</th>\n",
       "      <td>41</td>\n",
       "      <td>3.024390</td>\n",
       "    </tr>\n",
       "  </tbody>\n",
       "</table>\n",
       "</div>"
      ],
      "text/plain": [
       "                          rating          \n",
       "                            size      mean\n",
       "movietitle                                \n",
       "'Til There Was You (1997)      9  2.333333\n",
       "1-900 (1994)                   5  2.600000\n",
       "101 Dalmatians (1996)        109  2.908257\n",
       "12 Angry Men (1957)          125  4.344000\n",
       "187 (1997)                    41  3.024390"
      ]
     },
     "execution_count": 5,
     "metadata": {},
     "output_type": "execute_result"
    }
   ],
   "source": [
    "#Which movies are highly rated?\n",
    "movie_stats = df.groupby('movietitle').agg({'rating': [np.size, np.mean]})\n",
    "movie_stats.head()\n",
    "\n"
   ]
  },
  {
   "cell_type": "code",
   "execution_count": 6,
   "metadata": {
    "collapsed": false
   },
   "outputs": [
    {
     "data": {
      "text/html": [
       "<div>\n",
       "<table border=\"1\" class=\"dataframe\">\n",
       "  <thead>\n",
       "    <tr>\n",
       "      <th></th>\n",
       "      <th colspan=\"2\" halign=\"left\">rating</th>\n",
       "    </tr>\n",
       "    <tr>\n",
       "      <th></th>\n",
       "      <th>size</th>\n",
       "      <th>mean</th>\n",
       "    </tr>\n",
       "    <tr>\n",
       "      <th>movietitle</th>\n",
       "      <th></th>\n",
       "      <th></th>\n",
       "    </tr>\n",
       "  </thead>\n",
       "  <tbody>\n",
       "    <tr>\n",
       "      <th>Aiqing wansui (1994)</th>\n",
       "      <td>1</td>\n",
       "      <td>5.0</td>\n",
       "    </tr>\n",
       "    <tr>\n",
       "      <th>Prefontaine (1997)</th>\n",
       "      <td>3</td>\n",
       "      <td>5.0</td>\n",
       "    </tr>\n",
       "    <tr>\n",
       "      <th>Entertaining Angels: The Dorothy Day Story (1996)</th>\n",
       "      <td>1</td>\n",
       "      <td>5.0</td>\n",
       "    </tr>\n",
       "    <tr>\n",
       "      <th>Star Kid (1997)</th>\n",
       "      <td>3</td>\n",
       "      <td>5.0</td>\n",
       "    </tr>\n",
       "    <tr>\n",
       "      <th>Saint of Fort Washington, The (1993)</th>\n",
       "      <td>2</td>\n",
       "      <td>5.0</td>\n",
       "    </tr>\n",
       "  </tbody>\n",
       "</table>\n",
       "</div>"
      ],
      "text/plain": [
       "                                                  rating     \n",
       "                                                    size mean\n",
       "movietitle                                                   \n",
       "Aiqing wansui (1994)                                   1  5.0\n",
       "Prefontaine (1997)                                     3  5.0\n",
       "Entertaining Angels: The Dorothy Day Story (1996)      1  5.0\n",
       "Star Kid (1997)                                        3  5.0\n",
       "Saint of Fort Washington, The (1993)                   2  5.0"
      ]
     },
     "execution_count": 6,
     "metadata": {},
     "output_type": "execute_result"
    }
   ],
   "source": [
    "#Sort by movie rating average\n",
    "movie_stats.sort_values([('rating', 'mean')], ascending=False).head()"
   ]
  },
  {
   "cell_type": "code",
   "execution_count": 7,
   "metadata": {
    "collapsed": false
   },
   "outputs": [
    {
     "data": {
      "text/html": [
       "<div>\n",
       "<table border=\"1\" class=\"dataframe\">\n",
       "  <thead>\n",
       "    <tr>\n",
       "      <th></th>\n",
       "      <th colspan=\"2\" halign=\"left\">rating</th>\n",
       "    </tr>\n",
       "    <tr>\n",
       "      <th></th>\n",
       "      <th>size</th>\n",
       "      <th>mean</th>\n",
       "    </tr>\n",
       "    <tr>\n",
       "      <th>movietitle</th>\n",
       "      <th></th>\n",
       "      <th></th>\n",
       "    </tr>\n",
       "  </thead>\n",
       "  <tbody>\n",
       "    <tr>\n",
       "      <th>Close Shave, A (1995)</th>\n",
       "      <td>112</td>\n",
       "      <td>4.491071</td>\n",
       "    </tr>\n",
       "    <tr>\n",
       "      <th>Schindler's List (1993)</th>\n",
       "      <td>298</td>\n",
       "      <td>4.466443</td>\n",
       "    </tr>\n",
       "    <tr>\n",
       "      <th>Wrong Trousers, The (1993)</th>\n",
       "      <td>118</td>\n",
       "      <td>4.466102</td>\n",
       "    </tr>\n",
       "    <tr>\n",
       "      <th>Casablanca (1942)</th>\n",
       "      <td>243</td>\n",
       "      <td>4.456790</td>\n",
       "    </tr>\n",
       "    <tr>\n",
       "      <th>Shawshank Redemption, The (1994)</th>\n",
       "      <td>283</td>\n",
       "      <td>4.445230</td>\n",
       "    </tr>\n",
       "  </tbody>\n",
       "</table>\n",
       "</div>"
      ],
      "text/plain": [
       "                                 rating          \n",
       "                                   size      mean\n",
       "movietitle                                       \n",
       "Close Shave, A (1995)               112  4.491071\n",
       "Schindler's List (1993)             298  4.466443\n",
       "Wrong Trousers, The (1993)          118  4.466102\n",
       "Casablanca (1942)                   243  4.456790\n",
       "Shawshank Redemption, The (1994)    283  4.445230"
      ]
     },
     "execution_count": 7,
     "metadata": {},
     "output_type": "execute_result"
    }
   ],
   "source": [
    "#Movies that have been rated at least 100 times.\n",
    "atleast_100 = movie_stats['rating']['size'] >= 100\n",
    "movie_stats[atleast_100].sort_values([('rating', 'mean')], ascending=False)[:5]"
   ]
  },
  {
   "cell_type": "code",
   "execution_count": 8,
   "metadata": {
    "collapsed": false
   },
   "outputs": [
    {
     "data": {
      "text/html": [
       "<div>\n",
       "<table border=\"1\" class=\"dataframe\">\n",
       "  <thead>\n",
       "    <tr>\n",
       "      <th></th>\n",
       "      <th colspan=\"2\" halign=\"left\">rating</th>\n",
       "    </tr>\n",
       "    <tr>\n",
       "      <th></th>\n",
       "      <th>size</th>\n",
       "      <th>mean</th>\n",
       "    </tr>\n",
       "    <tr>\n",
       "      <th>movietitle</th>\n",
       "      <th></th>\n",
       "      <th></th>\n",
       "    </tr>\n",
       "  </thead>\n",
       "  <tbody>\n",
       "    <tr>\n",
       "      <th>Marlene Dietrich: Shadow and Light (1996)</th>\n",
       "      <td>1</td>\n",
       "      <td>5.0</td>\n",
       "    </tr>\n",
       "    <tr>\n",
       "      <th>Great Day in Harlem, A (1994)</th>\n",
       "      <td>1</td>\n",
       "      <td>5.0</td>\n",
       "    </tr>\n",
       "    <tr>\n",
       "      <th>Prefontaine (1997)</th>\n",
       "      <td>3</td>\n",
       "      <td>5.0</td>\n",
       "    </tr>\n",
       "    <tr>\n",
       "      <th>Star Kid (1997)</th>\n",
       "      <td>3</td>\n",
       "      <td>5.0</td>\n",
       "    </tr>\n",
       "    <tr>\n",
       "      <th>Someone Else's America (1995)</th>\n",
       "      <td>1</td>\n",
       "      <td>5.0</td>\n",
       "    </tr>\n",
       "  </tbody>\n",
       "</table>\n",
       "</div>"
      ],
      "text/plain": [
       "                                          rating     \n",
       "                                            size mean\n",
       "movietitle                                           \n",
       "Marlene Dietrich: Shadow and Light (1996)      1  5.0\n",
       "Great Day in Harlem, A (1994)                  1  5.0\n",
       "Prefontaine (1997)                             3  5.0\n",
       "Star Kid (1997)                                3  5.0\n",
       "Someone Else's America (1995)                  1  5.0"
      ]
     },
     "execution_count": 8,
     "metadata": {},
     "output_type": "execute_result"
    }
   ],
   "source": [
    "atmost_5 = movie_stats['rating']['size'] <= 5\n",
    "movie_stats[atmost_5].sort_values([('rating', 'mean')], ascending=False)[:5]"
   ]
  },
  {
   "cell_type": "markdown",
   "metadata": {},
   "source": [
    "<b> Load 100K movie data as Python dictionary:"
   ]
  },
  {
   "cell_type": "code",
   "execution_count": 9,
   "metadata": {
    "collapsed": false
   },
   "outputs": [],
   "source": [
    "# Get movie titles\n",
    "import urllib2\n",
    "url = 'https://raw.githubusercontent.com/prcuny/DATA643/master/Project-2/'\n",
    "movies={}\n",
    "response = urllib2.urlopen(url + 'u.item')\n",
    "for line in response:    \n",
    "        (id,title)=line.split('|')[0:2]\n",
    "        movies[id]=title\n"
   ]
  },
  {
   "cell_type": "code",
   "execution_count": 10,
   "metadata": {
    "collapsed": false
   },
   "outputs": [],
   "source": [
    "# Load user ratings\n",
    "mdict={}\n",
    "response = urllib2.urlopen(url + 'u.data')\n",
    "for line in response:\n",
    "       (user,movieid,rating,ts)=line.split('\\t')\n",
    "       mdict.setdefault(user,{})\n",
    "       mdict[user][movies[movieid]]=float(rating)\n"
   ]
  },
  {
   "cell_type": "markdown",
   "metadata": {},
   "source": [
    "\n",
    "<b>Some data exploration:\n",
    "</b><br>\n",
    "Print first 2 users and ratings"
   ]
  },
  {
   "cell_type": "code",
   "execution_count": 11,
   "metadata": {
    "collapsed": false
   },
   "outputs": [],
   "source": [
    "#Adapted from http://stackoverflow.com/questions/7971618/python-return-first-n-keyvalue-pairs-from-dict\n",
    "from itertools import islice\n",
    "def take(n, iterable):\n",
    "    \"Return first n items of the iterable as a list\"\n",
    "    return list(islice(iterable, n ))\n",
    "#take(2, mdict.iteritems())  \n",
    "#Too Long output. \n",
    "#Try to output one user's ratings instead\n",
    "#user '20' and ratings\n",
    "#mdict['20']\n"
   ]
  },
  {
   "cell_type": "markdown",
   "metadata": {},
   "source": [
    "\n",
    "<b> Generate dataframe from dictionary"
   ]
  },
  {
   "cell_type": "code",
   "execution_count": 12,
   "metadata": {
    "collapsed": false
   },
   "outputs": [
    {
     "data": {
      "text/html": [
       "<div>\n",
       "<table border=\"1\" class=\"dataframe\">\n",
       "  <thead>\n",
       "    <tr style=\"text-align: right;\">\n",
       "      <th></th>\n",
       "      <th>Birdcage, The (1996)</th>\n",
       "      <th>Enchanted April (1991)</th>\n",
       "      <th>Diabolique (1996)</th>\n",
       "      <th>Face/Off (1997)</th>\n",
       "      <th>My Fellow Americans (1996)</th>\n",
       "      <th>In the Line of Fire (1993)</th>\n",
       "      <th>Murder at 1600 (1997)</th>\n",
       "      <th>Star Trek: The Wrath of Khan (1982)</th>\n",
       "      <th>Grosse Pointe Blank (1997)</th>\n",
       "      <th>Courage Under Fire (1996)</th>\n",
       "      <th>...</th>\n",
       "      <th>Raw Deal (1948)</th>\n",
       "      <th>Shopping (1994)</th>\n",
       "      <th>Nemesis 2: Nebula (1995)</th>\n",
       "      <th>Wings of Courage (1995)</th>\n",
       "      <th>Mad Dog Time (1996)</th>\n",
       "      <th>Mamma Roma (1962)</th>\n",
       "      <th>New Age, The (1994)</th>\n",
       "      <th>Target (1995)</th>\n",
       "      <th>Johns (1996)</th>\n",
       "      <th>Tokyo Fist (1995)</th>\n",
       "    </tr>\n",
       "  </thead>\n",
       "  <tbody>\n",
       "    <tr>\n",
       "      <th>1</th>\n",
       "      <td>4.0</td>\n",
       "      <td>NaN</td>\n",
       "      <td>4.0</td>\n",
       "      <td>NaN</td>\n",
       "      <td>NaN</td>\n",
       "      <td>NaN</td>\n",
       "      <td>NaN</td>\n",
       "      <td>5.0</td>\n",
       "      <td>4.0</td>\n",
       "      <td>NaN</td>\n",
       "      <td>...</td>\n",
       "      <td>NaN</td>\n",
       "      <td>NaN</td>\n",
       "      <td>NaN</td>\n",
       "      <td>NaN</td>\n",
       "      <td>NaN</td>\n",
       "      <td>NaN</td>\n",
       "      <td>NaN</td>\n",
       "      <td>NaN</td>\n",
       "      <td>NaN</td>\n",
       "      <td>NaN</td>\n",
       "    </tr>\n",
       "    <tr>\n",
       "      <th>10</th>\n",
       "      <td>NaN</td>\n",
       "      <td>5.0</td>\n",
       "      <td>NaN</td>\n",
       "      <td>NaN</td>\n",
       "      <td>NaN</td>\n",
       "      <td>NaN</td>\n",
       "      <td>NaN</td>\n",
       "      <td>NaN</td>\n",
       "      <td>NaN</td>\n",
       "      <td>NaN</td>\n",
       "      <td>...</td>\n",
       "      <td>NaN</td>\n",
       "      <td>NaN</td>\n",
       "      <td>NaN</td>\n",
       "      <td>NaN</td>\n",
       "      <td>NaN</td>\n",
       "      <td>NaN</td>\n",
       "      <td>NaN</td>\n",
       "      <td>NaN</td>\n",
       "      <td>NaN</td>\n",
       "      <td>NaN</td>\n",
       "    </tr>\n",
       "    <tr>\n",
       "      <th>100</th>\n",
       "      <td>NaN</td>\n",
       "      <td>NaN</td>\n",
       "      <td>NaN</td>\n",
       "      <td>NaN</td>\n",
       "      <td>NaN</td>\n",
       "      <td>NaN</td>\n",
       "      <td>NaN</td>\n",
       "      <td>NaN</td>\n",
       "      <td>NaN</td>\n",
       "      <td>NaN</td>\n",
       "      <td>...</td>\n",
       "      <td>NaN</td>\n",
       "      <td>NaN</td>\n",
       "      <td>NaN</td>\n",
       "      <td>NaN</td>\n",
       "      <td>NaN</td>\n",
       "      <td>NaN</td>\n",
       "      <td>NaN</td>\n",
       "      <td>NaN</td>\n",
       "      <td>NaN</td>\n",
       "      <td>NaN</td>\n",
       "    </tr>\n",
       "    <tr>\n",
       "      <th>101</th>\n",
       "      <td>NaN</td>\n",
       "      <td>NaN</td>\n",
       "      <td>NaN</td>\n",
       "      <td>NaN</td>\n",
       "      <td>NaN</td>\n",
       "      <td>NaN</td>\n",
       "      <td>NaN</td>\n",
       "      <td>NaN</td>\n",
       "      <td>NaN</td>\n",
       "      <td>3.0</td>\n",
       "      <td>...</td>\n",
       "      <td>NaN</td>\n",
       "      <td>NaN</td>\n",
       "      <td>NaN</td>\n",
       "      <td>NaN</td>\n",
       "      <td>NaN</td>\n",
       "      <td>NaN</td>\n",
       "      <td>NaN</td>\n",
       "      <td>NaN</td>\n",
       "      <td>NaN</td>\n",
       "      <td>NaN</td>\n",
       "    </tr>\n",
       "    <tr>\n",
       "      <th>102</th>\n",
       "      <td>NaN</td>\n",
       "      <td>NaN</td>\n",
       "      <td>NaN</td>\n",
       "      <td>3.0</td>\n",
       "      <td>NaN</td>\n",
       "      <td>2.0</td>\n",
       "      <td>3.0</td>\n",
       "      <td>4.0</td>\n",
       "      <td>3.0</td>\n",
       "      <td>NaN</td>\n",
       "      <td>...</td>\n",
       "      <td>NaN</td>\n",
       "      <td>NaN</td>\n",
       "      <td>NaN</td>\n",
       "      <td>NaN</td>\n",
       "      <td>NaN</td>\n",
       "      <td>NaN</td>\n",
       "      <td>NaN</td>\n",
       "      <td>NaN</td>\n",
       "      <td>NaN</td>\n",
       "      <td>NaN</td>\n",
       "    </tr>\n",
       "  </tbody>\n",
       "</table>\n",
       "<p>5 rows × 1664 columns</p>\n",
       "</div>"
      ],
      "text/plain": [
       "     Birdcage, The (1996)  Enchanted April (1991)  Diabolique (1996)  \\\n",
       "1                     4.0                     NaN                4.0   \n",
       "10                    NaN                     5.0                NaN   \n",
       "100                   NaN                     NaN                NaN   \n",
       "101                   NaN                     NaN                NaN   \n",
       "102                   NaN                     NaN                NaN   \n",
       "\n",
       "     Face/Off (1997)  My Fellow Americans (1996)  In the Line of Fire (1993)  \\\n",
       "1                NaN                         NaN                         NaN   \n",
       "10               NaN                         NaN                         NaN   \n",
       "100              NaN                         NaN                         NaN   \n",
       "101              NaN                         NaN                         NaN   \n",
       "102              3.0                         NaN                         2.0   \n",
       "\n",
       "     Murder at 1600 (1997)  Star Trek: The Wrath of Khan (1982)  \\\n",
       "1                      NaN                                  5.0   \n",
       "10                     NaN                                  NaN   \n",
       "100                    NaN                                  NaN   \n",
       "101                    NaN                                  NaN   \n",
       "102                    3.0                                  4.0   \n",
       "\n",
       "     Grosse Pointe Blank (1997)  Courage Under Fire (1996)        ...          \\\n",
       "1                           4.0                        NaN        ...           \n",
       "10                          NaN                        NaN        ...           \n",
       "100                         NaN                        NaN        ...           \n",
       "101                         NaN                        3.0        ...           \n",
       "102                         3.0                        NaN        ...           \n",
       "\n",
       "     Raw Deal (1948)  Shopping (1994)  Nemesis 2: Nebula (1995)  \\\n",
       "1                NaN              NaN                       NaN   \n",
       "10               NaN              NaN                       NaN   \n",
       "100              NaN              NaN                       NaN   \n",
       "101              NaN              NaN                       NaN   \n",
       "102              NaN              NaN                       NaN   \n",
       "\n",
       "     Wings of Courage (1995)  Mad Dog Time (1996)  Mamma Roma (1962)  \\\n",
       "1                        NaN                  NaN                NaN   \n",
       "10                       NaN                  NaN                NaN   \n",
       "100                      NaN                  NaN                NaN   \n",
       "101                      NaN                  NaN                NaN   \n",
       "102                      NaN                  NaN                NaN   \n",
       "\n",
       "     New Age, The (1994)  Target (1995)  Johns (1996)  Tokyo Fist (1995)  \n",
       "1                    NaN            NaN           NaN                NaN  \n",
       "10                   NaN            NaN           NaN                NaN  \n",
       "100                  NaN            NaN           NaN                NaN  \n",
       "101                  NaN            NaN           NaN                NaN  \n",
       "102                  NaN            NaN           NaN                NaN  \n",
       "\n",
       "[5 rows x 1664 columns]"
      ]
     },
     "execution_count": 12,
     "metadata": {},
     "output_type": "execute_result"
    }
   ],
   "source": [
    "df_fromDict = pd.DataFrame.from_dict(mdict, orient='index')\n",
    "df_fromDict.head()"
   ]
  },
  {
   "cell_type": "markdown",
   "metadata": {},
   "source": [
    "### Normalization with center mean"
   ]
  },
  {
   "cell_type": "markdown",
   "metadata": {},
   "source": [
    "- Normalized dataframe and fill NaN with 0"
   ]
  },
  {
   "cell_type": "code",
   "execution_count": 13,
   "metadata": {
    "collapsed": false
   },
   "outputs": [],
   "source": [
    "df_norm1 = df_fromDict.apply(lambda x: x - x.mean(), axis =1) # row-wise operation"
   ]
  },
  {
   "cell_type": "code",
   "execution_count": 14,
   "metadata": {
    "collapsed": false
   },
   "outputs": [
    {
     "data": {
      "text/html": [
       "<div>\n",
       "<table border=\"1\" class=\"dataframe\">\n",
       "  <thead>\n",
       "    <tr style=\"text-align: right;\">\n",
       "      <th></th>\n",
       "      <th>Birdcage, The (1996)</th>\n",
       "      <th>Enchanted April (1991)</th>\n",
       "      <th>Diabolique (1996)</th>\n",
       "      <th>Face/Off (1997)</th>\n",
       "      <th>My Fellow Americans (1996)</th>\n",
       "      <th>In the Line of Fire (1993)</th>\n",
       "      <th>Murder at 1600 (1997)</th>\n",
       "      <th>Star Trek: The Wrath of Khan (1982)</th>\n",
       "      <th>Grosse Pointe Blank (1997)</th>\n",
       "      <th>Courage Under Fire (1996)</th>\n",
       "      <th>...</th>\n",
       "      <th>Raw Deal (1948)</th>\n",
       "      <th>Shopping (1994)</th>\n",
       "      <th>Nemesis 2: Nebula (1995)</th>\n",
       "      <th>Wings of Courage (1995)</th>\n",
       "      <th>Mad Dog Time (1996)</th>\n",
       "      <th>Mamma Roma (1962)</th>\n",
       "      <th>New Age, The (1994)</th>\n",
       "      <th>Target (1995)</th>\n",
       "      <th>Johns (1996)</th>\n",
       "      <th>Tokyo Fist (1995)</th>\n",
       "    </tr>\n",
       "  </thead>\n",
       "  <tbody>\n",
       "    <tr>\n",
       "      <th>1</th>\n",
       "      <td>0.394834</td>\n",
       "      <td>0.000000</td>\n",
       "      <td>0.394834</td>\n",
       "      <td>0.000000</td>\n",
       "      <td>0.0</td>\n",
       "      <td>0.000000</td>\n",
       "      <td>0.000000</td>\n",
       "      <td>1.394834</td>\n",
       "      <td>0.394834</td>\n",
       "      <td>0.000000</td>\n",
       "      <td>...</td>\n",
       "      <td>0.0</td>\n",
       "      <td>0.0</td>\n",
       "      <td>0.0</td>\n",
       "      <td>0.0</td>\n",
       "      <td>0.0</td>\n",
       "      <td>0.0</td>\n",
       "      <td>0.0</td>\n",
       "      <td>0.0</td>\n",
       "      <td>0.0</td>\n",
       "      <td>0.0</td>\n",
       "    </tr>\n",
       "    <tr>\n",
       "      <th>10</th>\n",
       "      <td>0.000000</td>\n",
       "      <td>0.793478</td>\n",
       "      <td>0.000000</td>\n",
       "      <td>0.000000</td>\n",
       "      <td>0.0</td>\n",
       "      <td>0.000000</td>\n",
       "      <td>0.000000</td>\n",
       "      <td>0.000000</td>\n",
       "      <td>0.000000</td>\n",
       "      <td>0.000000</td>\n",
       "      <td>...</td>\n",
       "      <td>0.0</td>\n",
       "      <td>0.0</td>\n",
       "      <td>0.0</td>\n",
       "      <td>0.0</td>\n",
       "      <td>0.0</td>\n",
       "      <td>0.0</td>\n",
       "      <td>0.0</td>\n",
       "      <td>0.0</td>\n",
       "      <td>0.0</td>\n",
       "      <td>0.0</td>\n",
       "    </tr>\n",
       "    <tr>\n",
       "      <th>100</th>\n",
       "      <td>0.000000</td>\n",
       "      <td>0.000000</td>\n",
       "      <td>0.000000</td>\n",
       "      <td>0.000000</td>\n",
       "      <td>0.0</td>\n",
       "      <td>0.000000</td>\n",
       "      <td>0.000000</td>\n",
       "      <td>0.000000</td>\n",
       "      <td>0.000000</td>\n",
       "      <td>0.000000</td>\n",
       "      <td>...</td>\n",
       "      <td>0.0</td>\n",
       "      <td>0.0</td>\n",
       "      <td>0.0</td>\n",
       "      <td>0.0</td>\n",
       "      <td>0.0</td>\n",
       "      <td>0.0</td>\n",
       "      <td>0.0</td>\n",
       "      <td>0.0</td>\n",
       "      <td>0.0</td>\n",
       "      <td>0.0</td>\n",
       "    </tr>\n",
       "    <tr>\n",
       "      <th>101</th>\n",
       "      <td>0.000000</td>\n",
       "      <td>0.000000</td>\n",
       "      <td>0.000000</td>\n",
       "      <td>0.000000</td>\n",
       "      <td>0.0</td>\n",
       "      <td>0.000000</td>\n",
       "      <td>0.000000</td>\n",
       "      <td>0.000000</td>\n",
       "      <td>0.000000</td>\n",
       "      <td>0.104478</td>\n",
       "      <td>...</td>\n",
       "      <td>0.0</td>\n",
       "      <td>0.0</td>\n",
       "      <td>0.0</td>\n",
       "      <td>0.0</td>\n",
       "      <td>0.0</td>\n",
       "      <td>0.0</td>\n",
       "      <td>0.0</td>\n",
       "      <td>0.0</td>\n",
       "      <td>0.0</td>\n",
       "      <td>0.0</td>\n",
       "    </tr>\n",
       "    <tr>\n",
       "      <th>102</th>\n",
       "      <td>0.000000</td>\n",
       "      <td>0.000000</td>\n",
       "      <td>0.000000</td>\n",
       "      <td>0.384259</td>\n",
       "      <td>0.0</td>\n",
       "      <td>-0.615741</td>\n",
       "      <td>0.384259</td>\n",
       "      <td>1.384259</td>\n",
       "      <td>0.384259</td>\n",
       "      <td>0.000000</td>\n",
       "      <td>...</td>\n",
       "      <td>0.0</td>\n",
       "      <td>0.0</td>\n",
       "      <td>0.0</td>\n",
       "      <td>0.0</td>\n",
       "      <td>0.0</td>\n",
       "      <td>0.0</td>\n",
       "      <td>0.0</td>\n",
       "      <td>0.0</td>\n",
       "      <td>0.0</td>\n",
       "      <td>0.0</td>\n",
       "    </tr>\n",
       "  </tbody>\n",
       "</table>\n",
       "<p>5 rows × 1664 columns</p>\n",
       "</div>"
      ],
      "text/plain": [
       "     Birdcage, The (1996)  Enchanted April (1991)  Diabolique (1996)  \\\n",
       "1                0.394834                0.000000           0.394834   \n",
       "10               0.000000                0.793478           0.000000   \n",
       "100              0.000000                0.000000           0.000000   \n",
       "101              0.000000                0.000000           0.000000   \n",
       "102              0.000000                0.000000           0.000000   \n",
       "\n",
       "     Face/Off (1997)  My Fellow Americans (1996)  In the Line of Fire (1993)  \\\n",
       "1           0.000000                         0.0                    0.000000   \n",
       "10          0.000000                         0.0                    0.000000   \n",
       "100         0.000000                         0.0                    0.000000   \n",
       "101         0.000000                         0.0                    0.000000   \n",
       "102         0.384259                         0.0                   -0.615741   \n",
       "\n",
       "     Murder at 1600 (1997)  Star Trek: The Wrath of Khan (1982)  \\\n",
       "1                 0.000000                             1.394834   \n",
       "10                0.000000                             0.000000   \n",
       "100               0.000000                             0.000000   \n",
       "101               0.000000                             0.000000   \n",
       "102               0.384259                             1.384259   \n",
       "\n",
       "     Grosse Pointe Blank (1997)  Courage Under Fire (1996)        ...          \\\n",
       "1                      0.394834                   0.000000        ...           \n",
       "10                     0.000000                   0.000000        ...           \n",
       "100                    0.000000                   0.000000        ...           \n",
       "101                    0.000000                   0.104478        ...           \n",
       "102                    0.384259                   0.000000        ...           \n",
       "\n",
       "     Raw Deal (1948)  Shopping (1994)  Nemesis 2: Nebula (1995)  \\\n",
       "1                0.0              0.0                       0.0   \n",
       "10               0.0              0.0                       0.0   \n",
       "100              0.0              0.0                       0.0   \n",
       "101              0.0              0.0                       0.0   \n",
       "102              0.0              0.0                       0.0   \n",
       "\n",
       "     Wings of Courage (1995)  Mad Dog Time (1996)  Mamma Roma (1962)  \\\n",
       "1                        0.0                  0.0                0.0   \n",
       "10                       0.0                  0.0                0.0   \n",
       "100                      0.0                  0.0                0.0   \n",
       "101                      0.0                  0.0                0.0   \n",
       "102                      0.0                  0.0                0.0   \n",
       "\n",
       "     New Age, The (1994)  Target (1995)  Johns (1996)  Tokyo Fist (1995)  \n",
       "1                    0.0            0.0           0.0                0.0  \n",
       "10                   0.0            0.0           0.0                0.0  \n",
       "100                  0.0            0.0           0.0                0.0  \n",
       "101                  0.0            0.0           0.0                0.0  \n",
       "102                  0.0            0.0           0.0                0.0  \n",
       "\n",
       "[5 rows x 1664 columns]"
      ]
     },
     "execution_count": 14,
     "metadata": {},
     "output_type": "execute_result"
    }
   ],
   "source": [
    "df_norm = df_norm1.fillna(0) #fill NaN with 0\n",
    "df_norm.head()"
   ]
  },
  {
   "cell_type": "markdown",
   "metadata": {},
   "source": [
    "- Normalized dictionary with NaN removed"
   ]
  },
  {
   "cell_type": "code",
   "execution_count": 15,
   "metadata": {
    "collapsed": false
   },
   "outputs": [],
   "source": [
    "dict_norm1 = df_norm1.to_dict(orient = \"records\") # list of dictionary"
   ]
  },
  {
   "cell_type": "code",
   "execution_count": 16,
   "metadata": {
    "collapsed": false
   },
   "outputs": [],
   "source": [
    "dict_norm2 = {df_norm.index[i]: dict_norm1[i] for i in range(len(dict_norm1))} # dict of dict"
   ]
  },
  {
   "cell_type": "code",
   "execution_count": 17,
   "metadata": {
    "collapsed": false
   },
   "outputs": [],
   "source": [
    "# Remove NaN \n",
    "from math import isnan\n",
    "dict_norm = {}\n",
    "# count = 0\n",
    "for key, value in dict_norm2.iteritems():\n",
    "    dict_temp = {}\n",
    "    for key1, value1 in dict_norm2[key].iteritems():\n",
    "        if not isnan(value1):\n",
    "            dict_temp[key1] = value1\n",
    "#     if count==0:\n",
    "#         print len(dict_temp)\n",
    "#         print key\n",
    "#     count = 1\n",
    "    dict_norm[key] = dict_temp"
   ]
  },
  {
   "cell_type": "markdown",
   "metadata": {},
   "source": [
    "### User-User Collaborative Filtering\n",
    "### UUCF using python dictionry"
   ]
  },
  {
   "cell_type": "markdown",
   "metadata": {},
   "source": [
    "<b> Cosine Distance (User to User)"
   ]
  },
  {
   "cell_type": "code",
   "execution_count": 18,
   "metadata": {
    "collapsed": false
   },
   "outputs": [],
   "source": [
    "#Function that returns a cosine-based similarity score for person1 and person2\n",
    "def sim_cosine(dict, p1,p2):\n",
    "#Get the list of mutually rated items, ignore items that were not rated by either person\n",
    " si = {}\n",
    " p1set = []\n",
    " p2set = []\n",
    " for item in dict[p1]:\n",
    "       if (item in dict[p2]) and not(np.isnan(dict[p2][item])) and not(np.isnan(dict[p1][item])) :\n",
    "          si[item] = 1\n",
    "#If they have no rating in common, return 0\n",
    " if len(si) == 0: \n",
    "  return 0\n",
    " p1set = [dict[p1][item] for item in si.keys()]\n",
    " p2set = [dict[p2][item] for item in si.keys()]\n",
    " return (1 - spatial.distance.cosine(p1set, p2set))\n"
   ]
  },
  {
   "cell_type": "code",
   "execution_count": 19,
   "metadata": {
    "collapsed": false
   },
   "outputs": [
    {
     "data": {
      "text/plain": [
       "0.9307"
      ]
     },
     "execution_count": 19,
     "metadata": {},
     "output_type": "execute_result"
    }
   ],
   "source": [
    "# Test the Cosine-based similarity function\n",
    "round(sim_cosine(mdict,'2','30'), 4) # With orginal data"
   ]
  },
  {
   "cell_type": "code",
   "execution_count": 20,
   "metadata": {
    "collapsed": false
   },
   "outputs": [
    {
     "data": {
      "text/plain": [
       "0.1339"
      ]
     },
     "execution_count": 20,
     "metadata": {},
     "output_type": "execute_result"
    }
   ],
   "source": [
    "round(sim_cosine(dict_norm,'2','30'), 4) # With normalized data"
   ]
  },
  {
   "cell_type": "markdown",
   "metadata": {},
   "source": [
    "Cosine based similarities should, in principle, be similar in nature for both the normalized and non-normalized data. In other words, if the similarity is very high for un normalized data, it should bbe close to 1 in the normalized data. However, we observe widely different outputs from our functions. This may need further investigation."
   ]
  },
  {
   "cell_type": "markdown",
   "metadata": {},
   "source": [
    "<b> UUCF (python dictionary) Recommendations using cosine distance weighting: "
   ]
  },
  {
   "cell_type": "code",
   "execution_count": 21,
   "metadata": {
    "collapsed": false
   },
   "outputs": [],
   "source": [
    "#Function that returns 'n' recommendations for a person by using a weighted average of every other user's rankings\n",
    "#Code adapted from https://github.com/arthur-e/Programming-Collective-Intelligence/blob/master/chapter2/recommendations.py\n",
    "#Additional changes were added to exclude movies that were not rated or that have zero ratings\n",
    "\n",
    "def getRecommendations(n, dict,person,similarity=sim_cosine):\n",
    " totals = {}\n",
    " simSums = {}\n",
    "\n",
    " for other in dict:\n",
    "  #don't compare me to myself\n",
    "  if other == person:\n",
    "   continue\n",
    "  sim = similarity(dict,person,other)\n",
    "  #ignore scores of zero or lower\n",
    "  if sim <= 0: \n",
    "   continue\n",
    "  for item in dict[other]:\n",
    "   #only score movies I haven't rated yet\n",
    "   if (item not in dict[person]) or (dict[person][item] == 0) or (np.isnan(dict[person][item])) :\n",
    "    #Similarity * score\n",
    "    totals.setdefault(item,0)\n",
    "    totals[item] += not(np.isnan(dict[other][item] * sim))\n",
    "    #Sum of similarities\n",
    "    simSums.setdefault(item,0)\n",
    "    simSums[item] += sim\n",
    "\n",
    "    #Create the normalized list\n",
    " rankings = [(total/simSums[item],item) for item,total in totals.items()]\n",
    "\n",
    " #Return the sorted list\n",
    " rankings.sort()\n",
    " rankings.reverse()\n",
    " return rankings[0:n]\n"
   ]
  },
  {
   "cell_type": "markdown",
   "metadata": {},
   "source": [
    "<b> Get top 10 recommendations for user '20' using User-User CF"
   ]
  },
  {
   "cell_type": "code",
   "execution_count": 22,
   "metadata": {
    "collapsed": false
   },
   "outputs": [
    {
     "data": {
      "text/plain": [
       "[(1.4894191488825208, 'Mighty, The (1998)'),\n",
       " (1.4215475490703315, 'Star Kid (1997)'),\n",
       " (1.3932268684997735, 'Men of Means (1998)'),\n",
       " (1.3414926883107841, 'Ill Gotten Gains (1997)'),\n",
       " (1.3146993812979373, 'Boys, Les (1997)'),\n",
       " (1.301715235630053, 'Hugo Pool (1997)'),\n",
       " (1.300280479063799, 'Leading Man, The (1996)'),\n",
       " (1.2743704248117187, 'Shooting Fish (1997)'),\n",
       " (1.2723442187239802, 'The Innocent (1994)'),\n",
       " (1.266065398976276, '3 Ninjas: High Noon At Mega Mountain (1998)')]"
      ]
     },
     "execution_count": 22,
     "metadata": {},
     "output_type": "execute_result"
    }
   ],
   "source": [
    "#Test getRecommendations function\n",
    "getRecommendations(10, mdict,'20',similarity=sim_cosine) # with original data"
   ]
  },
  {
   "cell_type": "markdown",
   "metadata": {},
   "source": [
    "### UU-CF using pandas dataframe"
   ]
  },
  {
   "cell_type": "code",
   "execution_count": 23,
   "metadata": {
    "collapsed": true
   },
   "outputs": [],
   "source": [
    "# function takes in a data frame, what you want to predict pred_id, \n",
    "#the type of collaboration, the similarity you want\n",
    "# to use, and the number of responses you want to get back\n",
    "## Code adapted from https://blog.liip.ch/archive/2016/06/16/recommender-system-slack-pandas-flask.html\n",
    "\n",
    "def predict_p(dframe, pred_id, kind = 'user', similarity = cosine_similarity, n = 10):\n",
    "    d = dframe.fillna(0)\n",
    "    if kind == 'user':\n",
    "        dists = similarity(d)\n",
    "        dists_named = pd.DataFrame(dists, columns = d.index)\n",
    "        dists_named.index = dists_named.columns\n",
    "        \n",
    "    elif kind == 'item':\n",
    "        d = d.T\n",
    "        dists = similarity(d)\n",
    "        dists_named = pd.DataFrame(dists, columns = d.index)\n",
    "        dists_named.index = dists_named.columns\n",
    "\n",
    "    p = dists_named[pred_id].sort_values(ascending = False)\n",
    "    mask = p.index.isin([pred_id])\n",
    "    p = p[~mask]\n",
    "    return p[:n]   "
   ]
  },
  {
   "cell_type": "code",
   "execution_count": 24,
   "metadata": {
    "collapsed": false
   },
   "outputs": [
    {
     "data": {
      "text/html": [
       "<div>\n",
       "<table border=\"1\" class=\"dataframe\">\n",
       "  <thead>\n",
       "    <tr style=\"text-align: right;\">\n",
       "      <th></th>\n",
       "      <th>userid</th>\n",
       "      <th>age</th>\n",
       "      <th>gender</th>\n",
       "      <th>occupation</th>\n",
       "      <th>zipcode</th>\n",
       "      <th>itemid</th>\n",
       "      <th>rating</th>\n",
       "      <th>timestamp</th>\n",
       "      <th>movieid</th>\n",
       "      <th>movietitle</th>\n",
       "      <th>...</th>\n",
       "      <th>fantasy</th>\n",
       "      <th>filmnoir</th>\n",
       "      <th>horror</th>\n",
       "      <th>musical</th>\n",
       "      <th>mystery</th>\n",
       "      <th>romance</th>\n",
       "      <th>scifi</th>\n",
       "      <th>thriller</th>\n",
       "      <th>war</th>\n",
       "      <th>western</th>\n",
       "    </tr>\n",
       "  </thead>\n",
       "  <tbody>\n",
       "    <tr>\n",
       "      <th>0</th>\n",
       "      <td>196</td>\n",
       "      <td>49</td>\n",
       "      <td>M</td>\n",
       "      <td>writer</td>\n",
       "      <td>55105</td>\n",
       "      <td>242</td>\n",
       "      <td>3</td>\n",
       "      <td>881250949</td>\n",
       "      <td>242</td>\n",
       "      <td>Kolya (1996)</td>\n",
       "      <td>...</td>\n",
       "      <td>0</td>\n",
       "      <td>0</td>\n",
       "      <td>0</td>\n",
       "      <td>0</td>\n",
       "      <td>0</td>\n",
       "      <td>0</td>\n",
       "      <td>0</td>\n",
       "      <td>0</td>\n",
       "      <td>0</td>\n",
       "      <td>0</td>\n",
       "    </tr>\n",
       "    <tr>\n",
       "      <th>1</th>\n",
       "      <td>186</td>\n",
       "      <td>39</td>\n",
       "      <td>F</td>\n",
       "      <td>executive</td>\n",
       "      <td>00000</td>\n",
       "      <td>302</td>\n",
       "      <td>3</td>\n",
       "      <td>891717742</td>\n",
       "      <td>302</td>\n",
       "      <td>L.A. Confidential (1997)</td>\n",
       "      <td>...</td>\n",
       "      <td>0</td>\n",
       "      <td>1</td>\n",
       "      <td>0</td>\n",
       "      <td>0</td>\n",
       "      <td>1</td>\n",
       "      <td>0</td>\n",
       "      <td>0</td>\n",
       "      <td>1</td>\n",
       "      <td>0</td>\n",
       "      <td>0</td>\n",
       "    </tr>\n",
       "    <tr>\n",
       "      <th>2</th>\n",
       "      <td>22</td>\n",
       "      <td>25</td>\n",
       "      <td>M</td>\n",
       "      <td>writer</td>\n",
       "      <td>40206</td>\n",
       "      <td>377</td>\n",
       "      <td>1</td>\n",
       "      <td>878887116</td>\n",
       "      <td>377</td>\n",
       "      <td>Heavyweights (1994)</td>\n",
       "      <td>...</td>\n",
       "      <td>0</td>\n",
       "      <td>0</td>\n",
       "      <td>0</td>\n",
       "      <td>0</td>\n",
       "      <td>0</td>\n",
       "      <td>0</td>\n",
       "      <td>0</td>\n",
       "      <td>0</td>\n",
       "      <td>0</td>\n",
       "      <td>0</td>\n",
       "    </tr>\n",
       "    <tr>\n",
       "      <th>3</th>\n",
       "      <td>244</td>\n",
       "      <td>28</td>\n",
       "      <td>M</td>\n",
       "      <td>technician</td>\n",
       "      <td>80525</td>\n",
       "      <td>51</td>\n",
       "      <td>2</td>\n",
       "      <td>880606923</td>\n",
       "      <td>51</td>\n",
       "      <td>Legends of the Fall (1994)</td>\n",
       "      <td>...</td>\n",
       "      <td>0</td>\n",
       "      <td>0</td>\n",
       "      <td>0</td>\n",
       "      <td>0</td>\n",
       "      <td>0</td>\n",
       "      <td>1</td>\n",
       "      <td>0</td>\n",
       "      <td>0</td>\n",
       "      <td>1</td>\n",
       "      <td>1</td>\n",
       "    </tr>\n",
       "    <tr>\n",
       "      <th>4</th>\n",
       "      <td>166</td>\n",
       "      <td>47</td>\n",
       "      <td>M</td>\n",
       "      <td>educator</td>\n",
       "      <td>55113</td>\n",
       "      <td>346</td>\n",
       "      <td>1</td>\n",
       "      <td>886397596</td>\n",
       "      <td>346</td>\n",
       "      <td>Jackie Brown (1997)</td>\n",
       "      <td>...</td>\n",
       "      <td>0</td>\n",
       "      <td>0</td>\n",
       "      <td>0</td>\n",
       "      <td>0</td>\n",
       "      <td>0</td>\n",
       "      <td>0</td>\n",
       "      <td>0</td>\n",
       "      <td>0</td>\n",
       "      <td>0</td>\n",
       "      <td>0</td>\n",
       "    </tr>\n",
       "  </tbody>\n",
       "</table>\n",
       "<p>5 rows × 32 columns</p>\n",
       "</div>"
      ],
      "text/plain": [
       "   userid  age gender  occupation zipcode  itemid  rating  timestamp  movieid  \\\n",
       "0     196   49      M      writer   55105     242       3  881250949      242   \n",
       "1     186   39      F   executive   00000     302       3  891717742      302   \n",
       "2      22   25      M      writer   40206     377       1  878887116      377   \n",
       "3     244   28      M  technician   80525      51       2  880606923       51   \n",
       "4     166   47      M    educator   55113     346       1  886397596      346   \n",
       "\n",
       "                   movietitle   ...    fantasy  filmnoir horror  musical  \\\n",
       "0                Kolya (1996)   ...          0         0      0        0   \n",
       "1    L.A. Confidential (1997)   ...          0         1      0        0   \n",
       "2         Heavyweights (1994)   ...          0         0      0        0   \n",
       "3  Legends of the Fall (1994)   ...          0         0      0        0   \n",
       "4         Jackie Brown (1997)   ...          0         0      0        0   \n",
       "\n",
       "   mystery  romance  scifi  thriller  war  western  \n",
       "0        0        0      0         0    0        0  \n",
       "1        1        0      0         1    0        0  \n",
       "2        0        0      0         0    0        0  \n",
       "3        0        1      0         0    1        1  \n",
       "4        0        0      0         0    0        0  \n",
       "\n",
       "[5 rows x 32 columns]"
      ]
     },
     "execution_count": 24,
     "metadata": {},
     "output_type": "execute_result"
    }
   ],
   "source": [
    "df.head()"
   ]
  },
  {
   "cell_type": "code",
   "execution_count": 25,
   "metadata": {
    "collapsed": false
   },
   "outputs": [
    {
     "data": {
      "text/html": [
       "<div>\n",
       "<table border=\"1\" class=\"dataframe\">\n",
       "  <thead>\n",
       "    <tr style=\"text-align: right;\">\n",
       "      <th>movietitle</th>\n",
       "      <th>'Til There Was You (1997)</th>\n",
       "      <th>1-900 (1994)</th>\n",
       "      <th>101 Dalmatians (1996)</th>\n",
       "      <th>12 Angry Men (1957)</th>\n",
       "      <th>187 (1997)</th>\n",
       "      <th>2 Days in the Valley (1996)</th>\n",
       "      <th>20,000 Leagues Under the Sea (1954)</th>\n",
       "      <th>2001: A Space Odyssey (1968)</th>\n",
       "      <th>3 Ninjas: High Noon At Mega Mountain (1998)</th>\n",
       "      <th>39 Steps, The (1935)</th>\n",
       "      <th>...</th>\n",
       "      <th>Wyatt Earp (1994)</th>\n",
       "      <th>Yankee Zulu (1994)</th>\n",
       "      <th>Year of the Horse (1997)</th>\n",
       "      <th>You So Crazy (1994)</th>\n",
       "      <th>Young Frankenstein (1974)</th>\n",
       "      <th>Young Guns (1988)</th>\n",
       "      <th>Young Guns II (1990)</th>\n",
       "      <th>Young Poisoner's Handbook, The (1995)</th>\n",
       "      <th>Zeus and Roxanne (1997)</th>\n",
       "      <th>unknown</th>\n",
       "    </tr>\n",
       "  </thead>\n",
       "  <tbody>\n",
       "    <tr>\n",
       "      <th>1</th>\n",
       "      <td>NaN</td>\n",
       "      <td>NaN</td>\n",
       "      <td>2.0</td>\n",
       "      <td>5.0</td>\n",
       "      <td>NaN</td>\n",
       "      <td>NaN</td>\n",
       "      <td>3.0</td>\n",
       "      <td>4.0</td>\n",
       "      <td>NaN</td>\n",
       "      <td>NaN</td>\n",
       "      <td>...</td>\n",
       "      <td>NaN</td>\n",
       "      <td>NaN</td>\n",
       "      <td>NaN</td>\n",
       "      <td>NaN</td>\n",
       "      <td>5.0</td>\n",
       "      <td>3.0</td>\n",
       "      <td>NaN</td>\n",
       "      <td>NaN</td>\n",
       "      <td>NaN</td>\n",
       "      <td>4.0</td>\n",
       "    </tr>\n",
       "    <tr>\n",
       "      <th>2</th>\n",
       "      <td>NaN</td>\n",
       "      <td>NaN</td>\n",
       "      <td>NaN</td>\n",
       "      <td>NaN</td>\n",
       "      <td>NaN</td>\n",
       "      <td>NaN</td>\n",
       "      <td>NaN</td>\n",
       "      <td>NaN</td>\n",
       "      <td>1.0</td>\n",
       "      <td>NaN</td>\n",
       "      <td>...</td>\n",
       "      <td>NaN</td>\n",
       "      <td>NaN</td>\n",
       "      <td>NaN</td>\n",
       "      <td>NaN</td>\n",
       "      <td>NaN</td>\n",
       "      <td>NaN</td>\n",
       "      <td>NaN</td>\n",
       "      <td>NaN</td>\n",
       "      <td>NaN</td>\n",
       "      <td>NaN</td>\n",
       "    </tr>\n",
       "    <tr>\n",
       "      <th>3</th>\n",
       "      <td>NaN</td>\n",
       "      <td>NaN</td>\n",
       "      <td>NaN</td>\n",
       "      <td>NaN</td>\n",
       "      <td>2.0</td>\n",
       "      <td>NaN</td>\n",
       "      <td>NaN</td>\n",
       "      <td>NaN</td>\n",
       "      <td>NaN</td>\n",
       "      <td>NaN</td>\n",
       "      <td>...</td>\n",
       "      <td>NaN</td>\n",
       "      <td>NaN</td>\n",
       "      <td>NaN</td>\n",
       "      <td>NaN</td>\n",
       "      <td>NaN</td>\n",
       "      <td>NaN</td>\n",
       "      <td>NaN</td>\n",
       "      <td>NaN</td>\n",
       "      <td>NaN</td>\n",
       "      <td>NaN</td>\n",
       "    </tr>\n",
       "    <tr>\n",
       "      <th>4</th>\n",
       "      <td>NaN</td>\n",
       "      <td>NaN</td>\n",
       "      <td>NaN</td>\n",
       "      <td>NaN</td>\n",
       "      <td>NaN</td>\n",
       "      <td>NaN</td>\n",
       "      <td>NaN</td>\n",
       "      <td>NaN</td>\n",
       "      <td>NaN</td>\n",
       "      <td>NaN</td>\n",
       "      <td>...</td>\n",
       "      <td>NaN</td>\n",
       "      <td>NaN</td>\n",
       "      <td>NaN</td>\n",
       "      <td>NaN</td>\n",
       "      <td>NaN</td>\n",
       "      <td>NaN</td>\n",
       "      <td>NaN</td>\n",
       "      <td>NaN</td>\n",
       "      <td>NaN</td>\n",
       "      <td>NaN</td>\n",
       "    </tr>\n",
       "    <tr>\n",
       "      <th>5</th>\n",
       "      <td>NaN</td>\n",
       "      <td>NaN</td>\n",
       "      <td>2.0</td>\n",
       "      <td>NaN</td>\n",
       "      <td>NaN</td>\n",
       "      <td>NaN</td>\n",
       "      <td>NaN</td>\n",
       "      <td>4.0</td>\n",
       "      <td>NaN</td>\n",
       "      <td>NaN</td>\n",
       "      <td>...</td>\n",
       "      <td>NaN</td>\n",
       "      <td>NaN</td>\n",
       "      <td>NaN</td>\n",
       "      <td>NaN</td>\n",
       "      <td>4.0</td>\n",
       "      <td>NaN</td>\n",
       "      <td>NaN</td>\n",
       "      <td>NaN</td>\n",
       "      <td>NaN</td>\n",
       "      <td>4.0</td>\n",
       "    </tr>\n",
       "  </tbody>\n",
       "</table>\n",
       "<p>5 rows × 1664 columns</p>\n",
       "</div>"
      ],
      "text/plain": [
       "movietitle  'Til There Was You (1997)  1-900 (1994)  101 Dalmatians (1996)  \\\n",
       "1                                 NaN           NaN                    2.0   \n",
       "2                                 NaN           NaN                    NaN   \n",
       "3                                 NaN           NaN                    NaN   \n",
       "4                                 NaN           NaN                    NaN   \n",
       "5                                 NaN           NaN                    2.0   \n",
       "\n",
       "movietitle  12 Angry Men (1957)  187 (1997)  2 Days in the Valley (1996)  \\\n",
       "1                           5.0         NaN                          NaN   \n",
       "2                           NaN         NaN                          NaN   \n",
       "3                           NaN         2.0                          NaN   \n",
       "4                           NaN         NaN                          NaN   \n",
       "5                           NaN         NaN                          NaN   \n",
       "\n",
       "movietitle  20,000 Leagues Under the Sea (1954)  2001: A Space Odyssey (1968)  \\\n",
       "1                                           3.0                           4.0   \n",
       "2                                           NaN                           NaN   \n",
       "3                                           NaN                           NaN   \n",
       "4                                           NaN                           NaN   \n",
       "5                                           NaN                           4.0   \n",
       "\n",
       "movietitle  3 Ninjas: High Noon At Mega Mountain (1998)  39 Steps, The (1935)  \\\n",
       "1                                                   NaN                   NaN   \n",
       "2                                                   1.0                   NaN   \n",
       "3                                                   NaN                   NaN   \n",
       "4                                                   NaN                   NaN   \n",
       "5                                                   NaN                   NaN   \n",
       "\n",
       "movietitle   ...     Wyatt Earp (1994)  Yankee Zulu (1994)  \\\n",
       "1            ...                   NaN                 NaN   \n",
       "2            ...                   NaN                 NaN   \n",
       "3            ...                   NaN                 NaN   \n",
       "4            ...                   NaN                 NaN   \n",
       "5            ...                   NaN                 NaN   \n",
       "\n",
       "movietitle  Year of the Horse (1997)  You So Crazy (1994)  \\\n",
       "1                                NaN                  NaN   \n",
       "2                                NaN                  NaN   \n",
       "3                                NaN                  NaN   \n",
       "4                                NaN                  NaN   \n",
       "5                                NaN                  NaN   \n",
       "\n",
       "movietitle  Young Frankenstein (1974)  Young Guns (1988)  \\\n",
       "1                                 5.0                3.0   \n",
       "2                                 NaN                NaN   \n",
       "3                                 NaN                NaN   \n",
       "4                                 NaN                NaN   \n",
       "5                                 4.0                NaN   \n",
       "\n",
       "movietitle  Young Guns II (1990)  Young Poisoner's Handbook, The (1995)  \\\n",
       "1                            NaN                                    NaN   \n",
       "2                            NaN                                    NaN   \n",
       "3                            NaN                                    NaN   \n",
       "4                            NaN                                    NaN   \n",
       "5                            NaN                                    NaN   \n",
       "\n",
       "movietitle  Zeus and Roxanne (1997)  unknown  \n",
       "1                               NaN      4.0  \n",
       "2                               NaN      NaN  \n",
       "3                               NaN      NaN  \n",
       "4                               NaN      NaN  \n",
       "5                               NaN      4.0  \n",
       "\n",
       "[5 rows x 1664 columns]"
      ]
     },
     "execution_count": 25,
     "metadata": {},
     "output_type": "execute_result"
    }
   ],
   "source": [
    "# convert to wide format for analysis\n",
    "d = df.pivot_table(index = 'userid', columns = 'movietitle', values = 'rating')\n",
    "del d.index.name\n",
    "\n",
    "# normalized dataframe\n",
    "d_norm1 = d.apply(lambda x: x - x.mean(), axis =1) # row-wise operation\n",
    "d_norm = d_norm1.fillna(0)\n",
    "\n",
    "# original dataframe\n",
    "#d = d.fillna(0)\n",
    "d.head()"
   ]
  },
  {
   "cell_type": "code",
   "execution_count": 26,
   "metadata": {
    "collapsed": false
   },
   "outputs": [
    {
     "data": {
      "text/html": [
       "<div>\n",
       "<table border=\"1\" class=\"dataframe\">\n",
       "  <thead>\n",
       "    <tr style=\"text-align: right;\">\n",
       "      <th>movietitle</th>\n",
       "      <th>'Til There Was You (1997)</th>\n",
       "      <th>1-900 (1994)</th>\n",
       "      <th>101 Dalmatians (1996)</th>\n",
       "      <th>12 Angry Men (1957)</th>\n",
       "      <th>187 (1997)</th>\n",
       "      <th>2 Days in the Valley (1996)</th>\n",
       "      <th>20,000 Leagues Under the Sea (1954)</th>\n",
       "      <th>2001: A Space Odyssey (1968)</th>\n",
       "      <th>3 Ninjas: High Noon At Mega Mountain (1998)</th>\n",
       "      <th>39 Steps, The (1935)</th>\n",
       "      <th>...</th>\n",
       "      <th>Wyatt Earp (1994)</th>\n",
       "      <th>Yankee Zulu (1994)</th>\n",
       "      <th>Year of the Horse (1997)</th>\n",
       "      <th>You So Crazy (1994)</th>\n",
       "      <th>Young Frankenstein (1974)</th>\n",
       "      <th>Young Guns (1988)</th>\n",
       "      <th>Young Guns II (1990)</th>\n",
       "      <th>Young Poisoner's Handbook, The (1995)</th>\n",
       "      <th>Zeus and Roxanne (1997)</th>\n",
       "      <th>unknown</th>\n",
       "    </tr>\n",
       "  </thead>\n",
       "  <tbody>\n",
       "    <tr>\n",
       "      <th>1</th>\n",
       "      <td>0.0</td>\n",
       "      <td>0.0</td>\n",
       "      <td>-1.605166</td>\n",
       "      <td>1.394834</td>\n",
       "      <td>0.000000</td>\n",
       "      <td>0.0</td>\n",
       "      <td>-0.605166</td>\n",
       "      <td>0.394834</td>\n",
       "      <td>0.000000</td>\n",
       "      <td>0.0</td>\n",
       "      <td>...</td>\n",
       "      <td>0.0</td>\n",
       "      <td>0.0</td>\n",
       "      <td>0.0</td>\n",
       "      <td>0.0</td>\n",
       "      <td>1.394834</td>\n",
       "      <td>-0.605166</td>\n",
       "      <td>0.0</td>\n",
       "      <td>0.0</td>\n",
       "      <td>0.0</td>\n",
       "      <td>0.394834</td>\n",
       "    </tr>\n",
       "    <tr>\n",
       "      <th>2</th>\n",
       "      <td>0.0</td>\n",
       "      <td>0.0</td>\n",
       "      <td>0.000000</td>\n",
       "      <td>0.000000</td>\n",
       "      <td>0.000000</td>\n",
       "      <td>0.0</td>\n",
       "      <td>0.000000</td>\n",
       "      <td>0.000000</td>\n",
       "      <td>-2.704918</td>\n",
       "      <td>0.0</td>\n",
       "      <td>...</td>\n",
       "      <td>0.0</td>\n",
       "      <td>0.0</td>\n",
       "      <td>0.0</td>\n",
       "      <td>0.0</td>\n",
       "      <td>0.000000</td>\n",
       "      <td>0.000000</td>\n",
       "      <td>0.0</td>\n",
       "      <td>0.0</td>\n",
       "      <td>0.0</td>\n",
       "      <td>0.000000</td>\n",
       "    </tr>\n",
       "    <tr>\n",
       "      <th>3</th>\n",
       "      <td>0.0</td>\n",
       "      <td>0.0</td>\n",
       "      <td>0.000000</td>\n",
       "      <td>0.000000</td>\n",
       "      <td>-0.773585</td>\n",
       "      <td>0.0</td>\n",
       "      <td>0.000000</td>\n",
       "      <td>0.000000</td>\n",
       "      <td>0.000000</td>\n",
       "      <td>0.0</td>\n",
       "      <td>...</td>\n",
       "      <td>0.0</td>\n",
       "      <td>0.0</td>\n",
       "      <td>0.0</td>\n",
       "      <td>0.0</td>\n",
       "      <td>0.000000</td>\n",
       "      <td>0.000000</td>\n",
       "      <td>0.0</td>\n",
       "      <td>0.0</td>\n",
       "      <td>0.0</td>\n",
       "      <td>0.000000</td>\n",
       "    </tr>\n",
       "    <tr>\n",
       "      <th>4</th>\n",
       "      <td>0.0</td>\n",
       "      <td>0.0</td>\n",
       "      <td>0.000000</td>\n",
       "      <td>0.000000</td>\n",
       "      <td>0.000000</td>\n",
       "      <td>0.0</td>\n",
       "      <td>0.000000</td>\n",
       "      <td>0.000000</td>\n",
       "      <td>0.000000</td>\n",
       "      <td>0.0</td>\n",
       "      <td>...</td>\n",
       "      <td>0.0</td>\n",
       "      <td>0.0</td>\n",
       "      <td>0.0</td>\n",
       "      <td>0.0</td>\n",
       "      <td>0.000000</td>\n",
       "      <td>0.000000</td>\n",
       "      <td>0.0</td>\n",
       "      <td>0.0</td>\n",
       "      <td>0.0</td>\n",
       "      <td>0.000000</td>\n",
       "    </tr>\n",
       "    <tr>\n",
       "      <th>5</th>\n",
       "      <td>0.0</td>\n",
       "      <td>0.0</td>\n",
       "      <td>-0.874286</td>\n",
       "      <td>0.000000</td>\n",
       "      <td>0.000000</td>\n",
       "      <td>0.0</td>\n",
       "      <td>0.000000</td>\n",
       "      <td>1.125714</td>\n",
       "      <td>0.000000</td>\n",
       "      <td>0.0</td>\n",
       "      <td>...</td>\n",
       "      <td>0.0</td>\n",
       "      <td>0.0</td>\n",
       "      <td>0.0</td>\n",
       "      <td>0.0</td>\n",
       "      <td>1.125714</td>\n",
       "      <td>0.000000</td>\n",
       "      <td>0.0</td>\n",
       "      <td>0.0</td>\n",
       "      <td>0.0</td>\n",
       "      <td>1.125714</td>\n",
       "    </tr>\n",
       "  </tbody>\n",
       "</table>\n",
       "<p>5 rows × 1664 columns</p>\n",
       "</div>"
      ],
      "text/plain": [
       "movietitle  'Til There Was You (1997)  1-900 (1994)  101 Dalmatians (1996)  \\\n",
       "1                                 0.0           0.0              -1.605166   \n",
       "2                                 0.0           0.0               0.000000   \n",
       "3                                 0.0           0.0               0.000000   \n",
       "4                                 0.0           0.0               0.000000   \n",
       "5                                 0.0           0.0              -0.874286   \n",
       "\n",
       "movietitle  12 Angry Men (1957)  187 (1997)  2 Days in the Valley (1996)  \\\n",
       "1                      1.394834    0.000000                          0.0   \n",
       "2                      0.000000    0.000000                          0.0   \n",
       "3                      0.000000   -0.773585                          0.0   \n",
       "4                      0.000000    0.000000                          0.0   \n",
       "5                      0.000000    0.000000                          0.0   \n",
       "\n",
       "movietitle  20,000 Leagues Under the Sea (1954)  2001: A Space Odyssey (1968)  \\\n",
       "1                                     -0.605166                      0.394834   \n",
       "2                                      0.000000                      0.000000   \n",
       "3                                      0.000000                      0.000000   \n",
       "4                                      0.000000                      0.000000   \n",
       "5                                      0.000000                      1.125714   \n",
       "\n",
       "movietitle  3 Ninjas: High Noon At Mega Mountain (1998)  39 Steps, The (1935)  \\\n",
       "1                                              0.000000                   0.0   \n",
       "2                                             -2.704918                   0.0   \n",
       "3                                              0.000000                   0.0   \n",
       "4                                              0.000000                   0.0   \n",
       "5                                              0.000000                   0.0   \n",
       "\n",
       "movietitle    ...     Wyatt Earp (1994)  Yankee Zulu (1994)  \\\n",
       "1             ...                   0.0                 0.0   \n",
       "2             ...                   0.0                 0.0   \n",
       "3             ...                   0.0                 0.0   \n",
       "4             ...                   0.0                 0.0   \n",
       "5             ...                   0.0                 0.0   \n",
       "\n",
       "movietitle  Year of the Horse (1997)  You So Crazy (1994)  \\\n",
       "1                                0.0                  0.0   \n",
       "2                                0.0                  0.0   \n",
       "3                                0.0                  0.0   \n",
       "4                                0.0                  0.0   \n",
       "5                                0.0                  0.0   \n",
       "\n",
       "movietitle  Young Frankenstein (1974)  Young Guns (1988)  \\\n",
       "1                            1.394834          -0.605166   \n",
       "2                            0.000000           0.000000   \n",
       "3                            0.000000           0.000000   \n",
       "4                            0.000000           0.000000   \n",
       "5                            1.125714           0.000000   \n",
       "\n",
       "movietitle  Young Guns II (1990)  Young Poisoner's Handbook, The (1995)  \\\n",
       "1                            0.0                                    0.0   \n",
       "2                            0.0                                    0.0   \n",
       "3                            0.0                                    0.0   \n",
       "4                            0.0                                    0.0   \n",
       "5                            0.0                                    0.0   \n",
       "\n",
       "movietitle  Zeus and Roxanne (1997)   unknown  \n",
       "1                               0.0  0.394834  \n",
       "2                               0.0  0.000000  \n",
       "3                               0.0  0.000000  \n",
       "4                               0.0  0.000000  \n",
       "5                               0.0  1.125714  \n",
       "\n",
       "[5 rows x 1664 columns]"
      ]
     },
     "execution_count": 26,
     "metadata": {},
     "output_type": "execute_result"
    }
   ],
   "source": [
    "d_norm.head()"
   ]
  },
  {
   "cell_type": "markdown",
   "metadata": {},
   "source": [
    "<b> User-User Collaborative Filtering using cosine distance"
   ]
  },
  {
   "cell_type": "markdown",
   "metadata": {},
   "source": [
    "<b>Predictions based on user-user cosine distance"
   ]
  },
  {
   "cell_type": "code",
   "execution_count": 27,
   "metadata": {
    "collapsed": false
   },
   "outputs": [
    {
     "data": {
      "text/plain": [
       "254    0.575197\n",
       "738    0.568915\n",
       "881    0.565369\n",
       "42     0.547329\n",
       "545    0.543806\n",
       "804    0.543751\n",
       "650    0.543560\n",
       "275    0.540358\n",
       "815    0.536989\n",
       "536    0.532302\n",
       "Name: 290, dtype: float64"
      ]
     },
     "execution_count": 27,
     "metadata": {},
     "output_type": "execute_result"
    }
   ],
   "source": [
    "# Predict based on user/user\n",
    "## At present this gives the closest users\n",
    "predict_p(d, pred_id = 290, kind = 'user') # With original data"
   ]
  },
  {
   "cell_type": "code",
   "execution_count": 28,
   "metadata": {
    "collapsed": false
   },
   "outputs": [
    {
     "data": {
      "text/plain": [
       "70     0.323139\n",
       "275    0.279290\n",
       "746    0.233377\n",
       "536    0.233276\n",
       "901    0.231759\n",
       "638    0.231161\n",
       "545    0.219109\n",
       "896    0.218910\n",
       "807    0.216560\n",
       "56     0.215462\n",
       "Name: 290, dtype: float64"
      ]
     },
     "execution_count": 28,
     "metadata": {},
     "output_type": "execute_result"
    }
   ],
   "source": [
    "predict_p(d_norm, pred_id = 290, kind = 'user') # With normalized data"
   ]
  },
  {
   "cell_type": "markdown",
   "metadata": {},
   "source": [
    "<b> UU-CF (pandas) Recommendations"
   ]
  },
  {
   "cell_type": "code",
   "execution_count": 29,
   "metadata": {
    "collapsed": false
   },
   "outputs": [],
   "source": [
    "# Recommend items based on User similarity\n",
    "def get_recommendations_user(dframe, pred_id, similarity = cosine_similarity, n = 10):\n",
    "    d = dframe.fillna(0)\n",
    "    t = d.ix[predict_p(d, pred_id = pred_id, n = n).index]\n",
    "    #t.ix[:,:10]\n",
    "    p = d.ix[pred_id].values != 0\n",
    "\n",
    "\n",
    "\n",
    "    r = t.T.ix[~p].T\n",
    "    # Delete those columns that all contain all 0, meaning that they have not been rated\n",
    "    r = r.loc[:, (r != 0).any(axis=0)]\n",
    "    # Have to rename the columns as we keep on getting an error\n",
    "    cols = r.columns\n",
    "    r.columns =  range(1, 1+ r.shape[1])\n",
    "    # Calculate the mean ratings for the movies\n",
    "    ratings = r.sum(axis = 0)/r.astype(bool).sum(axis= 0)\n",
    "    ratings.index = cols\n",
    "    return ratings.sort_values(axis = 0, ascending = False, \n",
    "                inplace = False, na_position = 'last')[:n]\n",
    "    "
   ]
  },
  {
   "cell_type": "markdown",
   "metadata": {},
   "source": [
    "<b> Get top 10 recommendations (UUCF/pandas)"
   ]
  },
  {
   "cell_type": "code",
   "execution_count": 30,
   "metadata": {
    "collapsed": false
   },
   "outputs": [
    {
     "data": {
      "text/plain": [
       "movietitle\n",
       "Enchanted April (1991)          5.0\n",
       "Ran (1985)                      5.0\n",
       "Perfect World, A (1993)         5.0\n",
       "Persuasion (1995)               5.0\n",
       "Little Princess, A (1995)       5.0\n",
       "My Man Godfrey (1936)           5.0\n",
       "Shadowlands (1993)              5.0\n",
       "Sense and Sensibility (1995)    5.0\n",
       "Army of Darkness (1993)         5.0\n",
       "That Thing You Do! (1996)       5.0\n",
       "dtype: float64"
      ]
     },
     "execution_count": 30,
     "metadata": {},
     "output_type": "execute_result"
    }
   ],
   "source": [
    "#Unnormalized data\n",
    "get_recommendations_user(d, pred_id = 290, similarity = cosine_similarity, n = 10) # With original data"
   ]
  },
  {
   "cell_type": "code",
   "execution_count": 31,
   "metadata": {
    "collapsed": false
   },
   "outputs": [
    {
     "data": {
      "text/plain": [
       "254    NaN\n",
       "738    NaN\n",
       "881    NaN\n",
       "42     NaN\n",
       "545    NaN\n",
       "804    NaN\n",
       "650    NaN\n",
       "275    NaN\n",
       "815    NaN\n",
       "536    5.0\n",
       "Name: Enchanted April (1991), dtype: float64"
      ]
     },
     "execution_count": 31,
     "metadata": {},
     "output_type": "execute_result"
    }
   ],
   "source": [
    "# Check the results\n",
    "cut = [254, 738,881, 42,545,804,650,275,815,536]\n",
    "d.loc[cut,'Enchanted April (1991)']\n"
   ]
  },
  {
   "cell_type": "markdown",
   "metadata": {},
   "source": [
    "<b> Problem with sparse data</b><br>\n",
    "\n",
    "Some of the movies are rated by only one user. If this user rates the movie 5 stars, then other users are recommended based on the ratings of this single rating causing the predicted rating to be very high. This can be fixed by limiting the input datasets to movies with a mainimum number of ratings (<i>e.g.</i> 20.\n"
   ]
  },
  {
   "cell_type": "code",
   "execution_count": 32,
   "metadata": {
    "collapsed": false
   },
   "outputs": [
    {
     "data": {
      "text/plain": [
       "movietitle\n",
       "Raise the Red Lantern (1991)       2.612903\n",
       "As Good As It Gets (1997)          1.640000\n",
       "Good Will Hunting (1997)           1.620533\n",
       "Titanic (1997)                     1.386113\n",
       "Get on the Bus (1996)              1.171875\n",
       "Empire Strikes Back, The (1980)    1.171875\n",
       "Raiders of the Lost Ark (1981)     1.171875\n",
       "Hard Eight (1996)                  1.171875\n",
       "Star Wars (1977)                   1.171875\n",
       "Clerks (1994)                      1.171875\n",
       "dtype: float64"
      ]
     },
     "execution_count": 32,
     "metadata": {},
     "output_type": "execute_result"
    }
   ],
   "source": [
    "get_recommendations_user(d_norm, pred_id = 29, similarity = cosine_similarity, n = 10) # With normalized data"
   ]
  },
  {
   "cell_type": "code",
   "execution_count": 33,
   "metadata": {
    "collapsed": false
   },
   "outputs": [
    {
     "data": {
      "text/html": [
       "<div>\n",
       "<table border=\"1\" class=\"dataframe\">\n",
       "  <thead>\n",
       "    <tr style=\"text-align: right;\">\n",
       "      <th></th>\n",
       "      <th>0</th>\n",
       "    </tr>\n",
       "    <tr>\n",
       "      <th>movietitle</th>\n",
       "      <th></th>\n",
       "    </tr>\n",
       "  </thead>\n",
       "  <tbody>\n",
       "    <tr>\n",
       "      <th>Cop Land (1997)</th>\n",
       "      <td>2.019337</td>\n",
       "    </tr>\n",
       "    <tr>\n",
       "      <th>Citizen Kane (1941)</th>\n",
       "      <td>2.019337</td>\n",
       "    </tr>\n",
       "    <tr>\n",
       "      <th>Fried Green Tomatoes (1991)</th>\n",
       "      <td>2.019337</td>\n",
       "    </tr>\n",
       "    <tr>\n",
       "      <th>Philadelphia Story, The (1940)</th>\n",
       "      <td>2.019337</td>\n",
       "    </tr>\n",
       "    <tr>\n",
       "      <th>Devil in a Blue Dress (1995)</th>\n",
       "      <td>2.019337</td>\n",
       "    </tr>\n",
       "  </tbody>\n",
       "</table>\n",
       "</div>"
      ],
      "text/plain": [
       "                                       0\n",
       "movietitle                              \n",
       "Cop Land (1997)                 2.019337\n",
       "Citizen Kane (1941)             2.019337\n",
       "Fried Green Tomatoes (1991)     2.019337\n",
       "Philadelphia Story, The (1940)  2.019337\n",
       "Devil in a Blue Dress (1995)    2.019337"
      ]
     },
     "execution_count": 33,
     "metadata": {},
     "output_type": "execute_result"
    }
   ],
   "source": [
    "r = pd.DataFrame(get_recommendations_user(d_norm, pred_id = 290, similarity = cosine_similarity, n = 10))\n",
    "# With normalized data\n",
    "mean_ratings = d[d.index ==290].mean(axis = 1)\n",
    "\n",
    "r + float(mean_ratings)\n",
    "r.head()"
   ]
  },
  {
   "cell_type": "code",
   "execution_count": 34,
   "metadata": {
    "collapsed": false
   },
   "outputs": [
    {
     "data": {
      "text/plain": [
       "movietitle\n",
       "Cop Land (1997)                   3.377143\n",
       "Citizen Kane (1941)               4.292929\n",
       "Fried Green Tomatoes (1991)       3.764706\n",
       "Philadelphia Story, The (1940)    4.115385\n",
       "Devil in a Blue Dress (1995)      3.385965\n",
       "dtype: float64"
      ]
     },
     "execution_count": 34,
     "metadata": {},
     "output_type": "execute_result"
    }
   ],
   "source": [
    "\n",
    "mean_ratings = d[r.index.values].apply(lambda x: x.mean(), axis =0)\n",
    "mean_ratings.head()"
   ]
  },
  {
   "cell_type": "markdown",
   "metadata": {},
   "source": [
    "### Item-Item Collaborative Filtering\n",
    "### II-CF using python dictionry"
   ]
  },
  {
   "cell_type": "markdown",
   "metadata": {},
   "source": [
    "<b> Transpose the user-item matrix to item-user matrix"
   ]
  },
  {
   "cell_type": "code",
   "execution_count": 35,
   "metadata": {
    "collapsed": true
   },
   "outputs": [],
   "source": [
    "#Flip items and users\n",
    "def item_user_switch(df):\n",
    "    results={}\n",
    "    for uid in df:\n",
    "        for movie in df[uid]:\n",
    "            results.setdefault(movie, {})\n",
    "            #Flip movie & user\n",
    "            results[movie][uid]=df[uid][movie]\n",
    "    return results\n",
    "##code adapted from http://aimotion.blogspot.com/2009/11/collaborative-filtering-implementation.html"
   ]
  },
  {
   "cell_type": "code",
   "execution_count": 36,
   "metadata": {
    "collapsed": true
   },
   "outputs": [],
   "source": [
    "#Transpose user:item to item:user dictionary\n",
    "mdict_rev = item_user_switch(mdict)"
   ]
  },
  {
   "cell_type": "code",
   "execution_count": 37,
   "metadata": {
    "collapsed": false
   },
   "outputs": [
    {
     "name": "stdout",
     "output_type": "stream",
     "text": [
      "\"Young Poisoner's Handbook, The (1995)\": \n",
      " {'590': 4.0, '592': 4.0, '595': 4.0, '456': 3.0, '634': 4.0, '276': 4.0, '486': 3.0, '279': 1.0, '490': 4.0, '118': 5.0, '857': 3.0, '21': 2.0, '49': 5.0, '871': 3.0, '181': 1.0, '342': 5.0, '420': 4.0, '936': 5.0, '473': 3.0, '582': 4.0, '7': 3.0, '773': 4.0, '758': 5.0, '617': 1.0, '76': 2.0, '246': 4.0, '387': 4.0, '90': 3.0, '655': 4.0, '868': 3.0, '13': 1.0, '59': 3.0, '861': 4.0, '865': 5.0, '50': 4.0, '537': 1.0, '518': 3.0, '828': 2.0, '294': 3.0, '372': 5.0, '430': 2.0}\n",
      "\n",
      " \"Window to Paris (1994\": \n",
      " {'279': 4.0}\n"
     ]
    }
   ],
   "source": [
    "#Check the data\n",
    "x = mdict_rev[\"Young Poisoner's Handbook, The (1995)\"]\n",
    "y = mdict_rev[\"Window to Paris (1994)\"]\n",
    "print \"\\\"Young Poisoner\\'s Handbook, The (1995)\\\": \\n %s\" % x\n",
    "print \"\\n \\\"Window to Paris (1994\\\": \\n %s\" % y\n"
   ]
  },
  {
   "cell_type": "code",
   "execution_count": 38,
   "metadata": {
    "collapsed": false
   },
   "outputs": [
    {
     "data": {
      "text/plain": [
       "1.0"
      ]
     },
     "execution_count": 38,
     "metadata": {},
     "output_type": "execute_result"
    }
   ],
   "source": [
    "#Check cosine distance\n",
    "sim_cosine(mdict_rev, \"Young Poisoner's Handbook, The (1995)\", 'Window to Paris (1994)')"
   ]
  },
  {
   "cell_type": "code",
   "execution_count": 39,
   "metadata": {
    "collapsed": true
   },
   "outputs": [],
   "source": [
    "#Get top n (=5) similar movies for a selected movie\n",
    "def topSim(itemdict, movie, n=5, similarity=sim_cosine):\n",
    "    scores = [(similarity(itemdict, movie, movie2), movie2) \n",
    "              for movie2 in itemdict if movie2!=movie]\n",
    "    scores.sort()\n",
    "    scores.reverse()\n",
    "    return scores[0:n]"
   ]
  },
  {
   "cell_type": "code",
   "execution_count": 40,
   "metadata": {
    "collapsed": false
   },
   "outputs": [
    {
     "data": {
      "text/plain": [
       "[(1.0, \"Young Poisoner's Handbook, The (1995)\"),\n",
       " (1.0, 'Young Frankenstein (1974)'),\n",
       " (1.0, 'Wrong Trousers, The (1993)'),\n",
       " (1.0, 'Wizard of Oz, The (1939)'),\n",
       " (1.0, 'Winnie the Pooh and the Blustery Day (1968)'),\n",
       " (1.0, 'Willy Wonka and the Chocolate Factory (1971)'),\n",
       " (1.0, \"William Shakespeare's Romeo and Juliet (1996)\"),\n",
       " (1.0, 'Wild Bill (1995)'),\n",
       " (1.0, 'While You Were Sleeping (1995)'),\n",
       " (1.0, 'When We Were Kings (1996)')]"
      ]
     },
     "execution_count": 40,
     "metadata": {},
     "output_type": "execute_result"
    }
   ],
   "source": [
    "topSim(mdict_rev, 'Window to Paris (1994)', 10)\n",
    "#Note that all top similar items have same cosine distance (=1)."
   ]
  },
  {
   "cell_type": "markdown",
   "metadata": {},
   "source": [
    "<b> Score for the top similar item: </b><br>\n",
    "Although the top items predicted have score 1 each (based on cosine similarity), a detailed look of the data revealed that the predicted movied are mostly rated by only one user with a very high rating. "
   ]
  },
  {
   "cell_type": "code",
   "execution_count": 41,
   "metadata": {
    "collapsed": false
   },
   "outputs": [
    {
     "data": {
      "text/plain": [
       "movietitle\n",
       "Farmer & Chase (1995)          1.000000\n",
       "Modern Affair, A (1995)        1.000000\n",
       "Mostro, Il (1994)              1.000000\n",
       "Girl in the Cadillac (1995)    1.000000\n",
       "Tough and Deadly (1995)        0.980581\n",
       "Open Season (1996)             0.970143\n",
       "S.F.W. (1994)                  0.894427\n",
       "Shooter, The (1995)            0.784465\n",
       "Phat Beach (1996)              0.750000\n",
       "Fausto (1993)                  0.742781\n",
       "Name: Window to Paris (1994), dtype: float64"
      ]
     },
     "execution_count": 41,
     "metadata": {},
     "output_type": "execute_result"
    }
   ],
   "source": [
    "predict_p(d, pred_id = 'Window to Paris (1994)', kind = 'item')"
   ]
  },
  {
   "cell_type": "code",
   "execution_count": 46,
   "metadata": {
    "collapsed": true
   },
   "outputs": [],
   "source": [
    "#Get top n (=5) recommendations for a user\n",
    "\n",
    "def getRecommendedItems(itemUser, user, n=5, simfunc=sim_cosine):\n",
    "    #switch to item-user dictionary\n",
    "    userItem = item_user_switch(itemUser)\n",
    "    #get movies and ratings for the user\n",
    "    userRatings = userItem[user]\n",
    "    scores = {}\n",
    "    totalSim = {}\n",
    "\n",
    "    #loop over items rated by this user\n",
    "    for (item, rating) in userRatings.items():\n",
    "\n",
    "        #Select top 5 movies similar to the current movie\n",
    "        for (similarity, item2) in topSim(itemUser, item, n=5, similarity=simfunc):\n",
    "\n",
    "            #Ignore movies already rated by the user\n",
    "            if item2 in userRatings:\n",
    "                continue\n",
    "            #Get weighted scores (rating * similarity)and their sums \n",
    "            scores.setdefault(item2,0)\n",
    "            scores[item2] += similarity * rating\n",
    "            #Sum of all the similarities\n",
    "            totalSim.setdefault(item2,0)\n",
    "            totalSim[item2]+=similarity\n",
    "\n",
    "    #Get average score (weighted similarity/total similarity)\n",
    "    rankings = [(round(score/totalSim[item], 2),item) \n",
    "                for item,score in scores.items()]\n",
    "\n",
    "    #Return the rankings (descending)\n",
    "    rankings.sort(reverse=True)\n",
    "    #rankings.reverse()\n",
    "    return rankings[0:n]"
   ]
  },
  {
   "cell_type": "code",
   "execution_count": 47,
   "metadata": {
    "collapsed": false
   },
   "outputs": [
    {
     "data": {
      "text/plain": [
       "[(5.0, 'Wild America (1997)'),\n",
       " (5.0, 'When the Cats Away (Chacun cherche son chat) (1996)'),\n",
       " (5.0, 'What Happened Was... (1994)'),\n",
       " (5.0, 'Washington Square (1997)'),\n",
       " (5.0, 'Walkabout (1971)'),\n",
       " (5.0, 'Virtuosity (1995)'),\n",
       " (5.0, 'Underneath, The (1995)'),\n",
       " (5.0, 'Telling Lies in America (1997)'),\n",
       " (5.0, 'Sphere (1998)'),\n",
       " (5.0, 'Speed 2: Cruise Control (1997)')]"
      ]
     },
     "execution_count": 47,
     "metadata": {},
     "output_type": "execute_result"
    }
   ],
   "source": [
    "#Get top n (=5) recommended items for a user\n",
    "##Takes time.....have patience\n",
    "getRecommendedItems(mdict_rev, '10', 10)"
   ]
  },
  {
   "cell_type": "markdown",
   "metadata": {},
   "source": [
    "### II-CF using pandas dataframe Un Normalized Data"
   ]
  },
  {
   "cell_type": "code",
   "execution_count": 48,
   "metadata": {
    "collapsed": false
   },
   "outputs": [
    {
     "data": {
      "text/plain": [
       "movietitle\n",
       "Farmer & Chase (1995)          1.000000\n",
       "Modern Affair, A (1995)        1.000000\n",
       "Mostro, Il (1994)              1.000000\n",
       "Girl in the Cadillac (1995)    1.000000\n",
       "Tough and Deadly (1995)        0.980581\n",
       "Open Season (1996)             0.970143\n",
       "S.F.W. (1994)                  0.894427\n",
       "Shooter, The (1995)            0.784465\n",
       "Phat Beach (1996)              0.750000\n",
       "Fausto (1993)                  0.742781\n",
       "Name: Window to Paris (1994), dtype: float64"
      ]
     },
     "execution_count": 48,
     "metadata": {},
     "output_type": "execute_result"
    }
   ],
   "source": [
    "# Predict based on item/item\n",
    "predict_p(d, pred_id = 'Window to Paris (1994)', kind = 'item')"
   ]
  },
  {
   "cell_type": "markdown",
   "metadata": {},
   "source": [
    "<b> Explaining the score: </b><br>\n",
    "As discussed above, the score 1 for the predicted movies are primarily due to the movie being rated by only oone user with a very high rating."
   ]
  },
  {
   "cell_type": "markdown",
   "metadata": {},
   "source": [
    "### II-CF (pandas) Recommendations Normalized Data"
   ]
  },
  {
   "cell_type": "code",
   "execution_count": 49,
   "metadata": {
    "collapsed": false
   },
   "outputs": [
    {
     "data": {
      "text/plain": [
       "movietitle\n",
       "Schindler's List (1993)                   0.398994\n",
       "Casablanca (1942)                         0.344384\n",
       "To Kill a Mockingbird (1962)              0.331411\n",
       "Citizen Kane (1941)                       0.328816\n",
       "Shawshank Redemption, The (1994)          0.326825\n",
       "One Flew Over the Cuckoo's Nest (1975)    0.320654\n",
       "Godfather, The (1972)                     0.309454\n",
       "Henry V (1989)                            0.296642\n",
       "Silence of the Lambs, The (1991)          0.287307\n",
       "Star Wars (1977)                          0.280790\n",
       "Name: Amadeus (1984), dtype: float64"
      ]
     },
     "execution_count": 49,
     "metadata": {},
     "output_type": "execute_result"
    }
   ],
   "source": [
    "predict_p(d_norm, pred_id = \"Amadeus (1984)\", kind = 'item')"
   ]
  },
  {
   "cell_type": "markdown",
   "metadata": {},
   "source": [
    "## Content Based Recommendations using Attributes of Movies"
   ]
  },
  {
   "cell_type": "code",
   "execution_count": 50,
   "metadata": {
    "collapsed": false
   },
   "outputs": [
    {
     "data": {
      "text/html": [
       "<div>\n",
       "<table border=\"1\" class=\"dataframe\">\n",
       "  <thead>\n",
       "    <tr style=\"text-align: right;\">\n",
       "      <th></th>\n",
       "      <th>unknown</th>\n",
       "      <th>action</th>\n",
       "      <th>adventure</th>\n",
       "      <th>animation</th>\n",
       "      <th>childrens</th>\n",
       "      <th>comedy</th>\n",
       "      <th>crime</th>\n",
       "      <th>documentary</th>\n",
       "      <th>drama</th>\n",
       "      <th>fantasy</th>\n",
       "      <th>filmnoir</th>\n",
       "      <th>horror</th>\n",
       "      <th>musical</th>\n",
       "      <th>mystery</th>\n",
       "      <th>romance</th>\n",
       "      <th>scifi</th>\n",
       "      <th>thriller</th>\n",
       "      <th>war</th>\n",
       "      <th>western</th>\n",
       "    </tr>\n",
       "  </thead>\n",
       "  <tbody>\n",
       "    <tr>\n",
       "      <th>'Til There Was You (1997)</th>\n",
       "      <td>0</td>\n",
       "      <td>0</td>\n",
       "      <td>0</td>\n",
       "      <td>0</td>\n",
       "      <td>0</td>\n",
       "      <td>0</td>\n",
       "      <td>0</td>\n",
       "      <td>0</td>\n",
       "      <td>1</td>\n",
       "      <td>0</td>\n",
       "      <td>0</td>\n",
       "      <td>0</td>\n",
       "      <td>0</td>\n",
       "      <td>0</td>\n",
       "      <td>1</td>\n",
       "      <td>0</td>\n",
       "      <td>0</td>\n",
       "      <td>0</td>\n",
       "      <td>0</td>\n",
       "    </tr>\n",
       "    <tr>\n",
       "      <th>1-900 (1994)</th>\n",
       "      <td>0</td>\n",
       "      <td>0</td>\n",
       "      <td>0</td>\n",
       "      <td>0</td>\n",
       "      <td>0</td>\n",
       "      <td>0</td>\n",
       "      <td>0</td>\n",
       "      <td>0</td>\n",
       "      <td>0</td>\n",
       "      <td>0</td>\n",
       "      <td>0</td>\n",
       "      <td>0</td>\n",
       "      <td>0</td>\n",
       "      <td>0</td>\n",
       "      <td>1</td>\n",
       "      <td>0</td>\n",
       "      <td>0</td>\n",
       "      <td>0</td>\n",
       "      <td>0</td>\n",
       "    </tr>\n",
       "    <tr>\n",
       "      <th>101 Dalmatians (1996)</th>\n",
       "      <td>0</td>\n",
       "      <td>0</td>\n",
       "      <td>0</td>\n",
       "      <td>0</td>\n",
       "      <td>1</td>\n",
       "      <td>1</td>\n",
       "      <td>0</td>\n",
       "      <td>0</td>\n",
       "      <td>0</td>\n",
       "      <td>0</td>\n",
       "      <td>0</td>\n",
       "      <td>0</td>\n",
       "      <td>0</td>\n",
       "      <td>0</td>\n",
       "      <td>0</td>\n",
       "      <td>0</td>\n",
       "      <td>0</td>\n",
       "      <td>0</td>\n",
       "      <td>0</td>\n",
       "    </tr>\n",
       "    <tr>\n",
       "      <th>12 Angry Men (1957)</th>\n",
       "      <td>0</td>\n",
       "      <td>0</td>\n",
       "      <td>0</td>\n",
       "      <td>0</td>\n",
       "      <td>0</td>\n",
       "      <td>0</td>\n",
       "      <td>0</td>\n",
       "      <td>0</td>\n",
       "      <td>1</td>\n",
       "      <td>0</td>\n",
       "      <td>0</td>\n",
       "      <td>0</td>\n",
       "      <td>0</td>\n",
       "      <td>0</td>\n",
       "      <td>0</td>\n",
       "      <td>0</td>\n",
       "      <td>0</td>\n",
       "      <td>0</td>\n",
       "      <td>0</td>\n",
       "    </tr>\n",
       "    <tr>\n",
       "      <th>187 (1997)</th>\n",
       "      <td>0</td>\n",
       "      <td>0</td>\n",
       "      <td>0</td>\n",
       "      <td>0</td>\n",
       "      <td>0</td>\n",
       "      <td>0</td>\n",
       "      <td>0</td>\n",
       "      <td>0</td>\n",
       "      <td>1</td>\n",
       "      <td>0</td>\n",
       "      <td>0</td>\n",
       "      <td>0</td>\n",
       "      <td>0</td>\n",
       "      <td>0</td>\n",
       "      <td>0</td>\n",
       "      <td>0</td>\n",
       "      <td>0</td>\n",
       "      <td>0</td>\n",
       "      <td>0</td>\n",
       "    </tr>\n",
       "  </tbody>\n",
       "</table>\n",
       "</div>"
      ],
      "text/plain": [
       "                           unknown  action  adventure  animation  childrens  \\\n",
       "'Til There Was You (1997)        0       0          0          0          0   \n",
       "1-900 (1994)                     0       0          0          0          0   \n",
       "101 Dalmatians (1996)            0       0          0          0          1   \n",
       "12 Angry Men (1957)              0       0          0          0          0   \n",
       "187 (1997)                       0       0          0          0          0   \n",
       "\n",
       "                           comedy  crime  documentary  drama  fantasy  \\\n",
       "'Til There Was You (1997)       0      0            0      1        0   \n",
       "1-900 (1994)                    0      0            0      0        0   \n",
       "101 Dalmatians (1996)           1      0            0      0        0   \n",
       "12 Angry Men (1957)             0      0            0      1        0   \n",
       "187 (1997)                      0      0            0      1        0   \n",
       "\n",
       "                           filmnoir  horror  musical  mystery  romance  scifi  \\\n",
       "'Til There Was You (1997)         0       0        0        0        1      0   \n",
       "1-900 (1994)                      0       0        0        0        1      0   \n",
       "101 Dalmatians (1996)             0       0        0        0        0      0   \n",
       "12 Angry Men (1957)               0       0        0        0        0      0   \n",
       "187 (1997)                        0       0        0        0        0      0   \n",
       "\n",
       "                           thriller  war  western  \n",
       "'Til There Was You (1997)         0    0        0  \n",
       "1-900 (1994)                      0    0        0  \n",
       "101 Dalmatians (1996)             0    0        0  \n",
       "12 Angry Men (1957)               0    0        0  \n",
       "187 (1997)                        0    0        0  "
      ]
     },
     "execution_count": 50,
     "metadata": {},
     "output_type": "execute_result"
    }
   ],
   "source": [
    "m = range(13, df.shape[1])\n",
    "m.append(9)\n",
    "temp = df.ix[:,m]\n",
    "d_movies= temp.groupby('movietitle').mean()\n",
    "del d_movies.index.name\n",
    "d_movies.head()"
   ]
  },
  {
   "cell_type": "code",
   "execution_count": 51,
   "metadata": {
    "collapsed": false
   },
   "outputs": [
    {
     "data": {
      "text/plain": [
       "Ghosts of Mississippi (1996)           1.0\n",
       "Mr. Holland's Opus (1995)              1.0\n",
       "Crows and Sparrows (1949)              1.0\n",
       "Crucible, The (1996)                   1.0\n",
       "Cry, the Beloved Country (1995)        1.0\n",
       "Mondo (1996)                           1.0\n",
       "Moll Flanders (1996)                   1.0\n",
       "Small Faces (1995)                     1.0\n",
       "Bitter Sugar (Azucar Amargo) (1996)    1.0\n",
       "Cure, The (1995)                       1.0\n",
       "Name: 12 Angry Men (1957), dtype: float64"
      ]
     },
     "execution_count": 51,
     "metadata": {},
     "output_type": "execute_result"
    }
   ],
   "source": [
    "#predict_p(d_movies, pred_id = \"Amadeus (1984)\", kind = 'user')\n",
    "predict_p(d_movies, pred_id = '12 Angry Men (1957)', kind = 'user', n = 10)\n",
    "\n",
    "#dists = cosine_similarity(d_movies)\n",
    "#dists_named = pd.DataFrame(dists, columns = d_movies.index)\n",
    "#dists_named.index = dists_named.columns\n",
    "\n",
    "#p = dists_named[pred_id].sort_values(ascending = False)\n",
    "#mask = p.index.isin([pred_id])\n",
    "#p = p[~mask]\n",
    "#p[:n]   "
   ]
  },
  {
   "cell_type": "markdown",
   "metadata": {},
   "source": [
    "### Recommender Evaluation"
   ]
  },
  {
   "cell_type": "markdown",
   "metadata": {},
   "source": [
    "<b>Split the dataset into training and testing sets"
   ]
  },
  {
   "cell_type": "code",
   "execution_count": 52,
   "metadata": {
    "collapsed": true
   },
   "outputs": [],
   "source": [
    "from sklearn import cross_validation as cv\n",
    "df1 = df[[\"userid\", \"itemid\", \"rating\"]]\n",
    "df1.columns = [\"userid\", \"itemid\", \"rating\"]\n",
    "train_data, test_data = cv.train_test_split(df1, test_size=0.25)"
   ]
  },
  {
   "cell_type": "code",
   "execution_count": 53,
   "metadata": {
    "collapsed": false
   },
   "outputs": [
    {
     "name": "stdout",
     "output_type": "stream",
     "text": [
      "943 943\n"
     ]
    }
   ],
   "source": [
    "# Check number if users in both training and test datasets\n",
    "print train_data.userid.unique().shape[0], test_data.userid.unique().shape[0]"
   ]
  },
  {
   "cell_type": "code",
   "execution_count": 54,
   "metadata": {
    "collapsed": false
   },
   "outputs": [
    {
     "name": "stdout",
     "output_type": "stream",
     "text": [
      "Number of users = 943 | Number of movies = 1682\n"
     ]
    }
   ],
   "source": [
    "#Some of the code was adapated from \n",
    "#http://online.cambridgecoding.com/notebooks/eWReNYcAfB/implementing-your-own-recommender-systems-in-python-2\n",
    "n_users = df1.userid.unique().shape[0]\n",
    "n_items = df1.itemid.unique().shape[0]\n",
    "print 'Number of users = ' + str(n_users) + ' | Number of movies = ' + str(n_items)  "
   ]
  },
  {
   "cell_type": "code",
   "execution_count": 55,
   "metadata": {
    "collapsed": false
   },
   "outputs": [],
   "source": [
    "#Create two user-item matrices, one for training and another for testing\n",
    "train_data_matrix = np.zeros((n_users, n_items))\n",
    "for line in train_data.itertuples():\n",
    "    train_data_matrix[line[1]-1, line[2]-1] = line[3]  \n",
    "\n",
    "test_data_matrix = np.zeros((n_users, n_items))\n",
    "for line in test_data.itertuples():\n",
    "    test_data_matrix[line[1]-1, line[2]-1] = line[3]"
   ]
  },
  {
   "cell_type": "code",
   "execution_count": 56,
   "metadata": {
    "collapsed": false
   },
   "outputs": [
    {
     "data": {
      "text/plain": [
       "(943L, 1682L)"
      ]
     },
     "execution_count": 56,
     "metadata": {},
     "output_type": "execute_result"
    }
   ],
   "source": [
    "test_data_matrix.shape"
   ]
  },
  {
   "cell_type": "code",
   "execution_count": 57,
   "metadata": {
    "collapsed": true
   },
   "outputs": [],
   "source": [
    "#Calculate the cosine similarity. Note, the output will range from 0 to 1 since the ratings are all positive\n",
    "from sklearn.metrics.pairwise import pairwise_distances\n",
    "user_similarity = pairwise_distances(train_data_matrix, metric='cosine')\n",
    "item_similarity = pairwise_distances(train_data_matrix.T, metric='cosine')"
   ]
  },
  {
   "cell_type": "code",
   "execution_count": 58,
   "metadata": {
    "collapsed": false
   },
   "outputs": [],
   "source": [
    "# Prediction function for user based CF and item based CF \n",
    "def predict(ratings, similarity, type='user'):\n",
    "    if type == 'user':\n",
    "        #mean_user_rating = ratings.mean(axis=1), Added code to ignore zeroes while calculating mean user rating\n",
    "        mean_user_rating = np.apply_along_axis(lambda v: np.mean(v[np.nonzero(v)]), 1, ratings)\n",
    "        mean_user_rating[np.isnan(mean_user_rating)]=0.\n",
    "        #You use np.newaxis so that mean_user_rating has same format as ratings\n",
    "        ratings_diff = (ratings - mean_user_rating[:, np.newaxis]) \n",
    "        pred = mean_user_rating[:, np.newaxis] + (similarity.dot(ratings_diff) / np.array([np.abs(similarity).sum(axis=1)]).T)\n",
    "    elif type == 'item':\n",
    "        pred = ratings.dot(similarity) / np.array([np.abs(similarity).sum(axis=1)])     \n",
    "    return pred"
   ]
  },
  {
   "cell_type": "code",
   "execution_count": 59,
   "metadata": {
    "collapsed": false
   },
   "outputs": [],
   "source": [
    "# Make prediction based on training dataset\n",
    "item_prediction = predict(train_data_matrix, item_similarity, type='item')\n",
    "user_prediction = predict(train_data_matrix, user_similarity, type='user')"
   ]
  },
  {
   "cell_type": "code",
   "execution_count": 60,
   "metadata": {
    "collapsed": false
   },
   "outputs": [
    {
     "data": {
      "text/plain": [
       "array([[ 1.31461544,  0.25110522,  0.16941589, ..., -0.01645915,\n",
       "        -0.01636731, -0.01672152],\n",
       "       [ 1.60793916,  0.53814113,  0.41555134, ...,  0.20712054,\n",
       "         0.20835565,  0.20853968],\n",
       "       [ 0.62296423, -0.50203986, -0.61609706, ..., -0.83121943,\n",
       "        -0.82957423, -0.82943786],\n",
       "       ..., \n",
       "       [ 1.90084181,  0.88287482,  0.76795321, ...,  0.56828675,\n",
       "         0.56898608,  0.56907618],\n",
       "       [ 2.13605403,  1.05170655,  0.96155385, ...,  0.75240132,\n",
       "         0.75301755,  0.75320648],\n",
       "       [ 1.20206001,  0.14626597,  0.06756859, ..., -0.11969534,\n",
       "        -0.11975366, -0.11967231]])"
      ]
     },
     "execution_count": 60,
     "metadata": {},
     "output_type": "execute_result"
    }
   ],
   "source": [
    "user_prediction"
   ]
  },
  {
   "cell_type": "markdown",
   "metadata": {},
   "source": [
    "<b>Evaluation"
   ]
  },
  {
   "cell_type": "code",
   "execution_count": 61,
   "metadata": {
    "collapsed": true
   },
   "outputs": [],
   "source": [
    "#Evaluate accuracy of predicted ratings using Root Mean Squared Error (RMSE).\n",
    "from sklearn.metrics import mean_squared_error\n",
    "from math import sqrt\n",
    "def rmse(prediction, actual):\n",
    "    prediction = prediction[actual.nonzero()].flatten() \n",
    "    actual = actual[actual.nonzero()].flatten()\n",
    "    return sqrt(mean_squared_error(prediction, actual))"
   ]
  },
  {
   "cell_type": "code",
   "execution_count": 62,
   "metadata": {
    "collapsed": false
   },
   "outputs": [
    {
     "name": "stdout",
     "output_type": "stream",
     "text": [
      "User-based CF RMSE: 3.29126339238\n",
      "Item-based CF RMSE: 3.4523323524\n"
     ]
    }
   ],
   "source": [
    "print 'User-based CF RMSE: ' + str(rmse(user_prediction, test_data_matrix))\n",
    "print 'Item-based CF RMSE: ' + str(rmse(item_prediction, test_data_matrix))"
   ]
  },
  {
   "cell_type": "markdown",
   "metadata": {
    "collapsed": true
   },
   "source": [
    "<b>Accuracy Metrics"
   ]
  },
  {
   "cell_type": "code",
   "execution_count": 63,
   "metadata": {
    "collapsed": false
   },
   "outputs": [
    {
     "name": "stdout",
     "output_type": "stream",
     "text": [
      "0.00992\n"
     ]
    }
   ],
   "source": [
    "#Accuracy Scores for the model\n",
    "pred_values = user_prediction[test_data_matrix.nonzero()].flatten()\n",
    "actual_values = test_data_matrix[test_data_matrix.nonzero()].flatten()\n",
    "from sklearn.metrics import accuracy_score, confusion_matrix, classification_report\n",
    "print accuracy_score(np.array(actual_values), np.around(np.array(pred_values)))"
   ]
  },
  {
   "cell_type": "code",
   "execution_count": 64,
   "metadata": {
    "collapsed": false
   },
   "outputs": [
    {
     "name": "stdout",
     "output_type": "stream",
     "text": [
      "[[   0    0    0    0    0    0    0    0]\n",
      " [   0    0    0    0    0    0    0    0]\n",
      " [   0    0    0    0    0    0    0    0]\n",
      " [ 184  256  858  216   11    0    0    0]\n",
      " [  26  329 1884  584   31    0    0    0]\n",
      " [  20  364 4264 2016  112    1    0    0]\n",
      " [  10  178 4266 3791  312    3    0    0]\n",
      " [   2   48 1680 3090  452   12    0    0]]\n"
     ]
    }
   ],
   "source": [
    "#Confuction matrix\n",
    "print confusion_matrix(np.array(actual_values), np.around(np.array(pred_values)))"
   ]
  },
  {
   "cell_type": "code",
   "execution_count": 65,
   "metadata": {
    "collapsed": false
   },
   "outputs": [
    {
     "name": "stdout",
     "output_type": "stream",
     "text": [
      "             precision    recall  f1-score   support\n",
      "\n",
      "       -2.0       0.00      0.00      0.00         0\n",
      "       -1.0       0.00      0.00      0.00         0\n",
      "        0.0       0.00      0.00      0.00         0\n",
      "        1.0       0.02      0.14      0.04      1525\n",
      "        2.0       0.03      0.01      0.02      2854\n",
      "        3.0       0.06      0.00      0.00      6777\n",
      "        4.0       0.00      0.00      0.00      8560\n",
      "        5.0       0.00      0.00      0.00      5284\n",
      "\n",
      "avg / total       0.02      0.01      0.00     25000\n",
      "\n"
     ]
    },
    {
     "name": "stderr",
     "output_type": "stream",
     "text": [
      "C:\\Anaconda2\\envs\\dato-env\\lib\\site-packages\\sklearn\\metrics\\classification.py:1074: UndefinedMetricWarning: Precision and F-score are ill-defined and being set to 0.0 in labels with no predicted samples.\n",
      "  'precision', 'predicted', average, warn_for)\n",
      "C:\\Anaconda2\\envs\\dato-env\\lib\\site-packages\\sklearn\\metrics\\classification.py:1076: UndefinedMetricWarning: Recall and F-score are ill-defined and being set to 0.0 in labels with no true samples.\n",
      "  'recall', 'true', average, warn_for)\n"
     ]
    }
   ],
   "source": [
    "#Classification report\n",
    "print(classification_report(np.array(actual_values), np.around(np.array(pred_values))))"
   ]
  },
  {
   "cell_type": "code",
   "execution_count": 66,
   "metadata": {
    "collapsed": false
   },
   "outputs": [
    {
     "data": {
      "image/png": "[encoded data removed]",
      "text/plain": [
       "<matplotlib.figure.Figure at 0x201aeef0>"
      ]
     },
     "metadata": {},
     "output_type": "display_data"
    }
   ],
   "source": [
    "#Plot ground truth values Vs predicted values\n",
    "%matplotlib inline\n",
    "import matplotlib.pyplot as plt\n",
    "fig,ax = plt.subplots()\n",
    "plt.scatter(actual_values, np.around(pred_values))\n",
    "ax.set_xlabel('Actual')\n",
    "ax.set_ylabel('Predicted')\n",
    "plt.title('Actuals Vs Predicted Values')\n",
    "plt.show()"
   ]
  },
  {
   "cell_type": "code",
   "execution_count": null,
   "metadata": {
    "collapsed": true
   },
   "outputs": [],
   "source": []
  },
  {
   "cell_type": "code",
   "execution_count": null,
   "metadata": {
    "collapsed": true
   },
   "outputs": [],
   "source": []
  }
 ],
 "metadata": {
  "kernelspec": {
   "display_name": "Python 2",
   "language": "python",
   "name": "python2"
  },
  "language_info": {
   "codemirror_mode": {
    "name": "ipython",
    "version": 2
   },
   "file_extension": ".py",
   "mimetype": "text/x-python",
   "name": "python",
   "nbconvert_exporter": "python",
   "pygments_lexer": "ipython2",
   "version": "2.7.11"
  }
 },
 "nbformat": 4,
 "nbformat_minor": 0
}
