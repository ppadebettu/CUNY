{
 "cells": [
  {
   "cell_type": "markdown",
   "metadata": {},
   "source": [
    "DATA643- Project 2\n",
    "======\n",
    "Prashanth Padebetttu, Parshu Rath, Adjare Windokun, Xingjia Wu\n",
    "----------\n",
    "<b> Summer 2016 <br>\n",
    "Instructor: Andrew Catlin"
   ]
  },
  {
   "cell_type": "markdown",
   "metadata": {},
   "source": [
    "Load Movielens Data\n",
    "-------\n",
    "<b> Load 100K movie data as pandas dataframe:"
   ]
  },
  {
   "cell_type": "code",
   "execution_count": 164,
   "metadata": {
    "collapsed": true
   },
   "outputs": [],
   "source": [
    "# Required Python Packages\n",
    "from math import sqrt\n",
    "from sklearn.metrics.pairwise import cosine_similarity\n",
    "import csv\n",
    "import pandas as pd\n",
    "import numpy as np\n",
    "from scipy import spatial"
   ]
  },
  {
   "cell_type": "code",
   "execution_count": 165,
   "metadata": {
    "collapsed": false
   },
   "outputs": [
    {
     "ename": "HTTPError",
     "evalue": "HTTP Error 503: backend read error",
     "output_type": "error",
     "traceback": [
      "\u001b[1;31m---------------------------------------------------------------------------\u001b[0m",
      "\u001b[1;31mHTTPError\u001b[0m                                 Traceback (most recent call last)",
      "\u001b[1;32m<ipython-input-165-0d17c63b4751>\u001b[0m in \u001b[0;36m<module>\u001b[1;34m()\u001b[0m\n\u001b[0;32m      2\u001b[0m \u001b[1;31m# Movielens data with 100,000 records\u001b[0m\u001b[1;33m\u001b[0m\u001b[1;33m\u001b[0m\u001b[0m\n\u001b[0;32m      3\u001b[0m \u001b[0murl\u001b[0m \u001b[1;33m=\u001b[0m \u001b[1;34m'https://raw.githubusercontent.com/ppadebettu/CUNY/IS-607-Data-Acquisition-and-Management/IS643/Project_2/movielens.csv'\u001b[0m\u001b[1;33m\u001b[0m\u001b[0m\n\u001b[1;32m----> 4\u001b[1;33m \u001b[0mdf\u001b[0m \u001b[1;33m=\u001b[0m \u001b[0mpd\u001b[0m\u001b[1;33m.\u001b[0m\u001b[0mread_csv\u001b[0m\u001b[1;33m(\u001b[0m\u001b[0murl\u001b[0m\u001b[1;33m,\u001b[0m \u001b[0msep\u001b[0m \u001b[1;33m=\u001b[0m \u001b[1;34m\",\"\u001b[0m \u001b[1;33m,\u001b[0m \u001b[0mheader\u001b[0m \u001b[1;33m=\u001b[0m \u001b[1;36m0\u001b[0m\u001b[1;33m,\u001b[0m \u001b[0mna_values\u001b[0m\u001b[1;33m=\u001b[0m\u001b[1;34m'NaN'\u001b[0m\u001b[1;33m)\u001b[0m\u001b[1;33m\u001b[0m\u001b[0m\n\u001b[0m",
      "\u001b[1;32mC:\\Anaconda2\\envs\\dato-env\\lib\\site-packages\\pandas\\io\\parsers.pyc\u001b[0m in \u001b[0;36mparser_f\u001b[1;34m(filepath_or_buffer, sep, delimiter, header, names, index_col, usecols, squeeze, prefix, mangle_dupe_cols, dtype, engine, converters, true_values, false_values, skipinitialspace, skiprows, skipfooter, nrows, na_values, keep_default_na, na_filter, verbose, skip_blank_lines, parse_dates, infer_datetime_format, keep_date_col, date_parser, dayfirst, iterator, chunksize, compression, thousands, decimal, lineterminator, quotechar, quoting, escapechar, comment, encoding, dialect, tupleize_cols, error_bad_lines, warn_bad_lines, skip_footer, doublequote, delim_whitespace, as_recarray, compact_ints, use_unsigned, low_memory, buffer_lines, memory_map, float_precision)\u001b[0m\n\u001b[0;32m    527\u001b[0m                     skip_blank_lines=skip_blank_lines)\n\u001b[0;32m    528\u001b[0m \u001b[1;33m\u001b[0m\u001b[0m\n\u001b[1;32m--> 529\u001b[1;33m         \u001b[1;32mreturn\u001b[0m \u001b[0m_read\u001b[0m\u001b[1;33m(\u001b[0m\u001b[0mfilepath_or_buffer\u001b[0m\u001b[1;33m,\u001b[0m \u001b[0mkwds\u001b[0m\u001b[1;33m)\u001b[0m\u001b[1;33m\u001b[0m\u001b[0m\n\u001b[0m\u001b[0;32m    530\u001b[0m \u001b[1;33m\u001b[0m\u001b[0m\n\u001b[0;32m    531\u001b[0m     \u001b[0mparser_f\u001b[0m\u001b[1;33m.\u001b[0m\u001b[0m__name__\u001b[0m \u001b[1;33m=\u001b[0m \u001b[0mname\u001b[0m\u001b[1;33m\u001b[0m\u001b[0m\n",
      "\u001b[1;32mC:\\Anaconda2\\envs\\dato-env\\lib\\site-packages\\pandas\\io\\parsers.pyc\u001b[0m in \u001b[0;36m_read\u001b[1;34m(filepath_or_buffer, kwds)\u001b[0m\n\u001b[0;32m    279\u001b[0m     filepath_or_buffer, _, compression = get_filepath_or_buffer(\n\u001b[0;32m    280\u001b[0m         \u001b[0mfilepath_or_buffer\u001b[0m\u001b[1;33m,\u001b[0m \u001b[0mencoding\u001b[0m\u001b[1;33m,\u001b[0m\u001b[1;33m\u001b[0m\u001b[0m\n\u001b[1;32m--> 281\u001b[1;33m         compression=kwds.get('compression', None))\n\u001b[0m\u001b[0;32m    282\u001b[0m     kwds['compression'] = (inferred_compression if compression == 'infer'\n\u001b[0;32m    283\u001b[0m                            else compression)\n",
      "\u001b[1;32mC:\\Anaconda2\\envs\\dato-env\\lib\\site-packages\\pandas\\io\\common.pyc\u001b[0m in \u001b[0;36mget_filepath_or_buffer\u001b[1;34m(filepath_or_buffer, encoding, compression)\u001b[0m\n\u001b[0;32m    275\u001b[0m \u001b[1;33m\u001b[0m\u001b[0m\n\u001b[0;32m    276\u001b[0m     \u001b[1;32mif\u001b[0m \u001b[0m_is_url\u001b[0m\u001b[1;33m(\u001b[0m\u001b[0mfilepath_or_buffer\u001b[0m\u001b[1;33m)\u001b[0m\u001b[1;33m:\u001b[0m\u001b[1;33m\u001b[0m\u001b[0m\n\u001b[1;32m--> 277\u001b[1;33m         \u001b[0mreq\u001b[0m \u001b[1;33m=\u001b[0m \u001b[0m_urlopen\u001b[0m\u001b[1;33m(\u001b[0m\u001b[0mstr\u001b[0m\u001b[1;33m(\u001b[0m\u001b[0mfilepath_or_buffer\u001b[0m\u001b[1;33m)\u001b[0m\u001b[1;33m)\u001b[0m\u001b[1;33m\u001b[0m\u001b[0m\n\u001b[0m\u001b[0;32m    278\u001b[0m         \u001b[1;32mif\u001b[0m \u001b[0mcompression\u001b[0m \u001b[1;33m==\u001b[0m \u001b[1;34m'infer'\u001b[0m\u001b[1;33m:\u001b[0m\u001b[1;33m\u001b[0m\u001b[0m\n\u001b[0;32m    279\u001b[0m             \u001b[0mcontent_encoding\u001b[0m \u001b[1;33m=\u001b[0m \u001b[0mreq\u001b[0m\u001b[1;33m.\u001b[0m\u001b[0mheaders\u001b[0m\u001b[1;33m.\u001b[0m\u001b[0mget\u001b[0m\u001b[1;33m(\u001b[0m\u001b[1;34m'Content-Encoding'\u001b[0m\u001b[1;33m,\u001b[0m \u001b[0mNone\u001b[0m\u001b[1;33m)\u001b[0m\u001b[1;33m\u001b[0m\u001b[0m\n",
      "\u001b[1;32mC:\\Anaconda2\\envs\\dato-env\\lib\\urllib2.pyc\u001b[0m in \u001b[0;36murlopen\u001b[1;34m(url, data, timeout, cafile, capath, cadefault, context)\u001b[0m\n\u001b[0;32m    152\u001b[0m     \u001b[1;32melse\u001b[0m\u001b[1;33m:\u001b[0m\u001b[1;33m\u001b[0m\u001b[0m\n\u001b[0;32m    153\u001b[0m         \u001b[0mopener\u001b[0m \u001b[1;33m=\u001b[0m \u001b[0m_opener\u001b[0m\u001b[1;33m\u001b[0m\u001b[0m\n\u001b[1;32m--> 154\u001b[1;33m     \u001b[1;32mreturn\u001b[0m \u001b[0mopener\u001b[0m\u001b[1;33m.\u001b[0m\u001b[0mopen\u001b[0m\u001b[1;33m(\u001b[0m\u001b[0murl\u001b[0m\u001b[1;33m,\u001b[0m \u001b[0mdata\u001b[0m\u001b[1;33m,\u001b[0m \u001b[0mtimeout\u001b[0m\u001b[1;33m)\u001b[0m\u001b[1;33m\u001b[0m\u001b[0m\n\u001b[0m\u001b[0;32m    155\u001b[0m \u001b[1;33m\u001b[0m\u001b[0m\n\u001b[0;32m    156\u001b[0m \u001b[1;32mdef\u001b[0m \u001b[0minstall_opener\u001b[0m\u001b[1;33m(\u001b[0m\u001b[0mopener\u001b[0m\u001b[1;33m)\u001b[0m\u001b[1;33m:\u001b[0m\u001b[1;33m\u001b[0m\u001b[0m\n",
      "\u001b[1;32mC:\\Anaconda2\\envs\\dato-env\\lib\\urllib2.pyc\u001b[0m in \u001b[0;36mopen\u001b[1;34m(self, fullurl, data, timeout)\u001b[0m\n\u001b[0;32m    435\u001b[0m         \u001b[1;32mfor\u001b[0m \u001b[0mprocessor\u001b[0m \u001b[1;32min\u001b[0m \u001b[0mself\u001b[0m\u001b[1;33m.\u001b[0m\u001b[0mprocess_response\u001b[0m\u001b[1;33m.\u001b[0m\u001b[0mget\u001b[0m\u001b[1;33m(\u001b[0m\u001b[0mprotocol\u001b[0m\u001b[1;33m,\u001b[0m \u001b[1;33m[\u001b[0m\u001b[1;33m]\u001b[0m\u001b[1;33m)\u001b[0m\u001b[1;33m:\u001b[0m\u001b[1;33m\u001b[0m\u001b[0m\n\u001b[0;32m    436\u001b[0m             \u001b[0mmeth\u001b[0m \u001b[1;33m=\u001b[0m \u001b[0mgetattr\u001b[0m\u001b[1;33m(\u001b[0m\u001b[0mprocessor\u001b[0m\u001b[1;33m,\u001b[0m \u001b[0mmeth_name\u001b[0m\u001b[1;33m)\u001b[0m\u001b[1;33m\u001b[0m\u001b[0m\n\u001b[1;32m--> 437\u001b[1;33m             \u001b[0mresponse\u001b[0m \u001b[1;33m=\u001b[0m \u001b[0mmeth\u001b[0m\u001b[1;33m(\u001b[0m\u001b[0mreq\u001b[0m\u001b[1;33m,\u001b[0m \u001b[0mresponse\u001b[0m\u001b[1;33m)\u001b[0m\u001b[1;33m\u001b[0m\u001b[0m\n\u001b[0m\u001b[0;32m    438\u001b[0m \u001b[1;33m\u001b[0m\u001b[0m\n\u001b[0;32m    439\u001b[0m         \u001b[1;32mreturn\u001b[0m \u001b[0mresponse\u001b[0m\u001b[1;33m\u001b[0m\u001b[0m\n",
      "\u001b[1;32mC:\\Anaconda2\\envs\\dato-env\\lib\\urllib2.pyc\u001b[0m in \u001b[0;36mhttp_response\u001b[1;34m(self, request, response)\u001b[0m\n\u001b[0;32m    548\u001b[0m         \u001b[1;32mif\u001b[0m \u001b[1;32mnot\u001b[0m \u001b[1;33m(\u001b[0m\u001b[1;36m200\u001b[0m \u001b[1;33m<=\u001b[0m \u001b[0mcode\u001b[0m \u001b[1;33m<\u001b[0m \u001b[1;36m300\u001b[0m\u001b[1;33m)\u001b[0m\u001b[1;33m:\u001b[0m\u001b[1;33m\u001b[0m\u001b[0m\n\u001b[0;32m    549\u001b[0m             response = self.parent.error(\n\u001b[1;32m--> 550\u001b[1;33m                 'http', request, response, code, msg, hdrs)\n\u001b[0m\u001b[0;32m    551\u001b[0m \u001b[1;33m\u001b[0m\u001b[0m\n\u001b[0;32m    552\u001b[0m         \u001b[1;32mreturn\u001b[0m \u001b[0mresponse\u001b[0m\u001b[1;33m\u001b[0m\u001b[0m\n",
      "\u001b[1;32mC:\\Anaconda2\\envs\\dato-env\\lib\\urllib2.pyc\u001b[0m in \u001b[0;36merror\u001b[1;34m(self, proto, *args)\u001b[0m\n\u001b[0;32m    473\u001b[0m         \u001b[1;32mif\u001b[0m \u001b[0mhttp_err\u001b[0m\u001b[1;33m:\u001b[0m\u001b[1;33m\u001b[0m\u001b[0m\n\u001b[0;32m    474\u001b[0m             \u001b[0margs\u001b[0m \u001b[1;33m=\u001b[0m \u001b[1;33m(\u001b[0m\u001b[0mdict\u001b[0m\u001b[1;33m,\u001b[0m \u001b[1;34m'default'\u001b[0m\u001b[1;33m,\u001b[0m \u001b[1;34m'http_error_default'\u001b[0m\u001b[1;33m)\u001b[0m \u001b[1;33m+\u001b[0m \u001b[0morig_args\u001b[0m\u001b[1;33m\u001b[0m\u001b[0m\n\u001b[1;32m--> 475\u001b[1;33m             \u001b[1;32mreturn\u001b[0m \u001b[0mself\u001b[0m\u001b[1;33m.\u001b[0m\u001b[0m_call_chain\u001b[0m\u001b[1;33m(\u001b[0m\u001b[1;33m*\u001b[0m\u001b[0margs\u001b[0m\u001b[1;33m)\u001b[0m\u001b[1;33m\u001b[0m\u001b[0m\n\u001b[0m\u001b[0;32m    476\u001b[0m \u001b[1;33m\u001b[0m\u001b[0m\n\u001b[0;32m    477\u001b[0m \u001b[1;31m# XXX probably also want an abstract factory that knows when it makes\u001b[0m\u001b[1;33m\u001b[0m\u001b[1;33m\u001b[0m\u001b[0m\n",
      "\u001b[1;32mC:\\Anaconda2\\envs\\dato-env\\lib\\urllib2.pyc\u001b[0m in \u001b[0;36m_call_chain\u001b[1;34m(self, chain, kind, meth_name, *args)\u001b[0m\n\u001b[0;32m    407\u001b[0m             \u001b[0mfunc\u001b[0m \u001b[1;33m=\u001b[0m \u001b[0mgetattr\u001b[0m\u001b[1;33m(\u001b[0m\u001b[0mhandler\u001b[0m\u001b[1;33m,\u001b[0m \u001b[0mmeth_name\u001b[0m\u001b[1;33m)\u001b[0m\u001b[1;33m\u001b[0m\u001b[0m\n\u001b[0;32m    408\u001b[0m \u001b[1;33m\u001b[0m\u001b[0m\n\u001b[1;32m--> 409\u001b[1;33m             \u001b[0mresult\u001b[0m \u001b[1;33m=\u001b[0m \u001b[0mfunc\u001b[0m\u001b[1;33m(\u001b[0m\u001b[1;33m*\u001b[0m\u001b[0margs\u001b[0m\u001b[1;33m)\u001b[0m\u001b[1;33m\u001b[0m\u001b[0m\n\u001b[0m\u001b[0;32m    410\u001b[0m             \u001b[1;32mif\u001b[0m \u001b[0mresult\u001b[0m \u001b[1;32mis\u001b[0m \u001b[1;32mnot\u001b[0m \u001b[0mNone\u001b[0m\u001b[1;33m:\u001b[0m\u001b[1;33m\u001b[0m\u001b[0m\n\u001b[0;32m    411\u001b[0m                 \u001b[1;32mreturn\u001b[0m \u001b[0mresult\u001b[0m\u001b[1;33m\u001b[0m\u001b[0m\n",
      "\u001b[1;32mC:\\Anaconda2\\envs\\dato-env\\lib\\urllib2.pyc\u001b[0m in \u001b[0;36mhttp_error_default\u001b[1;34m(self, req, fp, code, msg, hdrs)\u001b[0m\n\u001b[0;32m    556\u001b[0m \u001b[1;32mclass\u001b[0m \u001b[0mHTTPDefaultErrorHandler\u001b[0m\u001b[1;33m(\u001b[0m\u001b[0mBaseHandler\u001b[0m\u001b[1;33m)\u001b[0m\u001b[1;33m:\u001b[0m\u001b[1;33m\u001b[0m\u001b[0m\n\u001b[0;32m    557\u001b[0m     \u001b[1;32mdef\u001b[0m \u001b[0mhttp_error_default\u001b[0m\u001b[1;33m(\u001b[0m\u001b[0mself\u001b[0m\u001b[1;33m,\u001b[0m \u001b[0mreq\u001b[0m\u001b[1;33m,\u001b[0m \u001b[0mfp\u001b[0m\u001b[1;33m,\u001b[0m \u001b[0mcode\u001b[0m\u001b[1;33m,\u001b[0m \u001b[0mmsg\u001b[0m\u001b[1;33m,\u001b[0m \u001b[0mhdrs\u001b[0m\u001b[1;33m)\u001b[0m\u001b[1;33m:\u001b[0m\u001b[1;33m\u001b[0m\u001b[0m\n\u001b[1;32m--> 558\u001b[1;33m         \u001b[1;32mraise\u001b[0m \u001b[0mHTTPError\u001b[0m\u001b[1;33m(\u001b[0m\u001b[0mreq\u001b[0m\u001b[1;33m.\u001b[0m\u001b[0mget_full_url\u001b[0m\u001b[1;33m(\u001b[0m\u001b[1;33m)\u001b[0m\u001b[1;33m,\u001b[0m \u001b[0mcode\u001b[0m\u001b[1;33m,\u001b[0m \u001b[0mmsg\u001b[0m\u001b[1;33m,\u001b[0m \u001b[0mhdrs\u001b[0m\u001b[1;33m,\u001b[0m \u001b[0mfp\u001b[0m\u001b[1;33m)\u001b[0m\u001b[1;33m\u001b[0m\u001b[0m\n\u001b[0m\u001b[0;32m    559\u001b[0m \u001b[1;33m\u001b[0m\u001b[0m\n\u001b[0;32m    560\u001b[0m \u001b[1;32mclass\u001b[0m \u001b[0mHTTPRedirectHandler\u001b[0m\u001b[1;33m(\u001b[0m\u001b[0mBaseHandler\u001b[0m\u001b[1;33m)\u001b[0m\u001b[1;33m:\u001b[0m\u001b[1;33m\u001b[0m\u001b[0m\n",
      "\u001b[1;31mHTTPError\u001b[0m: HTTP Error 503: backend read error"
     ]
    }
   ],
   "source": [
    "#Load data into a pandas dataframe\n",
    "# Movielens data with 100,000 records\n",
    "url = 'https://raw.githubusercontent.com/ppadebettu/CUNY/IS-607-Data-Acquisition-and-Management/IS643/Project_2/movielens.csv'\n",
    "df = pd.read_csv(url, sep = \",\" , header = 0, na_values='NaN')\n"
   ]
  },
  {
   "cell_type": "code",
   "execution_count": null,
   "metadata": {
    "collapsed": false
   },
   "outputs": [],
   "source": [
    "#Check columns\n",
    "#df.columns"
   ]
  },
  {
   "cell_type": "markdown",
   "metadata": {},
   "source": [
    "<b>Some data exploration:"
   ]
  },
  {
   "cell_type": "code",
   "execution_count": null,
   "metadata": {
    "collapsed": false
   },
   "outputs": [],
   "source": [
    "#What are the 10 most rated movies?\n",
    "most_rated = df.groupby('movietitle').size().sort_values(ascending=False)[:10]\n",
    "most_rated"
   ]
  },
  {
   "cell_type": "code",
   "execution_count": null,
   "metadata": {
    "collapsed": false
   },
   "outputs": [],
   "source": [
    "#Which movies are highly rated?\n",
    "movie_stats = df.groupby('movietitle').agg({'rating': [np.size, np.mean]})\n",
    "movie_stats.head()\n",
    "\n"
   ]
  },
  {
   "cell_type": "code",
   "execution_count": null,
   "metadata": {
    "collapsed": false
   },
   "outputs": [],
   "source": [
    "#Sort by movie rating average\n",
    "movie_stats.sort_values([('rating', 'mean')], ascending=False).head()"
   ]
  },
  {
   "cell_type": "code",
   "execution_count": null,
   "metadata": {
    "collapsed": false
   },
   "outputs": [],
   "source": [
    "#Movies that have been rated at least 100 times.\n",
    "atleast_100 = movie_stats['rating']['size'] >= 100\n",
    "movie_stats[atleast_100].sort_values([('rating', 'mean')], ascending=False)[:5]"
   ]
  },
  {
   "cell_type": "code",
   "execution_count": null,
   "metadata": {
    "collapsed": false
   },
   "outputs": [],
   "source": [
    "atmost_5 = movie_stats['rating']['size'] <= 5\n",
    "movie_stats[atmost_5].sort_values([('rating', 'mean')], ascending=False)[:5]"
   ]
  },
  {
   "cell_type": "markdown",
   "metadata": {},
   "source": [
    "<b> Load 100K movie data as Python dictionary:"
   ]
  },
  {
   "cell_type": "code",
   "execution_count": null,
   "metadata": {
    "collapsed": false
   },
   "outputs": [],
   "source": [
    "# Get movie titles\n",
    "import urllib2\n",
    "url = 'https://raw.githubusercontent.com/prcuny/DATA643/master/Project-2/'\n",
    "movies={}\n",
    "response = urllib2.urlopen(url + 'u.item')\n",
    "for line in response:    \n",
    "        (id,title)=line.split('|')[0:2]\n",
    "        movies[id]=title\n"
   ]
  },
  {
   "cell_type": "code",
   "execution_count": null,
   "metadata": {
    "collapsed": false
   },
   "outputs": [],
   "source": [
    "# Load user ratings\n",
    "mdict={}\n",
    "response = urllib2.urlopen(url + 'u.data')\n",
    "for line in response:\n",
    "       (user,movieid,rating,ts)=line.split('\\t')\n",
    "       mdict.setdefault(user,{})\n",
    "       mdict[user][movies[movieid]]=float(rating)\n"
   ]
  },
  {
   "cell_type": "markdown",
   "metadata": {},
   "source": [
    "\n",
    "<b>Some data exploration:\n",
    "</b><br>\n",
    "Print first 2 users and ratings"
   ]
  },
  {
   "cell_type": "code",
   "execution_count": null,
   "metadata": {
    "collapsed": false
   },
   "outputs": [],
   "source": [
    "#Adapted from http://stackoverflow.com/questions/7971618/python-return-first-n-keyvalue-pairs-from-dict\n",
    "from itertools import islice\n",
    "def take(n, iterable):\n",
    "    \"Return first n items of the iterable as a list\"\n",
    "    return list(islice(iterable, n ))\n",
    "#take(2, mdict.iteritems())  \n",
    "#Too Long output. \n",
    "#Try to output one user's ratings instead\n",
    "#user '20' and ratings\n",
    "#mdict['20']\n"
   ]
  },
  {
   "cell_type": "markdown",
   "metadata": {},
   "source": [
    "\n",
    "<b> Generate dataframe from dictionary"
   ]
  },
  {
   "cell_type": "code",
   "execution_count": null,
   "metadata": {
    "collapsed": false
   },
   "outputs": [],
   "source": [
    "df_fromDict = pd.DataFrame.from_dict(mdict, orient='index')\n",
    "df_fromDict.head()"
   ]
  },
  {
   "cell_type": "markdown",
   "metadata": {},
   "source": [
    "### Normalization with center mean"
   ]
  },
  {
   "cell_type": "markdown",
   "metadata": {},
   "source": [
    "- Normalized dataframe and fill NaN with 0"
   ]
  },
  {
   "cell_type": "code",
   "execution_count": null,
   "metadata": {
    "collapsed": false
   },
   "outputs": [],
   "source": [
    "df_norm1 = df_fromDict.apply(lambda x: x - x.mean(), axis =1) # row-wise operation"
   ]
  },
  {
   "cell_type": "code",
   "execution_count": null,
   "metadata": {
    "collapsed": false
   },
   "outputs": [],
   "source": [
    "df_norm = df_norm1.fillna(0) #fill NaN with 0\n",
    "df_norm.head()"
   ]
  },
  {
   "cell_type": "markdown",
   "metadata": {},
   "source": [
    "- Normalized dictionary with NaN removed"
   ]
  },
  {
   "cell_type": "code",
   "execution_count": null,
   "metadata": {
    "collapsed": false
   },
   "outputs": [],
   "source": [
    "dict_norm1 = df_norm1.to_dict(orient = \"records\") # list of dictionary"
   ]
  },
  {
   "cell_type": "code",
   "execution_count": null,
   "metadata": {
    "collapsed": false
   },
   "outputs": [],
   "source": [
    "dict_norm2 = {df_norm.index[i]: dict_norm1[i] for i in range(len(dict_norm1))} # dict of dict"
   ]
  },
  {
   "cell_type": "code",
   "execution_count": null,
   "metadata": {
    "collapsed": false
   },
   "outputs": [],
   "source": [
    "# Remove NaN \n",
    "from math import isnan\n",
    "dict_norm = {}\n",
    "# count = 0\n",
    "for key, value in dict_norm2.iteritems():\n",
    "    dict_temp = {}\n",
    "    for key1, value1 in dict_norm2[key].iteritems():\n",
    "        if not isnan(value1):\n",
    "            dict_temp[key1] = value1\n",
    "#     if count==0:\n",
    "#         print len(dict_temp)\n",
    "#         print key\n",
    "#     count = 1\n",
    "    dict_norm[key] = dict_temp"
   ]
  },
  {
   "cell_type": "markdown",
   "metadata": {},
   "source": [
    "### User-User Collaborative Filtering\n",
    "### UUCF using python dictionry"
   ]
  },
  {
   "cell_type": "markdown",
   "metadata": {},
   "source": [
    "<b> Cosine Distance (User to User)"
   ]
  },
  {
   "cell_type": "code",
   "execution_count": null,
   "metadata": {
    "collapsed": false
   },
   "outputs": [],
   "source": [
    "#Function that returns a cosine-based similarity score for person1 and person2\n",
    "def sim_cosine(dict, p1,p2):\n",
    "#Get the list of mutually rated items, ignore items that were not rated by either person\n",
    " si = {}\n",
    " p1set = []\n",
    " p2set = []\n",
    " for item in dict[p1]:\n",
    "       if (item in dict[p2]) and not(np.isnan(dict[p2][item])) and not(np.isnan(dict[p1][item])) :\n",
    "          si[item] = 1\n",
    "#If they have no rating in common, return 0\n",
    " if len(si) == 0: \n",
    "  return 0\n",
    " p1set = [dict[p1][item] for item in si.keys()]\n",
    " p2set = [dict[p2][item] for item in si.keys()]\n",
    " return (1 - spatial.distance.cosine(p1set, p2set))\n"
   ]
  },
  {
   "cell_type": "code",
   "execution_count": null,
   "metadata": {
    "collapsed": false
   },
   "outputs": [],
   "source": [
    "# Test the Cosine-based similarity function\n",
    "round(sim_cosine(mdict,'2','30'), 4) # With orginal data"
   ]
  },
  {
   "cell_type": "code",
   "execution_count": null,
   "metadata": {
    "collapsed": false
   },
   "outputs": [],
   "source": [
    "round(sim_cosine(dict_norm,'2','30'), 4) # With normalized data"
   ]
  },
  {
   "cell_type": "markdown",
   "metadata": {},
   "source": [
    "Cosine based similarities should, in principle, be similar in nature for both the normalized and non-normalized data. In other words, if the similarity is very high for un normalized data, it should bbe close to 1 in the normalized data. However, we observe widely different outputs from our functions. This may need further investigation."
   ]
  },
  {
   "cell_type": "markdown",
   "metadata": {},
   "source": [
    "<b> UUCF (python dictionary) Recommendations using cosine distance weighting: "
   ]
  },
  {
   "cell_type": "code",
   "execution_count": null,
   "metadata": {
    "collapsed": false
   },
   "outputs": [],
   "source": [
    "#Function that returns 'n' recommendations for a person by using a weighted average of every other user's rankings\n",
    "#Code adapted from https://github.com/arthur-e/Programming-Collective-Intelligence/blob/master/chapter2/recommendations.py\n",
    "#Additional changes were added to exclude movies that were not rated or that have zero ratings\n",
    "\n",
    "def getRecommendations(n, dict,person,similarity=sim_cosine):\n",
    " totals = {}\n",
    " simSums = {}\n",
    "\n",
    " for other in dict:\n",
    "  #don't compare me to myself\n",
    "  if other == person:\n",
    "   continue\n",
    "  sim = similarity(dict,person,other)\n",
    "  #ignore scores of zero or lower\n",
    "  if sim <= 0: \n",
    "   continue\n",
    "  for item in dict[other]:\n",
    "   #only score movies I haven't rated yet\n",
    "   if (item not in dict[person]) or (dict[person][item] == 0) or (np.isnan(dict[person][item])) :\n",
    "    #Similarity * score\n",
    "    totals.setdefault(item,0)\n",
    "    totals[item] += not(np.isnan(dict[other][item] * sim))\n",
    "    #Sum of similarities\n",
    "    simSums.setdefault(item,0)\n",
    "    simSums[item] += sim\n",
    "\n",
    "    #Create the normalized list\n",
    " rankings = [(total/simSums[item],item) for item,total in totals.items()]\n",
    "\n",
    " #Return the sorted list\n",
    " rankings.sort()\n",
    " rankings.reverse()\n",
    " return rankings[0:n]\n"
   ]
  },
  {
   "cell_type": "markdown",
   "metadata": {},
   "source": [
    "<b> Get top 10 recommendations for user '20' using User-User CF"
   ]
  },
  {
   "cell_type": "code",
   "execution_count": null,
   "metadata": {
    "collapsed": false
   },
   "outputs": [],
   "source": [
    "#Test getRecommendations function\n",
    "getRecommendations(10, mdict,'20',similarity=sim_cosine) # with original data"
   ]
  },
  {
   "cell_type": "markdown",
   "metadata": {},
   "source": [
    "### UU-CF using pandas dataframe"
   ]
  },
  {
   "cell_type": "code",
   "execution_count": null,
   "metadata": {
    "collapsed": true
   },
   "outputs": [],
   "source": [
    "# function takes in a data frame, what you want to predict pred_id, \n",
    "#the type of collaboration, the similarity you want\n",
    "# to use, and the number of responses you want to get back\n",
    "## Code adapted from https://blog.liip.ch/archive/2016/06/16/recommender-system-slack-pandas-flask.html\n",
    "\n",
    "def predict_p(dframe, pred_id, kind = 'user', similarity = cosine_similarity, n = 10):\n",
    "    d = dframe.fillna(0)\n",
    "    if kind == 'user':\n",
    "        dists = similarity(d)\n",
    "        dists_named = pd.DataFrame(dists, columns = d.index)\n",
    "        dists_named.index = dists_named.columns\n",
    "        \n",
    "    elif kind == 'item':\n",
    "        d = d.T\n",
    "        dists = similarity(d)\n",
    "        dists_named = pd.DataFrame(dists, columns = d.index)\n",
    "        dists_named.index = dists_named.columns\n",
    "\n",
    "    p = dists_named[pred_id].sort_values(ascending = False)\n",
    "    mask = p.index.isin([pred_id])\n",
    "    p = p[~mask]\n",
    "    return p[:n]   "
   ]
  },
  {
   "cell_type": "code",
   "execution_count": null,
   "metadata": {
    "collapsed": false
   },
   "outputs": [],
   "source": [
    "df.head()"
   ]
  },
  {
   "cell_type": "code",
   "execution_count": null,
   "metadata": {
    "collapsed": false
   },
   "outputs": [],
   "source": [
    "# convert to wide format for analysis\n",
    "d = df.pivot_table(index = 'userid', columns = 'movietitle', values = 'rating')\n",
    "del d.index.name\n",
    "\n",
    "# normalized dataframe\n",
    "d_norm1 = d.apply(lambda x: x - x.mean(), axis =1) # row-wise operation\n",
    "d_norm = d_norm1.fillna(0)\n",
    "\n",
    "# original dataframe\n",
    "#d = d.fillna(0)\n",
    "d.head()"
   ]
  },
  {
   "cell_type": "code",
   "execution_count": null,
   "metadata": {
    "collapsed": false
   },
   "outputs": [],
   "source": [
    "d_norm.head()"
   ]
  },
  {
   "cell_type": "markdown",
   "metadata": {},
   "source": [
    "<b> User-User Collaborative Filtering using cosine distance"
   ]
  },
  {
   "cell_type": "markdown",
   "metadata": {},
   "source": [
    "<b>Predictions based on user-user cosine distance"
   ]
  },
  {
   "cell_type": "code",
   "execution_count": null,
   "metadata": {
    "collapsed": false
   },
   "outputs": [],
   "source": [
    "# Predict based on user/user\n",
    "## At present this gives the closest users\n",
    "predict_p(d, pred_id = 290, kind = 'user') # With original data"
   ]
  },
  {
   "cell_type": "code",
   "execution_count": 166,
   "metadata": {
    "collapsed": false
   },
   "outputs": [
    {
     "data": {
      "text/plain": [
       "70     0.323139\n",
       "275    0.279290\n",
       "746    0.233377\n",
       "536    0.233276\n",
       "901    0.231759\n",
       "638    0.231161\n",
       "545    0.219109\n",
       "896    0.218910\n",
       "807    0.216560\n",
       "56     0.215462\n",
       "Name: 290, dtype: float64"
      ]
     },
     "execution_count": 166,
     "metadata": {},
     "output_type": "execute_result"
    }
   ],
   "source": [
    "predict_p(d_norm, pred_id = 290, kind = 'user') # With normalized data"
   ]
  },
  {
   "cell_type": "markdown",
   "metadata": {},
   "source": [
    "<b> UU-CF (pandas) Recommendations"
   ]
  },
  {
   "cell_type": "code",
   "execution_count": 167,
   "metadata": {
    "collapsed": false
   },
   "outputs": [],
   "source": [
    "# Recommend items based on User similarity\n",
    "def get_recommendations_user(dframe, pred_id, similarity = cosine_similarity, n = 10):\n",
    "    d = dframe.fillna(0)\n",
    "    t = d.ix[predict_p(d, pred_id = pred_id, n = n).index]\n",
    "    #t.ix[:,:10]\n",
    "    p = d.ix[pred_id].values != 0\n",
    "\n",
    "\n",
    "\n",
    "    r = t.T.ix[~p].T\n",
    "    # Delete those columns that all contain all 0, meaning that they have not been rated\n",
    "    r = r.loc[:, (r != 0).any(axis=0)]\n",
    "    # Have to rename the columns as we keep on getting an error\n",
    "    cols = r.columns\n",
    "    r.columns =  range(1, 1+ r.shape[1])\n",
    "    # Calculate the mean ratings for the movies\n",
    "    ratings = r.sum(axis = 0)/r.astype(bool).sum(axis= 0)\n",
    "    ratings.index = cols\n",
    "    return ratings.sort_values(axis = 0, ascending = False, \n",
    "                inplace = False, na_position = 'last')[:n]\n",
    "    "
   ]
  },
  {
   "cell_type": "markdown",
   "metadata": {},
   "source": [
    "<b> Get top 10 recommendations (UUCF/pandas)"
   ]
  },
  {
   "cell_type": "code",
   "execution_count": 168,
   "metadata": {
    "collapsed": false
   },
   "outputs": [
    {
     "data": {
      "text/plain": [
       "movietitle\n",
       "Enchanted April (1991)          5.0\n",
       "Ran (1985)                      5.0\n",
       "Perfect World, A (1993)         5.0\n",
       "Persuasion (1995)               5.0\n",
       "Little Princess, A (1995)       5.0\n",
       "My Man Godfrey (1936)           5.0\n",
       "Shadowlands (1993)              5.0\n",
       "Sense and Sensibility (1995)    5.0\n",
       "Army of Darkness (1993)         5.0\n",
       "That Thing You Do! (1996)       5.0\n",
       "dtype: float64"
      ]
     },
     "execution_count": 168,
     "metadata": {},
     "output_type": "execute_result"
    }
   ],
   "source": [
    "#Unnormalized data\n",
    "get_recommendations_user(d, pred_id = 290, similarity = cosine_similarity, n = 10) # With original data"
   ]
  },
  {
   "cell_type": "code",
   "execution_count": 169,
   "metadata": {
    "collapsed": false
   },
   "outputs": [
    {
     "data": {
      "text/plain": [
       "254    NaN\n",
       "738    NaN\n",
       "881    NaN\n",
       "42     NaN\n",
       "545    NaN\n",
       "804    NaN\n",
       "650    NaN\n",
       "275    NaN\n",
       "815    NaN\n",
       "536    5.0\n",
       "Name: Enchanted April (1991), dtype: float64"
      ]
     },
     "execution_count": 169,
     "metadata": {},
     "output_type": "execute_result"
    }
   ],
   "source": [
    "# Check the results\n",
    "cut = [254, 738,881, 42,545,804,650,275,815,536]\n",
    "d.loc[cut,'Enchanted April (1991)']\n"
   ]
  },
  {
   "cell_type": "markdown",
   "metadata": {},
   "source": [
    "<b> Problem with sparse data</b><br>\n",
    "\n",
    "Some of the movies are rated by only one user. If this user rates the movie 5 stars, then other users are recommended based on the ratings of this single rating causing the predicted rating to be very high. This can be fixed by limiting the input datasets to movies with a mainimum number of ratings (<i>e.g.</i> 20.\n"
   ]
  },
  {
   "cell_type": "code",
   "execution_count": 170,
   "metadata": {
    "collapsed": false
   },
   "outputs": [
    {
     "data": {
      "text/plain": [
       "movietitle\n",
       "Raise the Red Lantern (1991)       2.612903\n",
       "As Good As It Gets (1997)          1.640000\n",
       "Good Will Hunting (1997)           1.620533\n",
       "Titanic (1997)                     1.386113\n",
       "Get on the Bus (1996)              1.171875\n",
       "Empire Strikes Back, The (1980)    1.171875\n",
       "Raiders of the Lost Ark (1981)     1.171875\n",
       "Hard Eight (1996)                  1.171875\n",
       "Star Wars (1977)                   1.171875\n",
       "Clerks (1994)                      1.171875\n",
       "dtype: float64"
      ]
     },
     "execution_count": 170,
     "metadata": {},
     "output_type": "execute_result"
    }
   ],
   "source": [
    "get_recommendations_user(d_norm, pred_id = 29, similarity = cosine_similarity, n = 10) # With normalized data"
   ]
  },
  {
   "cell_type": "code",
   "execution_count": 171,
   "metadata": {
    "collapsed": false
   },
   "outputs": [
    {
     "data": {
      "text/html": [
       "<div>\n",
       "<table border=\"1\" class=\"dataframe\">\n",
       "  <thead>\n",
       "    <tr style=\"text-align: right;\">\n",
       "      <th></th>\n",
       "      <th>0</th>\n",
       "    </tr>\n",
       "    <tr>\n",
       "      <th>movietitle</th>\n",
       "      <th></th>\n",
       "    </tr>\n",
       "  </thead>\n",
       "  <tbody>\n",
       "    <tr>\n",
       "      <th>Cop Land (1997)</th>\n",
       "      <td>2.019337</td>\n",
       "    </tr>\n",
       "    <tr>\n",
       "      <th>Citizen Kane (1941)</th>\n",
       "      <td>2.019337</td>\n",
       "    </tr>\n",
       "    <tr>\n",
       "      <th>Fried Green Tomatoes (1991)</th>\n",
       "      <td>2.019337</td>\n",
       "    </tr>\n",
       "    <tr>\n",
       "      <th>Philadelphia Story, The (1940)</th>\n",
       "      <td>2.019337</td>\n",
       "    </tr>\n",
       "    <tr>\n",
       "      <th>Devil in a Blue Dress (1995)</th>\n",
       "      <td>2.019337</td>\n",
       "    </tr>\n",
       "  </tbody>\n",
       "</table>\n",
       "</div>"
      ],
      "text/plain": [
       "                                       0\n",
       "movietitle                              \n",
       "Cop Land (1997)                 2.019337\n",
       "Citizen Kane (1941)             2.019337\n",
       "Fried Green Tomatoes (1991)     2.019337\n",
       "Philadelphia Story, The (1940)  2.019337\n",
       "Devil in a Blue Dress (1995)    2.019337"
      ]
     },
     "execution_count": 171,
     "metadata": {},
     "output_type": "execute_result"
    }
   ],
   "source": [
    "r = pd.DataFrame(get_recommendations_user(d_norm, pred_id = 290, similarity = cosine_similarity, n = 10))\n",
    "# With normalized data\n",
    "mean_ratings = d[d.index ==290].mean(axis = 1)\n",
    "\n",
    "r + float(mean_ratings)\n",
    "r.head()"
   ]
  },
  {
   "cell_type": "code",
   "execution_count": 172,
   "metadata": {
    "collapsed": false
   },
   "outputs": [
    {
     "data": {
      "text/plain": [
       "movietitle\n",
       "Cop Land (1997)                   3.377143\n",
       "Citizen Kane (1941)               4.292929\n",
       "Fried Green Tomatoes (1991)       3.764706\n",
       "Philadelphia Story, The (1940)    4.115385\n",
       "Devil in a Blue Dress (1995)      3.385965\n",
       "dtype: float64"
      ]
     },
     "execution_count": 172,
     "metadata": {},
     "output_type": "execute_result"
    }
   ],
   "source": [
    "\n",
    "mean_ratings = d[r.index.values].apply(lambda x: x.mean(), axis =0)\n",
    "mean_ratings.head()"
   ]
  },
  {
   "cell_type": "markdown",
   "metadata": {},
   "source": [
    "### Item-Item Collaborative Filtering\n",
    "### II-CF using python dictionry"
   ]
  },
  {
   "cell_type": "markdown",
   "metadata": {},
   "source": [
    "<b> Transpose the user-item matrix to item-user matrix"
   ]
  },
  {
   "cell_type": "code",
   "execution_count": 173,
   "metadata": {
    "collapsed": true
   },
   "outputs": [],
   "source": [
    "#Flip items and users\n",
    "def item_user_switch(df):\n",
    "    results={}\n",
    "    for uid in df:\n",
    "        for movie in df[uid]:\n",
    "            results.setdefault(movie, {})\n",
    "            #Flip movie & user\n",
    "            results[movie][uid]=df[uid][movie]\n",
    "    return results\n",
    "##code adapted from http://aimotion.blogspot.com/2009/11/collaborative-filtering-implementation.html"
   ]
  },
  {
   "cell_type": "code",
   "execution_count": 174,
   "metadata": {
    "collapsed": true
   },
   "outputs": [],
   "source": [
    "#Transpose user:item to item:user dictionary\n",
    "mdict_rev = item_user_switch(mdict)"
   ]
  },
  {
   "cell_type": "code",
   "execution_count": 175,
   "metadata": {
    "collapsed": false
   },
   "outputs": [
    {
     "name": "stdout",
     "output_type": "stream",
     "text": [
      "\"Young Poisoner's Handbook, The (1995)\": \n",
      " {'590': 4.0, '592': 4.0, '595': 4.0, '456': 3.0, '634': 4.0, '276': 4.0, '486': 3.0, '279': 1.0, '490': 4.0, '118': 5.0, '857': 3.0, '21': 2.0, '49': 5.0, '871': 3.0, '181': 1.0, '342': 5.0, '420': 4.0, '936': 5.0, '473': 3.0, '582': 4.0, '7': 3.0, '773': 4.0, '758': 5.0, '617': 1.0, '76': 2.0, '246': 4.0, '387': 4.0, '90': 3.0, '655': 4.0, '868': 3.0, '13': 1.0, '59': 3.0, '861': 4.0, '865': 5.0, '50': 4.0, '537': 1.0, '518': 3.0, '828': 2.0, '294': 3.0, '372': 5.0, '430': 2.0}\n",
      "\n",
      " \"Window to Paris (1994\": \n",
      " {'279': 4.0}\n"
     ]
    }
   ],
   "source": [
    "#Check the data\n",
    "x = mdict_rev[\"Young Poisoner's Handbook, The (1995)\"]\n",
    "y = mdict_rev[\"Window to Paris (1994)\"]\n",
    "print \"\\\"Young Poisoner\\'s Handbook, The (1995)\\\": \\n %s\" % x\n",
    "print \"\\n \\\"Window to Paris (1994\\\": \\n %s\" % y\n"
   ]
  },
  {
   "cell_type": "code",
   "execution_count": 176,
   "metadata": {
    "collapsed": false
   },
   "outputs": [
    {
     "data": {
      "text/plain": [
       "1.0"
      ]
     },
     "execution_count": 176,
     "metadata": {},
     "output_type": "execute_result"
    }
   ],
   "source": [
    "#Check cosine distance\n",
    "sim_cosine(mdict_rev, \"Young Poisoner's Handbook, The (1995)\", 'Window to Paris (1994)')"
   ]
  },
  {
   "cell_type": "code",
   "execution_count": 177,
   "metadata": {
    "collapsed": true
   },
   "outputs": [],
   "source": [
    "#Get top n (=5) similar movies for a selected movie\n",
    "def topSim(itemdict, movie, n=5, similarity=sim_cosine):\n",
    "    scores = [(similarity(itemdict, movie, movie2), movie2) \n",
    "              for movie2 in itemdict if movie2!=movie]\n",
    "    scores.sort()\n",
    "    scores.reverse()\n",
    "    return scores[0:n]"
   ]
  },
  {
   "cell_type": "code",
   "execution_count": 178,
   "metadata": {
    "collapsed": false
   },
   "outputs": [
    {
     "data": {
      "text/plain": [
       "[(1.0, \"Young Poisoner's Handbook, The (1995)\"),\n",
       " (1.0, 'Young Frankenstein (1974)'),\n",
       " (1.0, 'Wrong Trousers, The (1993)'),\n",
       " (1.0, 'Wizard of Oz, The (1939)'),\n",
       " (1.0, 'Winnie the Pooh and the Blustery Day (1968)'),\n",
       " (1.0, 'Willy Wonka and the Chocolate Factory (1971)'),\n",
       " (1.0, \"William Shakespeare's Romeo and Juliet (1996)\"),\n",
       " (1.0, 'Wild Bill (1995)'),\n",
       " (1.0, 'While You Were Sleeping (1995)'),\n",
       " (1.0, 'When We Were Kings (1996)')]"
      ]
     },
     "execution_count": 178,
     "metadata": {},
     "output_type": "execute_result"
    }
   ],
   "source": [
    "topSim(mdict_rev, 'Window to Paris (1994)', 10)\n",
    "#Note that all top similar items have same cosine distance (=1)."
   ]
  },
  {
   "cell_type": "markdown",
   "metadata": {},
   "source": [
    "<b> Score for the top similar item: </b><br>\n",
    "Although the top items predicted have score 1 each (based on cosine similarity), a detailed look of the data revealed that the predicted movied are mostly rated by only one user with a very high rating. "
   ]
  },
  {
   "cell_type": "code",
   "execution_count": 179,
   "metadata": {
    "collapsed": false
   },
   "outputs": [
    {
     "data": {
      "text/plain": [
       "movietitle\n",
       "Farmer & Chase (1995)          1.000000\n",
       "Modern Affair, A (1995)        1.000000\n",
       "Mostro, Il (1994)              1.000000\n",
       "Girl in the Cadillac (1995)    1.000000\n",
       "Tough and Deadly (1995)        0.980581\n",
       "Open Season (1996)             0.970143\n",
       "S.F.W. (1994)                  0.894427\n",
       "Shooter, The (1995)            0.784465\n",
       "Phat Beach (1996)              0.750000\n",
       "Fausto (1993)                  0.742781\n",
       "Name: Window to Paris (1994), dtype: float64"
      ]
     },
     "execution_count": 179,
     "metadata": {},
     "output_type": "execute_result"
    }
   ],
   "source": [
    "predict_p(d, pred_id = 'Window to Paris (1994)', kind = 'item')"
   ]
  },
  {
   "cell_type": "code",
   "execution_count": 180,
   "metadata": {
    "collapsed": true
   },
   "outputs": [],
   "source": [
    "#Get top n (=5) recommendations for a user\n",
    "\n",
    "def getRecommendedItems(itemUser, user, n=5, simfunc=sim_cosine):\n",
    "    #switch to item-user dictionary\n",
    "    userItem = item_user_switch(itemUser)\n",
    "    #get movies and ratings for the user\n",
    "    userRatings = userItem[user]\n",
    "    scores = {}\n",
    "    totalSim = {}\n",
    "\n",
    "    #loop over items rated by this user\n",
    "    for (item, rating) in userRatings.items():\n",
    "\n",
    "        #Select top 5 movies similar to the current movie\n",
    "        for (similarity, item2) in topSim(itemUser, item, n=5, similarity=simfunc):\n",
    "\n",
    "            #Ignore movies already rated by the user\n",
    "            if item2 in userRatings:\n",
    "                continue\n",
    "            #Get weighted scores (rating * similarity)and their sums \n",
    "            scores.setdefault(item2,0)\n",
    "            scores[item2] += similarity * rating\n",
    "            #Sum of all the similarities\n",
    "            totalSim.setdefault(item2,0)\n",
    "            totalSim[item2]+=similarity\n",
    "\n",
    "    #Get average score (weighted similarity/total similarity)\n",
    "    rankings = [(round(score/totalSim[item], 2),item) \n",
    "                for item,score in scores.items()]\n",
    "\n",
    "    #Return the rankings (descending)\n",
    "    rankings.sort(reverse=True)\n",
    "    #rankings.reverse()\n",
    "    return rankings[0:n]"
   ]
  },
  {
   "cell_type": "code",
   "execution_count": 181,
   "metadata": {
    "collapsed": false
   },
   "outputs": [
    {
     "data": {
      "text/plain": [
       "[(5.0, 'Wild America (1997)'),\n",
       " (5.0, 'When the Cats Away (Chacun cherche son chat) (1996)'),\n",
       " (5.0, 'What Happened Was... (1994)'),\n",
       " (5.0, 'Washington Square (1997)'),\n",
       " (5.0, 'Walkabout (1971)'),\n",
       " (5.0, 'Virtuosity (1995)'),\n",
       " (5.0, 'Underneath, The (1995)'),\n",
       " (5.0, 'Telling Lies in America (1997)'),\n",
       " (5.0, 'Sphere (1998)'),\n",
       " (5.0, 'Speed 2: Cruise Control (1997)')]"
      ]
     },
     "execution_count": 181,
     "metadata": {},
     "output_type": "execute_result"
    }
   ],
   "source": [
    "#Get top n (=5) recommended items for a user\n",
    "##Takes time.....have patience\n",
    "getRecommendedItems(mdict_rev, '10', 10)"
   ]
  },
  {
   "cell_type": "markdown",
   "metadata": {},
   "source": [
    "### II-CF using pandas dataframe Un Normalized Data"
   ]
  },
  {
   "cell_type": "code",
   "execution_count": 182,
   "metadata": {
    "collapsed": false
   },
   "outputs": [
    {
     "data": {
      "text/plain": [
       "movietitle\n",
       "Farmer & Chase (1995)          1.000000\n",
       "Modern Affair, A (1995)        1.000000\n",
       "Mostro, Il (1994)              1.000000\n",
       "Girl in the Cadillac (1995)    1.000000\n",
       "Tough and Deadly (1995)        0.980581\n",
       "Open Season (1996)             0.970143\n",
       "S.F.W. (1994)                  0.894427\n",
       "Shooter, The (1995)            0.784465\n",
       "Phat Beach (1996)              0.750000\n",
       "Fausto (1993)                  0.742781\n",
       "Name: Window to Paris (1994), dtype: float64"
      ]
     },
     "execution_count": 182,
     "metadata": {},
     "output_type": "execute_result"
    }
   ],
   "source": [
    "# Predict based on item/item\n",
    "predict_p(d, pred_id = 'Window to Paris (1994)', kind = 'item')"
   ]
  },
  {
   "cell_type": "markdown",
   "metadata": {},
   "source": [
    "<b> Explaining the score: </b><br>\n",
    "As discussed above, the score 1 for the predicted movies are primarily due to the movie being rated by only oone user with a very high rating."
   ]
  },
  {
   "cell_type": "markdown",
   "metadata": {},
   "source": [
    "### II-CF (pandas) Recommendations Normalized Data"
   ]
  },
  {
   "cell_type": "code",
   "execution_count": 183,
   "metadata": {
    "collapsed": false
   },
   "outputs": [
    {
     "data": {
      "text/plain": [
       "movietitle\n",
       "Schindler's List (1993)                   0.398994\n",
       "Casablanca (1942)                         0.344384\n",
       "To Kill a Mockingbird (1962)              0.331411\n",
       "Citizen Kane (1941)                       0.328816\n",
       "Shawshank Redemption, The (1994)          0.326825\n",
       "One Flew Over the Cuckoo's Nest (1975)    0.320654\n",
       "Godfather, The (1972)                     0.309454\n",
       "Henry V (1989)                            0.296642\n",
       "Silence of the Lambs, The (1991)          0.287307\n",
       "Star Wars (1977)                          0.280790\n",
       "Name: Amadeus (1984), dtype: float64"
      ]
     },
     "execution_count": 183,
     "metadata": {},
     "output_type": "execute_result"
    }
   ],
   "source": [
    "predict_p(d_norm, pred_id = \"Amadeus (1984)\", kind = 'item')"
   ]
  },
  {
   "cell_type": "markdown",
   "metadata": {},
   "source": [
    "## Content Based Recommendations using Attributes of Movies"
   ]
  },
  {
   "cell_type": "code",
   "execution_count": 184,
   "metadata": {
    "collapsed": false
   },
   "outputs": [
    {
     "data": {
      "text/html": [
       "<div>\n",
       "<table border=\"1\" class=\"dataframe\">\n",
       "  <thead>\n",
       "    <tr style=\"text-align: right;\">\n",
       "      <th></th>\n",
       "      <th>unknown</th>\n",
       "      <th>action</th>\n",
       "      <th>adventure</th>\n",
       "      <th>animation</th>\n",
       "      <th>childrens</th>\n",
       "      <th>comedy</th>\n",
       "      <th>crime</th>\n",
       "      <th>documentary</th>\n",
       "      <th>drama</th>\n",
       "      <th>fantasy</th>\n",
       "      <th>filmnoir</th>\n",
       "      <th>horror</th>\n",
       "      <th>musical</th>\n",
       "      <th>mystery</th>\n",
       "      <th>romance</th>\n",
       "      <th>scifi</th>\n",
       "      <th>thriller</th>\n",
       "      <th>war</th>\n",
       "      <th>western</th>\n",
       "    </tr>\n",
       "  </thead>\n",
       "  <tbody>\n",
       "    <tr>\n",
       "      <th>'Til There Was You (1997)</th>\n",
       "      <td>0</td>\n",
       "      <td>0</td>\n",
       "      <td>0</td>\n",
       "      <td>0</td>\n",
       "      <td>0</td>\n",
       "      <td>0</td>\n",
       "      <td>0</td>\n",
       "      <td>0</td>\n",
       "      <td>1</td>\n",
       "      <td>0</td>\n",
       "      <td>0</td>\n",
       "      <td>0</td>\n",
       "      <td>0</td>\n",
       "      <td>0</td>\n",
       "      <td>1</td>\n",
       "      <td>0</td>\n",
       "      <td>0</td>\n",
       "      <td>0</td>\n",
       "      <td>0</td>\n",
       "    </tr>\n",
       "    <tr>\n",
       "      <th>1-900 (1994)</th>\n",
       "      <td>0</td>\n",
       "      <td>0</td>\n",
       "      <td>0</td>\n",
       "      <td>0</td>\n",
       "      <td>0</td>\n",
       "      <td>0</td>\n",
       "      <td>0</td>\n",
       "      <td>0</td>\n",
       "      <td>0</td>\n",
       "      <td>0</td>\n",
       "      <td>0</td>\n",
       "      <td>0</td>\n",
       "      <td>0</td>\n",
       "      <td>0</td>\n",
       "      <td>1</td>\n",
       "      <td>0</td>\n",
       "      <td>0</td>\n",
       "      <td>0</td>\n",
       "      <td>0</td>\n",
       "    </tr>\n",
       "    <tr>\n",
       "      <th>101 Dalmatians (1996)</th>\n",
       "      <td>0</td>\n",
       "      <td>0</td>\n",
       "      <td>0</td>\n",
       "      <td>0</td>\n",
       "      <td>1</td>\n",
       "      <td>1</td>\n",
       "      <td>0</td>\n",
       "      <td>0</td>\n",
       "      <td>0</td>\n",
       "      <td>0</td>\n",
       "      <td>0</td>\n",
       "      <td>0</td>\n",
       "      <td>0</td>\n",
       "      <td>0</td>\n",
       "      <td>0</td>\n",
       "      <td>0</td>\n",
       "      <td>0</td>\n",
       "      <td>0</td>\n",
       "      <td>0</td>\n",
       "    </tr>\n",
       "    <tr>\n",
       "      <th>12 Angry Men (1957)</th>\n",
       "      <td>0</td>\n",
       "      <td>0</td>\n",
       "      <td>0</td>\n",
       "      <td>0</td>\n",
       "      <td>0</td>\n",
       "      <td>0</td>\n",
       "      <td>0</td>\n",
       "      <td>0</td>\n",
       "      <td>1</td>\n",
       "      <td>0</td>\n",
       "      <td>0</td>\n",
       "      <td>0</td>\n",
       "      <td>0</td>\n",
       "      <td>0</td>\n",
       "      <td>0</td>\n",
       "      <td>0</td>\n",
       "      <td>0</td>\n",
       "      <td>0</td>\n",
       "      <td>0</td>\n",
       "    </tr>\n",
       "    <tr>\n",
       "      <th>187 (1997)</th>\n",
       "      <td>0</td>\n",
       "      <td>0</td>\n",
       "      <td>0</td>\n",
       "      <td>0</td>\n",
       "      <td>0</td>\n",
       "      <td>0</td>\n",
       "      <td>0</td>\n",
       "      <td>0</td>\n",
       "      <td>1</td>\n",
       "      <td>0</td>\n",
       "      <td>0</td>\n",
       "      <td>0</td>\n",
       "      <td>0</td>\n",
       "      <td>0</td>\n",
       "      <td>0</td>\n",
       "      <td>0</td>\n",
       "      <td>0</td>\n",
       "      <td>0</td>\n",
       "      <td>0</td>\n",
       "    </tr>\n",
       "  </tbody>\n",
       "</table>\n",
       "</div>"
      ],
      "text/plain": [
       "                           unknown  action  adventure  animation  childrens  \\\n",
       "'Til There Was You (1997)        0       0          0          0          0   \n",
       "1-900 (1994)                     0       0          0          0          0   \n",
       "101 Dalmatians (1996)            0       0          0          0          1   \n",
       "12 Angry Men (1957)              0       0          0          0          0   \n",
       "187 (1997)                       0       0          0          0          0   \n",
       "\n",
       "                           comedy  crime  documentary  drama  fantasy  \\\n",
       "'Til There Was You (1997)       0      0            0      1        0   \n",
       "1-900 (1994)                    0      0            0      0        0   \n",
       "101 Dalmatians (1996)           1      0            0      0        0   \n",
       "12 Angry Men (1957)             0      0            0      1        0   \n",
       "187 (1997)                      0      0            0      1        0   \n",
       "\n",
       "                           filmnoir  horror  musical  mystery  romance  scifi  \\\n",
       "'Til There Was You (1997)         0       0        0        0        1      0   \n",
       "1-900 (1994)                      0       0        0        0        1      0   \n",
       "101 Dalmatians (1996)             0       0        0        0        0      0   \n",
       "12 Angry Men (1957)               0       0        0        0        0      0   \n",
       "187 (1997)                        0       0        0        0        0      0   \n",
       "\n",
       "                           thriller  war  western  \n",
       "'Til There Was You (1997)         0    0        0  \n",
       "1-900 (1994)                      0    0        0  \n",
       "101 Dalmatians (1996)             0    0        0  \n",
       "12 Angry Men (1957)               0    0        0  \n",
       "187 (1997)                        0    0        0  "
      ]
     },
     "execution_count": 184,
     "metadata": {},
     "output_type": "execute_result"
    }
   ],
   "source": [
    "m = range(13, df.shape[1])\n",
    "m.append(9)\n",
    "temp = df.ix[:,m]\n",
    "d_movies= temp.groupby('movietitle').mean()\n",
    "del d_movies.index.name\n",
    "d_movies.head()"
   ]
  },
  {
   "cell_type": "code",
   "execution_count": 185,
   "metadata": {
    "collapsed": false
   },
   "outputs": [
    {
     "data": {
      "text/plain": [
       "Ghosts of Mississippi (1996)           1.0\n",
       "Mr. Holland's Opus (1995)              1.0\n",
       "Crows and Sparrows (1949)              1.0\n",
       "Crucible, The (1996)                   1.0\n",
       "Cry, the Beloved Country (1995)        1.0\n",
       "Mondo (1996)                           1.0\n",
       "Moll Flanders (1996)                   1.0\n",
       "Small Faces (1995)                     1.0\n",
       "Bitter Sugar (Azucar Amargo) (1996)    1.0\n",
       "Cure, The (1995)                       1.0\n",
       "Name: 12 Angry Men (1957), dtype: float64"
      ]
     },
     "execution_count": 185,
     "metadata": {},
     "output_type": "execute_result"
    }
   ],
   "source": [
    "#predict_p(d_movies, pred_id = \"Amadeus (1984)\", kind = 'user')\n",
    "predict_p(d_movies, pred_id = '12 Angry Men (1957)', kind = 'user', n = 10)\n",
    "\n",
    "#dists = cosine_similarity(d_movies)\n",
    "#dists_named = pd.DataFrame(dists, columns = d_movies.index)\n",
    "#dists_named.index = dists_named.columns\n",
    "\n",
    "#p = dists_named[pred_id].sort_values(ascending = False)\n",
    "#mask = p.index.isin([pred_id])\n",
    "#p = p[~mask]\n",
    "#p[:n]   "
   ]
  },
  {
   "cell_type": "markdown",
   "metadata": {},
   "source": [
    "### Recommender Evaluation"
   ]
  },
  {
   "cell_type": "markdown",
   "metadata": {},
   "source": [
    "<b>Split the dataset into training and testing sets"
   ]
  },
  {
   "cell_type": "code",
   "execution_count": 186,
   "metadata": {
    "collapsed": true
   },
   "outputs": [],
   "source": [
    "from sklearn import cross_validation as cv\n",
    "df1 = df[[\"userid\", \"itemid\", \"rating\"]]\n",
    "df1.columns = [\"userid\", \"itemid\", \"rating\"]\n",
    "train_data, test_data = cv.train_test_split(df1, test_size=0.25)"
   ]
  },
  {
   "cell_type": "code",
   "execution_count": 187,
   "metadata": {
    "collapsed": false
   },
   "outputs": [
    {
     "name": "stdout",
     "output_type": "stream",
     "text": [
      "943 942\n"
     ]
    }
   ],
   "source": [
    "# Check number if users in both training and test datasets\n",
    "print train_data.userid.unique().shape[0], test_data.userid.unique().shape[0]"
   ]
  },
  {
   "cell_type": "code",
   "execution_count": 188,
   "metadata": {
    "collapsed": false
   },
   "outputs": [
    {
     "name": "stdout",
     "output_type": "stream",
     "text": [
      "Number of users = 943 | Number of movies = 1682\n"
     ]
    }
   ],
   "source": [
    "#Some of the code was adapated from \n",
    "#http://online.cambridgecoding.com/notebooks/eWReNYcAfB/implementing-your-own-recommender-systems-in-python-2\n",
    "n_users = df1.userid.unique().shape[0]\n",
    "n_items = df1.itemid.unique().shape[0]\n",
    "print 'Number of users = ' + str(n_users) + ' | Number of movies = ' + str(n_items)  "
   ]
  },
  {
   "cell_type": "code",
   "execution_count": 189,
   "metadata": {
    "collapsed": false
   },
   "outputs": [],
   "source": [
    "#Create two user-item matrices, one for training and another for testing\n",
    "train_data_matrix = np.zeros((n_users, n_items))\n",
    "for line in train_data.itertuples():\n",
    "    train_data_matrix[line[1]-1, line[2]-1] = line[3]  \n",
    "\n",
    "test_data_matrix = np.zeros((n_users, n_items))\n",
    "for line in test_data.itertuples():\n",
    "    test_data_matrix[line[1]-1, line[2]-1] = line[3]"
   ]
  },
  {
   "cell_type": "code",
   "execution_count": 190,
   "metadata": {
    "collapsed": false
   },
   "outputs": [
    {
     "data": {
      "text/plain": [
       "(943L, 1682L)"
      ]
     },
     "execution_count": 190,
     "metadata": {},
     "output_type": "execute_result"
    }
   ],
   "source": [
    "test_data_matrix.shape"
   ]
  },
  {
   "cell_type": "code",
   "execution_count": 191,
   "metadata": {
    "collapsed": true
   },
   "outputs": [],
   "source": [
    "#Calculate the cosine similarity. Note, the output will range from 0 to 1 since the ratings are all positive\n",
    "from sklearn.metrics.pairwise import pairwise_distances\n",
    "user_similarity = pairwise_distances(train_data_matrix, metric='cosine')\n",
    "item_similarity = pairwise_distances(train_data_matrix.T, metric='cosine')"
   ]
  },
  {
   "cell_type": "code",
   "execution_count": 192,
   "metadata": {
    "collapsed": false
   },
   "outputs": [],
   "source": [
    "# Prediction function for user based CF and item based CF \n",
    "def predict(ratings, similarity, type='user'):\n",
    "    if type == 'user':\n",
    "        #mean_user_rating = ratings.mean(axis=1), Added code to ignore zeroes while calculating mean user rating\n",
    "        mean_user_rating = np.apply_along_axis(lambda v: np.mean(v[np.nonzero(v)]), 1, ratings)\n",
    "        mean_user_rating[np.isnan(mean_user_rating)]=0.\n",
    "        #You use np.newaxis so that mean_user_rating has same format as ratings\n",
    "        ratings_diff = (ratings - mean_user_rating[:, np.newaxis]) \n",
    "        pred = mean_user_rating[:, np.newaxis] + (similarity.dot(ratings_diff) / np.array([np.abs(similarity).sum(axis=1)]).T)\n",
    "    elif type == 'item':\n",
    "        pred = ratings.dot(similarity) / np.array([np.abs(similarity).sum(axis=1)])     \n",
    "    return pred"
   ]
  },
  {
   "cell_type": "code",
   "execution_count": 193,
   "metadata": {
    "collapsed": false
   },
   "outputs": [],
   "source": [
    "# Make prediction based on training dataset\n",
    "item_prediction = predict(train_data_matrix, item_similarity, type='item')\n",
    "user_prediction = predict(train_data_matrix, user_similarity, type='user')"
   ]
  },
  {
   "cell_type": "code",
   "execution_count": 194,
   "metadata": {
    "collapsed": false
   },
   "outputs": [
    {
     "data": {
      "text/plain": [
       "array([[ 1.37251406,  0.43569195,  0.34733291, ...,  0.13518439,\n",
       "         0.13509199,  0.13502404],\n",
       "       [ 1.49709202,  0.52721524,  0.40240305, ...,  0.15827081,\n",
       "         0.1597909 ,  0.15992226],\n",
       "       [ 0.62241511, -0.38831349, -0.50413731, ..., -0.75470566,\n",
       "        -0.75288359, -0.75281333],\n",
       "       ..., \n",
       "       [ 1.77991532,  0.86983542,  0.7515377 , ...,  0.51907743,\n",
       "         0.51995136,  0.52000039],\n",
       "       [ 2.028882  ,  1.04658371,  0.95379891, ...,  0.71056605,\n",
       "         0.71146408,  0.71179768],\n",
       "       [ 1.00419442,  0.04209865, -0.0312453 , ..., -0.2440051 ,\n",
       "        -0.2440874 , -0.24400363]])"
      ]
     },
     "execution_count": 194,
     "metadata": {},
     "output_type": "execute_result"
    }
   ],
   "source": [
    "user_prediction"
   ]
  },
  {
   "cell_type": "markdown",
   "metadata": {},
   "source": [
    "<b>Evaluation"
   ]
  },
  {
   "cell_type": "code",
   "execution_count": 195,
   "metadata": {
    "collapsed": true
   },
   "outputs": [],
   "source": [
    "#Evaluate accuracy of predicted ratings using Root Mean Squared Error (RMSE).\n",
    "from sklearn.metrics import mean_squared_error\n",
    "from math import sqrt\n",
    "def rmse(prediction, actual):\n",
    "    prediction = prediction[actual.nonzero()].flatten() \n",
    "    actual = actual[actual.nonzero()].flatten()\n",
    "    return sqrt(mean_squared_error(prediction, actual))"
   ]
  },
  {
   "cell_type": "code",
   "execution_count": 196,
   "metadata": {
    "collapsed": false
   },
   "outputs": [
    {
     "name": "stdout",
     "output_type": "stream",
     "text": [
      "User-based CF RMSE: 3.2986816174\n",
      "Item-based CF RMSE: 3.45280417479\n"
     ]
    }
   ],
   "source": [
    "print 'User-based CF RMSE: ' + str(rmse(user_prediction, test_data_matrix))\n",
    "print 'Item-based CF RMSE: ' + str(rmse(item_prediction, test_data_matrix))"
   ]
  },
  {
   "cell_type": "markdown",
   "metadata": {
    "collapsed": true
   },
   "source": [
    "<b>Accuracy Metrics"
   ]
  },
  {
   "cell_type": "code",
   "execution_count": 197,
   "metadata": {
    "collapsed": false
   },
   "outputs": [
    {
     "name": "stdout",
     "output_type": "stream",
     "text": [
      "0.01108\n"
     ]
    }
   ],
   "source": [
    "#Accuracy Scores for the model\n",
    "pred_values = user_prediction[test_data_matrix.nonzero()].flatten()\n",
    "actual_values = test_data_matrix[test_data_matrix.nonzero()].flatten()\n",
    "from sklearn.metrics import accuracy_score, confusion_matrix, classification_report\n",
    "print accuracy_score(np.array(actual_values), np.around(np.array(pred_values)))"
   ]
  },
  {
   "cell_type": "code",
   "execution_count": 198,
   "metadata": {
    "collapsed": false
   },
   "outputs": [
    {
     "name": "stdout",
     "output_type": "stream",
     "text": [
      "[[   0    0    0    0    0    0    0    0]\n",
      " [   0    0    0    0    0    0    0    0]\n",
      " [   0    0    0    0    0    0    0    0]\n",
      " [ 197  255  880  233   20    0    0    0]\n",
      " [  25  327 1825  557   43    1    0    0]\n",
      " [  19  379 4341 1939  120    1    0    0]\n",
      " [   4  189 4266 3745  317    5    0    0]\n",
      " [   4   63 1680 3119  435   11    0    0]]\n"
     ]
    }
   ],
   "source": [
    "#Confuction matrix\n",
    "print confusion_matrix(np.array(actual_values), np.around(np.array(pred_values)))"
   ]
  },
  {
   "cell_type": "code",
   "execution_count": 199,
   "metadata": {
    "collapsed": false
   },
   "outputs": [
    {
     "name": "stdout",
     "output_type": "stream",
     "text": [
      "             precision    recall  f1-score   support\n",
      "\n",
      "       -2.0       0.00      0.00      0.00         0\n",
      "       -1.0       0.00      0.00      0.00         0\n",
      "        0.0       0.00      0.00      0.00         0\n",
      "        1.0       0.02      0.15      0.04      1585\n",
      "        2.0       0.05      0.02      0.02      2778\n",
      "        3.0       0.06      0.00      0.00      6799\n",
      "        4.0       0.00      0.00      0.00      8526\n",
      "        5.0       0.00      0.00      0.00      5312\n",
      "\n",
      "avg / total       0.02      0.01      0.01     25000\n",
      "\n"
     ]
    }
   ],
   "source": [
    "#Classification report\n",
    "print(classification_report(np.array(actual_values), np.around(np.array(pred_values))))"
   ]
  },
  {
   "cell_type": "code",
   "execution_count": 200,
   "metadata": {
    "collapsed": false
   },
   "outputs": [
    {
     "data": {
      "image/png": "[encoded data removed]",
      "text/plain": [
       "<matplotlib.figure.Figure at 0x2f314cf8>"
      ]
     },
     "metadata": {},
     "output_type": "display_data"
    }
   ],
   "source": [
    "#Plot ground truth values Vs predicted values\n",
    "%matplotlib inline\n",
    "import matplotlib.pyplot as plt\n",
    "fig,ax = plt.subplots()\n",
    "plt.scatter(actual_values, np.around(pred_values))\n",
    "ax.set_xlabel('Actual')\n",
    "ax.set_ylabel('Predicted')\n",
    "plt.title('Actuals Vs Predicted Values')\n",
    "plt.show()"
   ]
  }
 ],
 "metadata": {
  "kernelspec": {
   "display_name": "Python 2",
   "language": "python",
   "name": "python2"
  },
  "language_info": {
   "codemirror_mode": {
    "name": "ipython",
    "version": 2
   },
   "file_extension": ".py",
   "mimetype": "text/x-python",
   "name": "python",
   "nbconvert_exporter": "python",
   "pygments_lexer": "ipython2",
   "version": "2.7.11"
  }
 },
 "nbformat": 4,
 "nbformat_minor": 0
}
