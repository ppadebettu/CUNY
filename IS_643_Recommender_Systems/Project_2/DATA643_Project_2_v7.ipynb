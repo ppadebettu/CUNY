{
 "cells": [
  {
   "cell_type": "markdown",
   "metadata": {},
   "source": [
    "DATA643- Project 2\n",
    "======\n",
    "Prashanth Padebetttu, Parshu Rath, Adjare Windokun, Xingjia Wu\n",
    "----------\n",
    "<b> Summer 2016 <br>\n",
    "Instructor: Andrew Catlin"
   ]
  },
  {
   "cell_type": "markdown",
   "metadata": {},
   "source": [
    "Load Movielens Data\n",
    "-------\n",
    "<b> Load 100K movie data as pandas dataframe:"
   ]
  },
  {
   "cell_type": "code",
   "execution_count": 221,
   "metadata": {
    "collapsed": true
   },
   "outputs": [],
   "source": [
    "# Required Python Packages\n",
    "from math import sqrt\n",
    "from sklearn.metrics.pairwise import cosine_similarity\n",
    "import csv\n",
    "import pandas as pd\n",
    "import numpy as np\n",
    "from scipy import spatial"
   ]
  },
  {
   "cell_type": "code",
   "execution_count": 222,
   "metadata": {
    "collapsed": true
   },
   "outputs": [],
   "source": [
    "#Load data into a pandas dataframe\n",
    "# Movielens data with 100,000 records\n",
    "url = 'https://raw.githubusercontent.com/ppadebettu/CUNY/IS-607-Data-Acquisition-and-Management/IS643/Project_2/movielens.csv'\n",
    "df = pd.read_csv(url, sep = \",\" , header = 0, na_values='NaN')\n"
   ]
  },
  {
   "cell_type": "code",
   "execution_count": 223,
   "metadata": {
    "collapsed": false
   },
   "outputs": [
    {
     "data": {
      "text/html": [
       "<div>\n",
       "<table border=\"1\" class=\"dataframe\">\n",
       "  <thead>\n",
       "    <tr style=\"text-align: right;\">\n",
       "      <th></th>\n",
       "      <th>userid</th>\n",
       "      <th>age</th>\n",
       "      <th>gender</th>\n",
       "      <th>occupation</th>\n",
       "      <th>zipcode</th>\n",
       "      <th>itemid</th>\n",
       "      <th>rating</th>\n",
       "      <th>timestamp</th>\n",
       "      <th>movieid</th>\n",
       "      <th>movietitle</th>\n",
       "      <th>...</th>\n",
       "      <th>fantasy</th>\n",
       "      <th>filmnoir</th>\n",
       "      <th>horror</th>\n",
       "      <th>musical</th>\n",
       "      <th>mystery</th>\n",
       "      <th>romance</th>\n",
       "      <th>scifi</th>\n",
       "      <th>thriller</th>\n",
       "      <th>war</th>\n",
       "      <th>western</th>\n",
       "    </tr>\n",
       "  </thead>\n",
       "  <tbody>\n",
       "    <tr>\n",
       "      <th>0</th>\n",
       "      <td>196</td>\n",
       "      <td>49</td>\n",
       "      <td>M</td>\n",
       "      <td>writer</td>\n",
       "      <td>55105</td>\n",
       "      <td>242</td>\n",
       "      <td>3</td>\n",
       "      <td>881250949</td>\n",
       "      <td>242</td>\n",
       "      <td>Kolya (1996)</td>\n",
       "      <td>...</td>\n",
       "      <td>0</td>\n",
       "      <td>0</td>\n",
       "      <td>0</td>\n",
       "      <td>0</td>\n",
       "      <td>0</td>\n",
       "      <td>0</td>\n",
       "      <td>0</td>\n",
       "      <td>0</td>\n",
       "      <td>0</td>\n",
       "      <td>0</td>\n",
       "    </tr>\n",
       "    <tr>\n",
       "      <th>1</th>\n",
       "      <td>186</td>\n",
       "      <td>39</td>\n",
       "      <td>F</td>\n",
       "      <td>executive</td>\n",
       "      <td>00000</td>\n",
       "      <td>302</td>\n",
       "      <td>3</td>\n",
       "      <td>891717742</td>\n",
       "      <td>302</td>\n",
       "      <td>L.A. Confidential (1997)</td>\n",
       "      <td>...</td>\n",
       "      <td>0</td>\n",
       "      <td>1</td>\n",
       "      <td>0</td>\n",
       "      <td>0</td>\n",
       "      <td>1</td>\n",
       "      <td>0</td>\n",
       "      <td>0</td>\n",
       "      <td>1</td>\n",
       "      <td>0</td>\n",
       "      <td>0</td>\n",
       "    </tr>\n",
       "    <tr>\n",
       "      <th>2</th>\n",
       "      <td>22</td>\n",
       "      <td>25</td>\n",
       "      <td>M</td>\n",
       "      <td>writer</td>\n",
       "      <td>40206</td>\n",
       "      <td>377</td>\n",
       "      <td>1</td>\n",
       "      <td>878887116</td>\n",
       "      <td>377</td>\n",
       "      <td>Heavyweights (1994)</td>\n",
       "      <td>...</td>\n",
       "      <td>0</td>\n",
       "      <td>0</td>\n",
       "      <td>0</td>\n",
       "      <td>0</td>\n",
       "      <td>0</td>\n",
       "      <td>0</td>\n",
       "      <td>0</td>\n",
       "      <td>0</td>\n",
       "      <td>0</td>\n",
       "      <td>0</td>\n",
       "    </tr>\n",
       "    <tr>\n",
       "      <th>3</th>\n",
       "      <td>244</td>\n",
       "      <td>28</td>\n",
       "      <td>M</td>\n",
       "      <td>technician</td>\n",
       "      <td>80525</td>\n",
       "      <td>51</td>\n",
       "      <td>2</td>\n",
       "      <td>880606923</td>\n",
       "      <td>51</td>\n",
       "      <td>Legends of the Fall (1994)</td>\n",
       "      <td>...</td>\n",
       "      <td>0</td>\n",
       "      <td>0</td>\n",
       "      <td>0</td>\n",
       "      <td>0</td>\n",
       "      <td>0</td>\n",
       "      <td>1</td>\n",
       "      <td>0</td>\n",
       "      <td>0</td>\n",
       "      <td>1</td>\n",
       "      <td>1</td>\n",
       "    </tr>\n",
       "    <tr>\n",
       "      <th>4</th>\n",
       "      <td>166</td>\n",
       "      <td>47</td>\n",
       "      <td>M</td>\n",
       "      <td>educator</td>\n",
       "      <td>55113</td>\n",
       "      <td>346</td>\n",
       "      <td>1</td>\n",
       "      <td>886397596</td>\n",
       "      <td>346</td>\n",
       "      <td>Jackie Brown (1997)</td>\n",
       "      <td>...</td>\n",
       "      <td>0</td>\n",
       "      <td>0</td>\n",
       "      <td>0</td>\n",
       "      <td>0</td>\n",
       "      <td>0</td>\n",
       "      <td>0</td>\n",
       "      <td>0</td>\n",
       "      <td>0</td>\n",
       "      <td>0</td>\n",
       "      <td>0</td>\n",
       "    </tr>\n",
       "  </tbody>\n",
       "</table>\n",
       "<p>5 rows × 32 columns</p>\n",
       "</div>"
      ],
      "text/plain": [
       "   userid  age gender  occupation zipcode  itemid  rating  timestamp  movieid  \\\n",
       "0     196   49      M      writer   55105     242       3  881250949      242   \n",
       "1     186   39      F   executive   00000     302       3  891717742      302   \n",
       "2      22   25      M      writer   40206     377       1  878887116      377   \n",
       "3     244   28      M  technician   80525      51       2  880606923       51   \n",
       "4     166   47      M    educator   55113     346       1  886397596      346   \n",
       "\n",
       "                   movietitle   ...    fantasy  filmnoir horror  musical  \\\n",
       "0                Kolya (1996)   ...          0         0      0        0   \n",
       "1    L.A. Confidential (1997)   ...          0         1      0        0   \n",
       "2         Heavyweights (1994)   ...          0         0      0        0   \n",
       "3  Legends of the Fall (1994)   ...          0         0      0        0   \n",
       "4         Jackie Brown (1997)   ...          0         0      0        0   \n",
       "\n",
       "   mystery  romance  scifi  thriller  war  western  \n",
       "0        0        0      0         0    0        0  \n",
       "1        1        0      0         1    0        0  \n",
       "2        0        0      0         0    0        0  \n",
       "3        0        1      0         0    1        1  \n",
       "4        0        0      0         0    0        0  \n",
       "\n",
       "[5 rows x 32 columns]"
      ]
     },
     "execution_count": 223,
     "metadata": {},
     "output_type": "execute_result"
    }
   ],
   "source": [
    "df.head()"
   ]
  },
  {
   "cell_type": "markdown",
   "metadata": {},
   "source": [
    "<b>Some data exploration:"
   ]
  },
  {
   "cell_type": "code",
   "execution_count": 224,
   "metadata": {
    "collapsed": false
   },
   "outputs": [
    {
     "data": {
      "text/plain": [
       "movietitle\n",
       "Star Wars (1977)                 583\n",
       "Contact (1997)                   509\n",
       "Fargo (1996)                     508\n",
       "Return of the Jedi (1983)        507\n",
       "Liar Liar (1997)                 485\n",
       "English Patient, The (1996)      481\n",
       "Scream (1996)                    478\n",
       "Toy Story (1995)                 452\n",
       "Air Force One (1997)             431\n",
       "Independence Day (ID4) (1996)    429\n",
       "dtype: int64"
      ]
     },
     "execution_count": 224,
     "metadata": {},
     "output_type": "execute_result"
    }
   ],
   "source": [
    "#What are the 25 most rated movies?\n",
    "most_rated = df.groupby('movietitle').size().sort_values(ascending=False)[:10]\n",
    "most_rated"
   ]
  },
  {
   "cell_type": "code",
   "execution_count": 225,
   "metadata": {
    "collapsed": false
   },
   "outputs": [
    {
     "data": {
      "text/html": [
       "<div>\n",
       "<table border=\"1\" class=\"dataframe\">\n",
       "  <thead>\n",
       "    <tr>\n",
       "      <th></th>\n",
       "      <th colspan=\"2\" halign=\"left\">rating</th>\n",
       "    </tr>\n",
       "    <tr>\n",
       "      <th></th>\n",
       "      <th>size</th>\n",
       "      <th>mean</th>\n",
       "    </tr>\n",
       "    <tr>\n",
       "      <th>movietitle</th>\n",
       "      <th></th>\n",
       "      <th></th>\n",
       "    </tr>\n",
       "  </thead>\n",
       "  <tbody>\n",
       "    <tr>\n",
       "      <th>'Til There Was You (1997)</th>\n",
       "      <td>9</td>\n",
       "      <td>2.333333</td>\n",
       "    </tr>\n",
       "    <tr>\n",
       "      <th>1-900 (1994)</th>\n",
       "      <td>5</td>\n",
       "      <td>2.600000</td>\n",
       "    </tr>\n",
       "    <tr>\n",
       "      <th>101 Dalmatians (1996)</th>\n",
       "      <td>109</td>\n",
       "      <td>2.908257</td>\n",
       "    </tr>\n",
       "    <tr>\n",
       "      <th>12 Angry Men (1957)</th>\n",
       "      <td>125</td>\n",
       "      <td>4.344000</td>\n",
       "    </tr>\n",
       "    <tr>\n",
       "      <th>187 (1997)</th>\n",
       "      <td>41</td>\n",
       "      <td>3.024390</td>\n",
       "    </tr>\n",
       "  </tbody>\n",
       "</table>\n",
       "</div>"
      ],
      "text/plain": [
       "                          rating          \n",
       "                            size      mean\n",
       "movietitle                                \n",
       "'Til There Was You (1997)      9  2.333333\n",
       "1-900 (1994)                   5  2.600000\n",
       "101 Dalmatians (1996)        109  2.908257\n",
       "12 Angry Men (1957)          125  4.344000\n",
       "187 (1997)                    41  3.024390"
      ]
     },
     "execution_count": 225,
     "metadata": {},
     "output_type": "execute_result"
    }
   ],
   "source": [
    "#Which movies are highly rated?\n",
    "movie_stats = df.groupby('movietitle').agg({'rating': [np.size, np.mean]})\n",
    "movie_stats.head()"
   ]
  },
  {
   "cell_type": "code",
   "execution_count": 226,
   "metadata": {
    "collapsed": false
   },
   "outputs": [
    {
     "data": {
      "text/html": [
       "<div>\n",
       "<table border=\"1\" class=\"dataframe\">\n",
       "  <thead>\n",
       "    <tr>\n",
       "      <th></th>\n",
       "      <th colspan=\"2\" halign=\"left\">rating</th>\n",
       "    </tr>\n",
       "    <tr>\n",
       "      <th></th>\n",
       "      <th>size</th>\n",
       "      <th>mean</th>\n",
       "    </tr>\n",
       "    <tr>\n",
       "      <th>movietitle</th>\n",
       "      <th></th>\n",
       "      <th></th>\n",
       "    </tr>\n",
       "  </thead>\n",
       "  <tbody>\n",
       "    <tr>\n",
       "      <th>Aiqing wansui (1994)</th>\n",
       "      <td>1</td>\n",
       "      <td>5.0</td>\n",
       "    </tr>\n",
       "    <tr>\n",
       "      <th>Prefontaine (1997)</th>\n",
       "      <td>3</td>\n",
       "      <td>5.0</td>\n",
       "    </tr>\n",
       "    <tr>\n",
       "      <th>Entertaining Angels: The Dorothy Day Story (1996)</th>\n",
       "      <td>1</td>\n",
       "      <td>5.0</td>\n",
       "    </tr>\n",
       "    <tr>\n",
       "      <th>Star Kid (1997)</th>\n",
       "      <td>3</td>\n",
       "      <td>5.0</td>\n",
       "    </tr>\n",
       "    <tr>\n",
       "      <th>Saint of Fort Washington, The (1993)</th>\n",
       "      <td>2</td>\n",
       "      <td>5.0</td>\n",
       "    </tr>\n",
       "  </tbody>\n",
       "</table>\n",
       "</div>"
      ],
      "text/plain": [
       "                                                  rating     \n",
       "                                                    size mean\n",
       "movietitle                                                   \n",
       "Aiqing wansui (1994)                                   1  5.0\n",
       "Prefontaine (1997)                                     3  5.0\n",
       "Entertaining Angels: The Dorothy Day Story (1996)      1  5.0\n",
       "Star Kid (1997)                                        3  5.0\n",
       "Saint of Fort Washington, The (1993)                   2  5.0"
      ]
     },
     "execution_count": 226,
     "metadata": {},
     "output_type": "execute_result"
    }
   ],
   "source": [
    "#Sort by movie rating average\n",
    "movie_stats.sort_values([('rating', 'mean')], ascending=False).head()"
   ]
  },
  {
   "cell_type": "code",
   "execution_count": 227,
   "metadata": {
    "collapsed": false
   },
   "outputs": [
    {
     "data": {
      "text/html": [
       "<div>\n",
       "<table border=\"1\" class=\"dataframe\">\n",
       "  <thead>\n",
       "    <tr>\n",
       "      <th></th>\n",
       "      <th colspan=\"2\" halign=\"left\">rating</th>\n",
       "    </tr>\n",
       "    <tr>\n",
       "      <th></th>\n",
       "      <th>size</th>\n",
       "      <th>mean</th>\n",
       "    </tr>\n",
       "    <tr>\n",
       "      <th>movietitle</th>\n",
       "      <th></th>\n",
       "      <th></th>\n",
       "    </tr>\n",
       "  </thead>\n",
       "  <tbody>\n",
       "    <tr>\n",
       "      <th>Close Shave, A (1995)</th>\n",
       "      <td>112</td>\n",
       "      <td>4.491071</td>\n",
       "    </tr>\n",
       "    <tr>\n",
       "      <th>Schindler's List (1993)</th>\n",
       "      <td>298</td>\n",
       "      <td>4.466443</td>\n",
       "    </tr>\n",
       "    <tr>\n",
       "      <th>Wrong Trousers, The (1993)</th>\n",
       "      <td>118</td>\n",
       "      <td>4.466102</td>\n",
       "    </tr>\n",
       "    <tr>\n",
       "      <th>Casablanca (1942)</th>\n",
       "      <td>243</td>\n",
       "      <td>4.456790</td>\n",
       "    </tr>\n",
       "    <tr>\n",
       "      <th>Shawshank Redemption, The (1994)</th>\n",
       "      <td>283</td>\n",
       "      <td>4.445230</td>\n",
       "    </tr>\n",
       "  </tbody>\n",
       "</table>\n",
       "</div>"
      ],
      "text/plain": [
       "                                 rating          \n",
       "                                   size      mean\n",
       "movietitle                                       \n",
       "Close Shave, A (1995)               112  4.491071\n",
       "Schindler's List (1993)             298  4.466443\n",
       "Wrong Trousers, The (1993)          118  4.466102\n",
       "Casablanca (1942)                   243  4.456790\n",
       "Shawshank Redemption, The (1994)    283  4.445230"
      ]
     },
     "execution_count": 227,
     "metadata": {},
     "output_type": "execute_result"
    }
   ],
   "source": [
    "#Movies that have been rated at least 100 times.\n",
    "atleast_100 = movie_stats['rating']['size'] >= 100\n",
    "movie_stats[atleast_100].sort_values([('rating', 'mean')], ascending=False)[:5]"
   ]
  },
  {
   "cell_type": "markdown",
   "metadata": {},
   "source": [
    "<b> Load 100K movie data as Python dictionary:"
   ]
  },
  {
   "cell_type": "code",
   "execution_count": 228,
   "metadata": {
    "collapsed": false
   },
   "outputs": [],
   "source": [
    "# Get movie titles\n",
    "import urllib2\n",
    "url = 'https://raw.githubusercontent.com/prcuny/DATA643/master/Project-2/'\n",
    "movies={}\n",
    "response = urllib2.urlopen(url + 'u.item')\n",
    "for line in response:    \n",
    "        (id,title)=line.split('|')[0:2]\n",
    "        movies[id]=title\n"
   ]
  },
  {
   "cell_type": "code",
   "execution_count": 229,
   "metadata": {
    "collapsed": false
   },
   "outputs": [],
   "source": [
    "# Load user ratings\n",
    "mdict={}\n",
    "response = urllib2.urlopen(url + 'u.data')\n",
    "for line in response:\n",
    "       (user,movieid,rating,ts)=line.split('\\t')\n",
    "       mdict.setdefault(user,{})\n",
    "       mdict[user][movies[movieid]]=float(rating)\n"
   ]
  },
  {
   "cell_type": "markdown",
   "metadata": {},
   "source": [
    "\n",
    "<b>Some data exploration:\n",
    "</b><br>\n",
    "Print first 2 users and ratings"
   ]
  },
  {
   "cell_type": "code",
   "execution_count": 230,
   "metadata": {
    "collapsed": false
   },
   "outputs": [],
   "source": [
    "#Adapted from http://stackoverflow.com/questions/7971618/python-return-first-n-keyvalue-pairs-from-dict\n",
    "from itertools import islice\n",
    "def take(n, iterable):\n",
    "    \"Return first n items of the iterable as a list\"\n",
    "    return list(islice(iterable, n ))\n",
    "#take(2, mdict.iteritems())  \n",
    "#Too Long output. \n",
    "#Try to output one user's ratings instead\n",
    "#user '20' and ratings\n",
    "#mdict['20']\n"
   ]
  },
  {
   "cell_type": "markdown",
   "metadata": {},
   "source": [
    "\n",
    "<b> Generate dataframe from dictionary"
   ]
  },
  {
   "cell_type": "code",
   "execution_count": 231,
   "metadata": {
    "collapsed": false
   },
   "outputs": [
    {
     "data": {
      "text/html": [
       "<div>\n",
       "<table border=\"1\" class=\"dataframe\">\n",
       "  <thead>\n",
       "    <tr style=\"text-align: right;\">\n",
       "      <th></th>\n",
       "      <th>Birdcage, The (1996)</th>\n",
       "      <th>Enchanted April (1991)</th>\n",
       "      <th>Diabolique (1996)</th>\n",
       "      <th>Face/Off (1997)</th>\n",
       "      <th>My Fellow Americans (1996)</th>\n",
       "      <th>In the Line of Fire (1993)</th>\n",
       "      <th>Murder at 1600 (1997)</th>\n",
       "      <th>Star Trek: The Wrath of Khan (1982)</th>\n",
       "      <th>Grosse Pointe Blank (1997)</th>\n",
       "      <th>Courage Under Fire (1996)</th>\n",
       "      <th>...</th>\n",
       "      <th>Raw Deal (1948)</th>\n",
       "      <th>Shopping (1994)</th>\n",
       "      <th>Nemesis 2: Nebula (1995)</th>\n",
       "      <th>Wings of Courage (1995)</th>\n",
       "      <th>Mad Dog Time (1996)</th>\n",
       "      <th>Mamma Roma (1962)</th>\n",
       "      <th>New Age, The (1994)</th>\n",
       "      <th>Target (1995)</th>\n",
       "      <th>Johns (1996)</th>\n",
       "      <th>Tokyo Fist (1995)</th>\n",
       "    </tr>\n",
       "  </thead>\n",
       "  <tbody>\n",
       "    <tr>\n",
       "      <th>1</th>\n",
       "      <td>4.0</td>\n",
       "      <td>NaN</td>\n",
       "      <td>4.0</td>\n",
       "      <td>NaN</td>\n",
       "      <td>NaN</td>\n",
       "      <td>NaN</td>\n",
       "      <td>NaN</td>\n",
       "      <td>5.0</td>\n",
       "      <td>4.0</td>\n",
       "      <td>NaN</td>\n",
       "      <td>...</td>\n",
       "      <td>NaN</td>\n",
       "      <td>NaN</td>\n",
       "      <td>NaN</td>\n",
       "      <td>NaN</td>\n",
       "      <td>NaN</td>\n",
       "      <td>NaN</td>\n",
       "      <td>NaN</td>\n",
       "      <td>NaN</td>\n",
       "      <td>NaN</td>\n",
       "      <td>NaN</td>\n",
       "    </tr>\n",
       "    <tr>\n",
       "      <th>10</th>\n",
       "      <td>NaN</td>\n",
       "      <td>5.0</td>\n",
       "      <td>NaN</td>\n",
       "      <td>NaN</td>\n",
       "      <td>NaN</td>\n",
       "      <td>NaN</td>\n",
       "      <td>NaN</td>\n",
       "      <td>NaN</td>\n",
       "      <td>NaN</td>\n",
       "      <td>NaN</td>\n",
       "      <td>...</td>\n",
       "      <td>NaN</td>\n",
       "      <td>NaN</td>\n",
       "      <td>NaN</td>\n",
       "      <td>NaN</td>\n",
       "      <td>NaN</td>\n",
       "      <td>NaN</td>\n",
       "      <td>NaN</td>\n",
       "      <td>NaN</td>\n",
       "      <td>NaN</td>\n",
       "      <td>NaN</td>\n",
       "    </tr>\n",
       "    <tr>\n",
       "      <th>100</th>\n",
       "      <td>NaN</td>\n",
       "      <td>NaN</td>\n",
       "      <td>NaN</td>\n",
       "      <td>NaN</td>\n",
       "      <td>NaN</td>\n",
       "      <td>NaN</td>\n",
       "      <td>NaN</td>\n",
       "      <td>NaN</td>\n",
       "      <td>NaN</td>\n",
       "      <td>NaN</td>\n",
       "      <td>...</td>\n",
       "      <td>NaN</td>\n",
       "      <td>NaN</td>\n",
       "      <td>NaN</td>\n",
       "      <td>NaN</td>\n",
       "      <td>NaN</td>\n",
       "      <td>NaN</td>\n",
       "      <td>NaN</td>\n",
       "      <td>NaN</td>\n",
       "      <td>NaN</td>\n",
       "      <td>NaN</td>\n",
       "    </tr>\n",
       "    <tr>\n",
       "      <th>101</th>\n",
       "      <td>NaN</td>\n",
       "      <td>NaN</td>\n",
       "      <td>NaN</td>\n",
       "      <td>NaN</td>\n",
       "      <td>NaN</td>\n",
       "      <td>NaN</td>\n",
       "      <td>NaN</td>\n",
       "      <td>NaN</td>\n",
       "      <td>NaN</td>\n",
       "      <td>3.0</td>\n",
       "      <td>...</td>\n",
       "      <td>NaN</td>\n",
       "      <td>NaN</td>\n",
       "      <td>NaN</td>\n",
       "      <td>NaN</td>\n",
       "      <td>NaN</td>\n",
       "      <td>NaN</td>\n",
       "      <td>NaN</td>\n",
       "      <td>NaN</td>\n",
       "      <td>NaN</td>\n",
       "      <td>NaN</td>\n",
       "    </tr>\n",
       "    <tr>\n",
       "      <th>102</th>\n",
       "      <td>NaN</td>\n",
       "      <td>NaN</td>\n",
       "      <td>NaN</td>\n",
       "      <td>3.0</td>\n",
       "      <td>NaN</td>\n",
       "      <td>2.0</td>\n",
       "      <td>3.0</td>\n",
       "      <td>4.0</td>\n",
       "      <td>3.0</td>\n",
       "      <td>NaN</td>\n",
       "      <td>...</td>\n",
       "      <td>NaN</td>\n",
       "      <td>NaN</td>\n",
       "      <td>NaN</td>\n",
       "      <td>NaN</td>\n",
       "      <td>NaN</td>\n",
       "      <td>NaN</td>\n",
       "      <td>NaN</td>\n",
       "      <td>NaN</td>\n",
       "      <td>NaN</td>\n",
       "      <td>NaN</td>\n",
       "    </tr>\n",
       "  </tbody>\n",
       "</table>\n",
       "<p>5 rows × 1664 columns</p>\n",
       "</div>"
      ],
      "text/plain": [
       "     Birdcage, The (1996)  Enchanted April (1991)  Diabolique (1996)  \\\n",
       "1                     4.0                     NaN                4.0   \n",
       "10                    NaN                     5.0                NaN   \n",
       "100                   NaN                     NaN                NaN   \n",
       "101                   NaN                     NaN                NaN   \n",
       "102                   NaN                     NaN                NaN   \n",
       "\n",
       "     Face/Off (1997)  My Fellow Americans (1996)  In the Line of Fire (1993)  \\\n",
       "1                NaN                         NaN                         NaN   \n",
       "10               NaN                         NaN                         NaN   \n",
       "100              NaN                         NaN                         NaN   \n",
       "101              NaN                         NaN                         NaN   \n",
       "102              3.0                         NaN                         2.0   \n",
       "\n",
       "     Murder at 1600 (1997)  Star Trek: The Wrath of Khan (1982)  \\\n",
       "1                      NaN                                  5.0   \n",
       "10                     NaN                                  NaN   \n",
       "100                    NaN                                  NaN   \n",
       "101                    NaN                                  NaN   \n",
       "102                    3.0                                  4.0   \n",
       "\n",
       "     Grosse Pointe Blank (1997)  Courage Under Fire (1996)        ...          \\\n",
       "1                           4.0                        NaN        ...           \n",
       "10                          NaN                        NaN        ...           \n",
       "100                         NaN                        NaN        ...           \n",
       "101                         NaN                        3.0        ...           \n",
       "102                         3.0                        NaN        ...           \n",
       "\n",
       "     Raw Deal (1948)  Shopping (1994)  Nemesis 2: Nebula (1995)  \\\n",
       "1                NaN              NaN                       NaN   \n",
       "10               NaN              NaN                       NaN   \n",
       "100              NaN              NaN                       NaN   \n",
       "101              NaN              NaN                       NaN   \n",
       "102              NaN              NaN                       NaN   \n",
       "\n",
       "     Wings of Courage (1995)  Mad Dog Time (1996)  Mamma Roma (1962)  \\\n",
       "1                        NaN                  NaN                NaN   \n",
       "10                       NaN                  NaN                NaN   \n",
       "100                      NaN                  NaN                NaN   \n",
       "101                      NaN                  NaN                NaN   \n",
       "102                      NaN                  NaN                NaN   \n",
       "\n",
       "     New Age, The (1994)  Target (1995)  Johns (1996)  Tokyo Fist (1995)  \n",
       "1                    NaN            NaN           NaN                NaN  \n",
       "10                   NaN            NaN           NaN                NaN  \n",
       "100                  NaN            NaN           NaN                NaN  \n",
       "101                  NaN            NaN           NaN                NaN  \n",
       "102                  NaN            NaN           NaN                NaN  \n",
       "\n",
       "[5 rows x 1664 columns]"
      ]
     },
     "execution_count": 231,
     "metadata": {},
     "output_type": "execute_result"
    }
   ],
   "source": [
    "df_fromDict = pd.DataFrame.from_dict(mdict, orient='index')\n",
    "df_fromDict.head()"
   ]
  },
  {
   "cell_type": "markdown",
   "metadata": {},
   "source": [
    "### Normalization with center mean"
   ]
  },
  {
   "cell_type": "markdown",
   "metadata": {},
   "source": [
    "- Normalized dataframe and fill NaN with 0"
   ]
  },
  {
   "cell_type": "code",
   "execution_count": 232,
   "metadata": {
    "collapsed": false
   },
   "outputs": [],
   "source": [
    "df_norm1 = df_fromDict.apply(lambda x: x - x.mean(), axis =1) # row-wise operation"
   ]
  },
  {
   "cell_type": "code",
   "execution_count": 233,
   "metadata": {
    "collapsed": false
   },
   "outputs": [
    {
     "data": {
      "text/html": [
       "<div>\n",
       "<table border=\"1\" class=\"dataframe\">\n",
       "  <thead>\n",
       "    <tr style=\"text-align: right;\">\n",
       "      <th></th>\n",
       "      <th>Birdcage, The (1996)</th>\n",
       "      <th>Enchanted April (1991)</th>\n",
       "      <th>Diabolique (1996)</th>\n",
       "      <th>Face/Off (1997)</th>\n",
       "      <th>My Fellow Americans (1996)</th>\n",
       "      <th>In the Line of Fire (1993)</th>\n",
       "      <th>Murder at 1600 (1997)</th>\n",
       "      <th>Star Trek: The Wrath of Khan (1982)</th>\n",
       "      <th>Grosse Pointe Blank (1997)</th>\n",
       "      <th>Courage Under Fire (1996)</th>\n",
       "      <th>...</th>\n",
       "      <th>Raw Deal (1948)</th>\n",
       "      <th>Shopping (1994)</th>\n",
       "      <th>Nemesis 2: Nebula (1995)</th>\n",
       "      <th>Wings of Courage (1995)</th>\n",
       "      <th>Mad Dog Time (1996)</th>\n",
       "      <th>Mamma Roma (1962)</th>\n",
       "      <th>New Age, The (1994)</th>\n",
       "      <th>Target (1995)</th>\n",
       "      <th>Johns (1996)</th>\n",
       "      <th>Tokyo Fist (1995)</th>\n",
       "    </tr>\n",
       "  </thead>\n",
       "  <tbody>\n",
       "    <tr>\n",
       "      <th>1</th>\n",
       "      <td>0.394834</td>\n",
       "      <td>0.000000</td>\n",
       "      <td>0.394834</td>\n",
       "      <td>0.000000</td>\n",
       "      <td>0.0</td>\n",
       "      <td>0.000000</td>\n",
       "      <td>0.000000</td>\n",
       "      <td>1.394834</td>\n",
       "      <td>0.394834</td>\n",
       "      <td>0.000000</td>\n",
       "      <td>...</td>\n",
       "      <td>0.0</td>\n",
       "      <td>0.0</td>\n",
       "      <td>0.0</td>\n",
       "      <td>0.0</td>\n",
       "      <td>0.0</td>\n",
       "      <td>0.0</td>\n",
       "      <td>0.0</td>\n",
       "      <td>0.0</td>\n",
       "      <td>0.0</td>\n",
       "      <td>0.0</td>\n",
       "    </tr>\n",
       "    <tr>\n",
       "      <th>10</th>\n",
       "      <td>0.000000</td>\n",
       "      <td>0.793478</td>\n",
       "      <td>0.000000</td>\n",
       "      <td>0.000000</td>\n",
       "      <td>0.0</td>\n",
       "      <td>0.000000</td>\n",
       "      <td>0.000000</td>\n",
       "      <td>0.000000</td>\n",
       "      <td>0.000000</td>\n",
       "      <td>0.000000</td>\n",
       "      <td>...</td>\n",
       "      <td>0.0</td>\n",
       "      <td>0.0</td>\n",
       "      <td>0.0</td>\n",
       "      <td>0.0</td>\n",
       "      <td>0.0</td>\n",
       "      <td>0.0</td>\n",
       "      <td>0.0</td>\n",
       "      <td>0.0</td>\n",
       "      <td>0.0</td>\n",
       "      <td>0.0</td>\n",
       "    </tr>\n",
       "    <tr>\n",
       "      <th>100</th>\n",
       "      <td>0.000000</td>\n",
       "      <td>0.000000</td>\n",
       "      <td>0.000000</td>\n",
       "      <td>0.000000</td>\n",
       "      <td>0.0</td>\n",
       "      <td>0.000000</td>\n",
       "      <td>0.000000</td>\n",
       "      <td>0.000000</td>\n",
       "      <td>0.000000</td>\n",
       "      <td>0.000000</td>\n",
       "      <td>...</td>\n",
       "      <td>0.0</td>\n",
       "      <td>0.0</td>\n",
       "      <td>0.0</td>\n",
       "      <td>0.0</td>\n",
       "      <td>0.0</td>\n",
       "      <td>0.0</td>\n",
       "      <td>0.0</td>\n",
       "      <td>0.0</td>\n",
       "      <td>0.0</td>\n",
       "      <td>0.0</td>\n",
       "    </tr>\n",
       "    <tr>\n",
       "      <th>101</th>\n",
       "      <td>0.000000</td>\n",
       "      <td>0.000000</td>\n",
       "      <td>0.000000</td>\n",
       "      <td>0.000000</td>\n",
       "      <td>0.0</td>\n",
       "      <td>0.000000</td>\n",
       "      <td>0.000000</td>\n",
       "      <td>0.000000</td>\n",
       "      <td>0.000000</td>\n",
       "      <td>0.104478</td>\n",
       "      <td>...</td>\n",
       "      <td>0.0</td>\n",
       "      <td>0.0</td>\n",
       "      <td>0.0</td>\n",
       "      <td>0.0</td>\n",
       "      <td>0.0</td>\n",
       "      <td>0.0</td>\n",
       "      <td>0.0</td>\n",
       "      <td>0.0</td>\n",
       "      <td>0.0</td>\n",
       "      <td>0.0</td>\n",
       "    </tr>\n",
       "    <tr>\n",
       "      <th>102</th>\n",
       "      <td>0.000000</td>\n",
       "      <td>0.000000</td>\n",
       "      <td>0.000000</td>\n",
       "      <td>0.384259</td>\n",
       "      <td>0.0</td>\n",
       "      <td>-0.615741</td>\n",
       "      <td>0.384259</td>\n",
       "      <td>1.384259</td>\n",
       "      <td>0.384259</td>\n",
       "      <td>0.000000</td>\n",
       "      <td>...</td>\n",
       "      <td>0.0</td>\n",
       "      <td>0.0</td>\n",
       "      <td>0.0</td>\n",
       "      <td>0.0</td>\n",
       "      <td>0.0</td>\n",
       "      <td>0.0</td>\n",
       "      <td>0.0</td>\n",
       "      <td>0.0</td>\n",
       "      <td>0.0</td>\n",
       "      <td>0.0</td>\n",
       "    </tr>\n",
       "  </tbody>\n",
       "</table>\n",
       "<p>5 rows × 1664 columns</p>\n",
       "</div>"
      ],
      "text/plain": [
       "     Birdcage, The (1996)  Enchanted April (1991)  Diabolique (1996)  \\\n",
       "1                0.394834                0.000000           0.394834   \n",
       "10               0.000000                0.793478           0.000000   \n",
       "100              0.000000                0.000000           0.000000   \n",
       "101              0.000000                0.000000           0.000000   \n",
       "102              0.000000                0.000000           0.000000   \n",
       "\n",
       "     Face/Off (1997)  My Fellow Americans (1996)  In the Line of Fire (1993)  \\\n",
       "1           0.000000                         0.0                    0.000000   \n",
       "10          0.000000                         0.0                    0.000000   \n",
       "100         0.000000                         0.0                    0.000000   \n",
       "101         0.000000                         0.0                    0.000000   \n",
       "102         0.384259                         0.0                   -0.615741   \n",
       "\n",
       "     Murder at 1600 (1997)  Star Trek: The Wrath of Khan (1982)  \\\n",
       "1                 0.000000                             1.394834   \n",
       "10                0.000000                             0.000000   \n",
       "100               0.000000                             0.000000   \n",
       "101               0.000000                             0.000000   \n",
       "102               0.384259                             1.384259   \n",
       "\n",
       "     Grosse Pointe Blank (1997)  Courage Under Fire (1996)        ...          \\\n",
       "1                      0.394834                   0.000000        ...           \n",
       "10                     0.000000                   0.000000        ...           \n",
       "100                    0.000000                   0.000000        ...           \n",
       "101                    0.000000                   0.104478        ...           \n",
       "102                    0.384259                   0.000000        ...           \n",
       "\n",
       "     Raw Deal (1948)  Shopping (1994)  Nemesis 2: Nebula (1995)  \\\n",
       "1                0.0              0.0                       0.0   \n",
       "10               0.0              0.0                       0.0   \n",
       "100              0.0              0.0                       0.0   \n",
       "101              0.0              0.0                       0.0   \n",
       "102              0.0              0.0                       0.0   \n",
       "\n",
       "     Wings of Courage (1995)  Mad Dog Time (1996)  Mamma Roma (1962)  \\\n",
       "1                        0.0                  0.0                0.0   \n",
       "10                       0.0                  0.0                0.0   \n",
       "100                      0.0                  0.0                0.0   \n",
       "101                      0.0                  0.0                0.0   \n",
       "102                      0.0                  0.0                0.0   \n",
       "\n",
       "     New Age, The (1994)  Target (1995)  Johns (1996)  Tokyo Fist (1995)  \n",
       "1                    0.0            0.0           0.0                0.0  \n",
       "10                   0.0            0.0           0.0                0.0  \n",
       "100                  0.0            0.0           0.0                0.0  \n",
       "101                  0.0            0.0           0.0                0.0  \n",
       "102                  0.0            0.0           0.0                0.0  \n",
       "\n",
       "[5 rows x 1664 columns]"
      ]
     },
     "execution_count": 233,
     "metadata": {},
     "output_type": "execute_result"
    }
   ],
   "source": [
    "df_norm = df_norm1.fillna(0) #fill NaN with 0\n",
    "df_norm.head()"
   ]
  },
  {
   "cell_type": "markdown",
   "metadata": {},
   "source": [
    "- Normalized dictionary with NaN removed"
   ]
  },
  {
   "cell_type": "code",
   "execution_count": 234,
   "metadata": {
    "collapsed": false
   },
   "outputs": [],
   "source": [
    "dict_norm1 = df_norm1.to_dict(orient = \"records\") # list of dictionary"
   ]
  },
  {
   "cell_type": "code",
   "execution_count": 235,
   "metadata": {
    "collapsed": false
   },
   "outputs": [],
   "source": [
    "dict_norm2 = {df_norm.index[i]: dict_norm1[i] for i in range(len(dict_norm1))} # dict of dict"
   ]
  },
  {
   "cell_type": "code",
   "execution_count": 236,
   "metadata": {
    "collapsed": false
   },
   "outputs": [],
   "source": [
    "# Remove NaN \n",
    "from math import isnan\n",
    "dict_norm = {}\n",
    "# count = 0\n",
    "for key, value in dict_norm2.iteritems():\n",
    "    dict_temp = {}\n",
    "    for key1, value1 in dict_norm2[key].iteritems():\n",
    "        if not isnan(value1):\n",
    "            dict_temp[key1] = value1\n",
    "#     if count==0:\n",
    "#         print len(dict_temp)\n",
    "#         print key\n",
    "#     count = 1\n",
    "    dict_norm[key] = dict_temp"
   ]
  },
  {
   "cell_type": "markdown",
   "metadata": {},
   "source": [
    "### User-User Collaborative Filtering\n",
    "### UUCF using python dictionry"
   ]
  },
  {
   "cell_type": "markdown",
   "metadata": {},
   "source": [
    "<b> Cosine Distance (User to User)"
   ]
  },
  {
   "cell_type": "code",
   "execution_count": 237,
   "metadata": {
    "collapsed": false
   },
   "outputs": [],
   "source": [
    "#Function that returns a cosine-based similarity score for person1 and person2\n",
    "def sim_cosine(dict, p1,p2):\n",
    "#Get the list of mutually rated items, ignore items that were not rated by either person\n",
    " si = {}\n",
    " p1set = []\n",
    " p2set = []\n",
    " for item in dict[p1]:\n",
    "       if (item in dict[p2]) and not(np.isnan(dict[p2][item])) and not(np.isnan(dict[p1][item])) :\n",
    "          si[item] = 1\n",
    "#If they have no rating in common, return 0\n",
    " if len(si) == 0: \n",
    "  return 0\n",
    " p1set = [dict[p1][item] for item in si.keys()]\n",
    " p2set = [dict[p2][item] for item in si.keys()]\n",
    " return round((1 - spatial.distance.cosine(p1set, p2set)), 4)\n"
   ]
  },
  {
   "cell_type": "code",
   "execution_count": 238,
   "metadata": {
    "collapsed": false
   },
   "outputs": [
    {
     "data": {
      "text/plain": [
       "0.8991"
      ]
     },
     "execution_count": 238,
     "metadata": {},
     "output_type": "execute_result"
    }
   ],
   "source": [
    "# Test the Pearson-based similarity function\n",
    "round(sim_cosine(mdict,'20','30'), 4) # With orginal data"
   ]
  },
  {
   "cell_type": "code",
   "execution_count": 239,
   "metadata": {
    "collapsed": false
   },
   "outputs": [
    {
     "data": {
      "text/plain": [
       "-0.4126"
      ]
     },
     "execution_count": 239,
     "metadata": {},
     "output_type": "execute_result"
    }
   ],
   "source": [
    "round(sim_cosine(dict_norm,'20','30'), 4) # With normalized data"
   ]
  },
  {
   "cell_type": "markdown",
   "metadata": {},
   "source": [
    "<b> UUCF (python dictionary) Recommendations using cosine distance weighting: "
   ]
  },
  {
   "cell_type": "code",
   "execution_count": 240,
   "metadata": {
    "collapsed": false
   },
   "outputs": [],
   "source": [
    "#Function that returns 'n' recommendations for a person by using a weighted average of every other user's rankings\n",
    "\n",
    "def getRecommendations(n, dict,person,similarity=sim_cosine):\n",
    " totals = {}\n",
    " simSums = {}\n",
    "\n",
    " for other in dict:\n",
    "  #don't compare me to myself\n",
    "  if other == person:\n",
    "   continue\n",
    "  sim = similarity(dict,person,other)\n",
    "  #ignore scores of zero or lower\n",
    "  if sim <= 0: \n",
    "   continue\n",
    "  for item in dict[other]:\n",
    "   #only score movies I haven't rated yet\n",
    "   if (item not in dict[person]) or (dict[person][item] == 0) or (np.isnan(dict[person][item])) :\n",
    "    #Similarity * score\n",
    "    totals.setdefault(item,0)\n",
    "    totals[item] += not(np.isnan(dict[other][item] * sim))\n",
    "    #Sum of similarities\n",
    "    simSums.setdefault(item,0)\n",
    "    simSums[item] += sim\n",
    "\n",
    "    #Create the normalized list\n",
    " rankings = [(total/simSums[item],item) for item,total in totals.items()]\n",
    "\n",
    " #Return the sorted list\n",
    " rankings.sort()\n",
    " rankings.reverse()\n",
    " return rankings[0:n]\n"
   ]
  },
  {
   "cell_type": "markdown",
   "metadata": {},
   "source": [
    "<b> Get top 10 recommendations for user '20' using User-User CF"
   ]
  },
  {
   "cell_type": "code",
   "execution_count": 241,
   "metadata": {
    "collapsed": false
   },
   "outputs": [
    {
     "data": {
      "text/plain": [
       "[(1.4894250819183794, 'Mighty, The (1998)'),\n",
       " (1.4215651432226881, 'Star Kid (1997)'),\n",
       " (1.3932427725531173, 'Men of Means (1998)'),\n",
       " (1.3415015874435452, 'Ill Gotten Gains (1997)'),\n",
       " (1.3147515119642388, 'Boys, Les (1997)'),\n",
       " (1.301720130172013, 'Hugo Pool (1997)'),\n",
       " (1.3003055718093752, 'Leading Man, The (1996)'),\n",
       " (1.2743723716069837, 'Shooting Fish (1997)'),\n",
       " (1.2723725506828398, 'The Innocent (1994)'),\n",
       " (1.266079205915122, '3 Ninjas: High Noon At Mega Mountain (1998)')]"
      ]
     },
     "execution_count": 241,
     "metadata": {},
     "output_type": "execute_result"
    }
   ],
   "source": [
    "#Test getRecommendations function\n",
    "getRecommendations(10, mdict,'20',similarity=sim_cosine) # with original data"
   ]
  },
  {
   "cell_type": "code",
   "execution_count": 242,
   "metadata": {
    "collapsed": false
   },
   "outputs": [
    {
     "data": {
      "text/plain": [
       "[(588.2352941176471, 'Favor, The (1994)'),\n",
       " (123.4567901234568, 'Saint of Fort Washington, The (1993)'),\n",
       " (93.45794392523365, 'My Favorite Season (1993)'),\n",
       " (93.45794392523365, 'Magic Hour, The (1998)'),\n",
       " (93.45794392523365, 'Little City (1998)'),\n",
       " (76.33587786259541, 'Quiet Room, The (1996)'),\n",
       " (53.191489361702125, 'Reckless (1995)'),\n",
       " (52.631578947368425, 'Female Perversions (1996)'),\n",
       " (52.631578947368425, 'Commandments (1997)'),\n",
       " (52.631578947368425, 'Bad Girls (1994)')]"
      ]
     },
     "execution_count": 242,
     "metadata": {},
     "output_type": "execute_result"
    }
   ],
   "source": [
    "getRecommendations(10, dict_norm,'20',similarity=sim_cosine) # with normalized data"
   ]
  },
  {
   "cell_type": "markdown",
   "metadata": {},
   "source": [
    "### UU-CF using pandas dataframe"
   ]
  },
  {
   "cell_type": "code",
   "execution_count": 243,
   "metadata": {
    "collapsed": true
   },
   "outputs": [],
   "source": [
    "# function takes in a data frame, what you want to predict pred_id, \n",
    "#the type of collaboration, the similarity you want\n",
    "# to use, and the number of responses you want to get back\n",
    "## Code adapted from https://blog.liip.ch/archive/2016/06/16/recommender-system-slack-pandas-flask.html\n",
    "\n",
    "def predict_p(dframe, pred_id, kind = 'user', similarity = cosine_similarity, n = 10):\n",
    "    d = dframe.fillna(0)\n",
    "    if kind == 'user':\n",
    "        dists = similarity(d)\n",
    "        dists_named = pd.DataFrame(dists, columns = d.index)\n",
    "        dists_named.index = dists_named.columns\n",
    "        \n",
    "    elif kind == 'item':\n",
    "        d = d.T\n",
    "        dists = similarity(d)\n",
    "        dists_named = pd.DataFrame(dists, columns = d.index)\n",
    "        dists_named.index = dists_named.columns\n",
    "\n",
    "    p = dists_named[pred_id].sort_values(ascending = False)\n",
    "    mask = p.index.isin([pred_id])\n",
    "    p = p[~mask]\n",
    "    return p[:n]   "
   ]
  },
  {
   "cell_type": "code",
   "execution_count": 244,
   "metadata": {
    "collapsed": false
   },
   "outputs": [
    {
     "data": {
      "text/html": [
       "<div>\n",
       "<table border=\"1\" class=\"dataframe\">\n",
       "  <thead>\n",
       "    <tr style=\"text-align: right;\">\n",
       "      <th></th>\n",
       "      <th>userid</th>\n",
       "      <th>age</th>\n",
       "      <th>gender</th>\n",
       "      <th>occupation</th>\n",
       "      <th>zipcode</th>\n",
       "      <th>itemid</th>\n",
       "      <th>rating</th>\n",
       "      <th>timestamp</th>\n",
       "      <th>movieid</th>\n",
       "      <th>movietitle</th>\n",
       "      <th>...</th>\n",
       "      <th>fantasy</th>\n",
       "      <th>filmnoir</th>\n",
       "      <th>horror</th>\n",
       "      <th>musical</th>\n",
       "      <th>mystery</th>\n",
       "      <th>romance</th>\n",
       "      <th>scifi</th>\n",
       "      <th>thriller</th>\n",
       "      <th>war</th>\n",
       "      <th>western</th>\n",
       "    </tr>\n",
       "  </thead>\n",
       "  <tbody>\n",
       "    <tr>\n",
       "      <th>0</th>\n",
       "      <td>196</td>\n",
       "      <td>49</td>\n",
       "      <td>M</td>\n",
       "      <td>writer</td>\n",
       "      <td>55105</td>\n",
       "      <td>242</td>\n",
       "      <td>3</td>\n",
       "      <td>881250949</td>\n",
       "      <td>242</td>\n",
       "      <td>Kolya (1996)</td>\n",
       "      <td>...</td>\n",
       "      <td>0</td>\n",
       "      <td>0</td>\n",
       "      <td>0</td>\n",
       "      <td>0</td>\n",
       "      <td>0</td>\n",
       "      <td>0</td>\n",
       "      <td>0</td>\n",
       "      <td>0</td>\n",
       "      <td>0</td>\n",
       "      <td>0</td>\n",
       "    </tr>\n",
       "    <tr>\n",
       "      <th>1</th>\n",
       "      <td>186</td>\n",
       "      <td>39</td>\n",
       "      <td>F</td>\n",
       "      <td>executive</td>\n",
       "      <td>00000</td>\n",
       "      <td>302</td>\n",
       "      <td>3</td>\n",
       "      <td>891717742</td>\n",
       "      <td>302</td>\n",
       "      <td>L.A. Confidential (1997)</td>\n",
       "      <td>...</td>\n",
       "      <td>0</td>\n",
       "      <td>1</td>\n",
       "      <td>0</td>\n",
       "      <td>0</td>\n",
       "      <td>1</td>\n",
       "      <td>0</td>\n",
       "      <td>0</td>\n",
       "      <td>1</td>\n",
       "      <td>0</td>\n",
       "      <td>0</td>\n",
       "    </tr>\n",
       "    <tr>\n",
       "      <th>2</th>\n",
       "      <td>22</td>\n",
       "      <td>25</td>\n",
       "      <td>M</td>\n",
       "      <td>writer</td>\n",
       "      <td>40206</td>\n",
       "      <td>377</td>\n",
       "      <td>1</td>\n",
       "      <td>878887116</td>\n",
       "      <td>377</td>\n",
       "      <td>Heavyweights (1994)</td>\n",
       "      <td>...</td>\n",
       "      <td>0</td>\n",
       "      <td>0</td>\n",
       "      <td>0</td>\n",
       "      <td>0</td>\n",
       "      <td>0</td>\n",
       "      <td>0</td>\n",
       "      <td>0</td>\n",
       "      <td>0</td>\n",
       "      <td>0</td>\n",
       "      <td>0</td>\n",
       "    </tr>\n",
       "    <tr>\n",
       "      <th>3</th>\n",
       "      <td>244</td>\n",
       "      <td>28</td>\n",
       "      <td>M</td>\n",
       "      <td>technician</td>\n",
       "      <td>80525</td>\n",
       "      <td>51</td>\n",
       "      <td>2</td>\n",
       "      <td>880606923</td>\n",
       "      <td>51</td>\n",
       "      <td>Legends of the Fall (1994)</td>\n",
       "      <td>...</td>\n",
       "      <td>0</td>\n",
       "      <td>0</td>\n",
       "      <td>0</td>\n",
       "      <td>0</td>\n",
       "      <td>0</td>\n",
       "      <td>1</td>\n",
       "      <td>0</td>\n",
       "      <td>0</td>\n",
       "      <td>1</td>\n",
       "      <td>1</td>\n",
       "    </tr>\n",
       "    <tr>\n",
       "      <th>4</th>\n",
       "      <td>166</td>\n",
       "      <td>47</td>\n",
       "      <td>M</td>\n",
       "      <td>educator</td>\n",
       "      <td>55113</td>\n",
       "      <td>346</td>\n",
       "      <td>1</td>\n",
       "      <td>886397596</td>\n",
       "      <td>346</td>\n",
       "      <td>Jackie Brown (1997)</td>\n",
       "      <td>...</td>\n",
       "      <td>0</td>\n",
       "      <td>0</td>\n",
       "      <td>0</td>\n",
       "      <td>0</td>\n",
       "      <td>0</td>\n",
       "      <td>0</td>\n",
       "      <td>0</td>\n",
       "      <td>0</td>\n",
       "      <td>0</td>\n",
       "      <td>0</td>\n",
       "    </tr>\n",
       "  </tbody>\n",
       "</table>\n",
       "<p>5 rows × 32 columns</p>\n",
       "</div>"
      ],
      "text/plain": [
       "   userid  age gender  occupation zipcode  itemid  rating  timestamp  movieid  \\\n",
       "0     196   49      M      writer   55105     242       3  881250949      242   \n",
       "1     186   39      F   executive   00000     302       3  891717742      302   \n",
       "2      22   25      M      writer   40206     377       1  878887116      377   \n",
       "3     244   28      M  technician   80525      51       2  880606923       51   \n",
       "4     166   47      M    educator   55113     346       1  886397596      346   \n",
       "\n",
       "                   movietitle   ...    fantasy  filmnoir horror  musical  \\\n",
       "0                Kolya (1996)   ...          0         0      0        0   \n",
       "1    L.A. Confidential (1997)   ...          0         1      0        0   \n",
       "2         Heavyweights (1994)   ...          0         0      0        0   \n",
       "3  Legends of the Fall (1994)   ...          0         0      0        0   \n",
       "4         Jackie Brown (1997)   ...          0         0      0        0   \n",
       "\n",
       "   mystery  romance  scifi  thriller  war  western  \n",
       "0        0        0      0         0    0        0  \n",
       "1        1        0      0         1    0        0  \n",
       "2        0        0      0         0    0        0  \n",
       "3        0        1      0         0    1        1  \n",
       "4        0        0      0         0    0        0  \n",
       "\n",
       "[5 rows x 32 columns]"
      ]
     },
     "execution_count": 244,
     "metadata": {},
     "output_type": "execute_result"
    }
   ],
   "source": [
    "df.head()"
   ]
  },
  {
   "cell_type": "code",
   "execution_count": 245,
   "metadata": {
    "collapsed": false
   },
   "outputs": [
    {
     "data": {
      "text/html": [
       "<div>\n",
       "<table border=\"1\" class=\"dataframe\">\n",
       "  <thead>\n",
       "    <tr style=\"text-align: right;\">\n",
       "      <th>movietitle</th>\n",
       "      <th>'Til There Was You (1997)</th>\n",
       "      <th>1-900 (1994)</th>\n",
       "      <th>101 Dalmatians (1996)</th>\n",
       "      <th>12 Angry Men (1957)</th>\n",
       "      <th>187 (1997)</th>\n",
       "      <th>2 Days in the Valley (1996)</th>\n",
       "      <th>20,000 Leagues Under the Sea (1954)</th>\n",
       "      <th>2001: A Space Odyssey (1968)</th>\n",
       "      <th>3 Ninjas: High Noon At Mega Mountain (1998)</th>\n",
       "      <th>39 Steps, The (1935)</th>\n",
       "      <th>...</th>\n",
       "      <th>Wyatt Earp (1994)</th>\n",
       "      <th>Yankee Zulu (1994)</th>\n",
       "      <th>Year of the Horse (1997)</th>\n",
       "      <th>You So Crazy (1994)</th>\n",
       "      <th>Young Frankenstein (1974)</th>\n",
       "      <th>Young Guns (1988)</th>\n",
       "      <th>Young Guns II (1990)</th>\n",
       "      <th>Young Poisoner's Handbook, The (1995)</th>\n",
       "      <th>Zeus and Roxanne (1997)</th>\n",
       "      <th>unknown</th>\n",
       "    </tr>\n",
       "  </thead>\n",
       "  <tbody>\n",
       "    <tr>\n",
       "      <th>1</th>\n",
       "      <td>NaN</td>\n",
       "      <td>NaN</td>\n",
       "      <td>2.0</td>\n",
       "      <td>5.0</td>\n",
       "      <td>NaN</td>\n",
       "      <td>NaN</td>\n",
       "      <td>3.0</td>\n",
       "      <td>4.0</td>\n",
       "      <td>NaN</td>\n",
       "      <td>NaN</td>\n",
       "      <td>...</td>\n",
       "      <td>NaN</td>\n",
       "      <td>NaN</td>\n",
       "      <td>NaN</td>\n",
       "      <td>NaN</td>\n",
       "      <td>5.0</td>\n",
       "      <td>3.0</td>\n",
       "      <td>NaN</td>\n",
       "      <td>NaN</td>\n",
       "      <td>NaN</td>\n",
       "      <td>4.0</td>\n",
       "    </tr>\n",
       "    <tr>\n",
       "      <th>2</th>\n",
       "      <td>NaN</td>\n",
       "      <td>NaN</td>\n",
       "      <td>NaN</td>\n",
       "      <td>NaN</td>\n",
       "      <td>NaN</td>\n",
       "      <td>NaN</td>\n",
       "      <td>NaN</td>\n",
       "      <td>NaN</td>\n",
       "      <td>1.0</td>\n",
       "      <td>NaN</td>\n",
       "      <td>...</td>\n",
       "      <td>NaN</td>\n",
       "      <td>NaN</td>\n",
       "      <td>NaN</td>\n",
       "      <td>NaN</td>\n",
       "      <td>NaN</td>\n",
       "      <td>NaN</td>\n",
       "      <td>NaN</td>\n",
       "      <td>NaN</td>\n",
       "      <td>NaN</td>\n",
       "      <td>NaN</td>\n",
       "    </tr>\n",
       "    <tr>\n",
       "      <th>3</th>\n",
       "      <td>NaN</td>\n",
       "      <td>NaN</td>\n",
       "      <td>NaN</td>\n",
       "      <td>NaN</td>\n",
       "      <td>2.0</td>\n",
       "      <td>NaN</td>\n",
       "      <td>NaN</td>\n",
       "      <td>NaN</td>\n",
       "      <td>NaN</td>\n",
       "      <td>NaN</td>\n",
       "      <td>...</td>\n",
       "      <td>NaN</td>\n",
       "      <td>NaN</td>\n",
       "      <td>NaN</td>\n",
       "      <td>NaN</td>\n",
       "      <td>NaN</td>\n",
       "      <td>NaN</td>\n",
       "      <td>NaN</td>\n",
       "      <td>NaN</td>\n",
       "      <td>NaN</td>\n",
       "      <td>NaN</td>\n",
       "    </tr>\n",
       "    <tr>\n",
       "      <th>4</th>\n",
       "      <td>NaN</td>\n",
       "      <td>NaN</td>\n",
       "      <td>NaN</td>\n",
       "      <td>NaN</td>\n",
       "      <td>NaN</td>\n",
       "      <td>NaN</td>\n",
       "      <td>NaN</td>\n",
       "      <td>NaN</td>\n",
       "      <td>NaN</td>\n",
       "      <td>NaN</td>\n",
       "      <td>...</td>\n",
       "      <td>NaN</td>\n",
       "      <td>NaN</td>\n",
       "      <td>NaN</td>\n",
       "      <td>NaN</td>\n",
       "      <td>NaN</td>\n",
       "      <td>NaN</td>\n",
       "      <td>NaN</td>\n",
       "      <td>NaN</td>\n",
       "      <td>NaN</td>\n",
       "      <td>NaN</td>\n",
       "    </tr>\n",
       "    <tr>\n",
       "      <th>5</th>\n",
       "      <td>NaN</td>\n",
       "      <td>NaN</td>\n",
       "      <td>2.0</td>\n",
       "      <td>NaN</td>\n",
       "      <td>NaN</td>\n",
       "      <td>NaN</td>\n",
       "      <td>NaN</td>\n",
       "      <td>4.0</td>\n",
       "      <td>NaN</td>\n",
       "      <td>NaN</td>\n",
       "      <td>...</td>\n",
       "      <td>NaN</td>\n",
       "      <td>NaN</td>\n",
       "      <td>NaN</td>\n",
       "      <td>NaN</td>\n",
       "      <td>4.0</td>\n",
       "      <td>NaN</td>\n",
       "      <td>NaN</td>\n",
       "      <td>NaN</td>\n",
       "      <td>NaN</td>\n",
       "      <td>4.0</td>\n",
       "    </tr>\n",
       "  </tbody>\n",
       "</table>\n",
       "<p>5 rows × 1664 columns</p>\n",
       "</div>"
      ],
      "text/plain": [
       "movietitle  'Til There Was You (1997)  1-900 (1994)  101 Dalmatians (1996)  \\\n",
       "1                                 NaN           NaN                    2.0   \n",
       "2                                 NaN           NaN                    NaN   \n",
       "3                                 NaN           NaN                    NaN   \n",
       "4                                 NaN           NaN                    NaN   \n",
       "5                                 NaN           NaN                    2.0   \n",
       "\n",
       "movietitle  12 Angry Men (1957)  187 (1997)  2 Days in the Valley (1996)  \\\n",
       "1                           5.0         NaN                          NaN   \n",
       "2                           NaN         NaN                          NaN   \n",
       "3                           NaN         2.0                          NaN   \n",
       "4                           NaN         NaN                          NaN   \n",
       "5                           NaN         NaN                          NaN   \n",
       "\n",
       "movietitle  20,000 Leagues Under the Sea (1954)  2001: A Space Odyssey (1968)  \\\n",
       "1                                           3.0                           4.0   \n",
       "2                                           NaN                           NaN   \n",
       "3                                           NaN                           NaN   \n",
       "4                                           NaN                           NaN   \n",
       "5                                           NaN                           4.0   \n",
       "\n",
       "movietitle  3 Ninjas: High Noon At Mega Mountain (1998)  39 Steps, The (1935)  \\\n",
       "1                                                   NaN                   NaN   \n",
       "2                                                   1.0                   NaN   \n",
       "3                                                   NaN                   NaN   \n",
       "4                                                   NaN                   NaN   \n",
       "5                                                   NaN                   NaN   \n",
       "\n",
       "movietitle   ...     Wyatt Earp (1994)  Yankee Zulu (1994)  \\\n",
       "1            ...                   NaN                 NaN   \n",
       "2            ...                   NaN                 NaN   \n",
       "3            ...                   NaN                 NaN   \n",
       "4            ...                   NaN                 NaN   \n",
       "5            ...                   NaN                 NaN   \n",
       "\n",
       "movietitle  Year of the Horse (1997)  You So Crazy (1994)  \\\n",
       "1                                NaN                  NaN   \n",
       "2                                NaN                  NaN   \n",
       "3                                NaN                  NaN   \n",
       "4                                NaN                  NaN   \n",
       "5                                NaN                  NaN   \n",
       "\n",
       "movietitle  Young Frankenstein (1974)  Young Guns (1988)  \\\n",
       "1                                 5.0                3.0   \n",
       "2                                 NaN                NaN   \n",
       "3                                 NaN                NaN   \n",
       "4                                 NaN                NaN   \n",
       "5                                 4.0                NaN   \n",
       "\n",
       "movietitle  Young Guns II (1990)  Young Poisoner's Handbook, The (1995)  \\\n",
       "1                            NaN                                    NaN   \n",
       "2                            NaN                                    NaN   \n",
       "3                            NaN                                    NaN   \n",
       "4                            NaN                                    NaN   \n",
       "5                            NaN                                    NaN   \n",
       "\n",
       "movietitle  Zeus and Roxanne (1997)  unknown  \n",
       "1                               NaN      4.0  \n",
       "2                               NaN      NaN  \n",
       "3                               NaN      NaN  \n",
       "4                               NaN      NaN  \n",
       "5                               NaN      4.0  \n",
       "\n",
       "[5 rows x 1664 columns]"
      ]
     },
     "execution_count": 245,
     "metadata": {},
     "output_type": "execute_result"
    }
   ],
   "source": [
    "# convert to wide format for analysis\n",
    "d = df.pivot_table(index = 'userid', columns = 'movietitle', values = 'rating')\n",
    "del d.index.name\n",
    "\n",
    "# normalized dataframe\n",
    "d_norm1 = d.apply(lambda x: x - x.mean(), axis =1) # row-wise operation\n",
    "d_norm = d_norm1.fillna(0)\n",
    "\n",
    "# original dataframe\n",
    "#d = d.fillna(0)\n",
    "d.head()"
   ]
  },
  {
   "cell_type": "code",
   "execution_count": 246,
   "metadata": {
    "collapsed": false
   },
   "outputs": [
    {
     "data": {
      "text/html": [
       "<div>\n",
       "<table border=\"1\" class=\"dataframe\">\n",
       "  <thead>\n",
       "    <tr style=\"text-align: right;\">\n",
       "      <th>movietitle</th>\n",
       "      <th>'Til There Was You (1997)</th>\n",
       "      <th>1-900 (1994)</th>\n",
       "      <th>101 Dalmatians (1996)</th>\n",
       "      <th>12 Angry Men (1957)</th>\n",
       "      <th>187 (1997)</th>\n",
       "      <th>2 Days in the Valley (1996)</th>\n",
       "      <th>20,000 Leagues Under the Sea (1954)</th>\n",
       "      <th>2001: A Space Odyssey (1968)</th>\n",
       "      <th>3 Ninjas: High Noon At Mega Mountain (1998)</th>\n",
       "      <th>39 Steps, The (1935)</th>\n",
       "      <th>...</th>\n",
       "      <th>Wyatt Earp (1994)</th>\n",
       "      <th>Yankee Zulu (1994)</th>\n",
       "      <th>Year of the Horse (1997)</th>\n",
       "      <th>You So Crazy (1994)</th>\n",
       "      <th>Young Frankenstein (1974)</th>\n",
       "      <th>Young Guns (1988)</th>\n",
       "      <th>Young Guns II (1990)</th>\n",
       "      <th>Young Poisoner's Handbook, The (1995)</th>\n",
       "      <th>Zeus and Roxanne (1997)</th>\n",
       "      <th>unknown</th>\n",
       "    </tr>\n",
       "  </thead>\n",
       "  <tbody>\n",
       "    <tr>\n",
       "      <th>1</th>\n",
       "      <td>0.0</td>\n",
       "      <td>0.0</td>\n",
       "      <td>-1.605166</td>\n",
       "      <td>1.394834</td>\n",
       "      <td>0.000000</td>\n",
       "      <td>0.0</td>\n",
       "      <td>-0.605166</td>\n",
       "      <td>0.394834</td>\n",
       "      <td>0.000000</td>\n",
       "      <td>0.0</td>\n",
       "      <td>...</td>\n",
       "      <td>0.0</td>\n",
       "      <td>0.0</td>\n",
       "      <td>0.0</td>\n",
       "      <td>0.0</td>\n",
       "      <td>1.394834</td>\n",
       "      <td>-0.605166</td>\n",
       "      <td>0.0</td>\n",
       "      <td>0.0</td>\n",
       "      <td>0.0</td>\n",
       "      <td>0.394834</td>\n",
       "    </tr>\n",
       "    <tr>\n",
       "      <th>2</th>\n",
       "      <td>0.0</td>\n",
       "      <td>0.0</td>\n",
       "      <td>0.000000</td>\n",
       "      <td>0.000000</td>\n",
       "      <td>0.000000</td>\n",
       "      <td>0.0</td>\n",
       "      <td>0.000000</td>\n",
       "      <td>0.000000</td>\n",
       "      <td>-2.704918</td>\n",
       "      <td>0.0</td>\n",
       "      <td>...</td>\n",
       "      <td>0.0</td>\n",
       "      <td>0.0</td>\n",
       "      <td>0.0</td>\n",
       "      <td>0.0</td>\n",
       "      <td>0.000000</td>\n",
       "      <td>0.000000</td>\n",
       "      <td>0.0</td>\n",
       "      <td>0.0</td>\n",
       "      <td>0.0</td>\n",
       "      <td>0.000000</td>\n",
       "    </tr>\n",
       "    <tr>\n",
       "      <th>3</th>\n",
       "      <td>0.0</td>\n",
       "      <td>0.0</td>\n",
       "      <td>0.000000</td>\n",
       "      <td>0.000000</td>\n",
       "      <td>-0.773585</td>\n",
       "      <td>0.0</td>\n",
       "      <td>0.000000</td>\n",
       "      <td>0.000000</td>\n",
       "      <td>0.000000</td>\n",
       "      <td>0.0</td>\n",
       "      <td>...</td>\n",
       "      <td>0.0</td>\n",
       "      <td>0.0</td>\n",
       "      <td>0.0</td>\n",
       "      <td>0.0</td>\n",
       "      <td>0.000000</td>\n",
       "      <td>0.000000</td>\n",
       "      <td>0.0</td>\n",
       "      <td>0.0</td>\n",
       "      <td>0.0</td>\n",
       "      <td>0.000000</td>\n",
       "    </tr>\n",
       "    <tr>\n",
       "      <th>4</th>\n",
       "      <td>0.0</td>\n",
       "      <td>0.0</td>\n",
       "      <td>0.000000</td>\n",
       "      <td>0.000000</td>\n",
       "      <td>0.000000</td>\n",
       "      <td>0.0</td>\n",
       "      <td>0.000000</td>\n",
       "      <td>0.000000</td>\n",
       "      <td>0.000000</td>\n",
       "      <td>0.0</td>\n",
       "      <td>...</td>\n",
       "      <td>0.0</td>\n",
       "      <td>0.0</td>\n",
       "      <td>0.0</td>\n",
       "      <td>0.0</td>\n",
       "      <td>0.000000</td>\n",
       "      <td>0.000000</td>\n",
       "      <td>0.0</td>\n",
       "      <td>0.0</td>\n",
       "      <td>0.0</td>\n",
       "      <td>0.000000</td>\n",
       "    </tr>\n",
       "    <tr>\n",
       "      <th>5</th>\n",
       "      <td>0.0</td>\n",
       "      <td>0.0</td>\n",
       "      <td>-0.874286</td>\n",
       "      <td>0.000000</td>\n",
       "      <td>0.000000</td>\n",
       "      <td>0.0</td>\n",
       "      <td>0.000000</td>\n",
       "      <td>1.125714</td>\n",
       "      <td>0.000000</td>\n",
       "      <td>0.0</td>\n",
       "      <td>...</td>\n",
       "      <td>0.0</td>\n",
       "      <td>0.0</td>\n",
       "      <td>0.0</td>\n",
       "      <td>0.0</td>\n",
       "      <td>1.125714</td>\n",
       "      <td>0.000000</td>\n",
       "      <td>0.0</td>\n",
       "      <td>0.0</td>\n",
       "      <td>0.0</td>\n",
       "      <td>1.125714</td>\n",
       "    </tr>\n",
       "  </tbody>\n",
       "</table>\n",
       "<p>5 rows × 1664 columns</p>\n",
       "</div>"
      ],
      "text/plain": [
       "movietitle  'Til There Was You (1997)  1-900 (1994)  101 Dalmatians (1996)  \\\n",
       "1                                 0.0           0.0              -1.605166   \n",
       "2                                 0.0           0.0               0.000000   \n",
       "3                                 0.0           0.0               0.000000   \n",
       "4                                 0.0           0.0               0.000000   \n",
       "5                                 0.0           0.0              -0.874286   \n",
       "\n",
       "movietitle  12 Angry Men (1957)  187 (1997)  2 Days in the Valley (1996)  \\\n",
       "1                      1.394834    0.000000                          0.0   \n",
       "2                      0.000000    0.000000                          0.0   \n",
       "3                      0.000000   -0.773585                          0.0   \n",
       "4                      0.000000    0.000000                          0.0   \n",
       "5                      0.000000    0.000000                          0.0   \n",
       "\n",
       "movietitle  20,000 Leagues Under the Sea (1954)  2001: A Space Odyssey (1968)  \\\n",
       "1                                     -0.605166                      0.394834   \n",
       "2                                      0.000000                      0.000000   \n",
       "3                                      0.000000                      0.000000   \n",
       "4                                      0.000000                      0.000000   \n",
       "5                                      0.000000                      1.125714   \n",
       "\n",
       "movietitle  3 Ninjas: High Noon At Mega Mountain (1998)  39 Steps, The (1935)  \\\n",
       "1                                              0.000000                   0.0   \n",
       "2                                             -2.704918                   0.0   \n",
       "3                                              0.000000                   0.0   \n",
       "4                                              0.000000                   0.0   \n",
       "5                                              0.000000                   0.0   \n",
       "\n",
       "movietitle    ...     Wyatt Earp (1994)  Yankee Zulu (1994)  \\\n",
       "1             ...                   0.0                 0.0   \n",
       "2             ...                   0.0                 0.0   \n",
       "3             ...                   0.0                 0.0   \n",
       "4             ...                   0.0                 0.0   \n",
       "5             ...                   0.0                 0.0   \n",
       "\n",
       "movietitle  Year of the Horse (1997)  You So Crazy (1994)  \\\n",
       "1                                0.0                  0.0   \n",
       "2                                0.0                  0.0   \n",
       "3                                0.0                  0.0   \n",
       "4                                0.0                  0.0   \n",
       "5                                0.0                  0.0   \n",
       "\n",
       "movietitle  Young Frankenstein (1974)  Young Guns (1988)  \\\n",
       "1                            1.394834          -0.605166   \n",
       "2                            0.000000           0.000000   \n",
       "3                            0.000000           0.000000   \n",
       "4                            0.000000           0.000000   \n",
       "5                            1.125714           0.000000   \n",
       "\n",
       "movietitle  Young Guns II (1990)  Young Poisoner's Handbook, The (1995)  \\\n",
       "1                            0.0                                    0.0   \n",
       "2                            0.0                                    0.0   \n",
       "3                            0.0                                    0.0   \n",
       "4                            0.0                                    0.0   \n",
       "5                            0.0                                    0.0   \n",
       "\n",
       "movietitle  Zeus and Roxanne (1997)   unknown  \n",
       "1                               0.0  0.394834  \n",
       "2                               0.0  0.000000  \n",
       "3                               0.0  0.000000  \n",
       "4                               0.0  0.000000  \n",
       "5                               0.0  1.125714  \n",
       "\n",
       "[5 rows x 1664 columns]"
      ]
     },
     "execution_count": 246,
     "metadata": {},
     "output_type": "execute_result"
    }
   ],
   "source": [
    "d_norm.head()"
   ]
  },
  {
   "cell_type": "markdown",
   "metadata": {},
   "source": [
    "<b> User-User Collaborative Filtering using cosine distance"
   ]
  },
  {
   "cell_type": "markdown",
   "metadata": {},
   "source": [
    "<b>Predictions based on user-user cosine distance"
   ]
  },
  {
   "cell_type": "code",
   "execution_count": 247,
   "metadata": {
    "collapsed": false
   },
   "outputs": [
    {
     "data": {
      "text/plain": [
       "254    0.575197\n",
       "738    0.568915\n",
       "881    0.565369\n",
       "42     0.547329\n",
       "545    0.543806\n",
       "804    0.543751\n",
       "650    0.543560\n",
       "275    0.540358\n",
       "815    0.536989\n",
       "536    0.532302\n",
       "Name: 290, dtype: float64"
      ]
     },
     "execution_count": 247,
     "metadata": {},
     "output_type": "execute_result"
    }
   ],
   "source": [
    "# Predict based on user/user\n",
    "## At present this gives the closest users\n",
    "predict_p(d, pred_id = 290, kind = 'user') # With original data"
   ]
  },
  {
   "cell_type": "code",
   "execution_count": 248,
   "metadata": {
    "collapsed": false
   },
   "outputs": [
    {
     "data": {
      "text/plain": [
       "70     0.323139\n",
       "275    0.279290\n",
       "746    0.233377\n",
       "536    0.233276\n",
       "901    0.231759\n",
       "638    0.231161\n",
       "545    0.219109\n",
       "896    0.218910\n",
       "807    0.216560\n",
       "56     0.215462\n",
       "Name: 290, dtype: float64"
      ]
     },
     "execution_count": 248,
     "metadata": {},
     "output_type": "execute_result"
    }
   ],
   "source": [
    "predict_p(d_norm, pred_id = 290, kind = 'user') # With normalized data"
   ]
  },
  {
   "cell_type": "markdown",
   "metadata": {},
   "source": [
    "<b> UU-CF (pandas) Recommendations"
   ]
  },
  {
   "cell_type": "code",
   "execution_count": 249,
   "metadata": {
    "collapsed": false
   },
   "outputs": [],
   "source": [
    "# Recommend items based on User similarity\n",
    "def get_recommendations_user(dframe, pred_id, similarity = cosine_similarity, n = 10):\n",
    "    d = dframe.fillna(0)\n",
    "    t = d.ix[predict_p(d, pred_id = pred_id, n = n).index]\n",
    "    #t.ix[:,:10]\n",
    "    p = d.ix[pred_id].values != 0\n",
    "\n",
    "\n",
    "\n",
    "    r = t.T.ix[~p].T\n",
    "    # Delete those columns that all contain all 0, meaning that they have not been rated\n",
    "    r = r.loc[:, (r != 0).any(axis=0)]\n",
    "    # Have to rename the columns as we keep on getting an error\n",
    "    cols = r.columns\n",
    "    r.columns =  range(1, 1+ r.shape[1])\n",
    "    # Calculate the mean ratings for the movies\n",
    "    ratings = r.sum(axis = 0)/r.astype(bool).sum(axis= 0)\n",
    "    ratings.index = cols\n",
    "    return ratings.sort_values(axis = 0, ascending = False, \n",
    "                inplace = False, na_position = 'last')[:n]\n",
    "    "
   ]
  },
  {
   "cell_type": "markdown",
   "metadata": {},
   "source": [
    "<b> Get top 10 recommendations (UUCF/pandas)"
   ]
  },
  {
   "cell_type": "code",
   "execution_count": 250,
   "metadata": {
    "collapsed": false
   },
   "outputs": [
    {
     "data": {
      "text/plain": [
       "movietitle\n",
       "Enchanted April (1991)          5.0\n",
       "Ran (1985)                      5.0\n",
       "Perfect World, A (1993)         5.0\n",
       "Persuasion (1995)               5.0\n",
       "Little Princess, A (1995)       5.0\n",
       "My Man Godfrey (1936)           5.0\n",
       "Shadowlands (1993)              5.0\n",
       "Sense and Sensibility (1995)    5.0\n",
       "Army of Darkness (1993)         5.0\n",
       "That Thing You Do! (1996)       5.0\n",
       "dtype: float64"
      ]
     },
     "execution_count": 250,
     "metadata": {},
     "output_type": "execute_result"
    }
   ],
   "source": [
    "get_recommendations_user(d, pred_id = 290, similarity = cosine_similarity, n = 10) # With original data"
   ]
  },
  {
   "cell_type": "code",
   "execution_count": 251,
   "metadata": {
    "collapsed": false
   },
   "outputs": [
    {
     "data": {
      "text/plain": [
       "254    NaN\n",
       "738    NaN\n",
       "881    NaN\n",
       "42     NaN\n",
       "545    NaN\n",
       "804    NaN\n",
       "650    NaN\n",
       "275    NaN\n",
       "815    NaN\n",
       "536    5.0\n",
       "Name: Enchanted April (1991), dtype: float64"
      ]
     },
     "execution_count": 251,
     "metadata": {},
     "output_type": "execute_result"
    }
   ],
   "source": [
    "# Check the results\n",
    "cut = [254, 738,881, 42,545,804,650,275,815,536]\n",
    "d.loc[cut,'Enchanted April (1991)']\n"
   ]
  },
  {
   "cell_type": "code",
   "execution_count": 252,
   "metadata": {
    "collapsed": false
   },
   "outputs": [
    {
     "data": {
      "text/plain": [
       "movietitle\n",
       "Cop Land (1997)                   2.019337\n",
       "Citizen Kane (1941)               2.019337\n",
       "Fried Green Tomatoes (1991)       2.019337\n",
       "Philadelphia Story, The (1940)    2.019337\n",
       "Devil in a Blue Dress (1995)      2.019337\n",
       "Heat (1995)                       2.019337\n",
       "Big Sleep, The (1946)             2.019337\n",
       "Henry V (1989)                    1.572940\n",
       "Unforgiven (1992)                 1.251905\n",
       "Twelve Monkeys (1995)             1.188813\n",
       "dtype: float64"
      ]
     },
     "execution_count": 252,
     "metadata": {},
     "output_type": "execute_result"
    }
   ],
   "source": [
    "get_recommendations_user(d_norm, pred_id = 290, similarity = cosine_similarity, n = 10) # With normalized data"
   ]
  },
  {
   "cell_type": "code",
   "execution_count": 253,
   "metadata": {
    "collapsed": false
   },
   "outputs": [
    {
     "data": {
      "text/html": [
       "<div>\n",
       "<table border=\"1\" class=\"dataframe\">\n",
       "  <thead>\n",
       "    <tr style=\"text-align: right;\">\n",
       "      <th></th>\n",
       "      <th>0</th>\n",
       "    </tr>\n",
       "    <tr>\n",
       "      <th>movietitle</th>\n",
       "      <th></th>\n",
       "    </tr>\n",
       "  </thead>\n",
       "  <tbody>\n",
       "    <tr>\n",
       "      <th>Cop Land (1997)</th>\n",
       "      <td>5.201155</td>\n",
       "    </tr>\n",
       "    <tr>\n",
       "      <th>Citizen Kane (1941)</th>\n",
       "      <td>5.201155</td>\n",
       "    </tr>\n",
       "    <tr>\n",
       "      <th>Fried Green Tomatoes (1991)</th>\n",
       "      <td>5.201155</td>\n",
       "    </tr>\n",
       "    <tr>\n",
       "      <th>Philadelphia Story, The (1940)</th>\n",
       "      <td>5.201155</td>\n",
       "    </tr>\n",
       "    <tr>\n",
       "      <th>Devil in a Blue Dress (1995)</th>\n",
       "      <td>5.201155</td>\n",
       "    </tr>\n",
       "    <tr>\n",
       "      <th>Heat (1995)</th>\n",
       "      <td>5.201155</td>\n",
       "    </tr>\n",
       "    <tr>\n",
       "      <th>Big Sleep, The (1946)</th>\n",
       "      <td>5.201155</td>\n",
       "    </tr>\n",
       "    <tr>\n",
       "      <th>Henry V (1989)</th>\n",
       "      <td>4.754758</td>\n",
       "    </tr>\n",
       "    <tr>\n",
       "      <th>Unforgiven (1992)</th>\n",
       "      <td>4.433723</td>\n",
       "    </tr>\n",
       "    <tr>\n",
       "      <th>Twelve Monkeys (1995)</th>\n",
       "      <td>4.370631</td>\n",
       "    </tr>\n",
       "  </tbody>\n",
       "</table>\n",
       "</div>"
      ],
      "text/plain": [
       "                                       0\n",
       "movietitle                              \n",
       "Cop Land (1997)                 5.201155\n",
       "Citizen Kane (1941)             5.201155\n",
       "Fried Green Tomatoes (1991)     5.201155\n",
       "Philadelphia Story, The (1940)  5.201155\n",
       "Devil in a Blue Dress (1995)    5.201155\n",
       "Heat (1995)                     5.201155\n",
       "Big Sleep, The (1946)           5.201155\n",
       "Henry V (1989)                  4.754758\n",
       "Unforgiven (1992)               4.433723\n",
       "Twelve Monkeys (1995)           4.370631"
      ]
     },
     "execution_count": 253,
     "metadata": {},
     "output_type": "execute_result"
    }
   ],
   "source": [
    "r = pd.DataFrame(get_recommendations_user(d_norm, pred_id = 290, similarity = cosine_similarity, n = 10))\n",
    "# With normalized data\n",
    "mean_ratings = d[d.index ==209].mean(axis = 1)\n",
    "\n",
    "r + float(mean_ratings)\n",
    "\n"
   ]
  },
  {
   "cell_type": "markdown",
   "metadata": {},
   "source": [
    "### Item-Item Collaborative Filtering\n",
    "### II-CF using python dictionry"
   ]
  },
  {
   "cell_type": "markdown",
   "metadata": {},
   "source": [
    "<b> Transpose the user-item matrix to item-user matrix"
   ]
  },
  {
   "cell_type": "code",
   "execution_count": 254,
   "metadata": {
    "collapsed": true
   },
   "outputs": [],
   "source": [
    "#Flip items and users\n",
    "def item_user_switch(df):\n",
    "    results={}\n",
    "    for uid in df:\n",
    "        for movie in df[uid]:\n",
    "            results.setdefault(movie, {})\n",
    "            #Flip movie & user\n",
    "            results[movie][uid]=df[uid][movie]\n",
    "    return results"
   ]
  },
  {
   "cell_type": "code",
   "execution_count": 255,
   "metadata": {
    "collapsed": true
   },
   "outputs": [],
   "source": [
    "#Tranpose the matrix\n",
    "mdict_rev = item_user_switch(mdict)"
   ]
  },
  {
   "cell_type": "code",
   "execution_count": 256,
   "metadata": {
    "collapsed": false
   },
   "outputs": [],
   "source": [
    "#Check the data\n",
    "#mdict_rev['Forrest Gump (1994)']"
   ]
  },
  {
   "cell_type": "code",
   "execution_count": 257,
   "metadata": {
    "collapsed": false
   },
   "outputs": [],
   "source": [
    "#Test getRecommendations function\n",
    "#getRecommendations(10, mdict_rev,'20',similarity=sim_cosine)  #Not working"
   ]
  },
  {
   "cell_type": "markdown",
   "metadata": {},
   "source": [
    "### II-CF using pandas dataframe Un Normalized Data"
   ]
  },
  {
   "cell_type": "code",
   "execution_count": 258,
   "metadata": {
    "collapsed": false
   },
   "outputs": [
    {
     "data": {
      "text/plain": [
       "movietitle\n",
       "Forrest Gump (1994)                       0.661877\n",
       "Raiders of the Lost Ark (1981)            0.660880\n",
       "Back to the Future (1985)                 0.643994\n",
       "E.T. the Extra-Terrestrial (1982)         0.637103\n",
       "Dead Poets Society (1989)                 0.636788\n",
       "One Flew Over the Cuckoo's Nest (1975)    0.636475\n",
       "Silence of the Lambs, The (1991)          0.628871\n",
       "2001: A Space Odyssey (1968)              0.627704\n",
       "When Harry Met Sally... (1989)            0.627460\n",
       "Schindler's List (1993)                   0.617628\n",
       "Name: Amadeus (1984), dtype: float64"
      ]
     },
     "execution_count": 258,
     "metadata": {},
     "output_type": "execute_result"
    }
   ],
   "source": [
    "# Predict based on item/item\n",
    "predict_p(d, pred_id = \"Amadeus (1984)\", kind = 'item')"
   ]
  },
  {
   "cell_type": "markdown",
   "metadata": {},
   "source": [
    "### II-CF (pandas) Recommendations Normalized Data"
   ]
  },
  {
   "cell_type": "code",
   "execution_count": 259,
   "metadata": {
    "collapsed": false
   },
   "outputs": [
    {
     "data": {
      "text/plain": [
       "movietitle\n",
       "Schindler's List (1993)                   0.398994\n",
       "Casablanca (1942)                         0.344384\n",
       "To Kill a Mockingbird (1962)              0.331411\n",
       "Citizen Kane (1941)                       0.328816\n",
       "Shawshank Redemption, The (1994)          0.326825\n",
       "One Flew Over the Cuckoo's Nest (1975)    0.320654\n",
       "Godfather, The (1972)                     0.309454\n",
       "Henry V (1989)                            0.296642\n",
       "Silence of the Lambs, The (1991)          0.287307\n",
       "Star Wars (1977)                          0.280790\n",
       "Name: Amadeus (1984), dtype: float64"
      ]
     },
     "execution_count": 259,
     "metadata": {},
     "output_type": "execute_result"
    }
   ],
   "source": [
    "predict_p(d_norm, pred_id = \"Amadeus (1984)\", kind = 'item')"
   ]
  },
  {
   "cell_type": "markdown",
   "metadata": {},
   "source": [
    "### Recommender Evaluation"
   ]
  },
  {
   "cell_type": "markdown",
   "metadata": {},
   "source": [
    "<b>Split the dataset into training and testing sets"
   ]
  },
  {
   "cell_type": "code",
   "execution_count": 260,
   "metadata": {
    "collapsed": true
   },
   "outputs": [],
   "source": [
    "from sklearn import cross_validation as cv\n",
    "df1 = df[[\"userid\", \"itemid\", \"rating\"]]\n",
    "df1.columns = [\"userid\", \"itemid\", \"rating\"]\n",
    "train_data, test_data = cv.train_test_split(df1, test_size=0.25)"
   ]
  },
  {
   "cell_type": "code",
   "execution_count": 261,
   "metadata": {
    "collapsed": true
   },
   "outputs": [],
   "source": [
    "# Normalized long format\n",
    "d1 = df.pivot_table(index = 'userid', columns = 'movieid', values = 'rating')\n",
    "del d1.index.name\n",
    "d_norm2 = d1.apply(lambda x: x - x.mean(), axis =1) \n",
    "df_long_norm = pd.melt(d_norm2.reset_index(), id_vars = \"index\").dropna()\n",
    "df_long_norm.columns = [\"userid\", \"itemid\", \"rating\"]"
   ]
  },
  {
   "cell_type": "code",
   "execution_count": 262,
   "metadata": {
    "collapsed": false
   },
   "outputs": [
    {
     "data": {
      "text/html": [
       "<div>\n",
       "<table border=\"1\" class=\"dataframe\">\n",
       "  <thead>\n",
       "    <tr style=\"text-align: right;\">\n",
       "      <th></th>\n",
       "      <th>userid</th>\n",
       "      <th>itemid</th>\n",
       "      <th>rating</th>\n",
       "    </tr>\n",
       "  </thead>\n",
       "  <tbody>\n",
       "    <tr>\n",
       "      <th>0</th>\n",
       "      <td>1</td>\n",
       "      <td>1</td>\n",
       "      <td>1.389706</td>\n",
       "    </tr>\n",
       "    <tr>\n",
       "      <th>1</th>\n",
       "      <td>2</td>\n",
       "      <td>1</td>\n",
       "      <td>0.290323</td>\n",
       "    </tr>\n",
       "    <tr>\n",
       "      <th>4</th>\n",
       "      <td>5</td>\n",
       "      <td>1</td>\n",
       "      <td>1.125714</td>\n",
       "    </tr>\n",
       "    <tr>\n",
       "      <th>5</th>\n",
       "      <td>6</td>\n",
       "      <td>1</td>\n",
       "      <td>0.364929</td>\n",
       "    </tr>\n",
       "    <tr>\n",
       "      <th>9</th>\n",
       "      <td>10</td>\n",
       "      <td>1</td>\n",
       "      <td>-0.206522</td>\n",
       "    </tr>\n",
       "  </tbody>\n",
       "</table>\n",
       "</div>"
      ],
      "text/plain": [
       "   userid itemid    rating\n",
       "0       1      1  1.389706\n",
       "1       2      1  0.290323\n",
       "4       5      1  1.125714\n",
       "5       6      1  0.364929\n",
       "9      10      1 -0.206522"
      ]
     },
     "execution_count": 262,
     "metadata": {},
     "output_type": "execute_result"
    }
   ],
   "source": [
    "df_long_norm.head()"
   ]
  },
  {
   "cell_type": "code",
   "execution_count": 263,
   "metadata": {
    "collapsed": false
   },
   "outputs": [
    {
     "name": "stdout",
     "output_type": "stream",
     "text": [
      "Number of users = 943 | Number of movies = 1682\n"
     ]
    }
   ],
   "source": [
    "n_users = df1.userid.unique().shape[0]\n",
    "n_items = df1.itemid.unique().shape[0]\n",
    "print 'Number of users = ' + str(n_users) + ' | Number of movies = ' + str(n_items)  "
   ]
  },
  {
   "cell_type": "code",
   "execution_count": 264,
   "metadata": {
    "collapsed": false
   },
   "outputs": [],
   "source": [
    "#Create two user-item matrices, one for training and another for testing\n",
    "train_data_matrix = np.zeros((n_users, n_items))\n",
    "for line in train_data.itertuples():\n",
    "    train_data_matrix[line[1]-1, line[2]-1] = line[3]  \n",
    "\n",
    "test_data_matrix = np.zeros((n_users, n_items))\n",
    "for line in test_data.itertuples():\n",
    "    test_data_matrix[line[1]-1, line[2]-1] = line[3]"
   ]
  },
  {
   "cell_type": "code",
   "execution_count": 265,
   "metadata": {
    "collapsed": true
   },
   "outputs": [],
   "source": [
    "from sklearn.metrics.pairwise import pairwise_distances\n",
    "user_similarity = pairwise_distances(train_data_matrix, metric='cosine')\n",
    "item_similarity = pairwise_distances(train_data_matrix.T, metric='cosine')\n"
   ]
  },
  {
   "cell_type": "code",
   "execution_count": 266,
   "metadata": {
    "collapsed": false
   },
   "outputs": [],
   "source": [
    "def predict(ratings, similarity, type='user'):\n",
    "    if type == 'user':\n",
    "        mean_user_rating = ratings.mean(axis=1)\n",
    "        #You use np.newaxis so that mean_user_rating has same format as ratings\n",
    "        ratings_diff = (ratings - mean_user_rating[:, np.newaxis]) \n",
    "        pred = mean_user_rating[:, np.newaxis] + similarity.dot(ratings_diff) / np.array([np.abs(similarity).sum(axis=1)]).T\n",
    "    elif type == 'item':\n",
    "        pred = ratings.dot(similarity) / np.array([np.abs(similarity).sum(axis=1)])     \n",
    "    return pred"
   ]
  },
  {
   "cell_type": "code",
   "execution_count": 267,
   "metadata": {
    "collapsed": false
   },
   "outputs": [
    {
     "data": {
      "text/plain": [
       "array([[ 0.,  3.,  4., ...,  0.,  0.,  0.],\n",
       "       [ 4.,  0.,  0., ...,  0.,  0.,  0.],\n",
       "       [ 0.,  0.,  0., ...,  0.,  0.,  0.],\n",
       "       ..., \n",
       "       [ 0.,  0.,  0., ...,  0.,  0.,  0.],\n",
       "       [ 0.,  0.,  0., ...,  0.,  0.,  0.],\n",
       "       [ 0.,  0.,  0., ...,  0.,  0.,  0.]])"
      ]
     },
     "execution_count": 267,
     "metadata": {},
     "output_type": "execute_result"
    }
   ],
   "source": [
    "train_data_matrix"
   ]
  },
  {
   "cell_type": "code",
   "execution_count": 268,
   "metadata": {
    "collapsed": false
   },
   "outputs": [],
   "source": [
    "item_prediction = predict(train_data_matrix, item_similarity, type='item')\n",
    "user_prediction = predict(train_data_matrix, user_similarity, type='user')"
   ]
  },
  {
   "cell_type": "code",
   "execution_count": 269,
   "metadata": {
    "collapsed": false
   },
   "outputs": [
    {
     "data": {
      "text/plain": [
       "array([[ 1.5755265 ,  0.52051391,  0.41531044, ...,  0.24206101,\n",
       "         0.2419915 ,  0.23957549],\n",
       "       [ 1.32083482,  0.26927465,  0.12335188, ..., -0.07730101,\n",
       "        -0.07586136, -0.07907648],\n",
       "       [ 1.35242894,  0.24002565,  0.10468518, ..., -0.10210179,\n",
       "        -0.10043139, -0.10359531],\n",
       "       ..., \n",
       "       [ 1.25864857,  0.21124912,  0.07107323, ..., -0.12128768,\n",
       "        -0.1203953 , -0.12354972],\n",
       "       [ 1.39168883,  0.31132466,  0.19693475, ..., -0.00381547,\n",
       "        -0.00311829, -0.00588332],\n",
       "       [ 1.4080473 ,  0.36692713,  0.26138491, ...,  0.0847689 ,\n",
       "         0.08455932,  0.08228216]])"
      ]
     },
     "execution_count": 269,
     "metadata": {},
     "output_type": "execute_result"
    }
   ],
   "source": [
    "user_prediction"
   ]
  },
  {
   "cell_type": "markdown",
   "metadata": {},
   "source": [
    "<b>Evaluation"
   ]
  },
  {
   "cell_type": "code",
   "execution_count": 270,
   "metadata": {
    "collapsed": true
   },
   "outputs": [],
   "source": [
    "from sklearn.metrics import mean_squared_error\n",
    "from math import sqrt\n",
    "def rmse(prediction, actual):\n",
    "    prediction = prediction[actual.nonzero()].flatten() \n",
    "    actual = actual[actual.nonzero()].flatten()\n",
    "    return sqrt(mean_squared_error(prediction, actual))"
   ]
  },
  {
   "cell_type": "code",
   "execution_count": 271,
   "metadata": {
    "collapsed": false
   },
   "outputs": [
    {
     "name": "stdout",
     "output_type": "stream",
     "text": [
      "User-based CF RMSE: 3.13291685691\n",
      "Item-based CF RMSE: 3.46114362212\n"
     ]
    }
   ],
   "source": [
    "print 'User-based CF RMSE: ' + str(rmse(user_prediction, test_data_matrix))\n",
    "print 'Item-based CF RMSE: ' + str(rmse(item_prediction, test_data_matrix))"
   ]
  },
  {
   "cell_type": "code",
   "execution_count": null,
   "metadata": {
    "collapsed": true
   },
   "outputs": [],
   "source": []
  },
  {
   "cell_type": "code",
   "execution_count": null,
   "metadata": {
    "collapsed": true
   },
   "outputs": [],
   "source": []
  },
  {
   "cell_type": "code",
   "execution_count": null,
   "metadata": {
    "collapsed": true
   },
   "outputs": [],
   "source": []
  }
 ],
 "metadata": {
  "kernelspec": {
   "display_name": "Python 2",
   "language": "python",
   "name": "python2"
  },
  "language_info": {
   "codemirror_mode": {
    "name": "ipython",
    "version": 2
   },
   "file_extension": ".py",
   "mimetype": "text/x-python",
   "name": "python",
   "nbconvert_exporter": "python",
   "pygments_lexer": "ipython2",
   "version": "2.7.11"
  }
 },
 "nbformat": 4,
 "nbformat_minor": 0
}
