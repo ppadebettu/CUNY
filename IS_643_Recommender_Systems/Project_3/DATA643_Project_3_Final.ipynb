{
 "cells": [
  {
   "cell_type": "markdown",
   "metadata": {},
   "source": [
    "DATA643- Project 3\n",
    "======\n",
    "Prashanth Padebetttu, Parshu Rath, Adjare Windokun, Xingjia Wu\n",
    "----------\n",
    "<b> Summer 2016 <br>\n",
    "Instructor: Andrew Catlin"
   ]
  },
  {
   "cell_type": "markdown",
   "metadata": {},
   "source": [
    "# Introdocution"
   ]
  },
  {
   "cell_type": "markdown",
   "metadata": {},
   "source": [
    "We use the Movielens dataset consisting of 100K records as our dataset and use both SVD and TD-IDF to make recommendations and preditions\n"
   ]
  },
  {
   "cell_type": "markdown",
   "metadata": {},
   "source": [
    "Load Movielens Data\n",
    "-------\n",
    "<b> Load 100K movie data as pandas dataframe:"
   ]
  },
  {
   "cell_type": "code",
   "execution_count": 1,
   "metadata": {
    "collapsed": true
   },
   "outputs": [],
   "source": [
    "# Required Python Packages\n",
    "%matplotlib inline\n",
    "\n",
    "from math import sqrt\n",
    "from sklearn.metrics.pairwise import cosine_similarity\n",
    "import csv\n",
    "import pandas as pd\n",
    "import numpy as np\n",
    "from scipy import spatial\n",
    "import matplotlib.pyplot as plt\n",
    "import scipy \n",
    "from sklearn.feature_extraction.text import TfidfVectorizer"
   ]
  },
  {
   "cell_type": "code",
   "execution_count": 2,
   "metadata": {
    "collapsed": false
   },
   "outputs": [],
   "source": [
    "#Load data into a pandas dataframe\n",
    "# Movielens data with 100,000 records\n",
    "url = 'https://raw.githubusercontent.com/ppadebettu/CUNY/IS-607-Data-Acquisition-and-Management/IS643/Project_2/movielens.csv'\n",
    "df = pd.read_csv(url, sep = \",\" , header = 0, na_values='NaN') # 100000 by 32 dataframe"
   ]
  },
  {
   "cell_type": "code",
   "execution_count": 3,
   "metadata": {
    "collapsed": false
   },
   "outputs": [
    {
     "data": {
      "text/html": [
       "<div>\n",
       "<table border=\"1\" class=\"dataframe\">\n",
       "  <thead>\n",
       "    <tr style=\"text-align: right;\">\n",
       "      <th></th>\n",
       "      <th>userid</th>\n",
       "      <th>age</th>\n",
       "      <th>gender</th>\n",
       "      <th>occupation</th>\n",
       "      <th>zipcode</th>\n",
       "      <th>itemid</th>\n",
       "      <th>rating</th>\n",
       "      <th>timestamp</th>\n",
       "      <th>movieid</th>\n",
       "      <th>movietitle</th>\n",
       "      <th>...</th>\n",
       "      <th>fantasy</th>\n",
       "      <th>filmnoir</th>\n",
       "      <th>horror</th>\n",
       "      <th>musical</th>\n",
       "      <th>mystery</th>\n",
       "      <th>romance</th>\n",
       "      <th>scifi</th>\n",
       "      <th>thriller</th>\n",
       "      <th>war</th>\n",
       "      <th>western</th>\n",
       "    </tr>\n",
       "  </thead>\n",
       "  <tbody>\n",
       "    <tr>\n",
       "      <th>0</th>\n",
       "      <td>196</td>\n",
       "      <td>49</td>\n",
       "      <td>M</td>\n",
       "      <td>writer</td>\n",
       "      <td>55105</td>\n",
       "      <td>242</td>\n",
       "      <td>3</td>\n",
       "      <td>881250949</td>\n",
       "      <td>242</td>\n",
       "      <td>Kolya (1996)</td>\n",
       "      <td>...</td>\n",
       "      <td>0</td>\n",
       "      <td>0</td>\n",
       "      <td>0</td>\n",
       "      <td>0</td>\n",
       "      <td>0</td>\n",
       "      <td>0</td>\n",
       "      <td>0</td>\n",
       "      <td>0</td>\n",
       "      <td>0</td>\n",
       "      <td>0</td>\n",
       "    </tr>\n",
       "    <tr>\n",
       "      <th>1</th>\n",
       "      <td>186</td>\n",
       "      <td>39</td>\n",
       "      <td>F</td>\n",
       "      <td>executive</td>\n",
       "      <td>00000</td>\n",
       "      <td>302</td>\n",
       "      <td>3</td>\n",
       "      <td>891717742</td>\n",
       "      <td>302</td>\n",
       "      <td>L.A. Confidential (1997)</td>\n",
       "      <td>...</td>\n",
       "      <td>0</td>\n",
       "      <td>1</td>\n",
       "      <td>0</td>\n",
       "      <td>0</td>\n",
       "      <td>1</td>\n",
       "      <td>0</td>\n",
       "      <td>0</td>\n",
       "      <td>1</td>\n",
       "      <td>0</td>\n",
       "      <td>0</td>\n",
       "    </tr>\n",
       "    <tr>\n",
       "      <th>2</th>\n",
       "      <td>22</td>\n",
       "      <td>25</td>\n",
       "      <td>M</td>\n",
       "      <td>writer</td>\n",
       "      <td>40206</td>\n",
       "      <td>377</td>\n",
       "      <td>1</td>\n",
       "      <td>878887116</td>\n",
       "      <td>377</td>\n",
       "      <td>Heavyweights (1994)</td>\n",
       "      <td>...</td>\n",
       "      <td>0</td>\n",
       "      <td>0</td>\n",
       "      <td>0</td>\n",
       "      <td>0</td>\n",
       "      <td>0</td>\n",
       "      <td>0</td>\n",
       "      <td>0</td>\n",
       "      <td>0</td>\n",
       "      <td>0</td>\n",
       "      <td>0</td>\n",
       "    </tr>\n",
       "    <tr>\n",
       "      <th>3</th>\n",
       "      <td>244</td>\n",
       "      <td>28</td>\n",
       "      <td>M</td>\n",
       "      <td>technician</td>\n",
       "      <td>80525</td>\n",
       "      <td>51</td>\n",
       "      <td>2</td>\n",
       "      <td>880606923</td>\n",
       "      <td>51</td>\n",
       "      <td>Legends of the Fall (1994)</td>\n",
       "      <td>...</td>\n",
       "      <td>0</td>\n",
       "      <td>0</td>\n",
       "      <td>0</td>\n",
       "      <td>0</td>\n",
       "      <td>0</td>\n",
       "      <td>1</td>\n",
       "      <td>0</td>\n",
       "      <td>0</td>\n",
       "      <td>1</td>\n",
       "      <td>1</td>\n",
       "    </tr>\n",
       "    <tr>\n",
       "      <th>4</th>\n",
       "      <td>166</td>\n",
       "      <td>47</td>\n",
       "      <td>M</td>\n",
       "      <td>educator</td>\n",
       "      <td>55113</td>\n",
       "      <td>346</td>\n",
       "      <td>1</td>\n",
       "      <td>886397596</td>\n",
       "      <td>346</td>\n",
       "      <td>Jackie Brown (1997)</td>\n",
       "      <td>...</td>\n",
       "      <td>0</td>\n",
       "      <td>0</td>\n",
       "      <td>0</td>\n",
       "      <td>0</td>\n",
       "      <td>0</td>\n",
       "      <td>0</td>\n",
       "      <td>0</td>\n",
       "      <td>0</td>\n",
       "      <td>0</td>\n",
       "      <td>0</td>\n",
       "    </tr>\n",
       "  </tbody>\n",
       "</table>\n",
       "<p>5 rows × 32 columns</p>\n",
       "</div>"
      ],
      "text/plain": [
       "   userid  age gender  occupation zipcode  itemid  rating  timestamp  movieid  \\\n",
       "0     196   49      M      writer   55105     242       3  881250949      242   \n",
       "1     186   39      F   executive   00000     302       3  891717742      302   \n",
       "2      22   25      M      writer   40206     377       1  878887116      377   \n",
       "3     244   28      M  technician   80525      51       2  880606923       51   \n",
       "4     166   47      M    educator   55113     346       1  886397596      346   \n",
       "\n",
       "                   movietitle   ...    fantasy  filmnoir horror  musical  \\\n",
       "0                Kolya (1996)   ...          0         0      0        0   \n",
       "1    L.A. Confidential (1997)   ...          0         1      0        0   \n",
       "2         Heavyweights (1994)   ...          0         0      0        0   \n",
       "3  Legends of the Fall (1994)   ...          0         0      0        0   \n",
       "4         Jackie Brown (1997)   ...          0         0      0        0   \n",
       "\n",
       "   mystery  romance  scifi  thriller  war  western  \n",
       "0        0        0      0         0    0        0  \n",
       "1        1        0      0         1    0        0  \n",
       "2        0        0      0         0    0        0  \n",
       "3        0        1      0         0    1        1  \n",
       "4        0        0      0         0    0        0  \n",
       "\n",
       "[5 rows x 32 columns]"
      ]
     },
     "execution_count": 3,
     "metadata": {},
     "output_type": "execute_result"
    }
   ],
   "source": [
    "# Displaying the movielens dataset as a pandas dataframe\n",
    "df.head()"
   ]
  },
  {
   "cell_type": "markdown",
   "metadata": {},
   "source": [
    "### Normalization with center mean\n",
    "The dataset is reduced to only contain the relevant values for the analysis which are the users, items (movies) and ratings.\n",
    "We then normalize the ratings by subtrating the mean rating of the user from each movie the user has rated"
   ]
  },
  {
   "cell_type": "markdown",
   "metadata": {},
   "source": [
    "- Normalized dataframe and fill NaN with 0"
   ]
  },
  {
   "cell_type": "code",
   "execution_count": 4,
   "metadata": {
    "collapsed": false
   },
   "outputs": [
    {
     "data": {
      "text/html": [
       "<div>\n",
       "<table border=\"1\" class=\"dataframe\">\n",
       "  <thead>\n",
       "    <tr style=\"text-align: right;\">\n",
       "      <th>movietitle</th>\n",
       "      <th>'Til There Was You (1997)</th>\n",
       "      <th>1-900 (1994)</th>\n",
       "      <th>101 Dalmatians (1996)</th>\n",
       "      <th>12 Angry Men (1957)</th>\n",
       "      <th>187 (1997)</th>\n",
       "      <th>2 Days in the Valley (1996)</th>\n",
       "      <th>20,000 Leagues Under the Sea (1954)</th>\n",
       "      <th>2001: A Space Odyssey (1968)</th>\n",
       "      <th>3 Ninjas: High Noon At Mega Mountain (1998)</th>\n",
       "      <th>39 Steps, The (1935)</th>\n",
       "      <th>...</th>\n",
       "      <th>Wyatt Earp (1994)</th>\n",
       "      <th>Yankee Zulu (1994)</th>\n",
       "      <th>Year of the Horse (1997)</th>\n",
       "      <th>You So Crazy (1994)</th>\n",
       "      <th>Young Frankenstein (1974)</th>\n",
       "      <th>Young Guns (1988)</th>\n",
       "      <th>Young Guns II (1990)</th>\n",
       "      <th>Young Poisoner's Handbook, The (1995)</th>\n",
       "      <th>Zeus and Roxanne (1997)</th>\n",
       "      <th>unknown</th>\n",
       "    </tr>\n",
       "  </thead>\n",
       "  <tbody>\n",
       "    <tr>\n",
       "      <th>1</th>\n",
       "      <td>0.0</td>\n",
       "      <td>0.0</td>\n",
       "      <td>-1.605166</td>\n",
       "      <td>1.394834</td>\n",
       "      <td>0.000000</td>\n",
       "      <td>0.0</td>\n",
       "      <td>-0.605166</td>\n",
       "      <td>0.394834</td>\n",
       "      <td>0.000000</td>\n",
       "      <td>0.0</td>\n",
       "      <td>...</td>\n",
       "      <td>0.0</td>\n",
       "      <td>0.0</td>\n",
       "      <td>0.0</td>\n",
       "      <td>0.0</td>\n",
       "      <td>1.394834</td>\n",
       "      <td>-0.605166</td>\n",
       "      <td>0.0</td>\n",
       "      <td>0.0</td>\n",
       "      <td>0.0</td>\n",
       "      <td>0.394834</td>\n",
       "    </tr>\n",
       "    <tr>\n",
       "      <th>2</th>\n",
       "      <td>0.0</td>\n",
       "      <td>0.0</td>\n",
       "      <td>0.000000</td>\n",
       "      <td>0.000000</td>\n",
       "      <td>0.000000</td>\n",
       "      <td>0.0</td>\n",
       "      <td>0.000000</td>\n",
       "      <td>0.000000</td>\n",
       "      <td>-2.704918</td>\n",
       "      <td>0.0</td>\n",
       "      <td>...</td>\n",
       "      <td>0.0</td>\n",
       "      <td>0.0</td>\n",
       "      <td>0.0</td>\n",
       "      <td>0.0</td>\n",
       "      <td>0.000000</td>\n",
       "      <td>0.000000</td>\n",
       "      <td>0.0</td>\n",
       "      <td>0.0</td>\n",
       "      <td>0.0</td>\n",
       "      <td>0.000000</td>\n",
       "    </tr>\n",
       "    <tr>\n",
       "      <th>3</th>\n",
       "      <td>0.0</td>\n",
       "      <td>0.0</td>\n",
       "      <td>0.000000</td>\n",
       "      <td>0.000000</td>\n",
       "      <td>-0.773585</td>\n",
       "      <td>0.0</td>\n",
       "      <td>0.000000</td>\n",
       "      <td>0.000000</td>\n",
       "      <td>0.000000</td>\n",
       "      <td>0.0</td>\n",
       "      <td>...</td>\n",
       "      <td>0.0</td>\n",
       "      <td>0.0</td>\n",
       "      <td>0.0</td>\n",
       "      <td>0.0</td>\n",
       "      <td>0.000000</td>\n",
       "      <td>0.000000</td>\n",
       "      <td>0.0</td>\n",
       "      <td>0.0</td>\n",
       "      <td>0.0</td>\n",
       "      <td>0.000000</td>\n",
       "    </tr>\n",
       "    <tr>\n",
       "      <th>4</th>\n",
       "      <td>0.0</td>\n",
       "      <td>0.0</td>\n",
       "      <td>0.000000</td>\n",
       "      <td>0.000000</td>\n",
       "      <td>0.000000</td>\n",
       "      <td>0.0</td>\n",
       "      <td>0.000000</td>\n",
       "      <td>0.000000</td>\n",
       "      <td>0.000000</td>\n",
       "      <td>0.0</td>\n",
       "      <td>...</td>\n",
       "      <td>0.0</td>\n",
       "      <td>0.0</td>\n",
       "      <td>0.0</td>\n",
       "      <td>0.0</td>\n",
       "      <td>0.000000</td>\n",
       "      <td>0.000000</td>\n",
       "      <td>0.0</td>\n",
       "      <td>0.0</td>\n",
       "      <td>0.0</td>\n",
       "      <td>0.000000</td>\n",
       "    </tr>\n",
       "    <tr>\n",
       "      <th>5</th>\n",
       "      <td>0.0</td>\n",
       "      <td>0.0</td>\n",
       "      <td>-0.874286</td>\n",
       "      <td>0.000000</td>\n",
       "      <td>0.000000</td>\n",
       "      <td>0.0</td>\n",
       "      <td>0.000000</td>\n",
       "      <td>1.125714</td>\n",
       "      <td>0.000000</td>\n",
       "      <td>0.0</td>\n",
       "      <td>...</td>\n",
       "      <td>0.0</td>\n",
       "      <td>0.0</td>\n",
       "      <td>0.0</td>\n",
       "      <td>0.0</td>\n",
       "      <td>1.125714</td>\n",
       "      <td>0.000000</td>\n",
       "      <td>0.0</td>\n",
       "      <td>0.0</td>\n",
       "      <td>0.0</td>\n",
       "      <td>1.125714</td>\n",
       "    </tr>\n",
       "  </tbody>\n",
       "</table>\n",
       "<p>5 rows × 1664 columns</p>\n",
       "</div>"
      ],
      "text/plain": [
       "movietitle  'Til There Was You (1997)  1-900 (1994)  101 Dalmatians (1996)  \\\n",
       "1                                 0.0           0.0              -1.605166   \n",
       "2                                 0.0           0.0               0.000000   \n",
       "3                                 0.0           0.0               0.000000   \n",
       "4                                 0.0           0.0               0.000000   \n",
       "5                                 0.0           0.0              -0.874286   \n",
       "\n",
       "movietitle  12 Angry Men (1957)  187 (1997)  2 Days in the Valley (1996)  \\\n",
       "1                      1.394834    0.000000                          0.0   \n",
       "2                      0.000000    0.000000                          0.0   \n",
       "3                      0.000000   -0.773585                          0.0   \n",
       "4                      0.000000    0.000000                          0.0   \n",
       "5                      0.000000    0.000000                          0.0   \n",
       "\n",
       "movietitle  20,000 Leagues Under the Sea (1954)  2001: A Space Odyssey (1968)  \\\n",
       "1                                     -0.605166                      0.394834   \n",
       "2                                      0.000000                      0.000000   \n",
       "3                                      0.000000                      0.000000   \n",
       "4                                      0.000000                      0.000000   \n",
       "5                                      0.000000                      1.125714   \n",
       "\n",
       "movietitle  3 Ninjas: High Noon At Mega Mountain (1998)  39 Steps, The (1935)  \\\n",
       "1                                              0.000000                   0.0   \n",
       "2                                             -2.704918                   0.0   \n",
       "3                                              0.000000                   0.0   \n",
       "4                                              0.000000                   0.0   \n",
       "5                                              0.000000                   0.0   \n",
       "\n",
       "movietitle    ...     Wyatt Earp (1994)  Yankee Zulu (1994)  \\\n",
       "1             ...                   0.0                 0.0   \n",
       "2             ...                   0.0                 0.0   \n",
       "3             ...                   0.0                 0.0   \n",
       "4             ...                   0.0                 0.0   \n",
       "5             ...                   0.0                 0.0   \n",
       "\n",
       "movietitle  Year of the Horse (1997)  You So Crazy (1994)  \\\n",
       "1                                0.0                  0.0   \n",
       "2                                0.0                  0.0   \n",
       "3                                0.0                  0.0   \n",
       "4                                0.0                  0.0   \n",
       "5                                0.0                  0.0   \n",
       "\n",
       "movietitle  Young Frankenstein (1974)  Young Guns (1988)  \\\n",
       "1                            1.394834          -0.605166   \n",
       "2                            0.000000           0.000000   \n",
       "3                            0.000000           0.000000   \n",
       "4                            0.000000           0.000000   \n",
       "5                            1.125714           0.000000   \n",
       "\n",
       "movietitle  Young Guns II (1990)  Young Poisoner's Handbook, The (1995)  \\\n",
       "1                            0.0                                    0.0   \n",
       "2                            0.0                                    0.0   \n",
       "3                            0.0                                    0.0   \n",
       "4                            0.0                                    0.0   \n",
       "5                            0.0                                    0.0   \n",
       "\n",
       "movietitle  Zeus and Roxanne (1997)   unknown  \n",
       "1                               0.0  0.394834  \n",
       "2                               0.0  0.000000  \n",
       "3                               0.0  0.000000  \n",
       "4                               0.0  0.000000  \n",
       "5                               0.0  1.125714  \n",
       "\n",
       "[5 rows x 1664 columns]"
      ]
     },
     "execution_count": 4,
     "metadata": {},
     "output_type": "execute_result"
    }
   ],
   "source": [
    "# convert to wide format for analysis\n",
    "d = df.pivot_table(index = 'userid', columns = 'movietitle', values = 'rating')\n",
    "del d.index.name\n",
    "\n",
    "# normalized dataframe\n",
    "d_norm1 = d.apply(lambda x: x - x.mean(), axis =1) # row-wise operation\n",
    "d_norm = d_norm1.fillna(0)\n",
    "\n",
    "# original dataframe\n",
    "# d = d.fillna(0)\n",
    "# d.head()\n",
    "\n",
    "d_norm.head()"
   ]
  },
  {
   "cell_type": "code",
   "execution_count": 5,
   "metadata": {
    "collapsed": false
   },
   "outputs": [
    {
     "name": "stdout",
     "output_type": "stream",
     "text": [
      "644     8\n",
      "799    13\n",
      "820    15\n",
      "369    16\n",
      "461    16\n",
      "107    16\n",
      "772    16\n",
      "726    17\n",
      "300    19\n",
      "736    19\n",
      "680    19\n",
      "147    20\n",
      "dtype: int64\n"
     ]
    }
   ],
   "source": [
    "# Count non-zero elements in each row\n",
    "nonzero = d_norm.astype(bool).sum(axis=1).sort_values()\n",
    "print nonzero.head(12)"
   ]
  },
  {
   "cell_type": "markdown",
   "metadata": {},
   "source": [
    "During normalization, if the mean rating of one user equals to the rating of certain movie for that user, the rating of this movie will turn into '0' after normalization. The user whose count is less than 20 are some of such cases. One possible solution is to add small amount to the '0' value before replacing NaN with '0'. From a quick test, we discovered that the replacement NaN with '0' before or after didn't make noticable difference. "
   ]
  },
  {
   "cell_type": "markdown",
   "metadata": {},
   "source": [
    "### SVD on user-movie dataframe"
   ]
  },
  {
   "cell_type": "code",
   "execution_count": 6,
   "metadata": {
    "collapsed": false
   },
   "outputs": [],
   "source": [
    "U, sigma, V = np.linalg.svd(d_norm, full_matrices=False)\n",
    "V_df = pd.DataFrame(V, columns=d_norm.columns)"
   ]
  },
  {
   "cell_type": "code",
   "execution_count": 7,
   "metadata": {
    "collapsed": false
   },
   "outputs": [
    {
     "data": {
      "text/plain": [
       "((943L, 943L), (943L, 1664L), (943L,))"
      ]
     },
     "execution_count": 7,
     "metadata": {},
     "output_type": "execute_result"
    }
   ],
   "source": [
    "U.shape, V.shape, sigma.shape"
   ]
  },
  {
   "cell_type": "code",
   "execution_count": 8,
   "metadata": {
    "collapsed": false
   },
   "outputs": [
    {
     "name": "stdout",
     "output_type": "stream",
     "text": [
      "movietitle  'Til There Was You (1997)  1-900 (1994)  101 Dalmatians (1996)\n",
      "1                                 0.0           0.0                    0.0\n",
      "2                                 0.0           0.0                    0.0\n",
      "3                                 0.0           0.0                    0.0\n",
      "4                                 0.0           0.0                    0.0\n",
      "5                                 0.0           0.0                    0.0\n",
      "6                                 0.0           0.0                    0.0\n",
      "7                                 0.0           0.0                    0.0\n",
      "8                                 0.0           0.0                    0.0\n",
      "9                                 0.0           0.0                    0.0\n",
      "10                                0.0           0.0                    0.0\n"
     ]
    }
   ],
   "source": [
    "print (np.round(d_norm - np.dot(U, np.dot(np.diag(sigma), V)), decimals=1)).ix[:10, :3]\n",
    "# Check the decomposition"
   ]
  },
  {
   "cell_type": "code",
   "execution_count": 12,
   "metadata": {
    "collapsed": false
   },
   "outputs": [
    {
     "data": {
      "text/plain": [
       "array([ 81.77388221,  50.45021263,  38.6868671 ,  37.1452392 ,\n",
       "        35.95574114,  35.32810073,  33.45269439,  31.23301293,\n",
       "        29.59282607,  29.35679264,  28.41071785,  28.01040805,\n",
       "        27.90893852,  27.56779631,  27.29434737,  26.92511883,\n",
       "        26.83001014,  26.42349274,  26.32930402,  25.78858381])"
      ]
     },
     "execution_count": 12,
     "metadata": {},
     "output_type": "execute_result"
    }
   ],
   "source": [
    "#Display first 20 values of sigma matrix (we can see values in descending order)\n",
    "sigma[:20]"
   ]
  },
  {
   "cell_type": "code",
   "execution_count": 13,
   "metadata": {
    "collapsed": false
   },
   "outputs": [
    {
     "data": {
      "image/png": "[encoded data removed]",
      "text/plain": [
       "<matplotlib.figure.Figure at 0xa1d6ac8>"
      ]
     },
     "metadata": {},
     "output_type": "display_data"
    }
   ],
   "source": [
    "#Plot sigma matrix\n",
    "plt.plot(sigma)\n",
    "plt.show()"
   ]
  },
  {
   "cell_type": "markdown",
   "metadata": {},
   "source": [
    "### Predicted user-item matrix using k features"
   ]
  },
  {
   "cell_type": "markdown",
   "metadata": {},
   "source": [
    "Find the best k to bulding the approximation matix"
   ]
  },
  {
   "cell_type": "code",
   "execution_count": 14,
   "metadata": {
    "collapsed": true
   },
   "outputs": [],
   "source": [
    "# Find k from sigma using arbitrary cutoff value\n",
    "# Using the L2 norm of the first k elements divided by the L2 norm of all element.\n",
    "def findK(sigma, cutoff = 0.85):\n",
    "    totalNorm = np.linalg.norm(sigma)\n",
    "    for i in range(len(sigma)):\n",
    "        subNorm = np.linalg.norm(sigma[:i])\n",
    "        if subNorm/totalNorm >= cutoff:\n",
    "            return i"
   ]
  },
  {
   "cell_type": "code",
   "execution_count": 15,
   "metadata": {
    "collapsed": false
   },
   "outputs": [
    {
     "name": "stdout",
     "output_type": "stream",
     "text": [
      "126\n",
      "224\n",
      "323\n"
     ]
    }
   ],
   "source": [
    "print findK(sigma, 0.8)\n",
    "print findK(sigma, 0.9)\n",
    "print findK(sigma, 0.95)"
   ]
  },
  {
   "cell_type": "markdown",
   "metadata": {},
   "source": [
    "We choose 250 as cutoff k value."
   ]
  },
  {
   "cell_type": "code",
   "execution_count": 16,
   "metadata": {
    "collapsed": true
   },
   "outputs": [],
   "source": [
    "k= 250\n",
    "A_approx = np.matrix(U[:, :k]) * np.diag(sigma[:k]) * np.matrix(V[:k, :])"
   ]
  },
  {
   "cell_type": "code",
   "execution_count": 17,
   "metadata": {
    "collapsed": false
   },
   "outputs": [],
   "source": [
    "sv = pd.DataFrame(A_approx, columns = d_norm.columns)\n",
    "sv.index = d_norm.index"
   ]
  },
  {
   "cell_type": "code",
   "execution_count": 18,
   "metadata": {
    "collapsed": false
   },
   "outputs": [
    {
     "name": "stdout",
     "output_type": "stream",
     "text": [
      "(943, 1664)\n"
     ]
    },
    {
     "data": {
      "text/html": [
       "<div>\n",
       "<table border=\"1\" class=\"dataframe\">\n",
       "  <thead>\n",
       "    <tr style=\"text-align: right;\">\n",
       "      <th>movietitle</th>\n",
       "      <th>'Til There Was You (1997)</th>\n",
       "      <th>1-900 (1994)</th>\n",
       "      <th>101 Dalmatians (1996)</th>\n",
       "      <th>12 Angry Men (1957)</th>\n",
       "      <th>187 (1997)</th>\n",
       "      <th>2 Days in the Valley (1996)</th>\n",
       "      <th>20,000 Leagues Under the Sea (1954)</th>\n",
       "      <th>2001: A Space Odyssey (1968)</th>\n",
       "      <th>3 Ninjas: High Noon At Mega Mountain (1998)</th>\n",
       "      <th>39 Steps, The (1935)</th>\n",
       "      <th>...</th>\n",
       "      <th>Wyatt Earp (1994)</th>\n",
       "      <th>Yankee Zulu (1994)</th>\n",
       "      <th>Year of the Horse (1997)</th>\n",
       "      <th>You So Crazy (1994)</th>\n",
       "      <th>Young Frankenstein (1974)</th>\n",
       "      <th>Young Guns (1988)</th>\n",
       "      <th>Young Guns II (1990)</th>\n",
       "      <th>Young Poisoner's Handbook, The (1995)</th>\n",
       "      <th>Zeus and Roxanne (1997)</th>\n",
       "      <th>unknown</th>\n",
       "    </tr>\n",
       "  </thead>\n",
       "  <tbody>\n",
       "    <tr>\n",
       "      <th>1</th>\n",
       "      <td>-0.023553</td>\n",
       "      <td>0.008228</td>\n",
       "      <td>-1.565558</td>\n",
       "      <td>1.261832</td>\n",
       "      <td>-0.041160</td>\n",
       "      <td>0.199849</td>\n",
       "      <td>-0.549816</td>\n",
       "      <td>0.398782</td>\n",
       "      <td>0.037906</td>\n",
       "      <td>0.098518</td>\n",
       "      <td>...</td>\n",
       "      <td>-0.037897</td>\n",
       "      <td>0.004088</td>\n",
       "      <td>-0.000641</td>\n",
       "      <td>0.000190</td>\n",
       "      <td>1.426048</td>\n",
       "      <td>-0.604836</td>\n",
       "      <td>-0.217091</td>\n",
       "      <td>-0.076567</td>\n",
       "      <td>-0.080988</td>\n",
       "      <td>0.320088</td>\n",
       "    </tr>\n",
       "    <tr>\n",
       "      <th>2</th>\n",
       "      <td>-0.003411</td>\n",
       "      <td>-0.002266</td>\n",
       "      <td>-0.107055</td>\n",
       "      <td>0.019487</td>\n",
       "      <td>0.004608</td>\n",
       "      <td>0.051111</td>\n",
       "      <td>0.073493</td>\n",
       "      <td>0.014156</td>\n",
       "      <td>-0.315652</td>\n",
       "      <td>-0.025292</td>\n",
       "      <td>...</td>\n",
       "      <td>-0.028040</td>\n",
       "      <td>0.003966</td>\n",
       "      <td>0.011367</td>\n",
       "      <td>-0.000015</td>\n",
       "      <td>-0.002923</td>\n",
       "      <td>-0.036912</td>\n",
       "      <td>-0.095013</td>\n",
       "      <td>-0.047812</td>\n",
       "      <td>-0.091993</td>\n",
       "      <td>0.017314</td>\n",
       "    </tr>\n",
       "    <tr>\n",
       "      <th>3</th>\n",
       "      <td>-0.000715</td>\n",
       "      <td>-0.008590</td>\n",
       "      <td>0.082044</td>\n",
       "      <td>0.020189</td>\n",
       "      <td>-0.383363</td>\n",
       "      <td>0.133180</td>\n",
       "      <td>-0.047399</td>\n",
       "      <td>-0.133673</td>\n",
       "      <td>-0.019793</td>\n",
       "      <td>-0.006172</td>\n",
       "      <td>...</td>\n",
       "      <td>-0.159633</td>\n",
       "      <td>0.002648</td>\n",
       "      <td>-0.023307</td>\n",
       "      <td>0.000173</td>\n",
       "      <td>-0.009669</td>\n",
       "      <td>0.073363</td>\n",
       "      <td>0.057767</td>\n",
       "      <td>-0.049107</td>\n",
       "      <td>0.064672</td>\n",
       "      <td>-0.040565</td>\n",
       "    </tr>\n",
       "    <tr>\n",
       "      <th>4</th>\n",
       "      <td>0.044783</td>\n",
       "      <td>0.016185</td>\n",
       "      <td>-0.009693</td>\n",
       "      <td>-0.058450</td>\n",
       "      <td>0.018618</td>\n",
       "      <td>-0.034808</td>\n",
       "      <td>-0.029456</td>\n",
       "      <td>-0.017743</td>\n",
       "      <td>0.045644</td>\n",
       "      <td>-0.011854</td>\n",
       "      <td>...</td>\n",
       "      <td>0.013467</td>\n",
       "      <td>0.006545</td>\n",
       "      <td>-0.045237</td>\n",
       "      <td>0.000178</td>\n",
       "      <td>-0.056489</td>\n",
       "      <td>-0.003559</td>\n",
       "      <td>0.015279</td>\n",
       "      <td>0.077276</td>\n",
       "      <td>-0.033513</td>\n",
       "      <td>0.007758</td>\n",
       "    </tr>\n",
       "    <tr>\n",
       "      <th>5</th>\n",
       "      <td>0.056408</td>\n",
       "      <td>0.012844</td>\n",
       "      <td>-0.743990</td>\n",
       "      <td>0.099311</td>\n",
       "      <td>0.156725</td>\n",
       "      <td>-0.152550</td>\n",
       "      <td>0.061912</td>\n",
       "      <td>1.094953</td>\n",
       "      <td>0.002547</td>\n",
       "      <td>-0.005830</td>\n",
       "      <td>...</td>\n",
       "      <td>0.040879</td>\n",
       "      <td>-0.000822</td>\n",
       "      <td>0.001343</td>\n",
       "      <td>-0.000033</td>\n",
       "      <td>1.125740</td>\n",
       "      <td>0.006329</td>\n",
       "      <td>-0.093931</td>\n",
       "      <td>0.014364</td>\n",
       "      <td>-0.041206</td>\n",
       "      <td>0.961581</td>\n",
       "    </tr>\n",
       "  </tbody>\n",
       "</table>\n",
       "<p>5 rows × 1664 columns</p>\n",
       "</div>"
      ],
      "text/plain": [
       "movietitle  'Til There Was You (1997)  1-900 (1994)  101 Dalmatians (1996)  \\\n",
       "1                           -0.023553      0.008228              -1.565558   \n",
       "2                           -0.003411     -0.002266              -0.107055   \n",
       "3                           -0.000715     -0.008590               0.082044   \n",
       "4                            0.044783      0.016185              -0.009693   \n",
       "5                            0.056408      0.012844              -0.743990   \n",
       "\n",
       "movietitle  12 Angry Men (1957)  187 (1997)  2 Days in the Valley (1996)  \\\n",
       "1                      1.261832   -0.041160                     0.199849   \n",
       "2                      0.019487    0.004608                     0.051111   \n",
       "3                      0.020189   -0.383363                     0.133180   \n",
       "4                     -0.058450    0.018618                    -0.034808   \n",
       "5                      0.099311    0.156725                    -0.152550   \n",
       "\n",
       "movietitle  20,000 Leagues Under the Sea (1954)  2001: A Space Odyssey (1968)  \\\n",
       "1                                     -0.549816                      0.398782   \n",
       "2                                      0.073493                      0.014156   \n",
       "3                                     -0.047399                     -0.133673   \n",
       "4                                     -0.029456                     -0.017743   \n",
       "5                                      0.061912                      1.094953   \n",
       "\n",
       "movietitle  3 Ninjas: High Noon At Mega Mountain (1998)  39 Steps, The (1935)  \\\n",
       "1                                              0.037906              0.098518   \n",
       "2                                             -0.315652             -0.025292   \n",
       "3                                             -0.019793             -0.006172   \n",
       "4                                              0.045644             -0.011854   \n",
       "5                                              0.002547             -0.005830   \n",
       "\n",
       "movietitle    ...     Wyatt Earp (1994)  Yankee Zulu (1994)  \\\n",
       "1             ...             -0.037897            0.004088   \n",
       "2             ...             -0.028040            0.003966   \n",
       "3             ...             -0.159633            0.002648   \n",
       "4             ...              0.013467            0.006545   \n",
       "5             ...              0.040879           -0.000822   \n",
       "\n",
       "movietitle  Year of the Horse (1997)  You So Crazy (1994)  \\\n",
       "1                          -0.000641             0.000190   \n",
       "2                           0.011367            -0.000015   \n",
       "3                          -0.023307             0.000173   \n",
       "4                          -0.045237             0.000178   \n",
       "5                           0.001343            -0.000033   \n",
       "\n",
       "movietitle  Young Frankenstein (1974)  Young Guns (1988)  \\\n",
       "1                            1.426048          -0.604836   \n",
       "2                           -0.002923          -0.036912   \n",
       "3                           -0.009669           0.073363   \n",
       "4                           -0.056489          -0.003559   \n",
       "5                            1.125740           0.006329   \n",
       "\n",
       "movietitle  Young Guns II (1990)  Young Poisoner's Handbook, The (1995)  \\\n",
       "1                      -0.217091                              -0.076567   \n",
       "2                      -0.095013                              -0.047812   \n",
       "3                       0.057767                              -0.049107   \n",
       "4                       0.015279                               0.077276   \n",
       "5                      -0.093931                               0.014364   \n",
       "\n",
       "movietitle  Zeus and Roxanne (1997)   unknown  \n",
       "1                         -0.080988  0.320088  \n",
       "2                         -0.091993  0.017314  \n",
       "3                          0.064672 -0.040565  \n",
       "4                         -0.033513  0.007758  \n",
       "5                         -0.041206  0.961581  \n",
       "\n",
       "[5 rows x 1664 columns]"
      ]
     },
     "execution_count": 18,
     "metadata": {},
     "output_type": "execute_result"
    }
   ],
   "source": [
    "print sv.shape\n",
    "sv.head()"
   ]
  },
  {
   "cell_type": "markdown",
   "metadata": {},
   "source": [
    "### User-User Collaborative Filtering using cosine distance"
   ]
  },
  {
   "cell_type": "code",
   "execution_count": 19,
   "metadata": {
    "collapsed": true
   },
   "outputs": [],
   "source": [
    "# function takes in a data frame, what you want to predict pred_id, \n",
    "#the type of collaboration, the similarity you want\n",
    "# to use, and the number of responses you want to get back\n",
    "## Code adapted from https://blog.liip.ch/archive/2016/06/16/recommender-system-slack-pandas-flask.html\n",
    "\n",
    "def predict_p(dframe, pred_id, kind = 'user', similarity = cosine_similarity, n = 10):\n",
    "    d = dframe.fillna(0)\n",
    "    if kind == 'user':\n",
    "        dists = similarity(d)\n",
    "        dists_named = pd.DataFrame(dists, columns = d.index)\n",
    "        dists_named.index = dists_named.columns\n",
    "        \n",
    "    elif kind == 'item':\n",
    "        d = d.T\n",
    "        dists = similarity(d)\n",
    "        dists_named = pd.DataFrame(dists, columns = d.index)\n",
    "        dists_named.index = dists_named.columns\n",
    "\n",
    "    p = dists_named[pred_id].sort_values(ascending = False)\n",
    "    mask = p.index.isin([pred_id])\n",
    "    p = p[~mask]\n",
    "    return p[:n]   "
   ]
  },
  {
   "cell_type": "markdown",
   "metadata": {},
   "source": [
    "<b>Predictions based on user-user cosine distance"
   ]
  },
  {
   "cell_type": "code",
   "execution_count": 21,
   "metadata": {
    "collapsed": false
   },
   "outputs": [
    {
     "data": {
      "text/plain": [
       "70     0.436298\n",
       "275    0.430113\n",
       "536    0.313301\n",
       "901    0.310557\n",
       "807    0.308049\n",
       "746    0.307813\n",
       "545    0.293835\n",
       "584    0.288945\n",
       "554    0.284409\n",
       "162    0.277130\n",
       "Name: 290, dtype: float64"
      ]
     },
     "execution_count": 21,
     "metadata": {},
     "output_type": "execute_result"
    }
   ],
   "source": [
    "#Display other users who are most similar to this user (cosine distane)\n",
    "predict_p(sv, pred_id = 290, kind = 'user')"
   ]
  },
  {
   "cell_type": "markdown",
   "metadata": {},
   "source": [
    "<b> UU-CF Recommendations"
   ]
  },
  {
   "cell_type": "code",
   "execution_count": 22,
   "metadata": {
    "collapsed": true
   },
   "outputs": [],
   "source": [
    "# Recommend items based on User similarity\n",
    "def get_recommendations_user(predictDF, originalDF, pred_id, similarity = cosine_similarity, n = 10):\n",
    "    sim = predict_p(predictDF, pred_id = pred_id, n = n) # Top n similarity users\n",
    "    t = predictDF.ix[sim.index] # Top n closest users with all movie rating\n",
    "    noRating = pd.isnull(originalDF.ix[pred_id,]) # Find the movies that hasn't been rated by user in originalDF\n",
    "    p = t.ix[:, noRating[pd.isnull(originalDF.ix[pred_id,])].index] # Top n closest users with movies that were unrated by pred_id\n",
    "    \n",
    "    # Calculate the mean rating for the movies\n",
    "    ratings = p.T.mean(axis = 1).sort_values(ascending = False)[:n]\n",
    "    return ratings"
   ]
  },
  {
   "cell_type": "markdown",
   "metadata": {},
   "source": [
    "<b> Get top 10 recommendations (UUCF)"
   ]
  },
  {
   "cell_type": "code",
   "execution_count": 23,
   "metadata": {
    "collapsed": false
   },
   "outputs": [
    {
     "data": {
      "text/plain": [
       "movietitle\n",
       "Fugitive, The (1993)                 0.474903\n",
       "Lawrence of Arabia (1962)            0.357959\n",
       "Titanic (1997)                       0.290488\n",
       "Air Force One (1997)                 0.254650\n",
       "Terminator 2: Judgment Day (1991)    0.236563\n",
       "Wrong Trousers, The (1993)           0.223345\n",
       "Usual Suspects, The (1995)           0.181232\n",
       "Face/Off (1997)                      0.180172\n",
       "Ben-Hur (1959)                       0.179815\n",
       "Terminator, The (1984)               0.177370\n",
       "dtype: float64"
      ]
     },
     "execution_count": 23,
     "metadata": {},
     "output_type": "execute_result"
    }
   ],
   "source": [
    "get_recommendations_user(sv, d, 290, 10)"
   ]
  },
  {
   "cell_type": "code",
   "execution_count": 24,
   "metadata": {
    "collapsed": false
   },
   "outputs": [
    {
     "data": {
      "text/plain": [
       "movietitle\n",
       "Fugitive, The (1993)                 3.828236\n",
       "Lawrence of Arabia (1962)            3.711292\n",
       "Titanic (1997)                       3.643821\n",
       "Air Force One (1997)                 3.607983\n",
       "Terminator 2: Judgment Day (1991)    3.589897\n",
       "Wrong Trousers, The (1993)           3.576678\n",
       "Usual Suspects, The (1995)           3.534566\n",
       "Face/Off (1997)                      3.533506\n",
       "Ben-Hur (1959)                       3.533148\n",
       "Terminator, The (1984)               3.530703\n",
       "dtype: float64"
      ]
     },
     "execution_count": 24,
     "metadata": {},
     "output_type": "execute_result"
    }
   ],
   "source": [
    "# Predicted ratings using reduced matrix for user id 290 (note we add mean rating of user back)\n",
    "r = get_recommendations_user(sv, d, 290, 10)\n",
    "mean_ratings = d[d.index ==290].mean(axis = 1)\n",
    "r + float(mean_ratings)"
   ]
  },
  {
   "cell_type": "markdown",
   "metadata": {},
   "source": [
    "### Item-Item Collaborative Filtering using cosine distance\n",
    "Comparison between reduced matrix and original matrix"
   ]
  },
  {
   "cell_type": "code",
   "execution_count": 25,
   "metadata": {
    "collapsed": false
   },
   "outputs": [
    {
     "data": {
      "text/plain": [
       "movietitle\n",
       "Schindler's List (1993)                   0.429079\n",
       "To Kill a Mockingbird (1962)              0.382632\n",
       "Casablanca (1942)                         0.377062\n",
       "Citizen Kane (1941)                       0.368342\n",
       "Henry V (1989)                            0.350346\n",
       "Shawshank Redemption, The (1994)          0.347318\n",
       "One Flew Over the Cuckoo's Nest (1975)    0.338533\n",
       "Godfather, The (1972)                     0.327209\n",
       "Terminator, The (1984)                    0.311321\n",
       "Killing Fields, The (1984)                0.310746\n",
       "Name: Amadeus (1984), dtype: float64"
      ]
     },
     "execution_count": 25,
     "metadata": {},
     "output_type": "execute_result"
    }
   ],
   "source": [
    "predict_p(sv, pred_id = \"Amadeus (1984)\", kind = 'item') # Reduced matrix"
   ]
  },
  {
   "cell_type": "code",
   "execution_count": 92,
   "metadata": {
    "collapsed": false
   },
   "outputs": [
    {
     "data": {
      "text/plain": [
       "movietitle\n",
       "Schindler's List (1993)                   0.398994\n",
       "Casablanca (1942)                         0.344384\n",
       "To Kill a Mockingbird (1962)              0.331411\n",
       "Citizen Kane (1941)                       0.328816\n",
       "Shawshank Redemption, The (1994)          0.326825\n",
       "One Flew Over the Cuckoo's Nest (1975)    0.320654\n",
       "Godfather, The (1972)                     0.309454\n",
       "Henry V (1989)                            0.296642\n",
       "Silence of the Lambs, The (1991)          0.287307\n",
       "Star Wars (1977)                          0.280790\n",
       "Name: Amadeus (1984), dtype: float64"
      ]
     },
     "execution_count": 92,
     "metadata": {},
     "output_type": "execute_result"
    }
   ],
   "source": [
    "predict_p(d_norm, pred_id = \"Amadeus (1984)\", kind = 'item') # Original matrix"
   ]
  },
  {
   "cell_type": "markdown",
   "metadata": {},
   "source": [
    "# TD-IDF"
   ]
  },
  {
   "cell_type": "raw",
   "metadata": {
    "collapsed": true
   },
   "source": [
    "To implement TD-IDF, we obtain the keywords, and synopsis of all the movies in the movielens dataset from IMDB using an API\n",
    "We then clean the text data which contains punctuation etc that are not required (we did this offline ).\n",
    "We then send the data to the Sklearn package which has the TfidfVectorizer function"
   ]
  },
  {
   "cell_type": "markdown",
   "metadata": {},
   "source": [
    "<b>Performing TD-IDF on synopsis of movies (Synopsis data from IMDB)\n",
    "\n",
    "<b>First we retrieve synopsis for each movie using IMDbPY API "
   ]
  },
  {
   "cell_type": "code",
   "execution_count": 26,
   "metadata": {
    "collapsed": false
   },
   "outputs": [
    {
     "name": "stdout",
     "output_type": "stream",
     "text": [
      "Movie\n",
      "=====\n",
      "Title: Passion of the Christ, The (2004)\n",
      "\n"
     ]
    },
    {
     "data": {
      "text/plain": [
       "<Movie id:0335345[http] title:_The Passion of the Christ (2004)_>"
      ]
     },
     "execution_count": 26,
     "metadata": {},
     "output_type": "execute_result"
    }
   ],
   "source": [
    "#Source: http://imdbpy.sourceforge.net/docs/README.package.txt\n",
    "#To use the IMDbPY package, you've to import the imdb package and call the IMDb function. the basic invocation is:\n",
    "import imdb\n",
    "i = imdb.IMDb()\n",
    "# movie_list is a list of Movie objects, with only attributes like 'title' and 'year' defined.\n",
    "movie_list = i.search_movie('the passion') #Search for word 'the passion'\n",
    "# the first movie in the list.\n",
    "first_match = movie_list[0]\n",
    "# only basic information like the title will be printed.\n",
    "print first_match.summary()\n",
    "movie_list[0]"
   ]
  },
  {
   "cell_type": "code",
   "execution_count": 32,
   "metadata": {
    "collapsed": false
   },
   "outputs": [
    {
     "name": "stdout",
     "output_type": "stream",
     "text": [
      "The Passion of the Christ\n",
      "[<Person id:0000154[http] name:_Gibson, Mel_>]\n",
      "[u'Drama']\n"
     ]
    }
   ],
   "source": [
    "# As an example, get details for movie Title: Passion of the Christ, The (2004)\n",
    "movie = i.get_movie('0335345') #0335345\n",
    "print movie['title'] #Get some default information like title\n",
    "print movie['director'] #Get some default information like director\n",
    "print movie['genres'] #Get some default information like genre"
   ]
  },
  {
   "cell_type": "code",
   "execution_count": 29,
   "metadata": {
    "collapsed": false
   },
   "outputs": [
    {
     "name": "stdout",
     "output_type": "stream",
     "text": [
      "{u'aged 45+': (18251, 7.2), u'imdb staff': (12, 7.2), u'aged 30-44': (72296, 7.1), u'females': (23839, 7.3), u'females aged 30-44': (9758, 7.2), 'all votes': (178526, 7.1), u'females aged 45+': (3534, 7.7), u'males': (123105, 7.1), u'males aged 18-29': (43762, 7.1), u'males under 18': (243, 7.6), u'aged 18-29': (54012, 7.2), u'males aged 30-44': (61768, 7.1), u'non-us users': (85644, 7.0), u'females aged 18-29': (9847, 7.3), u'us users': (45228, 7.4), u'females under 18': (47, 7.6), u'aged under 18': (294, 7.6), u'top 1000 voters': (673, 6.2), u'males aged 45+': (14455, 7.1)}\n"
     ]
    }
   ],
   "source": [
    "movie.has_key('demographic') # returns false, since no demographic breakdowns for the movie are available by default.\n",
    "i.update(movie, info=('vote details',)) # retrieve the vote details info set.\n",
    "print movie['demographic'] # print the demographic breakdowns."
   ]
  },
  {
   "cell_type": "code",
   "execution_count": 30,
   "metadata": {
    "collapsed": false
   },
   "outputs": [
    {
     "name": "stdout",
     "output_type": "stream",
     "text": [
      "[u'based-on-the-bible', u'based-on-biblical-story', u'bible', u'cult-film', u'jerusalem', u'judas', u'trial', u'last-supper', u'pontius-pilate', u'roman', u'crucifixion', u'roman-soldier', u'suffering', u'governor', u'miracle', u'torture', u'temptation', u'disciple', u'betrayal', u'soldier', u'christian', u'box-office-hit', u'roman-empire', u'mel-gibson', u'foot-bath', u'foot-closeup', u'bare-feet', u'grindhouse', u'critically-bashed', u'mercilessness', u'anti-semitism', u'religious-persecution', u'violent-death', u'tortured-to-death', u'scream', u'screaming', u'male-nudity', u'insanity', u'brutality', u'atrocity', u'actual-animal-killed', u'blood-of-christ', u'mob', u'flashback', u'false-accusation', u'controversy', u'english-subtitles-in-original', u'gospel', u'visceral', u'sadism', u'roman-judea', u'eyes-pecked-out', u'ancient-rome', u'spear-through-chest', u'wilderness', u'villain', u'thunderstorm', u'shame', u'severed-finger', u'peril', u'on-the-road', u'nightmare', u'mission', u'mentor', u'gate', u'funeral', u'eye', u'evil', u'escape', u'epic', u'doom', u'doctor', u'death-of-hero', u'chase', u'attack', u'virgin-mary', u'mary-magdalene', u'tragedy', u'severed-leg', u'severed-head', u'severed-hand', u'severed-arm', u'remorse', u'personality-change', u'messiah', u'loss-of-friend', u'hatred', u'fight', u'disfigured-face', u'destiny', u'chosen-one', u'armor', u'no-title-at-beginning', u'corporal-punishment', u'christ-figure', u'no-opening-credits', u'melodrama', u'whipping', u'good-versus-evil', u'sliced-off-ear', u'punishment', u'priest', u'violence', u'stabbing', u'killing-a-snake', u'animal-abuse', u'blood', u'blockbuster', u'slow-motion-scene', u'execution', u'tomb', u'temple', u'suicide', u'st.-peter', u'sermon-on-the-mount', u'scourging', u'sacrifice', u'religion', u'prophecy', u'passover', u'marriage', u'loss-of-son', u'judea', u'interrogation', u'humiliation', u'hanging', u'demon', u'compassion', u'carpenter', u'carcass', u'animal-attack', u'1st-century', u'stabbed-in-the-hand', u'severed-ear', u'eye-gouging', u'vision', u'resurrection', u'prostitute', u'mother-son-relationship', u'gore', u'faith', u'christianity', u'snake', u'serpent', u'crucifix', u'reference-to-satan', u'reference-to-jesus-christ', u'independent-film', u'character-name-in-title']\n"
     ]
    }
   ],
   "source": [
    "i.update(movie, info=('keywords',)) # retrieve the keywords info set.\n",
    "print movie['keywords'] # print the keywords"
   ]
  },
  {
   "cell_type": "code",
   "execution_count": 31,
   "metadata": {
    "collapsed": false
   },
   "outputs": [
    {
     "name": "stdout",
     "output_type": "stream",
     "text": [
      "The film opens in Gethsemane in 'medias res as' in the dead of night some hours after the last supper. Jesus prays and is tempted by Satan, while his apostles, Peter, James, and John sleep. After receiving thirty pieces of silver from the highly feared Jewish priests of the Temple in Jerusalem, one of Jesus' other apostles, Judas Iscariot, tells them the location where his teacher is and the priests send a contingent of guards to arrest Jesus for heresy.\n",
      "\n",
      "In the woods outside Gethsemane, Judas approaches with the temple guards and betrays Jesus with a kiss on his cheek. As the guards move in to arrest Jesus, Peter intervenes and attacks them, cutting off the ear of Malchus, one of the guards, but Jesus tells Peter to stop with the violence and magically heals Malchus' ear. The temple guards arrest Jesus and the rest of the apostles flee.\n",
      "\n",
      "John runs and tells Jesus' mother, Mary, as well as Mary Magdalene of the arrest, and Peter follows Jesus at a distance who is severely beaten by the Temple guards on their way back to Jerusalem. At the Jewish Temple, the head priest, Caiaphas, holds a trial of Jesus over the objection of some of the other priests, who are expelled from the court. When questioned by Caiaphas whether he is the son of God, Jesus replies \"I am\". Caiaphas is horrified and tears his robes, and Jesus is condemned to death for blasphemy. Upon entering the Temple, Peter is confronted by a mob of Jewish spectators who recognize him being one of Jesus followers and confront him. Three times Peter denies knowing Jesus, but then runs away sobbing at his cowardice.\n",
      "\n",
      "Meanwhile, the remorseful Judas attempts to return the money in order have Jesus freed, but he is refused by the priests. Tormented by demons and his guilt, he flees the city and hangs himself with a rope from a dead donkey at dawn.\n",
      "\n",
      "Caiaphas brings Jesus before Pontius Pilate, the local Roman governor of Judea, to be condemned to death. But after questioning Jesus, the Latin-speaking Pilate (who is fluent in Jesus' native Aramaic language) finds no reason to convict him after he is told by his wife, Claudia, about a bad dream she had the night before about condemning a holy man to death. So instead, Pilate sends Jesus to the court of King Herod Antipas, as Jesus is from Herod's ruling town of Nazareth. After Jesus is returned, Pilate offers the crowd that he will chastise Jesus for heresy and then will set him free. Pilate attempts to have Jesus freed by giving the people an option of freeing Jesus or the violent criminal Barabbas. To Pilate's dismay, the hostile and religious crowd demands to have Barabbas freed and Jesus killed. In an attempt to appease the crowd, Pilate has Jesus brutally scourged and mocked with a crown of thorns, yet the crowd continues to demand that Jesus be crucified. Faced with a citywide riot, Pilate is left with no choice but to reluctantly order Jesus' crucifixion.\n",
      "\n",
      "As Jesus carries the cross along the Via Dolorosa to Calvary, Veronica wipes Jesus' bloodied face with her veil until the Roman guards grab her and shove her on her way. Simon of Cyrene is unwillingly pressed into carrying the cross for Jesus, who by this time is too weak to carry the large wooden cross by himself.\n",
      "\n",
      "On a hill outside Jerusalem called Golgotha (Aramaic for 'Hill of Skulls'), Jesus is then crucified with his wrists and feet nailed to the cross. One criminal that is crucified next to him mock him for being now helpless and unable to do anything. At mid afternoon, as he hangs from the cross, Jesus prays forgiveness for those who did this to him, and redeems one of the criminals crucified next to him. After Jesus gives up his spirit and dies, a single drop of rain falls from the sky, triggering an earthquake which destroys the Temple and rips the cloth covering the Holy of Holies in two, to the horror of Caiaphas and the other priests. Satan is then shown screaming in defeat. The Roman soldiers then kill the two criminals by breaking their legs, while one of them thrusts a spear into Jesus' chest to make sure that he is dead. Jesus is brought down from the cross as Mary and Mary Magdalene weep for him.\n",
      "\n",
      "In the final scene, Jesus then rises from the dead as he leaves his tomb where his is buried with the wounds in his hands, feet, and side still visible.\n"
     ]
    }
   ],
   "source": [
    "i.update(movie, info=('synopsis',)) # retrieve synopsis about the movie\n",
    "print movie['synopsis'] # print synopsis"
   ]
  },
  {
   "cell_type": "code",
   "execution_count": 33,
   "metadata": {
    "collapsed": false
   },
   "outputs": [
    {
     "data": {
      "text/html": [
       "<div>\n",
       "<table border=\"1\" class=\"dataframe\">\n",
       "  <thead>\n",
       "    <tr style=\"text-align: right;\">\n",
       "      <th></th>\n",
       "      <th>movieid</th>\n",
       "      <th>imdbid</th>\n",
       "      <th>tmdbid</th>\n",
       "    </tr>\n",
       "  </thead>\n",
       "  <tbody>\n",
       "    <tr>\n",
       "      <th>0</th>\n",
       "      <td>1</td>\n",
       "      <td>114709</td>\n",
       "      <td>862.0</td>\n",
       "    </tr>\n",
       "    <tr>\n",
       "      <th>1</th>\n",
       "      <td>2</td>\n",
       "      <td>113497</td>\n",
       "      <td>8844.0</td>\n",
       "    </tr>\n",
       "    <tr>\n",
       "      <th>2</th>\n",
       "      <td>3</td>\n",
       "      <td>113228</td>\n",
       "      <td>15602.0</td>\n",
       "    </tr>\n",
       "    <tr>\n",
       "      <th>3</th>\n",
       "      <td>4</td>\n",
       "      <td>114885</td>\n",
       "      <td>31357.0</td>\n",
       "    </tr>\n",
       "    <tr>\n",
       "      <th>4</th>\n",
       "      <td>5</td>\n",
       "      <td>113041</td>\n",
       "      <td>11862.0</td>\n",
       "    </tr>\n",
       "  </tbody>\n",
       "</table>\n",
       "</div>"
      ],
      "text/plain": [
       "   movieid  imdbid   tmdbid\n",
       "0        1  114709    862.0\n",
       "1        2  113497   8844.0\n",
       "2        3  113228  15602.0\n",
       "3        4  114885  31357.0\n",
       "4        5  113041  11862.0"
      ]
     },
     "execution_count": 33,
     "metadata": {},
     "output_type": "execute_result"
    }
   ],
   "source": [
    "#Download links data that has mapping between different ID's movieid, imdbid and tmdbid\n",
    "url = 'https://raw.githubusercontent.com/ppadebettu/CUNY/Master/IS_643_Recommender_Systems/Project_3/links.csv'\n",
    "movie_links = pd.read_csv(url, sep = \",\" , header = 0, na_values='NaN')\n",
    "movie_links.columns = ['movieid', 'imdbid', 'tmdbid']\n",
    "movie_links.head()"
   ]
  },
  {
   "cell_type": "code",
   "execution_count": 34,
   "metadata": {
    "collapsed": false
   },
   "outputs": [
    {
     "data": {
      "text/html": [
       "<div>\n",
       "<table border=\"1\" class=\"dataframe\">\n",
       "  <thead>\n",
       "    <tr style=\"text-align: right;\">\n",
       "      <th></th>\n",
       "      <th>userid</th>\n",
       "      <th>age</th>\n",
       "      <th>gender</th>\n",
       "      <th>occupation</th>\n",
       "      <th>zipcode</th>\n",
       "      <th>itemid</th>\n",
       "      <th>rating</th>\n",
       "      <th>timestamp</th>\n",
       "      <th>movieid</th>\n",
       "      <th>movietitle</th>\n",
       "      <th>...</th>\n",
       "      <th>horror</th>\n",
       "      <th>musical</th>\n",
       "      <th>mystery</th>\n",
       "      <th>romance</th>\n",
       "      <th>scifi</th>\n",
       "      <th>thriller</th>\n",
       "      <th>war</th>\n",
       "      <th>western</th>\n",
       "      <th>imdbid</th>\n",
       "      <th>tmdbid</th>\n",
       "    </tr>\n",
       "  </thead>\n",
       "  <tbody>\n",
       "    <tr>\n",
       "      <th>0</th>\n",
       "      <td>196</td>\n",
       "      <td>49</td>\n",
       "      <td>M</td>\n",
       "      <td>writer</td>\n",
       "      <td>55105</td>\n",
       "      <td>242</td>\n",
       "      <td>3</td>\n",
       "      <td>881250949</td>\n",
       "      <td>242</td>\n",
       "      <td>Kolya (1996)</td>\n",
       "      <td>...</td>\n",
       "      <td>0</td>\n",
       "      <td>0</td>\n",
       "      <td>0</td>\n",
       "      <td>0</td>\n",
       "      <td>0</td>\n",
       "      <td>0</td>\n",
       "      <td>0</td>\n",
       "      <td>0</td>\n",
       "      <td>109771</td>\n",
       "      <td>10954.0</td>\n",
       "    </tr>\n",
       "    <tr>\n",
       "      <th>1</th>\n",
       "      <td>63</td>\n",
       "      <td>31</td>\n",
       "      <td>M</td>\n",
       "      <td>marketing</td>\n",
       "      <td>75240</td>\n",
       "      <td>242</td>\n",
       "      <td>3</td>\n",
       "      <td>875747190</td>\n",
       "      <td>242</td>\n",
       "      <td>Kolya (1996)</td>\n",
       "      <td>...</td>\n",
       "      <td>0</td>\n",
       "      <td>0</td>\n",
       "      <td>0</td>\n",
       "      <td>0</td>\n",
       "      <td>0</td>\n",
       "      <td>0</td>\n",
       "      <td>0</td>\n",
       "      <td>0</td>\n",
       "      <td>109771</td>\n",
       "      <td>10954.0</td>\n",
       "    </tr>\n",
       "    <tr>\n",
       "      <th>2</th>\n",
       "      <td>226</td>\n",
       "      <td>28</td>\n",
       "      <td>M</td>\n",
       "      <td>student</td>\n",
       "      <td>92103</td>\n",
       "      <td>242</td>\n",
       "      <td>5</td>\n",
       "      <td>883888671</td>\n",
       "      <td>242</td>\n",
       "      <td>Kolya (1996)</td>\n",
       "      <td>...</td>\n",
       "      <td>0</td>\n",
       "      <td>0</td>\n",
       "      <td>0</td>\n",
       "      <td>0</td>\n",
       "      <td>0</td>\n",
       "      <td>0</td>\n",
       "      <td>0</td>\n",
       "      <td>0</td>\n",
       "      <td>109771</td>\n",
       "      <td>10954.0</td>\n",
       "    </tr>\n",
       "    <tr>\n",
       "      <th>3</th>\n",
       "      <td>154</td>\n",
       "      <td>25</td>\n",
       "      <td>M</td>\n",
       "      <td>student</td>\n",
       "      <td>53703</td>\n",
       "      <td>242</td>\n",
       "      <td>3</td>\n",
       "      <td>879138235</td>\n",
       "      <td>242</td>\n",
       "      <td>Kolya (1996)</td>\n",
       "      <td>...</td>\n",
       "      <td>0</td>\n",
       "      <td>0</td>\n",
       "      <td>0</td>\n",
       "      <td>0</td>\n",
       "      <td>0</td>\n",
       "      <td>0</td>\n",
       "      <td>0</td>\n",
       "      <td>0</td>\n",
       "      <td>109771</td>\n",
       "      <td>10954.0</td>\n",
       "    </tr>\n",
       "    <tr>\n",
       "      <th>4</th>\n",
       "      <td>306</td>\n",
       "      <td>45</td>\n",
       "      <td>M</td>\n",
       "      <td>other</td>\n",
       "      <td>73132</td>\n",
       "      <td>242</td>\n",
       "      <td>5</td>\n",
       "      <td>876503793</td>\n",
       "      <td>242</td>\n",
       "      <td>Kolya (1996)</td>\n",
       "      <td>...</td>\n",
       "      <td>0</td>\n",
       "      <td>0</td>\n",
       "      <td>0</td>\n",
       "      <td>0</td>\n",
       "      <td>0</td>\n",
       "      <td>0</td>\n",
       "      <td>0</td>\n",
       "      <td>0</td>\n",
       "      <td>109771</td>\n",
       "      <td>10954.0</td>\n",
       "    </tr>\n",
       "  </tbody>\n",
       "</table>\n",
       "<p>5 rows × 34 columns</p>\n",
       "</div>"
      ],
      "text/plain": [
       "   userid  age gender occupation zipcode  itemid  rating  timestamp  movieid  \\\n",
       "0     196   49      M     writer   55105     242       3  881250949      242   \n",
       "1      63   31      M  marketing   75240     242       3  875747190      242   \n",
       "2     226   28      M    student   92103     242       5  883888671      242   \n",
       "3     154   25      M    student   53703     242       3  879138235      242   \n",
       "4     306   45      M      other   73132     242       5  876503793      242   \n",
       "\n",
       "     movietitle   ...    horror  musical mystery  romance  scifi  thriller  \\\n",
       "0  Kolya (1996)   ...         0        0       0        0      0         0   \n",
       "1  Kolya (1996)   ...         0        0       0        0      0         0   \n",
       "2  Kolya (1996)   ...         0        0       0        0      0         0   \n",
       "3  Kolya (1996)   ...         0        0       0        0      0         0   \n",
       "4  Kolya (1996)   ...         0        0       0        0      0         0   \n",
       "\n",
       "   war  western  imdbid   tmdbid  \n",
       "0    0        0  109771  10954.0  \n",
       "1    0        0  109771  10954.0  \n",
       "2    0        0  109771  10954.0  \n",
       "3    0        0  109771  10954.0  \n",
       "4    0        0  109771  10954.0  \n",
       "\n",
       "[5 rows x 34 columns]"
      ]
     },
     "execution_count": 34,
     "metadata": {},
     "output_type": "execute_result"
    }
   ],
   "source": [
    "#Merge movielens dataframe and links dataframe, the new dataframe will now have two additional columns towards end\n",
    "import pandas as pd\n",
    "newdf = pd.merge(df, movie_links, on='movieid', how='inner')\n",
    "newdf.head()"
   ]
  },
  {
   "cell_type": "code",
   "execution_count": 35,
   "metadata": {
    "collapsed": false
   },
   "outputs": [
    {
     "data": {
      "text/plain": [
       "(1344, 4)"
      ]
     },
     "execution_count": 35,
     "metadata": {},
     "output_type": "execute_result"
    }
   ],
   "source": [
    "#Create a cross-reference dataframe that has unique movieid's from the movielense data. This xref df will be used to store other\n",
    "#key attributes like key words, synopsis etc., from the movies. \n",
    "movieid_xref = newdf[['movieid','imdbid']].drop_duplicates()\n",
    "#movieid_xref = movieid_xref.head(10) #Restrict to 10 movies for now\n",
    "movieid_xref[\"keywords\"] = \"\"\n",
    "movieid_xref[\"synopsis\"] = \"\"\n",
    "#movieid_xref.head()\n",
    "movieid_xref.shape"
   ]
  },
  {
   "cell_type": "markdown",
   "metadata": {},
   "source": [
    "<b>Update xref df with information like key words, synopsis for all movies [Note: This is an expensive http process, ideal to run for few movies first]"
   ]
  },
  {
   "cell_type": "code",
   "execution_count": null,
   "metadata": {
    "collapsed": true
   },
   "outputs": [],
   "source": [
    "for ind, row in movieid_xref.iterrows():\n",
    "    movieid = row['imdbid']\n",
    "    movie = i.get_movie(movieid)\n",
    "    i.update(movie, info=('keywords',)) # retrieve the keywords info set.\n",
    "    i.update(movie, info=('synopsis',)) # retrieve the keywords info set.\n",
    "    movie_keywords = movie['keywords']\n",
    "    movie_synopsis = movie['synopsis']\n",
    "    movieid_xref.set_value(ind,'keywords',movie_keywords)\n",
    "    movieid_xref.set_value(ind,'synopsis',movie_synopsis)\n",
    "    #print movie_keywords, movie_synopsis\n",
    "    #print ind, movie['synopsis']  \n",
    "movieid_xref.head()"
   ]
  },
  {
   "cell_type": "code",
   "execution_count": 37,
   "metadata": {
    "collapsed": true
   },
   "outputs": [],
   "source": [
    "#Save data with key words and synopsis by each movie to csv file for TD-IDF processing below\n",
    "movieid_xref.to_csv('c:\\\\out.csv', encoding='utf-8')"
   ]
  },
  {
   "cell_type": "markdown",
   "metadata": {},
   "source": [
    "# Perform TD-IDF on synopsis of movies "
   ]
  },
  {
   "cell_type": "code",
   "execution_count": 40,
   "metadata": {
    "collapsed": true
   },
   "outputs": [],
   "source": [
    "#Load synopsis data with all synopsis \n",
    "# Movielens data with 100,000 records\n",
    "# url = \"https://raw.githubusercontent.com/ppadebettu/CUNY/Master/IS_643_Recommender_Systems/Project_3/out.csv\"\n",
    "# df_synopsis = pd.read_csv(url, sep = \",\" , header = 0, na_values='NaN')\n",
    "\n",
    "# For testing purposes - will use the above for actual end product\n",
    "# Query1.csv dataset was generated from out.csv by excluding movies that do not contain synopsis\n",
    "url = \"https://raw.githubusercontent.com/jwindokun/python_assignments/master/Query1.csv\"\n",
    "df_synopsis = pd.read_csv(url, sep = \",\" , header = 0, na_values='NaN')   "
   ]
  },
  {
   "cell_type": "code",
   "execution_count": 39,
   "metadata": {
    "collapsed": false
   },
   "outputs": [
    {
     "data": {
      "text/plain": [
       "(735, 5)"
      ]
     },
     "execution_count": 39,
     "metadata": {},
     "output_type": "execute_result"
    }
   ],
   "source": [
    "df_synopsis.shape"
   ]
  },
  {
   "cell_type": "code",
   "execution_count": 41,
   "metadata": {
    "collapsed": false
   },
   "outputs": [
    {
     "data": {
      "text/html": [
       "<div>\n",
       "<table border=\"1\" class=\"dataframe\">\n",
       "  <thead>\n",
       "    <tr style=\"text-align: right;\">\n",
       "      <th></th>\n",
       "      <th>id</th>\n",
       "      <th>movieid</th>\n",
       "      <th>imdbid</th>\n",
       "      <th>keywords</th>\n",
       "      <th>synopsis</th>\n",
       "    </tr>\n",
       "  </thead>\n",
       "  <tbody>\n",
       "    <tr>\n",
       "      <th>0</th>\n",
       "      <td>414.0</td>\n",
       "      <td>377.0</td>\n",
       "      <td>111257.0</td>\n",
       "      <td>bus  bomb  explosive  rescue  elevator  lapd  ...</td>\n",
       "      <td>In a downtown office building  an express elev...</td>\n",
       "    </tr>\n",
       "    <tr>\n",
       "      <th>1</th>\n",
       "      <td>553.0</td>\n",
       "      <td>474.0</td>\n",
       "      <td>107206.0</td>\n",
       "      <td>president  secret-service  secret-service-agen...</td>\n",
       "      <td>Frank Horrigan Clint Eastwood is a Secret Serv...</td>\n",
       "    </tr>\n",
       "    <tr>\n",
       "      <th>2</th>\n",
       "      <td>747.0</td>\n",
       "      <td>265.0</td>\n",
       "      <td>103994.0</td>\n",
       "      <td>marriage  mexico  pubic-hair  male-pubic-hair ...</td>\n",
       "      <td>Set in Mexico in 1910Tita Lumi Cavazos and Ros...</td>\n",
       "    </tr>\n",
       "    <tr>\n",
       "      <th>3</th>\n",
       "      <td>1059.0</td>\n",
       "      <td>451.0</td>\n",
       "      <td>106926.0</td>\n",
       "      <td>baby  girl-in-a-cake  derelict-house  condom  ...</td>\n",
       "      <td>While helping his grifter father burgle a hous...</td>\n",
       "    </tr>\n",
       "    <tr>\n",
       "      <th>4</th>\n",
       "      <td>1780.0</td>\n",
       "      <td>222.0</td>\n",
       "      <td>112679.0</td>\n",
       "      <td>circle-of-friends  1950s  ireland  student  th...</td>\n",
       "      <td>This is a charming romance about three girls f...</td>\n",
       "    </tr>\n",
       "  </tbody>\n",
       "</table>\n",
       "</div>"
      ],
      "text/plain": [
       "       id  movieid    imdbid  \\\n",
       "0   414.0    377.0  111257.0   \n",
       "1   553.0    474.0  107206.0   \n",
       "2   747.0    265.0  103994.0   \n",
       "3  1059.0    451.0  106926.0   \n",
       "4  1780.0    222.0  112679.0   \n",
       "\n",
       "                                            keywords  \\\n",
       "0  bus  bomb  explosive  rescue  elevator  lapd  ...   \n",
       "1  president  secret-service  secret-service-agen...   \n",
       "2  marriage  mexico  pubic-hair  male-pubic-hair ...   \n",
       "3  baby  girl-in-a-cake  derelict-house  condom  ...   \n",
       "4  circle-of-friends  1950s  ireland  student  th...   \n",
       "\n",
       "                                            synopsis  \n",
       "0  In a downtown office building  an express elev...  \n",
       "1  Frank Horrigan Clint Eastwood is a Secret Serv...  \n",
       "2  Set in Mexico in 1910Tita Lumi Cavazos and Ros...  \n",
       "3  While helping his grifter father burgle a hous...  \n",
       "4  This is a charming romance about three girls f...  "
      ]
     },
     "execution_count": 41,
     "metadata": {},
     "output_type": "execute_result"
    }
   ],
   "source": [
    "df_synopsis.head()"
   ]
  },
  {
   "cell_type": "code",
   "execution_count": 42,
   "metadata": {
    "collapsed": false
   },
   "outputs": [
    {
     "data": {
      "text/html": [
       "<div>\n",
       "<table border=\"1\" class=\"dataframe\">\n",
       "  <thead>\n",
       "    <tr style=\"text-align: right;\">\n",
       "      <th></th>\n",
       "      <th>movieid</th>\n",
       "      <th>keywords</th>\n",
       "      <th>synopsis</th>\n",
       "    </tr>\n",
       "  </thead>\n",
       "  <tbody>\n",
       "    <tr>\n",
       "      <th>0</th>\n",
       "      <td>377.0</td>\n",
       "      <td>bus  bomb  explosive  rescue  elevator  lapd  ...</td>\n",
       "      <td>In a downtown office building  an express elev...</td>\n",
       "    </tr>\n",
       "    <tr>\n",
       "      <th>1</th>\n",
       "      <td>474.0</td>\n",
       "      <td>president  secret-service  secret-service-agen...</td>\n",
       "      <td>Frank Horrigan Clint Eastwood is a Secret Serv...</td>\n",
       "    </tr>\n",
       "    <tr>\n",
       "      <th>2</th>\n",
       "      <td>265.0</td>\n",
       "      <td>marriage  mexico  pubic-hair  male-pubic-hair ...</td>\n",
       "      <td>Set in Mexico in 1910Tita Lumi Cavazos and Ros...</td>\n",
       "    </tr>\n",
       "    <tr>\n",
       "      <th>3</th>\n",
       "      <td>451.0</td>\n",
       "      <td>baby  girl-in-a-cake  derelict-house  condom  ...</td>\n",
       "      <td>While helping his grifter father burgle a hous...</td>\n",
       "    </tr>\n",
       "    <tr>\n",
       "      <th>4</th>\n",
       "      <td>222.0</td>\n",
       "      <td>circle-of-friends  1950s  ireland  student  th...</td>\n",
       "      <td>This is a charming romance about three girls f...</td>\n",
       "    </tr>\n",
       "  </tbody>\n",
       "</table>\n",
       "</div>"
      ],
      "text/plain": [
       "   movieid                                           keywords  \\\n",
       "0    377.0  bus  bomb  explosive  rescue  elevator  lapd  ...   \n",
       "1    474.0  president  secret-service  secret-service-agen...   \n",
       "2    265.0  marriage  mexico  pubic-hair  male-pubic-hair ...   \n",
       "3    451.0  baby  girl-in-a-cake  derelict-house  condom  ...   \n",
       "4    222.0  circle-of-friends  1950s  ireland  student  th...   \n",
       "\n",
       "                                            synopsis  \n",
       "0  In a downtown office building  an express elev...  \n",
       "1  Frank Horrigan Clint Eastwood is a Secret Serv...  \n",
       "2  Set in Mexico in 1910Tita Lumi Cavazos and Ros...  \n",
       "3  While helping his grifter father burgle a hous...  \n",
       "4  This is a charming romance about three girls f...  "
      ]
     },
     "execution_count": 42,
     "metadata": {},
     "output_type": "execute_result"
    }
   ],
   "source": [
    "df_synopsis = df_synopsis[['movieid', 'keywords', 'synopsis']]\n",
    "df_synopsis.head()"
   ]
  },
  {
   "cell_type": "code",
   "execution_count": 43,
   "metadata": {
    "collapsed": false
   },
   "outputs": [
    {
     "data": {
      "text/plain": [
       "<bound method Series.tolist of 0    In a downtown office building  an express elev...\n",
       "1    Frank Horrigan Clint Eastwood is a Secret Serv...\n",
       "2    Set in Mexico in 1910Tita Lumi Cavazos and Ros...\n",
       "3    While helping his grifter father burgle a hous...\n",
       "4    This is a charming romance about three girls f...\n",
       "Name: synopsis, dtype: object>"
      ]
     },
     "execution_count": 43,
     "metadata": {},
     "output_type": "execute_result"
    }
   ],
   "source": [
    "df_synopsis.head().synopsis.tolist"
   ]
  },
  {
   "cell_type": "code",
   "execution_count": 61,
   "metadata": {
    "collapsed": false
   },
   "outputs": [
    {
     "data": {
      "text/html": [
       "<div>\n",
       "<table border=\"1\" class=\"dataframe\">\n",
       "  <thead>\n",
       "    <tr style=\"text-align: right;\">\n",
       "      <th></th>\n",
       "      <th>377.0</th>\n",
       "      <th>474.0</th>\n",
       "      <th>265.0</th>\n",
       "      <th>451.0</th>\n",
       "      <th>222.0</th>\n",
       "      <th>1042.0</th>\n",
       "      <th>1184.0</th>\n",
       "      <th>486.0</th>\n",
       "      <th>144.0</th>\n",
       "      <th>1.0</th>\n",
       "      <th>...</th>\n",
       "      <th>1604.0</th>\n",
       "      <th>1625.0</th>\n",
       "      <th>1665.0</th>\n",
       "      <th>1681.0</th>\n",
       "      <th>1675.0</th>\n",
       "      <th>1460.0</th>\n",
       "      <th>1594.0</th>\n",
       "      <th>1645.0</th>\n",
       "      <th>1682.0</th>\n",
       "      <th>1674.0</th>\n",
       "    </tr>\n",
       "  </thead>\n",
       "  <tbody>\n",
       "    <tr>\n",
       "      <th>zinnia</th>\n",
       "      <td>0.0</td>\n",
       "      <td>0.0</td>\n",
       "      <td>0.0</td>\n",
       "      <td>0.0</td>\n",
       "      <td>0.0</td>\n",
       "      <td>0.0</td>\n",
       "      <td>0.0</td>\n",
       "      <td>0.0</td>\n",
       "      <td>0.0</td>\n",
       "      <td>0.0</td>\n",
       "      <td>...</td>\n",
       "      <td>0.0</td>\n",
       "      <td>0.0</td>\n",
       "      <td>0.0</td>\n",
       "      <td>0.0</td>\n",
       "      <td>0.0</td>\n",
       "      <td>0.0</td>\n",
       "      <td>0.0</td>\n",
       "      <td>0.0</td>\n",
       "      <td>0.0</td>\n",
       "      <td>0.0</td>\n",
       "    </tr>\n",
       "    <tr>\n",
       "      <th>zinone</th>\n",
       "      <td>0.0</td>\n",
       "      <td>0.0</td>\n",
       "      <td>0.0</td>\n",
       "      <td>0.0</td>\n",
       "      <td>0.0</td>\n",
       "      <td>0.0</td>\n",
       "      <td>0.0</td>\n",
       "      <td>0.0</td>\n",
       "      <td>0.0</td>\n",
       "      <td>0.0</td>\n",
       "      <td>...</td>\n",
       "      <td>0.0</td>\n",
       "      <td>0.0</td>\n",
       "      <td>0.0</td>\n",
       "      <td>0.0</td>\n",
       "      <td>0.0</td>\n",
       "      <td>0.0</td>\n",
       "      <td>0.0</td>\n",
       "      <td>0.0</td>\n",
       "      <td>0.0</td>\n",
       "      <td>0.0</td>\n",
       "    </tr>\n",
       "    <tr>\n",
       "      <th>zoe</th>\n",
       "      <td>0.0</td>\n",
       "      <td>0.0</td>\n",
       "      <td>0.0</td>\n",
       "      <td>0.0</td>\n",
       "      <td>0.0</td>\n",
       "      <td>0.0</td>\n",
       "      <td>0.0</td>\n",
       "      <td>0.0</td>\n",
       "      <td>0.0</td>\n",
       "      <td>0.0</td>\n",
       "      <td>...</td>\n",
       "      <td>0.0</td>\n",
       "      <td>0.0</td>\n",
       "      <td>0.0</td>\n",
       "      <td>0.0</td>\n",
       "      <td>0.0</td>\n",
       "      <td>0.0</td>\n",
       "      <td>0.0</td>\n",
       "      <td>0.0</td>\n",
       "      <td>0.0</td>\n",
       "      <td>0.0</td>\n",
       "    </tr>\n",
       "    <tr>\n",
       "      <th>zone</th>\n",
       "      <td>0.0</td>\n",
       "      <td>0.0</td>\n",
       "      <td>0.0</td>\n",
       "      <td>0.0</td>\n",
       "      <td>0.0</td>\n",
       "      <td>0.0</td>\n",
       "      <td>0.0</td>\n",
       "      <td>0.0</td>\n",
       "      <td>0.0</td>\n",
       "      <td>0.0</td>\n",
       "      <td>...</td>\n",
       "      <td>0.0</td>\n",
       "      <td>0.0</td>\n",
       "      <td>0.0</td>\n",
       "      <td>0.0</td>\n",
       "      <td>0.0</td>\n",
       "      <td>0.0</td>\n",
       "      <td>0.0</td>\n",
       "      <td>0.0</td>\n",
       "      <td>0.0</td>\n",
       "      <td>0.0</td>\n",
       "    </tr>\n",
       "    <tr>\n",
       "      <th>zuko</th>\n",
       "      <td>0.0</td>\n",
       "      <td>0.0</td>\n",
       "      <td>0.0</td>\n",
       "      <td>0.0</td>\n",
       "      <td>0.0</td>\n",
       "      <td>0.0</td>\n",
       "      <td>0.0</td>\n",
       "      <td>0.0</td>\n",
       "      <td>0.0</td>\n",
       "      <td>0.0</td>\n",
       "      <td>...</td>\n",
       "      <td>0.0</td>\n",
       "      <td>0.0</td>\n",
       "      <td>0.0</td>\n",
       "      <td>0.0</td>\n",
       "      <td>0.0</td>\n",
       "      <td>0.0</td>\n",
       "      <td>0.0</td>\n",
       "      <td>0.0</td>\n",
       "      <td>0.0</td>\n",
       "      <td>0.0</td>\n",
       "    </tr>\n",
       "  </tbody>\n",
       "</table>\n",
       "<p>5 rows × 735 columns</p>\n",
       "</div>"
      ],
      "text/plain": [
       "        377.0   474.0   265.0   451.0   222.0   1042.0  1184.0  486.0   \\\n",
       "zinnia     0.0     0.0     0.0     0.0     0.0     0.0     0.0     0.0   \n",
       "zinone     0.0     0.0     0.0     0.0     0.0     0.0     0.0     0.0   \n",
       "zoe        0.0     0.0     0.0     0.0     0.0     0.0     0.0     0.0   \n",
       "zone       0.0     0.0     0.0     0.0     0.0     0.0     0.0     0.0   \n",
       "zuko       0.0     0.0     0.0     0.0     0.0     0.0     0.0     0.0   \n",
       "\n",
       "        144.0   1.0      ...    1604.0  1625.0  1665.0  1681.0  1675.0  \\\n",
       "zinnia     0.0     0.0   ...       0.0     0.0     0.0     0.0     0.0   \n",
       "zinone     0.0     0.0   ...       0.0     0.0     0.0     0.0     0.0   \n",
       "zoe        0.0     0.0   ...       0.0     0.0     0.0     0.0     0.0   \n",
       "zone       0.0     0.0   ...       0.0     0.0     0.0     0.0     0.0   \n",
       "zuko       0.0     0.0   ...       0.0     0.0     0.0     0.0     0.0   \n",
       "\n",
       "        1460.0  1594.0  1645.0  1682.0  1674.0  \n",
       "zinnia     0.0     0.0     0.0     0.0     0.0  \n",
       "zinone     0.0     0.0     0.0     0.0     0.0  \n",
       "zoe        0.0     0.0     0.0     0.0     0.0  \n",
       "zone       0.0     0.0     0.0     0.0     0.0  \n",
       "zuko       0.0     0.0     0.0     0.0     0.0  \n",
       "\n",
       "[5 rows x 735 columns]"
      ]
     },
     "execution_count": 61,
     "metadata": {},
     "output_type": "execute_result"
    }
   ],
   "source": [
    "#Convert the synopsis to a matrix of TF-IDF features\n",
    "corpus = df_synopsis['synopsis']\n",
    "vectorizer = TfidfVectorizer(min_df = 1, norm = 'l2', sublinear_tf = True, analyzer = 'word', stop_words = 'english')\n",
    "#vectorizer = TfidfVectorizer(min_df = 1)\n",
    "X = vectorizer.fit_transform(corpus)\n",
    "idf = vectorizer.idf_\n",
    "# print dict(zip(vectorizer.get_feature_names(), idf))\n",
    "x = pd.DataFrame(X.toarray()).T\n",
    "y = pd.DataFrame(vectorizer.get_feature_names())\n",
    "w = pd.concat([y,x], axis = 1)\n",
    "\n",
    "movieid = df_synopsis['movieid']\n",
    "\n",
    "#w.columns = ['index', 'a','b','c']\n",
    "l = pd.Series('index')\n",
    "movieid = l.append(df_synopsis['movieid'])\n",
    "w.columns = movieid\n",
    "w = w.set_index('index')\n",
    "del w.index.name\n",
    "w.tail()"
   ]
  },
  {
   "cell_type": "code",
   "execution_count": 45,
   "metadata": {
    "collapsed": false
   },
   "outputs": [
    {
     "data": {
      "text/html": [
       "<div>\n",
       "<table border=\"1\" class=\"dataframe\">\n",
       "  <thead>\n",
       "    <tr style=\"text-align: right;\">\n",
       "      <th></th>\n",
       "      <th>377.0</th>\n",
       "      <th>474.0</th>\n",
       "      <th>265.0</th>\n",
       "      <th>451.0</th>\n",
       "      <th>222.0</th>\n",
       "      <th>1042.0</th>\n",
       "      <th>1184.0</th>\n",
       "      <th>486.0</th>\n",
       "      <th>144.0</th>\n",
       "      <th>1.0</th>\n",
       "      <th>...</th>\n",
       "      <th>1604.0</th>\n",
       "      <th>1625.0</th>\n",
       "      <th>1665.0</th>\n",
       "      <th>1681.0</th>\n",
       "      <th>1675.0</th>\n",
       "      <th>1460.0</th>\n",
       "      <th>1594.0</th>\n",
       "      <th>1645.0</th>\n",
       "      <th>1682.0</th>\n",
       "      <th>1674.0</th>\n",
       "    </tr>\n",
       "  </thead>\n",
       "  <tbody>\n",
       "    <tr>\n",
       "      <th>00</th>\n",
       "      <td>0.0</td>\n",
       "      <td>0.0</td>\n",
       "      <td>0.0</td>\n",
       "      <td>0.0</td>\n",
       "      <td>0.0</td>\n",
       "      <td>0.0</td>\n",
       "      <td>0.0</td>\n",
       "      <td>0.0</td>\n",
       "      <td>0.0</td>\n",
       "      <td>0.0</td>\n",
       "      <td>...</td>\n",
       "      <td>0.000000</td>\n",
       "      <td>0.0</td>\n",
       "      <td>0.0</td>\n",
       "      <td>0.000000</td>\n",
       "      <td>0.0</td>\n",
       "      <td>0.0</td>\n",
       "      <td>0.0</td>\n",
       "      <td>0.0</td>\n",
       "      <td>0.0</td>\n",
       "      <td>0.0</td>\n",
       "    </tr>\n",
       "    <tr>\n",
       "      <th>000</th>\n",
       "      <td>0.0</td>\n",
       "      <td>0.0</td>\n",
       "      <td>0.0</td>\n",
       "      <td>0.0</td>\n",
       "      <td>0.0</td>\n",
       "      <td>0.0</td>\n",
       "      <td>0.0</td>\n",
       "      <td>0.0</td>\n",
       "      <td>0.0</td>\n",
       "      <td>0.0</td>\n",
       "      <td>...</td>\n",
       "      <td>0.000000</td>\n",
       "      <td>0.0</td>\n",
       "      <td>0.0</td>\n",
       "      <td>0.000000</td>\n",
       "      <td>0.0</td>\n",
       "      <td>0.0</td>\n",
       "      <td>0.0</td>\n",
       "      <td>0.0</td>\n",
       "      <td>0.0</td>\n",
       "      <td>0.0</td>\n",
       "    </tr>\n",
       "    <tr>\n",
       "      <th>10</th>\n",
       "      <td>0.0</td>\n",
       "      <td>0.0</td>\n",
       "      <td>0.0</td>\n",
       "      <td>0.0</td>\n",
       "      <td>0.0</td>\n",
       "      <td>0.0</td>\n",
       "      <td>0.0</td>\n",
       "      <td>0.0</td>\n",
       "      <td>0.0</td>\n",
       "      <td>0.0</td>\n",
       "      <td>...</td>\n",
       "      <td>0.202011</td>\n",
       "      <td>0.0</td>\n",
       "      <td>0.0</td>\n",
       "      <td>0.201148</td>\n",
       "      <td>0.0</td>\n",
       "      <td>0.0</td>\n",
       "      <td>0.0</td>\n",
       "      <td>0.0</td>\n",
       "      <td>0.0</td>\n",
       "      <td>0.0</td>\n",
       "    </tr>\n",
       "    <tr>\n",
       "      <th>100</th>\n",
       "      <td>0.0</td>\n",
       "      <td>0.0</td>\n",
       "      <td>0.0</td>\n",
       "      <td>0.0</td>\n",
       "      <td>0.0</td>\n",
       "      <td>0.0</td>\n",
       "      <td>0.0</td>\n",
       "      <td>0.0</td>\n",
       "      <td>0.0</td>\n",
       "      <td>0.0</td>\n",
       "      <td>...</td>\n",
       "      <td>0.000000</td>\n",
       "      <td>0.0</td>\n",
       "      <td>0.0</td>\n",
       "      <td>0.000000</td>\n",
       "      <td>0.0</td>\n",
       "      <td>0.0</td>\n",
       "      <td>0.0</td>\n",
       "      <td>0.0</td>\n",
       "      <td>0.0</td>\n",
       "      <td>0.0</td>\n",
       "    </tr>\n",
       "    <tr>\n",
       "      <th>1000</th>\n",
       "      <td>0.0</td>\n",
       "      <td>0.0</td>\n",
       "      <td>0.0</td>\n",
       "      <td>0.0</td>\n",
       "      <td>0.0</td>\n",
       "      <td>0.0</td>\n",
       "      <td>0.0</td>\n",
       "      <td>0.0</td>\n",
       "      <td>0.0</td>\n",
       "      <td>0.0</td>\n",
       "      <td>...</td>\n",
       "      <td>0.000000</td>\n",
       "      <td>0.0</td>\n",
       "      <td>0.0</td>\n",
       "      <td>0.000000</td>\n",
       "      <td>0.0</td>\n",
       "      <td>0.0</td>\n",
       "      <td>0.0</td>\n",
       "      <td>0.0</td>\n",
       "      <td>0.0</td>\n",
       "      <td>0.0</td>\n",
       "    </tr>\n",
       "    <tr>\n",
       "      <th>10000</th>\n",
       "      <td>0.0</td>\n",
       "      <td>0.0</td>\n",
       "      <td>0.0</td>\n",
       "      <td>0.0</td>\n",
       "      <td>0.0</td>\n",
       "      <td>0.0</td>\n",
       "      <td>0.0</td>\n",
       "      <td>0.0</td>\n",
       "      <td>0.0</td>\n",
       "      <td>0.0</td>\n",
       "      <td>...</td>\n",
       "      <td>0.000000</td>\n",
       "      <td>0.0</td>\n",
       "      <td>0.0</td>\n",
       "      <td>0.000000</td>\n",
       "      <td>0.0</td>\n",
       "      <td>0.0</td>\n",
       "      <td>0.0</td>\n",
       "      <td>0.0</td>\n",
       "      <td>0.0</td>\n",
       "      <td>0.0</td>\n",
       "    </tr>\n",
       "    <tr>\n",
       "      <th>10th</th>\n",
       "      <td>0.0</td>\n",
       "      <td>0.0</td>\n",
       "      <td>0.0</td>\n",
       "      <td>0.0</td>\n",
       "      <td>0.0</td>\n",
       "      <td>0.0</td>\n",
       "      <td>0.0</td>\n",
       "      <td>0.0</td>\n",
       "      <td>0.0</td>\n",
       "      <td>0.0</td>\n",
       "      <td>...</td>\n",
       "      <td>0.000000</td>\n",
       "      <td>0.0</td>\n",
       "      <td>0.0</td>\n",
       "      <td>0.000000</td>\n",
       "      <td>0.0</td>\n",
       "      <td>0.0</td>\n",
       "      <td>0.0</td>\n",
       "      <td>0.0</td>\n",
       "      <td>0.0</td>\n",
       "      <td>0.0</td>\n",
       "    </tr>\n",
       "    <tr>\n",
       "      <th>11</th>\n",
       "      <td>0.0</td>\n",
       "      <td>0.0</td>\n",
       "      <td>0.0</td>\n",
       "      <td>0.0</td>\n",
       "      <td>0.0</td>\n",
       "      <td>0.0</td>\n",
       "      <td>0.0</td>\n",
       "      <td>0.0</td>\n",
       "      <td>0.0</td>\n",
       "      <td>0.0</td>\n",
       "      <td>...</td>\n",
       "      <td>0.000000</td>\n",
       "      <td>0.0</td>\n",
       "      <td>0.0</td>\n",
       "      <td>0.000000</td>\n",
       "      <td>0.0</td>\n",
       "      <td>0.0</td>\n",
       "      <td>0.0</td>\n",
       "      <td>0.0</td>\n",
       "      <td>0.0</td>\n",
       "      <td>0.0</td>\n",
       "    </tr>\n",
       "    <tr>\n",
       "      <th>112</th>\n",
       "      <td>0.0</td>\n",
       "      <td>0.0</td>\n",
       "      <td>0.0</td>\n",
       "      <td>0.0</td>\n",
       "      <td>0.0</td>\n",
       "      <td>0.0</td>\n",
       "      <td>0.0</td>\n",
       "      <td>0.0</td>\n",
       "      <td>0.0</td>\n",
       "      <td>0.0</td>\n",
       "      <td>...</td>\n",
       "      <td>0.000000</td>\n",
       "      <td>0.0</td>\n",
       "      <td>0.0</td>\n",
       "      <td>0.000000</td>\n",
       "      <td>0.0</td>\n",
       "      <td>0.0</td>\n",
       "      <td>0.0</td>\n",
       "      <td>0.0</td>\n",
       "      <td>0.0</td>\n",
       "      <td>0.0</td>\n",
       "    </tr>\n",
       "    <tr>\n",
       "      <th>11th</th>\n",
       "      <td>0.0</td>\n",
       "      <td>0.0</td>\n",
       "      <td>0.0</td>\n",
       "      <td>0.0</td>\n",
       "      <td>0.0</td>\n",
       "      <td>0.0</td>\n",
       "      <td>0.0</td>\n",
       "      <td>0.0</td>\n",
       "      <td>0.0</td>\n",
       "      <td>0.0</td>\n",
       "      <td>...</td>\n",
       "      <td>0.000000</td>\n",
       "      <td>0.0</td>\n",
       "      <td>0.0</td>\n",
       "      <td>0.000000</td>\n",
       "      <td>0.0</td>\n",
       "      <td>0.0</td>\n",
       "      <td>0.0</td>\n",
       "      <td>0.0</td>\n",
       "      <td>0.0</td>\n",
       "      <td>0.0</td>\n",
       "    </tr>\n",
       "  </tbody>\n",
       "</table>\n",
       "<p>10 rows × 735 columns</p>\n",
       "</div>"
      ],
      "text/plain": [
       "       377.0   474.0   265.0   451.0   222.0   1042.0  1184.0  486.0   144.0   \\\n",
       "00        0.0     0.0     0.0     0.0     0.0     0.0     0.0     0.0     0.0   \n",
       "000       0.0     0.0     0.0     0.0     0.0     0.0     0.0     0.0     0.0   \n",
       "10        0.0     0.0     0.0     0.0     0.0     0.0     0.0     0.0     0.0   \n",
       "100       0.0     0.0     0.0     0.0     0.0     0.0     0.0     0.0     0.0   \n",
       "1000      0.0     0.0     0.0     0.0     0.0     0.0     0.0     0.0     0.0   \n",
       "10000     0.0     0.0     0.0     0.0     0.0     0.0     0.0     0.0     0.0   \n",
       "10th      0.0     0.0     0.0     0.0     0.0     0.0     0.0     0.0     0.0   \n",
       "11        0.0     0.0     0.0     0.0     0.0     0.0     0.0     0.0     0.0   \n",
       "112       0.0     0.0     0.0     0.0     0.0     0.0     0.0     0.0     0.0   \n",
       "11th      0.0     0.0     0.0     0.0     0.0     0.0     0.0     0.0     0.0   \n",
       "\n",
       "       1.0      ...      1604.0  1625.0  1665.0    1681.0  1675.0  1460.0  \\\n",
       "00        0.0   ...    0.000000     0.0     0.0  0.000000     0.0     0.0   \n",
       "000       0.0   ...    0.000000     0.0     0.0  0.000000     0.0     0.0   \n",
       "10        0.0   ...    0.202011     0.0     0.0  0.201148     0.0     0.0   \n",
       "100       0.0   ...    0.000000     0.0     0.0  0.000000     0.0     0.0   \n",
       "1000      0.0   ...    0.000000     0.0     0.0  0.000000     0.0     0.0   \n",
       "10000     0.0   ...    0.000000     0.0     0.0  0.000000     0.0     0.0   \n",
       "10th      0.0   ...    0.000000     0.0     0.0  0.000000     0.0     0.0   \n",
       "11        0.0   ...    0.000000     0.0     0.0  0.000000     0.0     0.0   \n",
       "112       0.0   ...    0.000000     0.0     0.0  0.000000     0.0     0.0   \n",
       "11th      0.0   ...    0.000000     0.0     0.0  0.000000     0.0     0.0   \n",
       "\n",
       "       1594.0  1645.0  1682.0  1674.0  \n",
       "00        0.0     0.0     0.0     0.0  \n",
       "000       0.0     0.0     0.0     0.0  \n",
       "10        0.0     0.0     0.0     0.0  \n",
       "100       0.0     0.0     0.0     0.0  \n",
       "1000      0.0     0.0     0.0     0.0  \n",
       "10000     0.0     0.0     0.0     0.0  \n",
       "10th      0.0     0.0     0.0     0.0  \n",
       "11        0.0     0.0     0.0     0.0  \n",
       "112       0.0     0.0     0.0     0.0  \n",
       "11th      0.0     0.0     0.0     0.0  \n",
       "\n",
       "[10 rows x 735 columns]"
      ]
     },
     "execution_count": 45,
     "metadata": {},
     "output_type": "execute_result"
    }
   ],
   "source": [
    "w.head(10)"
   ]
  },
  {
   "cell_type": "code",
   "execution_count": 47,
   "metadata": {
    "collapsed": false
   },
   "outputs": [
    {
     "data": {
      "text/plain": [
       "film           0.013312\n",
       "new            0.012093\n",
       "man            0.010831\n",
       "young          0.009764\n",
       "story          0.009276\n",
       "john           0.009237\n",
       "old            0.009123\n",
       "seen           0.008929\n",
       "opens          0.008854\n",
       "year           0.008616\n",
       "plot           0.008373\n",
       "help           0.008290\n",
       "title          0.008211\n",
       "entire         0.008157\n",
       "movie          0.008122\n",
       "10             0.008009\n",
       "short          0.007963\n",
       "synopsis       0.007930\n",
       "city           0.007808\n",
       "include        0.007705\n",
       "lines          0.007604\n",
       "normally       0.007596\n",
       "war            0.007537\n",
       "description    0.007483\n",
       "synopses       0.007483\n",
       "dtype: float64"
      ]
     },
     "execution_count": 47,
     "metadata": {},
     "output_type": "execute_result"
    }
   ],
   "source": [
    "#Importance of individual words\n",
    "w.mean(axis = 1).sort_values(ascending = False)[:25]"
   ]
  },
  {
   "cell_type": "markdown",
   "metadata": {},
   "source": [
    "# Performing SVD on TD-IDF dataset "
   ]
  },
  {
   "cell_type": "code",
   "execution_count": 48,
   "metadata": {
    "collapsed": true
   },
   "outputs": [],
   "source": [
    "U, sigma, V = np.linalg.svd(w, full_matrices=False)\n",
    "V_df = pd.DataFrame(V, columns=w.columns)"
   ]
  },
  {
   "cell_type": "code",
   "execution_count": 49,
   "metadata": {
    "collapsed": false
   },
   "outputs": [
    {
     "name": "stdout",
     "output_type": "stream",
     "text": [
      "(7238L, 735L)\n",
      "(735L,)\n",
      "(735L, 735L)\n",
      "<type 'numpy.ndarray'>\n"
     ]
    }
   ],
   "source": [
    "print U.shape\n",
    "print sigma.shape\n",
    "print V.shape\n",
    "print type(sigma)"
   ]
  },
  {
   "cell_type": "code",
   "execution_count": 50,
   "metadata": {
    "collapsed": false
   },
   "outputs": [
    {
     "data": {
      "image/png": "[encoded data removed]",
      "text/plain": [
       "<matplotlib.figure.Figure at 0xa1d22b0>"
      ]
     },
     "metadata": {},
     "output_type": "display_data"
    }
   ],
   "source": [
    "plt.plot(sigma)\n",
    "plt.show()"
   ]
  },
  {
   "cell_type": "code",
   "execution_count": 51,
   "metadata": {
    "collapsed": false
   },
   "outputs": [
    {
     "data": {
      "text/plain": [
       "array([ 4.66333023,  2.38078707,  1.72758917,  1.6550865 ,  1.60526035,\n",
       "        1.59424306,  1.57244265,  1.53619314,  1.49314849,  1.4788253 ,\n",
       "        1.47174743,  1.46573132,  1.44813631,  1.44216446,  1.43380916,\n",
       "        1.42180803,  1.413749  ,  1.40759431,  1.39390974,  1.39347953,\n",
       "        1.38014467,  1.37852809,  1.3777929 ,  1.37042545,  1.36188104,\n",
       "        1.35870902,  1.3551957 ,  1.34764761,  1.34390554,  1.34195633,\n",
       "        1.33822974,  1.3312517 ,  1.32990888,  1.32375089,  1.32255948,\n",
       "        1.31647615,  1.31334441,  1.30706093,  1.30606153,  1.30040337])"
      ]
     },
     "execution_count": 51,
     "metadata": {},
     "output_type": "execute_result"
    }
   ],
   "source": [
    "sigma[:40]"
   ]
  },
  {
   "cell_type": "code",
   "execution_count": 52,
   "metadata": {
    "collapsed": false
   },
   "outputs": [
    {
     "name": "stdout",
     "output_type": "stream",
     "text": [
      "346\n",
      "494\n",
      "591\n"
     ]
    }
   ],
   "source": [
    "#movieFeature = pd.DataFrame(movieFeature)\n",
    "#movieFeature.shape\n",
    "print findK(sigma, 0.8)\n",
    "print findK(sigma, 0.9)\n",
    "print findK(sigma, 0.95)"
   ]
  },
  {
   "cell_type": "code",
   "execution_count": 94,
   "metadata": {
    "collapsed": true
   },
   "outputs": [],
   "source": [
    "# Choosing 500 as cut off"
   ]
  },
  {
   "cell_type": "code",
   "execution_count": 53,
   "metadata": {
    "collapsed": true
   },
   "outputs": [],
   "source": [
    "k= 500\n",
    "A_approx = np.matrix(U[:, :k]) * np.diag(sigma[:k]) * np.matrix(V[:k, :])"
   ]
  },
  {
   "cell_type": "code",
   "execution_count": 54,
   "metadata": {
    "collapsed": true
   },
   "outputs": [],
   "source": [
    "sv = pd.DataFrame(A_approx, columns = w.columns)\n",
    "sv.index = w.index"
   ]
  },
  {
   "cell_type": "code",
   "execution_count": 54,
   "metadata": {
    "collapsed": false
   },
   "outputs": [
    {
     "data": {
      "text/html": [
       "<div>\n",
       "<table border=\"1\" class=\"dataframe\">\n",
       "  <thead>\n",
       "    <tr style=\"text-align: right;\">\n",
       "      <th></th>\n",
       "      <th>377.0</th>\n",
       "      <th>474.0</th>\n",
       "      <th>265.0</th>\n",
       "      <th>451.0</th>\n",
       "      <th>222.0</th>\n",
       "      <th>1042.0</th>\n",
       "      <th>1184.0</th>\n",
       "      <th>486.0</th>\n",
       "      <th>144.0</th>\n",
       "      <th>1.0</th>\n",
       "      <th>...</th>\n",
       "      <th>1604.0</th>\n",
       "      <th>1625.0</th>\n",
       "      <th>1665.0</th>\n",
       "      <th>1681.0</th>\n",
       "      <th>1675.0</th>\n",
       "      <th>1460.0</th>\n",
       "      <th>1594.0</th>\n",
       "      <th>1645.0</th>\n",
       "      <th>1682.0</th>\n",
       "      <th>1674.0</th>\n",
       "    </tr>\n",
       "  </thead>\n",
       "  <tbody>\n",
       "    <tr>\n",
       "      <th>00</th>\n",
       "      <td>-0.002266</td>\n",
       "      <td>0.026162</td>\n",
       "      <td>-0.000006</td>\n",
       "      <td>0.003748</td>\n",
       "      <td>0.001688</td>\n",
       "      <td>0.000231</td>\n",
       "      <td>-0.002778</td>\n",
       "      <td>-0.000341</td>\n",
       "      <td>-0.003176</td>\n",
       "      <td>-0.001361</td>\n",
       "      <td>...</td>\n",
       "      <td>0.000080</td>\n",
       "      <td>0.006468</td>\n",
       "      <td>0.019142</td>\n",
       "      <td>0.000332</td>\n",
       "      <td>-0.000471</td>\n",
       "      <td>-0.000485</td>\n",
       "      <td>-0.002527</td>\n",
       "      <td>0.001365</td>\n",
       "      <td>-0.002695</td>\n",
       "      <td>0.001598</td>\n",
       "    </tr>\n",
       "    <tr>\n",
       "      <th>000</th>\n",
       "      <td>0.010559</td>\n",
       "      <td>-0.003104</td>\n",
       "      <td>0.000727</td>\n",
       "      <td>0.008278</td>\n",
       "      <td>-0.002248</td>\n",
       "      <td>-0.008313</td>\n",
       "      <td>0.014205</td>\n",
       "      <td>0.012997</td>\n",
       "      <td>0.008363</td>\n",
       "      <td>-0.006011</td>\n",
       "      <td>...</td>\n",
       "      <td>0.000759</td>\n",
       "      <td>-0.000023</td>\n",
       "      <td>-0.001748</td>\n",
       "      <td>-0.001233</td>\n",
       "      <td>0.000311</td>\n",
       "      <td>0.002474</td>\n",
       "      <td>0.003576</td>\n",
       "      <td>-0.011334</td>\n",
       "      <td>-0.005091</td>\n",
       "      <td>0.003781</td>\n",
       "    </tr>\n",
       "    <tr>\n",
       "      <th>10</th>\n",
       "      <td>-0.003792</td>\n",
       "      <td>-0.001833</td>\n",
       "      <td>-0.005372</td>\n",
       "      <td>0.007424</td>\n",
       "      <td>-0.000613</td>\n",
       "      <td>0.004317</td>\n",
       "      <td>0.006908</td>\n",
       "      <td>-0.003784</td>\n",
       "      <td>0.000192</td>\n",
       "      <td>0.001323</td>\n",
       "      <td>...</td>\n",
       "      <td>0.201506</td>\n",
       "      <td>0.006438</td>\n",
       "      <td>-0.000929</td>\n",
       "      <td>0.200388</td>\n",
       "      <td>-0.004780</td>\n",
       "      <td>-0.001697</td>\n",
       "      <td>0.000643</td>\n",
       "      <td>0.003764</td>\n",
       "      <td>-0.000265</td>\n",
       "      <td>0.001660</td>\n",
       "    </tr>\n",
       "    <tr>\n",
       "      <th>100</th>\n",
       "      <td>0.001021</td>\n",
       "      <td>0.004821</td>\n",
       "      <td>-0.007901</td>\n",
       "      <td>0.000588</td>\n",
       "      <td>0.000018</td>\n",
       "      <td>0.001910</td>\n",
       "      <td>0.000341</td>\n",
       "      <td>-0.002489</td>\n",
       "      <td>-0.001384</td>\n",
       "      <td>-0.002175</td>\n",
       "      <td>...</td>\n",
       "      <td>0.000134</td>\n",
       "      <td>0.000294</td>\n",
       "      <td>-0.003797</td>\n",
       "      <td>-0.000189</td>\n",
       "      <td>0.002505</td>\n",
       "      <td>-0.000378</td>\n",
       "      <td>-0.000731</td>\n",
       "      <td>-0.001248</td>\n",
       "      <td>0.000628</td>\n",
       "      <td>-0.000467</td>\n",
       "    </tr>\n",
       "    <tr>\n",
       "      <th>1000</th>\n",
       "      <td>-0.015517</td>\n",
       "      <td>-0.005023</td>\n",
       "      <td>-0.005087</td>\n",
       "      <td>0.004099</td>\n",
       "      <td>0.003251</td>\n",
       "      <td>0.006874</td>\n",
       "      <td>0.003125</td>\n",
       "      <td>-0.002798</td>\n",
       "      <td>-0.012201</td>\n",
       "      <td>0.002541</td>\n",
       "      <td>...</td>\n",
       "      <td>-0.000180</td>\n",
       "      <td>-0.000818</td>\n",
       "      <td>0.007374</td>\n",
       "      <td>-0.000878</td>\n",
       "      <td>-0.002666</td>\n",
       "      <td>0.004302</td>\n",
       "      <td>0.003383</td>\n",
       "      <td>0.007348</td>\n",
       "      <td>-0.001565</td>\n",
       "      <td>0.004702</td>\n",
       "    </tr>\n",
       "  </tbody>\n",
       "</table>\n",
       "<p>5 rows × 735 columns</p>\n",
       "</div>"
      ],
      "text/plain": [
       "        377.0     474.0     265.0     451.0     222.0     1042.0    1184.0  \\\n",
       "00   -0.002266  0.026162 -0.000006  0.003748  0.001688  0.000231 -0.002778   \n",
       "000   0.010559 -0.003104  0.000727  0.008278 -0.002248 -0.008313  0.014205   \n",
       "10   -0.003792 -0.001833 -0.005372  0.007424 -0.000613  0.004317  0.006908   \n",
       "100   0.001021  0.004821 -0.007901  0.000588  0.000018  0.001910  0.000341   \n",
       "1000 -0.015517 -0.005023 -0.005087  0.004099  0.003251  0.006874  0.003125   \n",
       "\n",
       "        486.0     144.0     1.0       ...       1604.0    1625.0    1665.0  \\\n",
       "00   -0.000341 -0.003176 -0.001361    ...     0.000080  0.006468  0.019142   \n",
       "000   0.012997  0.008363 -0.006011    ...     0.000759 -0.000023 -0.001748   \n",
       "10   -0.003784  0.000192  0.001323    ...     0.201506  0.006438 -0.000929   \n",
       "100  -0.002489 -0.001384 -0.002175    ...     0.000134  0.000294 -0.003797   \n",
       "1000 -0.002798 -0.012201  0.002541    ...    -0.000180 -0.000818  0.007374   \n",
       "\n",
       "        1681.0    1675.0    1460.0    1594.0    1645.0    1682.0    1674.0  \n",
       "00    0.000332 -0.000471 -0.000485 -0.002527  0.001365 -0.002695  0.001598  \n",
       "000  -0.001233  0.000311  0.002474  0.003576 -0.011334 -0.005091  0.003781  \n",
       "10    0.200388 -0.004780 -0.001697  0.000643  0.003764 -0.000265  0.001660  \n",
       "100  -0.000189  0.002505 -0.000378 -0.000731 -0.001248  0.000628 -0.000467  \n",
       "1000 -0.000878 -0.002666  0.004302  0.003383  0.007348 -0.001565  0.004702  \n",
       "\n",
       "[5 rows x 735 columns]"
      ]
     },
     "execution_count": 54,
     "metadata": {},
     "output_type": "execute_result"
    }
   ],
   "source": [
    "sv.head()"
   ]
  },
  {
   "cell_type": "code",
   "execution_count": 55,
   "metadata": {
    "collapsed": false
   },
   "outputs": [],
   "source": [
    "sv = sv.T"
   ]
  },
  {
   "cell_type": "code",
   "execution_count": 56,
   "metadata": {
    "collapsed": false
   },
   "outputs": [
    {
     "data": {
      "text/html": [
       "<div>\n",
       "<table border=\"1\" class=\"dataframe\">\n",
       "  <thead>\n",
       "    <tr style=\"text-align: right;\">\n",
       "      <th></th>\n",
       "      <th>00</th>\n",
       "      <th>000</th>\n",
       "      <th>10</th>\n",
       "      <th>100</th>\n",
       "      <th>1000</th>\n",
       "      <th>10000</th>\n",
       "      <th>10th</th>\n",
       "      <th>11</th>\n",
       "      <th>112</th>\n",
       "      <th>11th</th>\n",
       "      <th>...</th>\n",
       "      <th>zealand</th>\n",
       "      <th>zed</th>\n",
       "      <th>zelda</th>\n",
       "      <th>zero</th>\n",
       "      <th>zeus</th>\n",
       "      <th>zinnia</th>\n",
       "      <th>zinone</th>\n",
       "      <th>zoe</th>\n",
       "      <th>zone</th>\n",
       "      <th>zuko</th>\n",
       "    </tr>\n",
       "  </thead>\n",
       "  <tbody>\n",
       "    <tr>\n",
       "      <th>377.0</th>\n",
       "      <td>-0.002266</td>\n",
       "      <td>0.010559</td>\n",
       "      <td>-0.003792</td>\n",
       "      <td>0.001021</td>\n",
       "      <td>-0.015517</td>\n",
       "      <td>-0.002817</td>\n",
       "      <td>0.003682</td>\n",
       "      <td>0.010816</td>\n",
       "      <td>-0.003689</td>\n",
       "      <td>-0.001569</td>\n",
       "      <td>...</td>\n",
       "      <td>-0.008938</td>\n",
       "      <td>0.006613</td>\n",
       "      <td>-0.001986</td>\n",
       "      <td>0.003249</td>\n",
       "      <td>-0.002308</td>\n",
       "      <td>0.007035</td>\n",
       "      <td>-0.000506</td>\n",
       "      <td>-0.000900</td>\n",
       "      <td>-0.003333</td>\n",
       "      <td>-0.002261</td>\n",
       "    </tr>\n",
       "    <tr>\n",
       "      <th>474.0</th>\n",
       "      <td>0.026162</td>\n",
       "      <td>-0.003104</td>\n",
       "      <td>-0.001833</td>\n",
       "      <td>0.004821</td>\n",
       "      <td>-0.005023</td>\n",
       "      <td>-0.001130</td>\n",
       "      <td>0.001830</td>\n",
       "      <td>0.012335</td>\n",
       "      <td>0.005497</td>\n",
       "      <td>0.000603</td>\n",
       "      <td>...</td>\n",
       "      <td>0.018678</td>\n",
       "      <td>0.004517</td>\n",
       "      <td>0.004702</td>\n",
       "      <td>0.009071</td>\n",
       "      <td>-0.003686</td>\n",
       "      <td>0.000945</td>\n",
       "      <td>0.005551</td>\n",
       "      <td>0.004747</td>\n",
       "      <td>0.013401</td>\n",
       "      <td>0.003184</td>\n",
       "    </tr>\n",
       "    <tr>\n",
       "      <th>265.0</th>\n",
       "      <td>-0.000006</td>\n",
       "      <td>0.000727</td>\n",
       "      <td>-0.005372</td>\n",
       "      <td>-0.007901</td>\n",
       "      <td>-0.005087</td>\n",
       "      <td>0.001128</td>\n",
       "      <td>0.000016</td>\n",
       "      <td>0.008272</td>\n",
       "      <td>0.006922</td>\n",
       "      <td>-0.004705</td>\n",
       "      <td>...</td>\n",
       "      <td>0.002866</td>\n",
       "      <td>-0.002825</td>\n",
       "      <td>0.002479</td>\n",
       "      <td>0.002868</td>\n",
       "      <td>-0.002916</td>\n",
       "      <td>0.000049</td>\n",
       "      <td>-0.000283</td>\n",
       "      <td>0.000340</td>\n",
       "      <td>0.000431</td>\n",
       "      <td>-0.002521</td>\n",
       "    </tr>\n",
       "    <tr>\n",
       "      <th>451.0</th>\n",
       "      <td>0.003748</td>\n",
       "      <td>0.008278</td>\n",
       "      <td>0.007424</td>\n",
       "      <td>0.000588</td>\n",
       "      <td>0.004099</td>\n",
       "      <td>-0.000442</td>\n",
       "      <td>0.001653</td>\n",
       "      <td>-0.001773</td>\n",
       "      <td>0.006334</td>\n",
       "      <td>-0.003357</td>\n",
       "      <td>...</td>\n",
       "      <td>-0.010615</td>\n",
       "      <td>-0.001978</td>\n",
       "      <td>-0.000632</td>\n",
       "      <td>0.001893</td>\n",
       "      <td>0.001833</td>\n",
       "      <td>0.001025</td>\n",
       "      <td>0.003544</td>\n",
       "      <td>-0.003332</td>\n",
       "      <td>-0.000970</td>\n",
       "      <td>-0.001907</td>\n",
       "    </tr>\n",
       "    <tr>\n",
       "      <th>222.0</th>\n",
       "      <td>0.001688</td>\n",
       "      <td>-0.002248</td>\n",
       "      <td>-0.000613</td>\n",
       "      <td>0.000018</td>\n",
       "      <td>0.003251</td>\n",
       "      <td>0.002021</td>\n",
       "      <td>0.003420</td>\n",
       "      <td>0.002749</td>\n",
       "      <td>0.002613</td>\n",
       "      <td>0.000919</td>\n",
       "      <td>...</td>\n",
       "      <td>-0.007263</td>\n",
       "      <td>0.002234</td>\n",
       "      <td>-0.001132</td>\n",
       "      <td>0.007571</td>\n",
       "      <td>0.000525</td>\n",
       "      <td>0.002940</td>\n",
       "      <td>-0.001041</td>\n",
       "      <td>-0.002298</td>\n",
       "      <td>-0.005556</td>\n",
       "      <td>-0.005402</td>\n",
       "    </tr>\n",
       "  </tbody>\n",
       "</table>\n",
       "<p>5 rows × 7238 columns</p>\n",
       "</div>"
      ],
      "text/plain": [
       "             00       000        10       100      1000     10000      10th  \\\n",
       "377.0 -0.002266  0.010559 -0.003792  0.001021 -0.015517 -0.002817  0.003682   \n",
       "474.0  0.026162 -0.003104 -0.001833  0.004821 -0.005023 -0.001130  0.001830   \n",
       "265.0 -0.000006  0.000727 -0.005372 -0.007901 -0.005087  0.001128  0.000016   \n",
       "451.0  0.003748  0.008278  0.007424  0.000588  0.004099 -0.000442  0.001653   \n",
       "222.0  0.001688 -0.002248 -0.000613  0.000018  0.003251  0.002021  0.003420   \n",
       "\n",
       "             11       112      11th    ...      zealand       zed     zelda  \\\n",
       "377.0  0.010816 -0.003689 -0.001569    ...    -0.008938  0.006613 -0.001986   \n",
       "474.0  0.012335  0.005497  0.000603    ...     0.018678  0.004517  0.004702   \n",
       "265.0  0.008272  0.006922 -0.004705    ...     0.002866 -0.002825  0.002479   \n",
       "451.0 -0.001773  0.006334 -0.003357    ...    -0.010615 -0.001978 -0.000632   \n",
       "222.0  0.002749  0.002613  0.000919    ...    -0.007263  0.002234 -0.001132   \n",
       "\n",
       "           zero      zeus    zinnia    zinone       zoe      zone      zuko  \n",
       "377.0  0.003249 -0.002308  0.007035 -0.000506 -0.000900 -0.003333 -0.002261  \n",
       "474.0  0.009071 -0.003686  0.000945  0.005551  0.004747  0.013401  0.003184  \n",
       "265.0  0.002868 -0.002916  0.000049 -0.000283  0.000340  0.000431 -0.002521  \n",
       "451.0  0.001893  0.001833  0.001025  0.003544 -0.003332 -0.000970 -0.001907  \n",
       "222.0  0.007571  0.000525  0.002940 -0.001041 -0.002298 -0.005556 -0.005402  \n",
       "\n",
       "[5 rows x 7238 columns]"
      ]
     },
     "execution_count": 56,
     "metadata": {},
     "output_type": "execute_result"
    }
   ],
   "source": [
    "sv.head()\n"
   ]
  },
  {
   "cell_type": "code",
   "execution_count": 57,
   "metadata": {
    "collapsed": false
   },
   "outputs": [
    {
     "data": {
      "text/plain": [
       "5    Dr. Strangelove or: How I Learned to Stop Worr...\n",
       "Name: movietitle, dtype: object"
      ]
     },
     "execution_count": 57,
     "metadata": {},
     "output_type": "execute_result"
    }
   ],
   "source": [
    "# Select a movie to predict, will movie with Movie ID = 474\n",
    "df[df.movieid == 474].movietitle[:1]"
   ]
  },
  {
   "cell_type": "code",
   "execution_count": 58,
   "metadata": {
    "collapsed": false
   },
   "outputs": [],
   "source": [
    "p_movie = predict_p(sv, pred_id = 474, kind = 'user')"
   ]
  },
  {
   "cell_type": "code",
   "execution_count": 59,
   "metadata": {
    "collapsed": false
   },
   "outputs": [
    {
     "name": "stdout",
     "output_type": "stream",
     "text": [
      "            474.0\n",
      " 10.0    0.261022\n",
      " 1266.0  0.231420\n",
      " 1292.0  0.193675\n",
      " 1255.0  0.187658\n",
      " 1260.0  0.151798\n",
      "NaN      0.149779\n",
      " 1382.0  0.144471\n",
      " 784.0   0.143918\n",
      " 635.0   0.143603\n",
      " 1586.0  0.129981\n"
     ]
    },
    {
     "data": {
      "text/plain": [
       "Index([10.0, 1266.0, 1292.0, 1255.0, 1260.0, nan, 1382.0, 784.0, 635.0,\n",
       "       1586.0],\n",
       "      dtype='object')"
      ]
     },
     "execution_count": 59,
     "metadata": {},
     "output_type": "execute_result"
    }
   ],
   "source": [
    "p_movie = pd.DataFrame(p_movie)\n",
    "print p_movie\n",
    "p_movie.index"
   ]
  },
  {
   "cell_type": "code",
   "execution_count": 60,
   "metadata": {
    "collapsed": false
   },
   "outputs": [
    {
     "data": {
      "text/html": [
       "<div>\n",
       "<table border=\"1\" class=\"dataframe\">\n",
       "  <thead>\n",
       "    <tr style=\"text-align: right;\">\n",
       "      <th></th>\n",
       "      <th>0</th>\n",
       "    </tr>\n",
       "  </thead>\n",
       "  <tbody>\n",
       "    <tr>\n",
       "      <th>0</th>\n",
       "      <td>Richard III (1995)</td>\n",
       "    </tr>\n",
       "    <tr>\n",
       "      <th>1</th>\n",
       "      <td>Total Eclipse (1995)</td>\n",
       "    </tr>\n",
       "    <tr>\n",
       "      <th>2</th>\n",
       "      <td>Bread and Chocolate (Pane e cioccolata) (1973)</td>\n",
       "    </tr>\n",
       "    <tr>\n",
       "      <th>3</th>\n",
       "      <td>Fog, The (1980)</td>\n",
       "    </tr>\n",
       "    <tr>\n",
       "      <th>4</th>\n",
       "      <td>Simple Wish, A (1997)</td>\n",
       "    </tr>\n",
       "    <tr>\n",
       "      <th>5</th>\n",
       "      <td>Beyond Bedlam (1993)</td>\n",
       "    </tr>\n",
       "    <tr>\n",
       "      <th>6</th>\n",
       "      <td>Lashou shentan (1992)</td>\n",
       "    </tr>\n",
       "    <tr>\n",
       "      <th>7</th>\n",
       "      <td>Broken English (1996)</td>\n",
       "    </tr>\n",
       "    <tr>\n",
       "      <th>8</th>\n",
       "      <td>Bonheur, Le (1965)</td>\n",
       "    </tr>\n",
       "  </tbody>\n",
       "</table>\n",
       "</div>"
      ],
      "text/plain": [
       "                                                0\n",
       "0                              Richard III (1995)\n",
       "1                            Total Eclipse (1995)\n",
       "2  Bread and Chocolate (Pane e cioccolata) (1973)\n",
       "3                                 Fog, The (1980)\n",
       "4                           Simple Wish, A (1997)\n",
       "5                            Beyond Bedlam (1993)\n",
       "6                           Lashou shentan (1992)\n",
       "7                           Broken English (1996)\n",
       "8                              Bonheur, Le (1965)"
      ]
     },
     "execution_count": 60,
     "metadata": {},
     "output_type": "execute_result"
    }
   ],
   "source": [
    "pd.DataFrame(df[df['movieid'].isin(p_movie.index)].movietitle.unique())"
   ]
  },
  {
   "cell_type": "markdown",
   "metadata": {
    "collapsed": true
   },
   "source": [
    "### Summary"
   ]
  },
  {
   "cell_type": "markdown",
   "metadata": {},
   "source": [
    "- In this project, singular value decomposition (SVD) was applied on normalized user-item matrix (943X1664). Dimension reduction was performed by setting k = 250. The user-item matrix was reconstructed for predicted rating.\n",
    "<hr>\n",
    "- User-User and Iterm-Iterm collaborative filtering systems were built to give recommendations.\n",
    "<hr>\n",
    "- Information, including synopsis, keywords, taglines etc., of each movie were retrieved using IMDbPY API. \n",
    "<hr>\n",
    "- Both the synopsis and keywords were converted to a matrix of TF-IDF features using sklearn.feature_extraction.text.TfidfVectorizer. After transforming, the matrices of tfidf were built.  \n",
    "<hr>\n",
    "- The matrix of synopsis was decomposited by SVD. After reconstruction of this matrix (k=500), the cosine similarity matrix was built. This matrix is the basis for content-based recommendation system. \n",
    "<hr>\n",
    "- Future work: The matrix of tfidf can further be trained for  features, we can train a classifier to try to predict the category of a post"
   ]
  },
  {
   "cell_type": "code",
   "execution_count": null,
   "metadata": {
    "collapsed": true
   },
   "outputs": [],
   "source": []
  }
 ],
 "metadata": {
  "kernelspec": {
   "display_name": "Python 2",
   "language": "python",
   "name": "python2"
  },
  "language_info": {
   "codemirror_mode": {
    "name": "ipython",
    "version": 2
   },
   "file_extension": ".py",
   "mimetype": "text/x-python",
   "name": "python",
   "nbconvert_exporter": "python",
   "pygments_lexer": "ipython2",
   "version": "2.7.11"
  }
 },
 "nbformat": 4,
 "nbformat_minor": 0
}
