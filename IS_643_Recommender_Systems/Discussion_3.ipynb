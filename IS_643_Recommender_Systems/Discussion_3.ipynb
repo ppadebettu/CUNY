{
 "cells": [
  {
   "cell_type": "markdown",
   "metadata": {},
   "source": [
    "# Discussion 3: Ranking and Regularization"
   ]
  },
  {
   "cell_type": "markdown",
   "metadata": {},
   "source": [
    "For this discussion, I chose a research note titled \"Recommender Systems with Social Regularization\" with contributions from members of Microsoft Research and The Chinese University of Hong Kong. The paper can be found at: http://research.microsoft.com/en-us/um/people/denzho/papers/RSR.pdf"
   ]
  },
  {
   "cell_type": "markdown",
   "metadata": {},
   "source": [
    "## Topic: Recommender Systems with Social Regularization"
   ]
  },
  {
   "cell_type": "markdown",
   "metadata": {},
   "source": [
    "<b>Summary"
   ]
  },
  {
   "cell_type": "markdown",
   "metadata": {},
   "source": [
    "In this paper, the authors talk about the trust-aware recommendation methods and the following limitations that are barriers to improving the traditional recommendation systems. The trust-aware recommendation methods typically utilize the inferred implicit or observed explicit trust information to further improve traditional recommender systems. \n",
    "\n",
    "Typically, on the Web, when a user u1 likes a review issued by another user u2, user u1 probably will add user u2 to his/her trust list.This process of trust generation is a unilateral action that does not require user u2 to confirm the relationship. This also indicates that user u1 does not need to even know user u2 in the real life. The authors state that trust-aware recommender systems cannot represent the concept of “social recommendation”, since the idea of “social recommendation” anticipates to improve recommender systems by incorporating a social friend network.\n",
    "\n",
    "\n",
    "Secondly, trust-aware recommender systems are based on the assumption that users have similar tastes with other users they trust. This hypothesis may not always be true in social recommender systems since the tastes of one user’s friends may vary significantly.\n",
    "\n",
    "\n",
    "And the authors state that in order to provide more proactive and personalized recommendation results to online users, we should pay more attention to the research of social recommendation, in addition to the existing research of trust-aware recommendation.\n"
   ]
  },
  {
   "cell_type": "markdown",
   "metadata": {},
   "source": [
    "<b>Proposed methods to further improve the traditional recommender systems"
   ]
  },
  {
   "cell_type": "markdown",
   "metadata": {},
   "source": [
    "In this paper, aiming at solving the problems mentioned above, the authors propose two social recommendation methods that\n",
    "utilize social information to improve the prediction accuracy of traditional recommender systems. More specifically,\n",
    "the social network information is employed in designing two social regularization terms to constrain user ui’s taste with the average taste of his/her friends (to constrain the matrix factorization objective function). Moreover, friends with dissimilar tastes are treated differently in the social regularization terms in order to represent the taste diversity of each user’s friends. \n",
    "\n",
    "Method 1: (Average-based Regularization) In the first method, the authors propose a recommendation model based on matrix factorization technique, and impose a social regularization term to minimize the tastes between user ui and ui’s friends. The similarity function allows the social regularization term to treat users’ friends differently. If user ui and user uf are very similar, say Sim(i, f) = 0.95, then user uf should contribute more in the average taste of ui’s friends. On the other hand, if these two users are dissimilar, say Sim(i, f) = 0.1, then user uf should contribute less.\n",
    "\n",
    "Method 2: (Individual-based Regularization) The authors believe first model imposes a social regularization term to constrain user ui’s taste with the average taste of his/her friends. However, this approach is insensitive to those users whose friends have diverse tastes. This will cause information loss problem, which will result in inaccurate modeling of feature vector Ui. Hence, in order to tackle this problem, they propose another social regularization term to impose constraints between one user and their friends individually."
   ]
  },
  {
   "cell_type": "markdown",
   "metadata": {
    "collapsed": true
   },
   "source": [
    "<b>Regularization at play"
   ]
  },
  {
   "cell_type": "markdown",
   "metadata": {},
   "source": [
    "In the two methods proposed in this paper, the parameters α (in method-1) and β (in method-2) play very important roles. They control how much these methods should incorporate the information of the social network. In the extreme case, if we use a very small value of α or β, we only mine the user-item rating matrix for matrix factorization, and simply employ users’ own tastes in making recommendations. On the other side, if we employ a very large value of α or β, the social network information will dominate the learning processes. In many cases, the authors recommend we do not want to set α and β to these extreme values since they will potentially hurt the recommendation performance. "
   ]
  },
  {
   "cell_type": "markdown",
   "metadata": {},
   "source": [
    "<b>Benefits and Applications"
   ]
  },
  {
   "cell_type": "markdown",
   "metadata": {},
   "source": [
    "The authors indicate that the proposed methods are quite general, and it can be easily extended to incorporate other contextual information, including social tags issued by users, movie genres, user demographic information, etc. By taking advantages of these information, we can use Cosine similarity of other similarity calculation methods to compute the affinities between users\n",
    "or items. Then we can plug in those similar users or items into our social regularization framework to further improve\n",
    "the performance of recommender systems"
   ]
  },
  {
   "cell_type": "code",
   "execution_count": null,
   "metadata": {
    "collapsed": true
   },
   "outputs": [],
   "source": []
  }
 ],
 "metadata": {
  "kernelspec": {
   "display_name": "Python 2",
   "language": "python",
   "name": "python2"
  },
  "language_info": {
   "codemirror_mode": {
    "name": "ipython",
    "version": 2
   },
   "file_extension": ".py",
   "mimetype": "text/x-python",
   "name": "python",
   "nbconvert_exporter": "python",
   "pygments_lexer": "ipython2",
   "version": "2.7.11"
  }
 },
 "nbformat": 4,
 "nbformat_minor": 0
}
