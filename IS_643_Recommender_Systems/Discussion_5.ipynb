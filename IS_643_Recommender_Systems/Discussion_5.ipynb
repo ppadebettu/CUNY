{
 "cells": [
  {
   "cell_type": "markdown",
   "metadata": {},
   "source": [
    "## Discussion 5: network-based recommenders"
   ]
  },
  {
   "cell_type": "markdown",
   "metadata": {},
   "source": [
    "### Topic: Social Network for Lending"
   ]
  },
  {
   "cell_type": "markdown",
   "metadata": {},
   "source": [
    "<b>Introduction: </b>\n",
    "    \n",
    "From Facebook to LinkedIn to Tinder, much of the power of social networks comes from personal recommendations.Vouch, a direct-to-consumer lending company, is taking this concept a step further, having colleagues and loved ones vouch for borrowers’ credibility.\n",
    "\n",
    "One of the major challenges with peer to peer lending is to reconcile discrepancies between individuals’ actual worth and \n",
    "reputation vs. self-reports on their accounts. To verify information and underwrite transactions, one idea is that loan agents needed to look at an individual’s wider network.\n",
    "\n",
    "Like Facebook and more Kiva, Vouch is akin to microfinance platforms that create social networks around each borrower. The service offers one- to three-year installment loans of $500 to $15,000. Sponsors agree to repay a small portion of the loan if the borrower defaults; their recommendations can also increase the loan amount or lower the annual percentage rate (APR), which ranges from 5 to 30 percent.\n",
    "\n",
    "<b>How it works:</b>\n",
    "\n",
    "To get a loan offer from Vouch the borrower has to have at least one person sponsor. People sponsor the borrower by choosing an amount of money and agreeing to pay their sponsorship amount if the borrower defaults.\n",
    "\n",
    "Since a sponsor might be required to pay Vouch, the company checks their credit to determine sponsor's creditworthiness and the likelihood that they will make good on their pledge if they are required to. Thus, they will need to make a recommendation about how likely they are to pay that obligation and their credit score is one tool for doing that. If they build their own Vouch network the company would consider their sponsorships creditworthiness as well. \n",
    "\n",
    "<b>Business Goals:</b>\n",
    "\n",
    "With Vouch, a strong network of people sponsoring someone can help the person get a larger loan, lower their interest rates or both. Also, people help each other increase their creditworthiness.\n",
    "\n",
    "<i> Source: https://vouchmoney.zendesk.com/hc/en-us </i>"
   ]
  },
  {
   "cell_type": "code",
   "execution_count": null,
   "metadata": {
    "collapsed": true
   },
   "outputs": [],
   "source": []
  }
 ],
 "metadata": {
  "kernelspec": {
   "display_name": "Python 2",
   "language": "python",
   "name": "python2"
  },
  "language_info": {
   "codemirror_mode": {
    "name": "ipython",
    "version": 2
   },
   "file_extension": ".py",
   "mimetype": "text/x-python",
   "name": "python",
   "nbconvert_exporter": "python",
   "pygments_lexer": "ipython2",
   "version": "2.7.11"
  }
 },
 "nbformat": 4,
 "nbformat_minor": 0
}
